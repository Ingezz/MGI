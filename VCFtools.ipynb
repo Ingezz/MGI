{
 "cells": [
  {
   "cell_type": "code",
   "execution_count": null,
   "metadata": {
    "collapsed": true
   },
   "outputs": [],
   "source": [
    "###Activate the perl-scripts: \n",
    "export PERL5LIB=/gpfs/data01/glasslab/home/iholtman/software/vcftools/src/perl\n",
    "\n",
    "###Index the VCF file \n",
    "tabix -p vcf merged_P15_P17_P4_P5_P7_P8.vcf.gz\n",
    "\n",
    "##Merge multiple VCF files in multisample-VCF\n",
    "vcf-merge P15.recalibrated.haplotypeCalls.vcf.gz P17.recalibrated.haplotypeCalls.vcf.gz P4.recalibrated.haplotypeCalls.vcf.gz P5.recalibrated.haplotypeCalls.vcf.gz P7.recalibrated.haplotypeCalls.vcf.gz P8.recalibrated.haplotypeCalls.vcf.gz | bgzip -c > merged_P15_P17_P4_P5_P7_P8.vcf.gz\n",
    "\n",
    "##General info \n",
    "vcftools --gzvcf merged_P15_P17_P4_P5_P7_P8.vcf.gz\n",
    "\n",
    "\n",
    "####Output vcf file of chromosome one only \n",
    "vcftools --gzvcf merged_P15_P17_P4_P5_P7_P8.vcf.gz --chr 2 --recode --recode-INFO-all --out chr2_merged_P15_P17_P4_P5_P7_P8\n",
    "\n",
    "\n",
    "\n",
    "\n",
    "####Convert VCF to BCF file (=binary- doesn't work \n",
    "vcftools --gzvcf merged_P15_P17_P4_P5_P7_P8.vcf.gz --recode-bcf --recode-INFO-all --out bcf\n",
    "\n",
    "####Compare two files \n",
    "vcftools --gzvcf merged_P15_P17_P4_P5_P7_P8.vcf.gz --gzdiff merged_P15_P17_P4_P5_P7_P8.vcf.gz --out compare\n",
    "\n",
    "####allele frrequency\n",
    "vcftools --gzvcf merged_P15_P17_P4_P5_P7_P8.vcf.gz --freq --out allel_freq\n",
    "\n",
    "##Output for plink format \n",
    "vcftools --gzvcf merged_P15_P17_P4_P5_P7_P8.vcf.gz --plink --chr 1 --out output_in_plink_chr1\n",
    "\n",
    "##Perl tools \n",
    "vcf-compare P15.recalibrated.haplotypeCalls.vcf.gz P17.recalibrated.haplotypeCalls.vcf.gz\n",
    "\n",
    "##Perl tools VCF-stats\n",
    "vcf-stats merged_P15_P17_P4_P5_P7_P8.vcf.gz\n",
    "\n",
    "\n",
    "\n",
    "# Replace VCF header. The file must be compressed by bgzip. \n",
    "tabix -r header.txt in.vcf.gz > out.vcf.gz \n",
    "\n",
    "# Sort VCF file keeping the header. The head command is for performance. \n",
    "(zcat file.vcf.gz | head -100 | grep ^#; \n",
    "zcat file.vcf.gz | grep -v ^# | sort -k1,1d -k2,2n;) \\ \n",
    "| bgzip -c > out.vcf.gz \n",
    "\n",
    "# Merge (that is, concatenate) two VCF files into one, keeping the header \n",
    "# from first one only. \n",
    "(zcat A.vcf.gz | head -100 | grep ^#; \\ \n",
    "zcat A.vcf.gz | grep -v ^#; \\ \n",
    "zcat B.vcf.gz | grep -v ^#; ) \\ \n",
    "| bgzip -c > out.vcf.gz\n",
    " \n",
    " \n",
    "#######Convert Plink file to: 0,1,2 format \n",
    "plink --file output_in_plink_chr1 --noweb --recodeAD --recode-allele  converted_to_012_format\n",
    "\n",
    "plink --file output_in_plink_chr1 --recodeAD --out converted_to_012_format  --noweb \n",
    " \n",
    "###rows to columns  \n",
    " tr -s ' '  '\\n'< converted_to_012_format.raw > transformed_converted_to_012_format.raw\n",
    " \n",
    " grep -oP '\\S+' converted_to_012_format.raw > transformed_converted_to_012_format.raw"
   ]
  },
  {
   "cell_type": "code",
   "execution_count": 9,
   "metadata": {
    "collapsed": false
   },
   "outputs": [
    {
     "name": "stdout",
     "output_type": "stream",
     "text": [
      "\n",
      "\n",
      "tabix -p vcf chr1.recode.vcf.gz\n",
      "\n",
      "\n",
      "tabix -p vcf chr2.recode.vcf.gz\n",
      "\n",
      "\n",
      "tabix -p vcf chr3.recode.vcf.gz\n",
      "\n",
      "\n",
      "tabix -p vcf chr4.recode.vcf.gz\n",
      "\n",
      "\n",
      "tabix -p vcf chr5.recode.vcf.gz\n",
      "\n",
      "\n",
      "tabix -p vcf chr6.recode.vcf.gz\n",
      "\n",
      "\n",
      "tabix -p vcf chr7.recode.vcf.gz\n",
      "\n",
      "\n",
      "tabix -p vcf chr8.recode.vcf.gz\n",
      "\n",
      "\n",
      "tabix -p vcf chr9.recode.vcf.gz\n",
      "\n",
      "\n",
      "tabix -p vcf chr10.recode.vcf.gz\n",
      "\n",
      "\n",
      "tabix -p vcf chr11.recode.vcf.gz\n",
      "\n",
      "\n",
      "tabix -p vcf chr12.recode.vcf.gz\n",
      "\n",
      "\n",
      "tabix -p vcf chr13.recode.vcf.gz\n",
      "\n",
      "\n",
      "tabix -p vcf chr14.recode.vcf.gz\n",
      "\n",
      "\n",
      "tabix -p vcf chr15.recode.vcf.gz\n",
      "\n",
      "\n",
      "tabix -p vcf chr16.recode.vcf.gz\n",
      "\n",
      "\n",
      "tabix -p vcf chr17.recode.vcf.gz\n",
      "\n",
      "\n",
      "tabix -p vcf chr18.recode.vcf.gz\n",
      "\n",
      "\n",
      "tabix -p vcf chr19.recode.vcf.gz\n",
      "\n",
      "\n",
      "tabix -p vcf chr20.recode.vcf.gz\n",
      "\n",
      "\n",
      "tabix -p vcf chr21.recode.vcf.gz\n",
      "\n",
      "\n",
      "tabix -p vcf chr22.recode.vcf.gz\n"
     ]
    }
   ],
   "source": [
    "####in loop for alle chromosomen: \n",
    "for nr in list(range(22)):\n",
    "    print(\"\\n\")\n",
    "    print(\"tabix -p vcf chr\" +str(nr +1)+ \".recode.vcf.gz\")\n"
   ]
  },
  {
   "cell_type": "code",
   "execution_count": 11,
   "metadata": {
    "collapsed": false
   },
   "outputs": [
    {
     "ename": "TypeError",
     "evalue": "'type' object is not subscriptable",
     "output_type": "error",
     "traceback": [
      "\u001b[0;31m---------------------------------------------------------------------------\u001b[0m",
      "\u001b[0;31mTypeError\u001b[0m                                 Traceback (most recent call last)",
      "\u001b[0;32m<ipython-input-11-378fb6513294>\u001b[0m in \u001b[0;36m<module>\u001b[0;34m()\u001b[0m\n\u001b[1;32m      1\u001b[0m \u001b[0;31m############\u001b[0m\u001b[0;34m\u001b[0m\u001b[0;34m\u001b[0m\u001b[0m\n\u001b[0;32m----> 2\u001b[0;31m \u001b[0msamples\u001b[0m \u001b[0;34m=\u001b[0m \u001b[0mlist\u001b[0m\u001b[0;34m[\u001b[0m\u001b[0;34m\"P15\"\u001b[0m\u001b[0;34m,\u001b[0m \u001b[0;34m\"P17\"\u001b[0m\u001b[0;34m,\u001b[0m \u001b[0;34m\"P4\"\u001b[0m\u001b[0;34m,\u001b[0m \u001b[0;34m\"P5\"\u001b[0m\u001b[0;34m,\u001b[0m \u001b[0;34m\"P7\"\u001b[0m\u001b[0;34m,\u001b[0m \u001b[0;34m\"P8\"\u001b[0m\u001b[0;34m,\u001b[0m \u001b[0;34m\"P10\"\u001b[0m\u001b[0;34m,\u001b[0m \u001b[0;34m\"P11\"\u001b[0m\u001b[0;34m,\u001b[0m\u001b[0;34m\"P12\"\u001b[0m\u001b[0;34m,\u001b[0m \u001b[0;34m\"P14\"\u001b[0m\u001b[0;34m,\u001b[0m\u001b[0;34m\"imputation/step3/chr_1_imputed_phased_v5a_P15\"\u001b[0m\u001b[0;34m,\u001b[0m\u001b[0;34m\"P16\"\u001b[0m\u001b[0;34m,\u001b[0m\u001b[0;34m\"imputation/step3/chr_1_imputed_phased_v5a_P17\"\u001b[0m\u001b[0;34m,\u001b[0m\u001b[0;34m\"P18\"\u001b[0m\u001b[0;34m,\u001b[0m\u001b[0;34m\"P19\"\u001b[0m\u001b[0;34m,\u001b[0m\u001b[0;34m\"P2\"\u001b[0m\u001b[0;34m,\u001b[0m\u001b[0;34m\"P21\"\u001b[0m\u001b[0;34m,\u001b[0m\u001b[0;34m\"P23\"\u001b[0m\u001b[0;34m,\u001b[0m\u001b[0;34m\"P24\"\u001b[0m\u001b[0;34m,\u001b[0m\u001b[0;34m\"P26\"\u001b[0m\u001b[0;34m,\u001b[0m\u001b[0;34m\"P27\"\u001b[0m\u001b[0;34m,\u001b[0m \u001b[0;34m\"P29\"\u001b[0m\u001b[0;34m,\u001b[0m\u001b[0;34m\"P3\"\u001b[0m\u001b[0;34m,\u001b[0m \u001b[0;34m\"P31\"\u001b[0m\u001b[0;34m]\u001b[0m\u001b[0;34m\u001b[0m\u001b[0m\n\u001b[0m\u001b[1;32m      3\u001b[0m \u001b[0;34m\u001b[0m\u001b[0m\n\u001b[1;32m      4\u001b[0m \u001b[0;31m#java -jar '/gpfs/data01/glasslab/home/iholtman/Molgenis/picard/picard.jar' GenotypeConcordance \\\u001b[0m\u001b[0;34m\u001b[0m\u001b[0;34m\u001b[0m\u001b[0m\n\u001b[1;32m      5\u001b[0m \u001b[0;31m#      CALL_VCF=merged_RNA_imputed_and_WGS_data.vcf.gz \\\u001b[0m\u001b[0;34m\u001b[0m\u001b[0;34m\u001b[0m\u001b[0m\n",
      "\u001b[0;31mTypeError\u001b[0m: 'type' object is not subscriptable"
     ]
    }
   ],
   "source": [
    "############\n",
    "samples = list[\"P15\", \"P17\", \"P4\", \"P5\", \"P7\", \"P8\", \"P10\", \"P11\",\"P12\", \"P14\",\"imputation/step3/chr_1_imputed_phased_v5a_P15\",\"P16\",\"imputation/step3/chr_1_imputed_phased_v5a_P17\",\"P18\",\"P19\",\"P2\",\"P21\",\"P23\",\"P24\",\"P26\",\"P27\", \"P29\",\"P3\", \"P31\"]\n",
    "\n",
    "#java -jar '/gpfs/data01/glasslab/home/iholtman/Molgenis/picard/picard.jar' GenotypeConcordance \\\n",
    "#      CALL_VCF=merged_RNA_imputed_and_WGS_data.vcf.gz \\\n",
    "#      CALL_SAMPLE=P10 \\\n",
    "#      O=gc_concordance.vcf \\\n",
    "#      TRUTH_VCF=merged_RNA_imputed_and_WGS_data.vcf.gz \\\n",
    "#      TRUTH_SAMPLE=P3"
   ]
  },
  {
   "cell_type": "code",
   "execution_count": null,
   "metadata": {
    "collapsed": true
   },
   "outputs": [],
   "source": [
    "tabix -p vcf merged_RNA_imputed_and_WGS_data_and_SNP_chip.vcf.gz"
   ]
  }
 ],
 "metadata": {
  "anaconda-cloud": {},
  "kernelspec": {
   "display_name": "Python [conda root]",
   "language": "python",
   "name": "conda-root-py"
  },
  "language_info": {
   "codemirror_mode": {
    "name": "ipython",
    "version": 3
   },
   "file_extension": ".py",
   "mimetype": "text/x-python",
   "name": "python",
   "nbconvert_exporter": "python",
   "pygments_lexer": "ipython3",
   "version": "3.5.2"
  }
 },
 "nbformat": 4,
 "nbformat_minor": 1
}
