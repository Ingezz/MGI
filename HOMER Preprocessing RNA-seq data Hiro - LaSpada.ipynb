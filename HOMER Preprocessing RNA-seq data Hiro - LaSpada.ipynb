{
 "cells": [
  {
   "cell_type": "code",
   "execution_count": 10,
   "metadata": {
    "collapsed": true
   },
   "outputs": [],
   "source": [
    "import pandas\n",
    "import subprocess\n",
    "import glob\n",
    "import os"
   ]
  },
  {
   "cell_type": "code",
   "execution_count": null,
   "metadata": {
    "collapsed": false
   },
   "outputs": [],
   "source": [
    "\n"
   ]
  },
  {
   "cell_type": "code",
   "execution_count": null,
   "metadata": {
    "collapsed": false
   },
   "outputs": [],
   "source": []
  },
  {
   "cell_type": "code",
   "execution_count": null,
   "metadata": {
    "collapsed": false
   },
   "outputs": [],
   "source": []
  },
  {
   "cell_type": "code",
   "execution_count": 23,
   "metadata": {
    "collapsed": false
   },
   "outputs": [
    {
     "name": "stdout",
     "output_type": "stream",
     "text": [
      "\tTag Directories:\n",
      "\t\t/data/mm10/LaSpada/16-09-25-RNAseq/Hiro_RNAseq3_Vehic_4_RNA_Core_ukn\n",
      "\t\t/data/mm10/LaSpada/16-09-25-RNAseq/Hiro_RNAseq5_Vehic_4_RNA_Core_ukn\n",
      "\t\t/data/mm10/LaSpada/16-09-25-RNAseq/Hiro_RNAseq4_Bex_4_RNA_Core_ukn\n",
      "\t\t/data/mm10/LaSpada/16-09-25-RNAseq/Hiro_RNAseq5_Bex_4_RNA_Core_ukn\n",
      "\t\t/data/mm10/LaSpada/16-09-25-RNAseq/Hiro_RNAseq3_KD_4_RNA_Core_ukn\n",
      "\t\t/data/mm10/LaSpada/16-09-25-RNAseq/Hiro_RNAseq3_Bex_4_RNA_Core_ukn\n",
      "\t\t/data/mm10/LaSpada/16-09-25-RNAseq/Hiro_RNAseq4_KD_4_RNA_Core_ukn\n",
      "\t\t/data/mm10/LaSpada/16-09-25-RNAseq/Hiro_RNAseq5_KD_4_RNA_Core_ukn\n",
      "\t\t/data/mm10/LaSpada/16-09-25-RNAseq/Hiro_RNAseq4_Vehic_4_RNA_Core_ukn\n",
      "\t\t/data/mm10/LaSpada/16-12-09-RNAseq/tag_directories/LaSpada_Neuron_Contr3_SD384\n",
      "\t\t/data/mm10/LaSpada/16-12-09-RNAseq/tag_directories/LaSpada_Neuron_KD3_SD390\n",
      "\t\t/data/mm10/LaSpada/16-12-09-RNAseq/tag_directories/LaSpada_Neuron_Bex1_SD385\n",
      "\t\t/data/mm10/LaSpada/16-12-09-RNAseq/tag_directories/LaSpada_Neuron_Contr2_SD383\n",
      "\t\t/data/mm10/LaSpada/16-12-09-RNAseq/tag_directories/LaSpada_Neuron_Bex3_SD387\n",
      "\t\t/data/mm10/LaSpada/16-12-09-RNAseq/tag_directories/LaSpada_Neuron_KD2_SD389\n",
      "\t\t/data/mm10/LaSpada/16-12-09-RNAseq/tag_directories/LaSpada_Neuron_Contr1_SD382\n",
      "\t\t/data/mm10/LaSpada/16-12-09-RNAseq/tag_directories/LaSpada_Neuron_Bex2_SD386\n",
      "\t\t/data/mm10/LaSpada/16-12-09-RNAseq/tag_directories/LaSpada_Neuron_KD1_SD388\n",
      "\tInput file format: homerRmsk\n",
      "\tFiltering based on repeat parameters: kept 35756 of 35756\n",
      "\tCalculating read coverage for /data/mm10/LaSpada/16-09-25-RNAseq/Hiro_RNAseq3_Vehic_4_RNA_Core_ukn\n",
      "\tCalculating read coverage for /data/mm10/LaSpada/16-09-25-RNAseq/Hiro_RNAseq5_Vehic_4_RNA_Core_ukn\n",
      "\tCalculating read coverage for /data/mm10/LaSpada/16-09-25-RNAseq/Hiro_RNAseq4_Bex_4_RNA_Core_ukn\n",
      "\tCalculating read coverage for /data/mm10/LaSpada/16-09-25-RNAseq/Hiro_RNAseq5_Bex_4_RNA_Core_ukn\n",
      "\tCalculating read coverage for /data/mm10/LaSpada/16-09-25-RNAseq/Hiro_RNAseq3_KD_4_RNA_Core_ukn\n",
      "\tCalculating read coverage for /data/mm10/LaSpada/16-09-25-RNAseq/Hiro_RNAseq3_Bex_4_RNA_Core_ukn\n",
      "\tCalculating read coverage for /data/mm10/LaSpada/16-09-25-RNAseq/Hiro_RNAseq4_KD_4_RNA_Core_ukn\n",
      "\tCalculating read coverage for /data/mm10/LaSpada/16-09-25-RNAseq/Hiro_RNAseq5_KD_4_RNA_Core_ukn\n",
      "\tCalculating read coverage for /data/mm10/LaSpada/16-09-25-RNAseq/Hiro_RNAseq4_Vehic_4_RNA_Core_ukn\n",
      "\tCalculating read coverage for /data/mm10/LaSpada/16-12-09-RNAseq/tag_directories/LaSpada_Neuron_Contr3_SD384\n",
      "\tCalculating read coverage for /data/mm10/LaSpada/16-12-09-RNAseq/tag_directories/LaSpada_Neuron_KD3_SD390\n",
      "\tCalculating read coverage for /data/mm10/LaSpada/16-12-09-RNAseq/tag_directories/LaSpada_Neuron_Bex1_SD385\n",
      "\tCalculating read coverage for /data/mm10/LaSpada/16-12-09-RNAseq/tag_directories/LaSpada_Neuron_Contr2_SD383\n",
      "\tCalculating read coverage for /data/mm10/LaSpada/16-12-09-RNAseq/tag_directories/LaSpada_Neuron_Bex3_SD387\n",
      "\tCalculating read coverage for /data/mm10/LaSpada/16-12-09-RNAseq/tag_directories/LaSpada_Neuron_KD2_SD389\n",
      "\tCalculating read coverage for /data/mm10/LaSpada/16-12-09-RNAseq/tag_directories/LaSpada_Neuron_Contr1_SD382\n",
      "\tCalculating read coverage for /data/mm10/LaSpada/16-12-09-RNAseq/tag_directories/LaSpada_Neuron_Bex2_SD386\n",
      "\tCalculating read coverage for /data/mm10/LaSpada/16-12-09-RNAseq/tag_directories/LaSpada_Neuron_KD1_SD388\n",
      "\t\tNormalizing...\n",
      "\t\tNormalizing...\n",
      "\t\tNormalizing...\n",
      "\t\tNormalizing...\n",
      "\t\tNormalizing...\n",
      "\t\tNormalizing...\n",
      "\t\tNormalizing...\n",
      "\t\tNormalizing...\n",
      "\t\tNormalizing...\n",
      "\t\tNormalizing...\n",
      "\t\tNormalizing...\n",
      "\t\tNormalizing...\n",
      "\t\tNormalizing...\n",
      "\t\tNormalizing...\n",
      "\t\tNormalizing...\n",
      "\t\tNormalizing...\n",
      "\t\tNormalizing...\n",
      "\t\tNormalizing...\n",
      "\tPrinting output\n",
      "\t\tPrinted 24445 of 34711 repeats (expression >= -1e+20)\n",
      "\n"
     ]
    }
   ],
   "source": [
    "###########RPKM \n",
    "\n",
    "tagdir_dir1 = glob.glob(\"/data/mm10/LaSpada/16-09-25-RNAseq/*\")\n",
    "tagdir_dir2 = glob.glob(\"/data/mm10/LaSpada/16-12-09-RNAseq/tag_directories/*\")\n",
    "\n",
    "OUTPUT_PATH = \"/gpfs/data01/glasslab/home/iholtman/Project_Laspada_PPAR-delta-neuron/counts/\"\n",
    "\n",
    "all_reps  = tagdir_dir1 + tagdir_dir2 \n",
    "#print(tags)\n",
    "    \n",
    "output_file = os.path.join(OUTPUT_PATH, '9-12-2016-mouse_rna_rpkm.tsv')\n",
    "homer_cmd_line = 'analyzeRepeats.pl rna mm10 -rpkm -normMatrix 1e7 -pc 3 -count exons -strand both -condenseGenes -d {} > {}'.format(' '.join(all_reps), output_file)\n",
    "#print(homer_cmd_line)\n",
    "print(subprocess.check_output(homer_cmd_line, shell=True, stderr=subprocess.STDOUT).decode())"
   ]
  },
  {
   "cell_type": "code",
   "execution_count": 22,
   "metadata": {
    "collapsed": false
   },
   "outputs": [
    {
     "name": "stdout",
     "output_type": "stream",
     "text": [
      "\tTag Directories:\n",
      "\t\t/data/mm10/LaSpada/16-09-25-RNAseq/Hiro_RNAseq3_Vehic_4_RNA_Core_ukn\n",
      "\t\t/data/mm10/LaSpada/16-09-25-RNAseq/Hiro_RNAseq5_Vehic_4_RNA_Core_ukn\n",
      "\t\t/data/mm10/LaSpada/16-09-25-RNAseq/Hiro_RNAseq4_Bex_4_RNA_Core_ukn\n",
      "\t\t/data/mm10/LaSpada/16-09-25-RNAseq/Hiro_RNAseq5_Bex_4_RNA_Core_ukn\n",
      "\t\t/data/mm10/LaSpada/16-09-25-RNAseq/Hiro_RNAseq3_KD_4_RNA_Core_ukn\n",
      "\t\t/data/mm10/LaSpada/16-09-25-RNAseq/Hiro_RNAseq3_Bex_4_RNA_Core_ukn\n",
      "\t\t/data/mm10/LaSpada/16-09-25-RNAseq/Hiro_RNAseq4_KD_4_RNA_Core_ukn\n",
      "\t\t/data/mm10/LaSpada/16-09-25-RNAseq/Hiro_RNAseq5_KD_4_RNA_Core_ukn\n",
      "\t\t/data/mm10/LaSpada/16-09-25-RNAseq/Hiro_RNAseq4_Vehic_4_RNA_Core_ukn\n",
      "\t\t/data/mm10/LaSpada/16-12-09-RNAseq/tag_directories/LaSpada_Neuron_Contr3_SD384\n",
      "\t\t/data/mm10/LaSpada/16-12-09-RNAseq/tag_directories/LaSpada_Neuron_KD3_SD390\n",
      "\t\t/data/mm10/LaSpada/16-12-09-RNAseq/tag_directories/LaSpada_Neuron_Bex1_SD385\n",
      "\t\t/data/mm10/LaSpada/16-12-09-RNAseq/tag_directories/LaSpada_Neuron_Contr2_SD383\n",
      "\t\t/data/mm10/LaSpada/16-12-09-RNAseq/tag_directories/LaSpada_Neuron_Bex3_SD387\n",
      "\t\t/data/mm10/LaSpada/16-12-09-RNAseq/tag_directories/LaSpada_Neuron_KD2_SD389\n",
      "\t\t/data/mm10/LaSpada/16-12-09-RNAseq/tag_directories/LaSpada_Neuron_Contr1_SD382\n",
      "\t\t/data/mm10/LaSpada/16-12-09-RNAseq/tag_directories/LaSpada_Neuron_Bex2_SD386\n",
      "\t\t/data/mm10/LaSpada/16-12-09-RNAseq/tag_directories/LaSpada_Neuron_KD1_SD388\n",
      "\tInput file format: homerRmsk\n",
      "\tFiltering based on repeat parameters: kept 35756 of 35756\n",
      "\tCalculating read coverage for /data/mm10/LaSpada/16-09-25-RNAseq/Hiro_RNAseq3_Vehic_4_RNA_Core_ukn\n",
      "\tCalculating read coverage for /data/mm10/LaSpada/16-09-25-RNAseq/Hiro_RNAseq5_Vehic_4_RNA_Core_ukn\n",
      "\tCalculating read coverage for /data/mm10/LaSpada/16-09-25-RNAseq/Hiro_RNAseq4_Bex_4_RNA_Core_ukn\n",
      "\tCalculating read coverage for /data/mm10/LaSpada/16-09-25-RNAseq/Hiro_RNAseq5_Bex_4_RNA_Core_ukn\n",
      "\tCalculating read coverage for /data/mm10/LaSpada/16-09-25-RNAseq/Hiro_RNAseq3_KD_4_RNA_Core_ukn\n",
      "\tCalculating read coverage for /data/mm10/LaSpada/16-09-25-RNAseq/Hiro_RNAseq3_Bex_4_RNA_Core_ukn\n",
      "\tCalculating read coverage for /data/mm10/LaSpada/16-09-25-RNAseq/Hiro_RNAseq4_KD_4_RNA_Core_ukn\n",
      "\tCalculating read coverage for /data/mm10/LaSpada/16-09-25-RNAseq/Hiro_RNAseq5_KD_4_RNA_Core_ukn\n",
      "\tCalculating read coverage for /data/mm10/LaSpada/16-09-25-RNAseq/Hiro_RNAseq4_Vehic_4_RNA_Core_ukn\n",
      "\tCalculating read coverage for /data/mm10/LaSpada/16-12-09-RNAseq/tag_directories/LaSpada_Neuron_Contr3_SD384\n",
      "\tCalculating read coverage for /data/mm10/LaSpada/16-12-09-RNAseq/tag_directories/LaSpada_Neuron_KD3_SD390\n",
      "\tCalculating read coverage for /data/mm10/LaSpada/16-12-09-RNAseq/tag_directories/LaSpada_Neuron_Bex1_SD385\n",
      "\tCalculating read coverage for /data/mm10/LaSpada/16-12-09-RNAseq/tag_directories/LaSpada_Neuron_Contr2_SD383\n",
      "\tCalculating read coverage for /data/mm10/LaSpada/16-12-09-RNAseq/tag_directories/LaSpada_Neuron_Bex3_SD387\n",
      "\tCalculating read coverage for /data/mm10/LaSpada/16-12-09-RNAseq/tag_directories/LaSpada_Neuron_KD2_SD389\n",
      "\tCalculating read coverage for /data/mm10/LaSpada/16-12-09-RNAseq/tag_directories/LaSpada_Neuron_Contr1_SD382\n",
      "\tCalculating read coverage for /data/mm10/LaSpada/16-12-09-RNAseq/tag_directories/LaSpada_Neuron_Bex2_SD386\n",
      "\tCalculating read coverage for /data/mm10/LaSpada/16-12-09-RNAseq/tag_directories/LaSpada_Neuron_KD1_SD388\n",
      "\tPrinting output\n",
      "\t\tPrinted 24445 of 34711 repeats (expression >= -1e+20)\n",
      "\n"
     ]
    }
   ],
   "source": [
    "\n",
    "output_file = os.path.join(OUTPUT_PATH, '9-12-2016-mouse_rna_raw.tsv')\n",
    "homer_cmd_line = 'analyzeRepeats.pl rna mm10 -raw -normMatrix 1e7 -pc 3 -count exons -strand both -condenseGenes -d {} > {}'.format(' '.join(all_reps), output_file)\n",
    "#print(homer_cmd_line)\n",
    "print(subprocess.check_output(homer_cmd_line, shell=True, stderr=subprocess.STDOUT).decode())"
   ]
  }
 ],
 "metadata": {
  "anaconda-cloud": {},
  "kernelspec": {
   "display_name": "Python [conda root]",
   "language": "python",
   "name": "conda-root-py"
  },
  "language_info": {
   "codemirror_mode": {
    "name": "ipython",
    "version": 3
   },
   "file_extension": ".py",
   "mimetype": "text/x-python",
   "name": "python",
   "nbconvert_exporter": "python",
   "pygments_lexer": "ipython3",
   "version": "3.5.2"
  }
 },
 "nbformat": 4,
 "nbformat_minor": 1
}
