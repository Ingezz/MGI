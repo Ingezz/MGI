{
 "cells": [
  {
   "cell_type": "markdown",
   "metadata": {},
   "source": [
    "Example"
   ]
  },
  {
   "cell_type": "markdown",
   "metadata": {},
   "source": [
    "#!/bin/bash\n",
    "#PBS -q hotel\n",
    "#PBS -N PPARgKO_Endoret_RNA_Tn5_old_ES_16_10_12\n",
    "#PBS -l nodes=1:ppn=8\n",
    "#PBS -l walltime=2:00:00\n",
    "#PBS -o /oasis/tscc/scratch/iholtman/C57BL6/qsub_scripts/PPARgKO_Endoret_RNA_Tn5_old_ES_16_10_12_torque_output.txt\n",
    "#PBS -e /oasis/tscc/scratch/iholtman/C57BL6/qsub_scripts/PPARgKO_Endoret_RNA_Tn5_old_ES_16_10_12_torque_error.txt\n",
    "#PBS -m n \n",
    "#PBS -V\n",
    "#PBS -A glass-group\n",
    "\n",
    "/projects/ps-glasslab-bioinformatics/software/STAR//STAR --genomeDir /projects/ps-glasslab-bioinformatics/software/STAR//genomes/mm10 --readFilesIn /oasis/tscc/scratch/iholtman/C57BL6/PPARgKO_Endoret_RNA_Tn5_old_ES_16_10_12/PPARgKO_Endoret_RNA_Tn5_old_ES_16_10_12.fastq --outFileNamePrefix /oasis/tscc/scratch/iholtman/C57BL6/PPARgKO_Endoret_RNA_Tn5_old_ES_16_10_12/ --runThreadN 4\n",
    "mv /oasis/tscc/scratch/iholtman/C57BL6/PPARgKO_Endoret_RNA_Tn5_old_ES_16_10_12/Aligned.out.sam /oasis/tscc/scratch/iholtman/C57BL6/sam_files/PPARgKO_Endoret_RNA_Tn5_old_ES_16_10_12.mm10.star.sam\n",
    "mv /oasis/tscc/scratch/iholtman/C57BL6/PPARgKO_Endoret_RNA_Tn5_old_ES_16_10_12/Log.final.out /oasis/tscc/scratch/iholtman/C57BL6/log_files/PPARgKO_Endoret_RNA_Tn5_old_ES_16_10_12.mm10.star.log\n",
    "/projects/glass-group/bioinformatics/homer/bin//makeTagDirectory /oasis/tscc/scratch/iholtman/C57BL6/tag_directories/PPARgKO_Endoret_RNA_Tn5_old_ES_16_10_12 -genome mm10 -checkGC /oasis/tscc/scratch/iholtman/C57BL6/sam_files/PPARgKO_Endoret_RNA_Tn5_old_ES_16_10_12.mm10.star.sam -format sam -flip\n",
    "cp /oasis/tscc/scratch/iholtman/C57BL6/log_files/PPARgKO_Endoret_RNA_Tn5_old_ES_16_10_12.mm10.star.log /projects/ps-glasslab-data/scratch/iholtman/C57BL6/log_files/\n",
    "cp /oasis/tscc/scratch/iholtman/C57BL6/log_files/PPARgKO_Endoret_RNA_Tn5_old_ES_16_10_12.mm10.star.log /oasis/tscc/scratch/iholtman/C57BL6/tag_directories/PPARgKO_Endoret_RNA_Tn5_old_ES_16_10_12/\n",
    "cp -r /oasis/tscc/scratch/iholtman/C57BL6/tag_directories/PPARgKO_Endoret_RNA_Tn5_old_ES_16_10_12 /projects/ps-glasslab-data/scratch/iholtman/C57BL6/tag_directories\n"
   ]
  },
  {
   "cell_type": "code",
   "execution_count": null,
   "metadata": {
    "collapsed": true
   },
   "outputs": [],
   "source": [
    "bioinformatics/software/STAR//STAR"
   ]
  },
  {
   "cell_type": "markdown",
   "metadata": {},
   "source": [
    "#!/bin/bash\n",
    "#PBS -q hotel\n",
    "#PBS -N Imputation_test\n",
    "#PBS -l nodes=20:ppn=8\n",
    "#PBS -l walltime=3:00:00\n",
    "#PBS -o /oasis/tscc/scratch/iholtman/Imputation_test/Imputation_output.txt\n",
    "#PBS -e /oasis/tscc/scratch/iholtman/Imputation_test/Imputation_error.txt\n",
    "#PBS -m n \n",
    "#PBS -V\n",
    "#PBS -A glass-group\n",
    "\n",
    "java -Xmx50g -jar /projects/ps-glasslab-data/scratch/iholtman/software/beagle/beagle.27Jul16.86a.jar ref=/projects/ps-glasslab-data/scratch/iholtman/software/beagle/1000_Genomes_phase3_v5a/individual_chromosomes/chr10.1kg.phase3.v5a.vcf.gz gt=\n",
    "/projects/ps-glasslab-data/scratch/iholtman/human_microglia_genotyping/imputation/beagle/SD_Braz_combined_imputation/step2-conform-GT/chr_10_conformed_v5a.vcf.gz out=/projects/ps-glasslab-data/scratch/iholtman/human_microglia_genotyping/imputation/beagle/SD_Braz_combined_imputation/step3_beagle/chr_10_imputed_phased_v5a \n",
    "\n",
    "\n",
    "#########\n",
    "\n",
    "#!/bin/bash\n",
    "#PBS -q hotel\n",
    "#PBS -N Imputation_test_2\n",
    "#PBS -l nodes=20:ppn=8\n",
    "#PBS -l walltime=3:00:00\n",
    "#PBS -o /oasis/tscc/scratch/iholtman/Imputation_test/Imputation_test2_output.txt\n",
    "#PBS -e /oasis/tscc/scratch/iholtman/Imputation_test/Imputation_test2_error.txt\n",
    "#PBS -m n \n",
    "#PBS -V\n",
    "#PBS -A glass-group\n",
    "export PATH=/usr/lib/jvm/java-1.8.0-openjdk-1.8.0.31-1.b13.el6_6.x86_64/bin:$PATH\n",
    "\n",
    "java -Xmx350g -jar /projects/ps-glasslab-data/scratch/iholtman/software/beagle/beagle.27Jul16.86a.jar ref=/projects/ps-glasslab-data/scratch/iholtman/software/beagle/1000_Genomes_phase3_v5a/individual_chromosomes/chr20.1kg.phase3.v5a.vcf.gz gt=\n",
    "/projects/ps-glasslab-data/scratch/iholtman/human_microglia_genotyping/imputation/beagle/SD_Braz_combined_imputation/step2-conform-GT/chr_20_conformed_v5a.vcf.gz out=/projects/ps-glasslab-data/scratch/iholtman/human_microglia_genotyping/imputation/beagle/SD_Braz_combined_imputation/step3_beagle/chr_20_imputed_phased_v5a \n",
    "\n",
    "\n"
   ]
  }
 ],
 "metadata": {
  "kernelspec": {
   "display_name": "Python 3",
   "language": "python",
   "name": "python3"
  },
  "language_info": {
   "codemirror_mode": {
    "name": "ipython",
    "version": 3
   },
   "file_extension": ".py",
   "mimetype": "text/x-python",
   "name": "python",
   "nbconvert_exporter": "python",
   "pygments_lexer": "ipython3",
   "version": "3.6.1"
  }
 },
 "nbformat": 4,
 "nbformat_minor": 2
}
