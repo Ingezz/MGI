{
 "cells": [
  {
   "cell_type": "code",
   "execution_count": null,
   "metadata": {
    "collapsed": false
   },
   "outputs": [
    {
     "name": "stdout",
     "output_type": "stream",
     "text": [
      "STAR --genomeDir /bioinformatics/software/STAR/genomes/mm10  --readFilesIn /data/archive/04-10-2016-holtman/Geissmann_high_low_fat_adipose_macrophages/eWAT_pop1_CD-CD7/eWAT_pop1_CD-CD7_R1.fastq.gz  --runThreadN 32 --outFileNamePrefix /data/scratch/iholtman/Geissmann_high_low_fat_adipose_macrophages_local/eWAT_pop1_CD-CD7single_end_R1 --readFilesCommand zcat \n",
      "\n",
      "\n"
     ]
    }
   ],
   "source": [
    "###Alignment on epiglass - SINGLE END \n",
    "import subprocess\n",
    "\n",
    "samples = [\"eWAT_pop1_CD-CD7\", \"eWAT_pop1_HFD-CD8\", \"eWAT_pop2_HFD3\", \"eWAT_pop3_CD-CD8\", \"eWAT_pop3_HFD-CD8\", \"eWAT_pop4_HFD3\", \"Mono_CD2\",\n",
    "\"eWAT_pop1_CD-CD8\", \"eWAT_pop2_CD-CD7\", \"eWAT_pop2_HFD-CD6\", \"eWAT_pop3_HFD2\", \"eWAT_pop4_CD-CD7\", \"eWAT_pop4_HFD-CD7\", \"Mono_CD3\",\n",
    "\"eWAT_pop1_HFD2\", \"eWAT_pop2_CD-CD8\", \"eWAT_pop2_HFD-CD8\", \"eWAT_pop3_HFD3\", \"eWAT_pop4_CD-CD8\", \"eWAT_pop4_HFD-CD8\", \"Mono_CD-CD6\",\n",
    "\"eWAT_pop1_HFD3\", \"eWAT_pop2_HFD2\", \"eWAT_pop3_CD-CD7\", \"eWAT_pop3_HFD-CD7\", \"eWAT_pop4_HFD2\", \"Mono_CD1\", \"Mono_CD-CD7\",\n",
    "\"Mono_CD-CD8\", \"Mono_HFD1\", \"Mono_HFD2\", \"Mono_HFD3\", \"Mono_HFD-CD6\", \"Mono_HFD-CD7\", \"Mono_HFD-CD8\"]\n",
    "\n",
    "\n",
    "dir = \"/data/archive/04-10-2016-holtman/Geissmann_high_low_fat_adipose_macrophages/\"\n",
    "\n",
    "for sample in samples:\n",
    "    data_file_fw = dir + sample + \"/\" + sample + \"_R1.fastq.gz \"\n",
    "    data_file_bam = \"/data/scratch/iholtman/Geissmann_high_low_fat_adipose_macrophages_local/\" +  sample + \"single_end_R1\"\n",
    "    code = \"STAR --genomeDir /bioinformatics/software/STAR/genomes/mm10 \" + \\\n",
    "    \" --readFilesIn \" + data_file_fw + \\\n",
    "    \" --runThreadN 32 --outFileNamePrefix \" + data_file_bam + \\\n",
    "    \" --readFilesCommand zcat \" \n",
    "    \n",
    "    print(code)\n",
    "    print(\"\\n\")\n",
    "    \n",
    "    print(subprocess.check_output(code, shell=True, stderr=subprocess.STDOUT).decode())\n",
    "\n",
    "\n"
   ]
  },
  {
   "cell_type": "code",
   "execution_count": null,
   "metadata": {
    "collapsed": true
   },
   "outputs": [],
   "source": []
  }
 ],
 "metadata": {
  "anaconda-cloud": {},
  "kernelspec": {
   "display_name": "Python [default]",
   "language": "python",
   "name": "python3"
  },
  "language_info": {
   "codemirror_mode": {
    "name": "ipython",
    "version": 3
   },
   "file_extension": ".py",
   "mimetype": "text/x-python",
   "name": "python",
   "nbconvert_exporter": "python",
   "pygments_lexer": "ipython3",
   "version": "3.5.2"
  }
 },
 "nbformat": 4,
 "nbformat_minor": 1
}
