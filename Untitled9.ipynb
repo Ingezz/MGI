{
 "cells": [
  {
   "cell_type": "code",
   "execution_count": null,
   "metadata": {
    "collapsed": false
   },
   "outputs": [
    {
     "name": "stdout",
     "output_type": "stream",
     "text": [
      "\n",
      "\n"
     ]
    }
   ],
   "source": [
    "############Concordance table met Picard \n",
    "import subprocess\n",
    "\n",
    "samples = [\"WGS_P15\", \"WGS_P17\", \"WGS_P4\", \"WGS_P5\", \"WGS_P7\", \"WGS_P8\", \"imp_P10\", \"imp_P11\" ,\"imp_P12\", \"imp_P14\", \"imp_P15\", \"imp_P16\", \"imp_P17\", \"imp_P18\", \"imp_P19\", \"imp_P2\" ,\"imp_P21\" ,  \"imp_P23\", \"imp_P24\", \"imp_P26\", \"imp_P27\", \"imp_P29\",\"imp_P3\" ,\"imp_P31\" ,\"imp_P4\",\"imp_P5\" , \"imp_P6\", \"imp_P7\", \"imp_P8\"]\n",
    "\n",
    "file_x = \"imp_P11\"\n",
    "\n",
    "for file_y in samples:\n",
    "    print(\"\\n\")\n",
    "\n",
    "    terminal_code = (\"java -jar '/gpfs/data01/glasslab/home/iholtman/Molgenis/picard/picard.jar' GenotypeConcordance \" + \\\n",
    "    \" CALL_VCF=/gpfs/data01/glasslab/data/scratch/iholtman/human_microglia_genotyping/compare_imputation_WGS/whole_genome/merged_RNA_imputed_and_WGS_data_new_header.vcf.gz \" + \\\n",
    "    \" CALL_SAMPLE= \" + file_x + \\\n",
    "    \" O=/gpfs/data01/glasslab/data/scratch/iholtman/human_microglia_genotyping/compare_imputation_WGS/concordance_picard/concordance_call_\" + file_x + \"_truth_\" + file_y + \".vcf \" + \\\n",
    "    \" TRUTH_VCF=/gpfs/data01/glasslab/data/scratch/iholtman/human_microglia_genotyping/compare_imputation_WGS/whole_genome/merged_RNA_imputed_and_WGS_data_new_header.vcf.gz \" + \\\n",
    "    \" TRUTH_SAMPLE= \" + file_y )\n",
    "    \n",
    "    #print(terminal_code)\n",
    "    print(subprocess.check_output(terminal_code, shell=True, stderr=subprocess.STDOUT).decode()) ##\n",
    "\n",
    "\n",
    "\n"
   ]
  },
  {
   "cell_type": "code",
   "execution_count": null,
   "metadata": {
    "collapsed": true
   },
   "outputs": [],
   "source": []
  }
 ],
 "metadata": {
  "anaconda-cloud": {},
  "kernelspec": {
   "display_name": "Python [default]",
   "language": "python",
   "name": "python3"
  },
  "language_info": {
   "codemirror_mode": {
    "name": "ipython",
    "version": 3
   },
   "file_extension": ".py",
   "mimetype": "text/x-python",
   "name": "python",
   "nbconvert_exporter": "python",
   "pygments_lexer": "ipython3",
   "version": "3.5.2"
  }
 },
 "nbformat": 4,
 "nbformat_minor": 1
}
