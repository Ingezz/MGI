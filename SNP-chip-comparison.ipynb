{
 "cells": [
  {
   "cell_type": "code",
   "execution_count": null,
   "metadata": {
    "collapsed": true
   },
   "outputs": [],
   "source": [
    "export PERL5LIB=/gpfs/data01/glasslab/home/iholtman/software/vcftools/src/perl\n",
    "\n",
    "###Merging of the data \n",
    "\n",
    "vcf-merge \"/data/scratch/iholtman/human_microglia_genotyping/SNP_CHIP/Phase_5_VCF_conversion_QC_and_liftover/VCF/sorted_filtered_human_MG_samples_chr.vcf.gz\" \\\n",
    "\"/data/scratch/iholtman/human_microglia_genotyping/compare_imputation_WGS/whole_genome/merged_RNA_imputed_and_WGS_data_new_header.vcf.gz\" \\\n",
    "| bgzip -c > \"/data/scratch/iholtman/human_microglia_genotyping/compare_imp_WGS_snp_CHIPS/merged_RNA_imputed_and_WGS_data_and_SNP_chip.vcf.gz\" \n",
    "\n",
    "\n",
    "###Change the header names of the VCF file! \n",
    "## Change the names of the header in terminal\n",
    "bcftools reheader merged_RNA_imputed_and_WGS_data_and_SNP_chip.vcf.gz  -s samples.txt -o merged_RNA_imputed_and_WGS_data_and_SNP_chip_new_header.vcf.gz \n",
    "/\n",
    "\n",
    "##Double check the header between old and new file \n",
    "bcftools query -l merged_RNA_imputed_and_WGS_data_and_SNP_chip.vcf.gz \n",
    "bcftools query -l merged_RNA_imputed_and_WGS_data_and_SNP_chip_new_header.vcf.gz \n",
    "\n",
    "##Copy, unzip, sort and bgzip again \n",
    "sort -k1,1n merged_RNA_imputed_and_WGS_data_and_SNP_chip_new_header.vcf > sort_copy_merged_RNA_imputed_and_WGS_data_and_SNP_chip.vcf\n",
    "\n",
    "\n",
    "vcf-sort merged_RNA_imputed_and_WGS_data_and_SNP_chip_new_header.vcf > sort_merged_RNA_imputed_and_WGS_data_and_SNP_chip_new_header.vcf\n",
    "\n",
    "sort_merged_RNA_imputed_and_WGS_data_and_SNP_chip_new_header.vcf.gz\n",
    "\n",
    "bgzip sort_merged_RNA_imputed_and_WGS_data_and_SNP_chip_new_header.vcf\n",
    "\n",
    "##Index the new header file \n",
    "tabix -p vcf sort_merged_RNA_imputed_and_WGS_data_and_SNP_chip_new_header.vcf.gz\n",
    "\n",
    "\n",
    "#####Convert to plink format, Genotype: 0,1,2 format -> \n",
    "vcftools --gzvcf sort_merged_RNA_imputed_and_WGS_data_and_SNP_chip_new_header.vcf.gz --plink --out plink_merged_RNA_imputed_and_WGS_data_and_SNP_chip\n",
    "plink --file plink_merged_RNA_imputed_and_WGS_data_and_SNP_chip --noweb --recodeAD --out Genotype_merged_RNA_imputed_and_WGS_data_and_SNP_chip_converted_to_012_format\n",
    "\n",
    "#Attempt to remove annoying SNPs (didn't work)\n",
    "plink --file merged_RNA_imputed_and_WGS_data_and_SNP_chip --noweb --exclude annoying_snp.txt   \n",
    "\n",
    "\n",
    "vcftools --gzvcf sorted_sort_copy_merged_RNA_imputed_and_WGS_data_and_SNP_chip.vcf.gz.gz --freq --chr 1 --out chr1_analysis\n",
    "\n"
   ]
  },
  {
   "cell_type": "code",
   "execution_count": null,
   "metadata": {
    "collapsed": false
   },
   "outputs": [],
   "source": []
  },
  {
   "cell_type": "code",
   "execution_count": null,
   "metadata": {
    "collapsed": true
   },
   "outputs": [],
   "source": [
    "########One time for all data at once ! \n",
    "## Needs adjustment \n",
    "\n",
    "import pandas\n",
    "import os \n",
    "import numpy \n",
    "import seaborn \n",
    "import pickle \n",
    "import matplotlib.pyplot as plt\n",
    "\n",
    "\n",
    "### Read-Data \n",
    "data = pandas.read_table(os.path.join(\"/data/scratch/iholtman/human_microglia_genotyping/compare_imp_WGS_snp_CHIPS/Genotype_merged_RNA_imputed_and_WGS_data_and_SNP_chip\"), sep = \" \")\n",
    "\n",
    "##Transform in numpy object, transform and convert to pandas\n",
    "table = data.as_matrix()\n",
    "genotype = numpy.matrix.transpose(table)\n",
    "\n",
    "pd_genotype = pandas.DataFrame(genotype, index = data.columns, columns= [\"P4\", \"P5\", \"P7\", \"P8\", \"P12\", \"P15\", \"P17\", \"P19\",\"WGS_P15\", \"WGS_P17\", \"WGS_P4\", \"WGS_P5\", \"WGS_P7\", \"WGS_P8\", \"imp_P10\", \"imp_P11\" ,\"imp_P12\", \"imp_P14\", \"imp_P15\", \"imp_P16\", \"imp_P17\", \"imp_P18\", \"imp_P19\", \"imp_P2\" ,\"imp_P21\" ,  \"imp_P23\", \"imp_P24\", \"imp_P26\", \"imp_P27\", \"imp_P29\",\"imp_P3\" ,\"imp_P31\" ,\"imp_P4\",\"imp_P5\" , \"imp_P6\", \"imp_P7\", \"imp_P8\"])\n",
    "pd_genotype = pd_genotype[6:]\n",
    "\n",
    "#print(pd_genotype[0:10])\n",
    "pd_genotype.shape\n",
    "\n",
    "    ##Select only even rows (because they are duplicate)\n",
    "    pd_genotype =pd_genotype[::2]\n",
    "    pd_genotype.shape\n",
    "\n",
    "    print(pd_genotype[1:5])\n",
    "\n",
    "    ##Safe object as pickle \n",
    "    with open(os.path.join(\"/data/scratch/iholtman/human_microglia_genotyping/jupyter/chr\" + str(nr +1) + \"_pickle\"), 'wb') as f:\n",
    "        pickle.dump(pd_genotype, f, pickle.HIGHEST_PROTOCOL)\n",
    "\n",
    "    #####################################Make correlation heatmap of chr1 \n",
    "    ##Remove NA values \n",
    "    pd_genotype = pandas.DataFrame.dropna(pd_genotype)\n",
    "    #print(pd_genotype[1:10])\n",
    "    pd_genotype.shape\n",
    "\n",
    "    ##Calculate correlations \n",
    "    plot_data = pd_genotype.astype(float).corr()\n",
    "    #print(plot_data)\n",
    "\n",
    "    PLOT_CMAP = 'YlOrRd'\n",
    "    VMIN = 0\n",
    "    VMAX = 1\n",
    "    fig_size=(12,12)\n",
    "\n",
    "    ##PLot and write to files\n",
    "\n",
    "    cm = seaborn.clustermap(plot_data, figsize=fig_size, vmin=VMIN, vmax=VMAX, cmap=PLOT_CMAP, annot=False)\n",
    "    _=plt.setp(cm.ax_heatmap.yaxis.get_majorticklabels(), rotation=0)\n",
    "\n",
    "    plt.savefig(os.path.join(\"/data/scratch/iholtman/human_microglia_genotyping/jupyter/samples_genotype_correlations_imputed_WGS_chr\" + str(nr+1) + \".pdf\"),  bbox_inches='tight')\n",
    "    plt.savefig(os.path.join(\"/data/scratch/iholtman/human_microglia_genotyping/jupyter/samples_genotype_correlations_imputed_WGS_chr\" + str(nr+1) + \".png\"),  bbox_inches='tight')\n",
    "\n",
    "\n"
   ]
  },
  {
   "cell_type": "code",
   "execution_count": null,
   "metadata": {
    "collapsed": true
   },
   "outputs": [],
   "source": [
    "\n"
   ]
  },
  {
   "cell_type": "code",
   "execution_count": 25,
   "metadata": {
    "collapsed": false
   },
   "outputs": [
    {
     "name": "stdout",
     "output_type": "stream",
     "text": [
      "\n",
      "\n"
     ]
    },
    {
     "ename": "CalledProcessError",
     "evalue": "Command 'java -jar Xmx30g '/gpfs/data01/glasslab/home/iholtman/Molgenis/picard/picard.jar' GenotypeConcordance  CALL_VCF=/gpfs/data01/glasslab/data/scratch/iholtman/human_microglia_genotyping/compare_imputation_WGS/whole_genome/merged_RNA_imputed_and_WGS_data_new_header.vcf.gz  CALL_SAMPLE= WGS_P5 O=/gpfs/data01/glasslab/data/scratch/iholtman/human_microglia_genotyping/compare_imputation_WGS/TEST_concordance_call_WGS_P5_truth_WGS_P15.vcf  TRUTH_VCF=/gpfs/data01/glasslab/data/scratch/iholtman/human_microglia_genotyping/compare_imputation_WGS/whole_genome/merged_RNA_imputed_and_WGS_data_new_header.vcf.gz  TRUTH_SAMPLE= WGS_P15' returned non-zero exit status 1",
     "output_type": "error",
     "traceback": [
      "\u001b[0;31m---------------------------------------------------------------------------\u001b[0m",
      "\u001b[0;31mCalledProcessError\u001b[0m                        Traceback (most recent call last)",
      "\u001b[0;32m<ipython-input-25-20702c89ddfd>\u001b[0m in \u001b[0;36m<module>\u001b[0;34m()\u001b[0m\n\u001b[1;32m     12\u001b[0m \u001b[0;34m\u001b[0m\u001b[0m\n\u001b[1;32m     13\u001b[0m     \u001b[0;31m#print(terminal_code)\u001b[0m\u001b[0;34m\u001b[0m\u001b[0;34m\u001b[0m\u001b[0m\n\u001b[0;32m---> 14\u001b[0;31m     \u001b[0mprint\u001b[0m\u001b[0;34m(\u001b[0m\u001b[0msubprocess\u001b[0m\u001b[0;34m.\u001b[0m\u001b[0mcheck_output\u001b[0m\u001b[0;34m(\u001b[0m\u001b[0mterminal_code\u001b[0m\u001b[0;34m,\u001b[0m \u001b[0mshell\u001b[0m\u001b[0;34m=\u001b[0m\u001b[0;32mTrue\u001b[0m\u001b[0;34m,\u001b[0m \u001b[0mstderr\u001b[0m\u001b[0;34m=\u001b[0m\u001b[0msubprocess\u001b[0m\u001b[0;34m.\u001b[0m\u001b[0mSTDOUT\u001b[0m\u001b[0;34m)\u001b[0m\u001b[0;34m.\u001b[0m\u001b[0mdecode\u001b[0m\u001b[0;34m(\u001b[0m\u001b[0;34m)\u001b[0m\u001b[0;34m)\u001b[0m \u001b[0;31m##\u001b[0m\u001b[0;34m\u001b[0m\u001b[0m\n\u001b[0m\u001b[1;32m     15\u001b[0m \u001b[0;34m\u001b[0m\u001b[0m\n\u001b[1;32m     16\u001b[0m \u001b[0;34m\u001b[0m\u001b[0m\n",
      "\u001b[0;32m/gpfs/data01/glasslab/home/iholtman/anaconda3/lib/python3.5/subprocess.py\u001b[0m in \u001b[0;36mcheck_output\u001b[0;34m(timeout, *popenargs, **kwargs)\u001b[0m\n\u001b[1;32m    624\u001b[0m \u001b[0;34m\u001b[0m\u001b[0m\n\u001b[1;32m    625\u001b[0m     return run(*popenargs, stdout=PIPE, timeout=timeout, check=True,\n\u001b[0;32m--> 626\u001b[0;31m                **kwargs).stdout\n\u001b[0m\u001b[1;32m    627\u001b[0m \u001b[0;34m\u001b[0m\u001b[0m\n\u001b[1;32m    628\u001b[0m \u001b[0;34m\u001b[0m\u001b[0m\n",
      "\u001b[0;32m/gpfs/data01/glasslab/home/iholtman/anaconda3/lib/python3.5/subprocess.py\u001b[0m in \u001b[0;36mrun\u001b[0;34m(input, timeout, check, *popenargs, **kwargs)\u001b[0m\n\u001b[1;32m    706\u001b[0m         \u001b[0;32mif\u001b[0m \u001b[0mcheck\u001b[0m \u001b[0;32mand\u001b[0m \u001b[0mretcode\u001b[0m\u001b[0;34m:\u001b[0m\u001b[0;34m\u001b[0m\u001b[0m\n\u001b[1;32m    707\u001b[0m             raise CalledProcessError(retcode, process.args,\n\u001b[0;32m--> 708\u001b[0;31m                                      output=stdout, stderr=stderr)\n\u001b[0m\u001b[1;32m    709\u001b[0m     \u001b[0;32mreturn\u001b[0m \u001b[0mCompletedProcess\u001b[0m\u001b[0;34m(\u001b[0m\u001b[0mprocess\u001b[0m\u001b[0;34m.\u001b[0m\u001b[0margs\u001b[0m\u001b[0;34m,\u001b[0m \u001b[0mretcode\u001b[0m\u001b[0;34m,\u001b[0m \u001b[0mstdout\u001b[0m\u001b[0;34m,\u001b[0m \u001b[0mstderr\u001b[0m\u001b[0;34m)\u001b[0m\u001b[0;34m\u001b[0m\u001b[0m\n\u001b[1;32m    710\u001b[0m \u001b[0;34m\u001b[0m\u001b[0m\n",
      "\u001b[0;31mCalledProcessError\u001b[0m: Command 'java -jar Xmx30g '/gpfs/data01/glasslab/home/iholtman/Molgenis/picard/picard.jar' GenotypeConcordance  CALL_VCF=/gpfs/data01/glasslab/data/scratch/iholtman/human_microglia_genotyping/compare_imputation_WGS/whole_genome/merged_RNA_imputed_and_WGS_data_new_header.vcf.gz  CALL_SAMPLE= WGS_P5 O=/gpfs/data01/glasslab/data/scratch/iholtman/human_microglia_genotyping/compare_imputation_WGS/TEST_concordance_call_WGS_P5_truth_WGS_P15.vcf  TRUTH_VCF=/gpfs/data01/glasslab/data/scratch/iholtman/human_microglia_genotyping/compare_imputation_WGS/whole_genome/merged_RNA_imputed_and_WGS_data_new_header.vcf.gz  TRUTH_SAMPLE= WGS_P15' returned non-zero exit status 1"
     ]
    }
   ],
   "source": [
    "\n",
    "\n",
    "\n",
    "    "
   ]
  },
  {
   "cell_type": "code",
   "execution_count": 5,
   "metadata": {
    "collapsed": false
   },
   "outputs": [
    {
     "name": "stdout",
     "output_type": "stream",
     "text": [
      "\n",
      "\n",
      "\n",
      "\n",
      "\n",
      "\n",
      "\n",
      "\n",
      "\n",
      "\n",
      "\n",
      "\n",
      "\n",
      "\n",
      "\n",
      "\n",
      "\n",
      "\n",
      "\n",
      "\n",
      "\n",
      "\n",
      "\n",
      "\n",
      "\n",
      "\n",
      "\n",
      "\n",
      "\n",
      "\n",
      "\n",
      "\n",
      "\n",
      "\n",
      "\n",
      "\n",
      "\n",
      "\n",
      "\n",
      "\n",
      "\n",
      "\n",
      "\n",
      "\n",
      "\n",
      "\n",
      "\n",
      "\n",
      "\n",
      "\n",
      "\n",
      "\n",
      "\n",
      "\n",
      "\n",
      "\n",
      "\n",
      "\n",
      "\n",
      "\n",
      "\n",
      "\n",
      "\n",
      "\n",
      "\n",
      "\n",
      "\n",
      "\n",
      "\n",
      "\n",
      "\n",
      "\n",
      "java -Xmx40g -jar '/gpfs/data01/glasslab/home/iholtman/Molgenis/picard/picard.jar' GenotypeConcordance  CALL_VCF=/data/scratch/iholtman/human_microglia_genotyping/compare_imp_WGS_snp_CHIPS/sort_merged_RNA_imputed_and_WGS_data_and_SNP_chip_new_header.vcf.gz  CALL_SAMPLE=P4 O=/gpfs/data01/glasslab/data/scratch/iholtman/human_microglia_genotyping/compare_imp_WGS_snp_CHIPS/picard_concordance/concordance_call_P4_truth_imp_P8.vcf  TRUTH_VCF=/data/scratch/iholtman/human_microglia_genotyping/compare_imp_WGS_snp_CHIPS/sort_merged_RNA_imputed_and_WGS_data_and_SNP_chip_new_header.vcf.gz  TRUTH_SAMPLE=imp_P8\n"
     ]
    },
    {
     "ename": "CalledProcessError",
     "evalue": "Command 'java -Xmx40g -jar '/gpfs/data01/glasslab/home/iholtman/Molgenis/picard/picard.jar' GenotypeConcordance  CALL_VCF=/data/scratch/iholtman/human_microglia_genotyping/compare_imp_WGS_snp_CHIPS/sort_merged_RNA_imputed_and_WGS_data_and_SNP_chip_new_header.vcf.gz  CALL_SAMPLE=P4 O=/gpfs/data01/glasslab/data/scratch/iholtman/human_microglia_genotyping/compare_imp_WGS_snp_CHIPS/picard_concordance/concordance_call_P4_truth_imp_P8.vcf  TRUTH_VCF=/data/scratch/iholtman/human_microglia_genotyping/compare_imp_WGS_snp_CHIPS/sort_merged_RNA_imputed_and_WGS_data_and_SNP_chip_new_header.vcf.gz  TRUTH_SAMPLE=imp_P8' returned non-zero exit status 1",
     "output_type": "error",
     "traceback": [
      "\u001b[0;31m---------------------------------------------------------------------------\u001b[0m",
      "\u001b[0;31mCalledProcessError\u001b[0m                        Traceback (most recent call last)",
      "\u001b[0;32m<ipython-input-5-770f410ab0fc>\u001b[0m in \u001b[0;36m<module>\u001b[0;34m()\u001b[0m\n\u001b[1;32m     10\u001b[0m \u001b[0;34m\u001b[0m\u001b[0m\n\u001b[1;32m     11\u001b[0m     \u001b[0mprint\u001b[0m\u001b[0;34m(\u001b[0m\u001b[0mterminal_code\u001b[0m\u001b[0;34m)\u001b[0m\u001b[0;34m\u001b[0m\u001b[0m\n\u001b[0;32m---> 12\u001b[0;31m     \u001b[0mprint\u001b[0m\u001b[0;34m(\u001b[0m\u001b[0msubprocess\u001b[0m\u001b[0;34m.\u001b[0m\u001b[0mcheck_output\u001b[0m\u001b[0;34m(\u001b[0m\u001b[0mterminal_code\u001b[0m\u001b[0;34m,\u001b[0m \u001b[0mshell\u001b[0m\u001b[0;34m=\u001b[0m\u001b[0;32mTrue\u001b[0m\u001b[0;34m,\u001b[0m \u001b[0mstderr\u001b[0m\u001b[0;34m=\u001b[0m\u001b[0msubprocess\u001b[0m\u001b[0;34m.\u001b[0m\u001b[0mSTDOUT\u001b[0m\u001b[0;34m)\u001b[0m\u001b[0;34m.\u001b[0m\u001b[0mdecode\u001b[0m\u001b[0;34m(\u001b[0m\u001b[0;34m)\u001b[0m\u001b[0;34m)\u001b[0m \u001b[0;31m##\u001b[0m\u001b[0;34m\u001b[0m\u001b[0m\n\u001b[0m",
      "\u001b[0;32m/gpfs/data01/glasslab/home/iholtman/anaconda3/lib/python3.5/subprocess.py\u001b[0m in \u001b[0;36mcheck_output\u001b[0;34m(timeout, *popenargs, **kwargs)\u001b[0m\n\u001b[1;32m    624\u001b[0m \u001b[0;34m\u001b[0m\u001b[0m\n\u001b[1;32m    625\u001b[0m     return run(*popenargs, stdout=PIPE, timeout=timeout, check=True,\n\u001b[0;32m--> 626\u001b[0;31m                **kwargs).stdout\n\u001b[0m\u001b[1;32m    627\u001b[0m \u001b[0;34m\u001b[0m\u001b[0m\n\u001b[1;32m    628\u001b[0m \u001b[0;34m\u001b[0m\u001b[0m\n",
      "\u001b[0;32m/gpfs/data01/glasslab/home/iholtman/anaconda3/lib/python3.5/subprocess.py\u001b[0m in \u001b[0;36mrun\u001b[0;34m(input, timeout, check, *popenargs, **kwargs)\u001b[0m\n\u001b[1;32m    706\u001b[0m         \u001b[0;32mif\u001b[0m \u001b[0mcheck\u001b[0m \u001b[0;32mand\u001b[0m \u001b[0mretcode\u001b[0m\u001b[0;34m:\u001b[0m\u001b[0;34m\u001b[0m\u001b[0m\n\u001b[1;32m    707\u001b[0m             raise CalledProcessError(retcode, process.args,\n\u001b[0;32m--> 708\u001b[0;31m                                      output=stdout, stderr=stderr)\n\u001b[0m\u001b[1;32m    709\u001b[0m     \u001b[0;32mreturn\u001b[0m \u001b[0mCompletedProcess\u001b[0m\u001b[0;34m(\u001b[0m\u001b[0mprocess\u001b[0m\u001b[0;34m.\u001b[0m\u001b[0margs\u001b[0m\u001b[0;34m,\u001b[0m \u001b[0mretcode\u001b[0m\u001b[0;34m,\u001b[0m \u001b[0mstdout\u001b[0m\u001b[0;34m,\u001b[0m \u001b[0mstderr\u001b[0m\u001b[0;34m)\u001b[0m\u001b[0;34m\u001b[0m\u001b[0m\n\u001b[1;32m    710\u001b[0m \u001b[0;34m\u001b[0m\u001b[0m\n",
      "\u001b[0;31mCalledProcessError\u001b[0m: Command 'java -Xmx40g -jar '/gpfs/data01/glasslab/home/iholtman/Molgenis/picard/picard.jar' GenotypeConcordance  CALL_VCF=/data/scratch/iholtman/human_microglia_genotyping/compare_imp_WGS_snp_CHIPS/sort_merged_RNA_imputed_and_WGS_data_and_SNP_chip_new_header.vcf.gz  CALL_SAMPLE=P4 O=/gpfs/data01/glasslab/data/scratch/iholtman/human_microglia_genotyping/compare_imp_WGS_snp_CHIPS/picard_concordance/concordance_call_P4_truth_imp_P8.vcf  TRUTH_VCF=/data/scratch/iholtman/human_microglia_genotyping/compare_imp_WGS_snp_CHIPS/sort_merged_RNA_imputed_and_WGS_data_and_SNP_chip_new_header.vcf.gz  TRUTH_SAMPLE=imp_P8' returned non-zero exit status 1"
     ]
    }
   ],
   "source": [
    "########## \n",
    "import subprocess\n",
    "\n",
    "samples = [\"P4\", \"P5\", \"P7\", \"P8\", \"P12\", \"P15\", \"P17\", \"WGS_P15\", \"WGS_P17\", \"WGS_P4\", \"WGS_P5\", \"WGS_P7\", \"WGS_P8\", \"imp_P10\", \"imp_P11\" ,\"imp_P12\", \"imp_P14\", \"imp_P15\", \"imp_P16\", \"imp_P17\", \"imp_P18\", \"imp_P19\", \"imp_P2\" ,\"imp_P21\" ,  \"imp_P23\", \"imp_P24\", \"imp_P26\", \"imp_P27\", \"imp_P29\",\"imp_P3\" ,\"imp_P31\" ,\"imp_P4\",\"imp_P5\" , \"imp_P6\", \"imp_P7\", \"imp_P8\"]\n",
    " \n",
    "for file_x in samples:\n",
    "    for file_y in samples:\n",
    "        print(\"\\n\")\n",
    "        terminal_code = (\"java -Xmx40g -jar '/gpfs/data01/glasslab/home/iholtman/Molgenis/picard/picard.jar' GenotypeConcordance \" + \\\n",
    "        \" CALL_VCF=/data/scratch/iholtman/human_microglia_genotyping/compare_imp_WGS_snp_CHIPS/sort_merged_RNA_imputed_and_WGS_data_and_SNP_chip_new_header.vcf.gz \" + \\\n",
    "        \" CALL_SAMPLE=\" + file_x + \\\n",
    "        \" O=/gpfs/data01/glasslab/data/scratch/iholtman/human_microglia_genotyping/compare_imp_WGS_snp_CHIPS/picard_concordance/concordance_call_\" + file_x + \"_truth_\" + file_y + \".vcf \" + \\\n",
    "        \" TRUTH_VCF=/data/scratch/iholtman/human_microglia_genotyping/compare_imp_WGS_snp_CHIPS/sort_merged_RNA_imputed_and_WGS_data_and_SNP_chip_new_header.vcf.gz \" + \\\n",
    "        \" TRUTH_SAMPLE=\" + file_y )\n",
    "        \n",
    "    print(terminal_code)\n",
    "    print(subprocess.check_output(terminal_code, shell=True, stderr=subprocess.STDOUT).decode()) ##\n"
   ]
  },
  {
   "cell_type": "code",
   "execution_count": null,
   "metadata": {
    "collapsed": false
   },
   "outputs": [],
   "source": [
    "############Concordance table met Picard \n",
    "import subprocess\n",
    "\n",
    "samples = [\"WGS_P15\", \"WGS_P17\", \"WGS_P4\", \"WGS_P5\", \"WGS_P7\", \"WGS_P8\", \"imp_P10\", \"imp_P11\" ,\"imp_P12\", \"imp_P14\", \"imp_P15\", \"imp_P16\", \"imp_P17\", \"imp_P18\", \"imp_P19\", \"imp_P2\" ,\"imp_P21\" ,  \"imp_P23\", \"imp_P24\", \"imp_P26\", \"imp_P27\", \"imp_P29\",\"imp_P3\" ,\"imp_P31\" ,\"imp_P4\",\"imp_P5\" , \"imp_P6\", \"imp_P7\", \"imp_P8\", \"Chip_P5\", \"Chip_P7\", \"Chip_P8\", \"Chip_P12\", \"Chip_P15\", \"Chip_P17\", \"Chip_P19\"]\n",
    "\n",
    "#samples = [\"WGS_P15\", \"WGS_P17\", \"WGS_P4\", \"WGS_P5\", \"WGS_P7\", \"WGS_P8\", \"imp_P10\", \"imp_P11\" ,\"imp_P12\", \"imp_P14\", \"imp_P15\", \"imp_P16\", \"imp_P17\", \"imp_P18\", \"imp_P19\", \"imp_P2\" ,\"imp_P21\" ,  \"imp_P23\", \"imp_P24\", \"imp_P26\", \"imp_P27\", \"imp_P29\",\"imp_P3\" ,\"imp_P31\" ,\"imp_P4\",\"imp_P5\" , \"imp_P6\", \"imp_P7\", \"imp_P8\"]\n",
    "\n",
    "\n",
    "\n",
    "for file_x in samples:\n",
    "    for file_y in samples:\n",
    "        print(\"\\n\")\n",
    "\n",
    "        terminal_code = (\"java -jar '/gpfs/data01/glasslab/home/iholtman/Molgenis/picard/picard.jar' GenotypeConcordance \" + \\\n",
    "        \" CALL_VCF='/gpfs/data01/glasslab/data/scratch/iholtman/human_microglia_genotyping/compare_imp_WGS_snp_CHIPS/merged_RNA_imputed_and_WGS_data_and_SNP_chip_new_header.vcf.gz' \" + \\\n",
    "        \" CALL_SAMPLE=\" + file_x + \\\n",
    "        \" O=/gpfs/data01/glasslab/data/scratch/iholtman/human_microglia_genotyping/compare_imp_WGS_snp_CHIPS/picard_concordance/\" + file_x + \"_truth_\" + file_y + \".vcf \" + \\\n",
    "        \" TRUTH_VCF='/gpfs/data01/glasslab/data/scratch/iholtman/human_microglia_genotyping/compare_imp_WGS_snp_CHIPS/merged_RNA_imputed_and_WGS_data_and_SNP_chip_new_header.vcf.gz' \" + \\\n",
    "        \" TRUTH_SAMPLE=\" + file_y )\n",
    "    \n",
    "        print(terminal_code)\n",
    "        print(subprocess.check_output(terminal_code, shell=True, stderr=subprocess.STDOUT).decode()) ##\n",
    "\n",
    "\n"
   ]
  },
  {
   "cell_type": "code",
   "execution_count": 2,
   "metadata": {
    "collapsed": false
   },
   "outputs": [
    {
     "name": "stdout",
     "output_type": "stream",
     "text": [
      "\n",
      "\n"
     ]
    },
    {
     "ename": "CalledProcessError",
     "evalue": "Command 'java -jar '/gpfs/data01/glasslab/home/iholtman/Molgenis/picard/picard.jar' GenotypeConcordance  CALL_VCF=/gpfs/data01/glasslab/data/scratch/iholtman/human_microglia_genotyping/compare_imp_WGS_snp_CHIPS/merged_RNA_imputed_and_WGS_data_and_SNP_chip_new_header.vcf.gz  CALL_SAMPLE= WGS_P15 O=/gpfs/data01/glasslab/data/scratch/iholtman/human_microglia_genotyping/compare_imputation_WGS/TEST_concordance_call_WGS_P15_truth_WGS_P15.vcf  TRUTH_VCF==/gpfs/data01/glasslab/data/scratch/iholtman/human_microglia_genotyping/compare_imp_WGS_snp_CHIPS/merged_RNA_imputed_and_WGS_data_and_SNP_chip_new_header.vcf.gz  TRUTH_SAMPLE= WGS_P15' returned non-zero exit status 1",
     "output_type": "error",
     "traceback": [
      "\u001b[0;31m---------------------------------------------------------------------------\u001b[0m",
      "\u001b[0;31mCalledProcessError\u001b[0m                        Traceback (most recent call last)",
      "\u001b[0;32m<ipython-input-2-43d121e0ae2c>\u001b[0m in \u001b[0;36m<module>\u001b[0;34m()\u001b[0m\n\u001b[1;32m     14\u001b[0m \u001b[0;34m\u001b[0m\u001b[0m\n\u001b[1;32m     15\u001b[0m         \u001b[0;31m#print(terminal_code)\u001b[0m\u001b[0;34m\u001b[0m\u001b[0;34m\u001b[0m\u001b[0m\n\u001b[0;32m---> 16\u001b[0;31m         \u001b[0mprint\u001b[0m\u001b[0;34m(\u001b[0m\u001b[0msubprocess\u001b[0m\u001b[0;34m.\u001b[0m\u001b[0mcheck_output\u001b[0m\u001b[0;34m(\u001b[0m\u001b[0mterminal_code\u001b[0m\u001b[0;34m,\u001b[0m \u001b[0mshell\u001b[0m\u001b[0;34m=\u001b[0m\u001b[0;32mTrue\u001b[0m\u001b[0;34m,\u001b[0m \u001b[0mstderr\u001b[0m\u001b[0;34m=\u001b[0m\u001b[0msubprocess\u001b[0m\u001b[0;34m.\u001b[0m\u001b[0mSTDOUT\u001b[0m\u001b[0;34m)\u001b[0m\u001b[0;34m.\u001b[0m\u001b[0mdecode\u001b[0m\u001b[0;34m(\u001b[0m\u001b[0;34m)\u001b[0m\u001b[0;34m)\u001b[0m \u001b[0;31m##\u001b[0m\u001b[0;34m\u001b[0m\u001b[0m\n\u001b[0m\u001b[1;32m     17\u001b[0m \u001b[0;34m\u001b[0m\u001b[0m\n",
      "\u001b[0;32m/gpfs/data01/glasslab/home/iholtman/anaconda3/lib/python3.5/subprocess.py\u001b[0m in \u001b[0;36mcheck_output\u001b[0;34m(timeout, *popenargs, **kwargs)\u001b[0m\n\u001b[1;32m    624\u001b[0m \u001b[0;34m\u001b[0m\u001b[0m\n\u001b[1;32m    625\u001b[0m     return run(*popenargs, stdout=PIPE, timeout=timeout, check=True,\n\u001b[0;32m--> 626\u001b[0;31m                **kwargs).stdout\n\u001b[0m\u001b[1;32m    627\u001b[0m \u001b[0;34m\u001b[0m\u001b[0m\n\u001b[1;32m    628\u001b[0m \u001b[0;34m\u001b[0m\u001b[0m\n",
      "\u001b[0;32m/gpfs/data01/glasslab/home/iholtman/anaconda3/lib/python3.5/subprocess.py\u001b[0m in \u001b[0;36mrun\u001b[0;34m(input, timeout, check, *popenargs, **kwargs)\u001b[0m\n\u001b[1;32m    706\u001b[0m         \u001b[0;32mif\u001b[0m \u001b[0mcheck\u001b[0m \u001b[0;32mand\u001b[0m \u001b[0mretcode\u001b[0m\u001b[0;34m:\u001b[0m\u001b[0;34m\u001b[0m\u001b[0m\n\u001b[1;32m    707\u001b[0m             raise CalledProcessError(retcode, process.args,\n\u001b[0;32m--> 708\u001b[0;31m                                      output=stdout, stderr=stderr)\n\u001b[0m\u001b[1;32m    709\u001b[0m     \u001b[0;32mreturn\u001b[0m \u001b[0mCompletedProcess\u001b[0m\u001b[0;34m(\u001b[0m\u001b[0mprocess\u001b[0m\u001b[0;34m.\u001b[0m\u001b[0margs\u001b[0m\u001b[0;34m,\u001b[0m \u001b[0mretcode\u001b[0m\u001b[0;34m,\u001b[0m \u001b[0mstdout\u001b[0m\u001b[0;34m,\u001b[0m \u001b[0mstderr\u001b[0m\u001b[0;34m)\u001b[0m\u001b[0;34m\u001b[0m\u001b[0m\n\u001b[1;32m    710\u001b[0m \u001b[0;34m\u001b[0m\u001b[0m\n",
      "\u001b[0;31mCalledProcessError\u001b[0m: Command 'java -jar '/gpfs/data01/glasslab/home/iholtman/Molgenis/picard/picard.jar' GenotypeConcordance  CALL_VCF=/gpfs/data01/glasslab/data/scratch/iholtman/human_microglia_genotyping/compare_imp_WGS_snp_CHIPS/merged_RNA_imputed_and_WGS_data_and_SNP_chip_new_header.vcf.gz  CALL_SAMPLE= WGS_P15 O=/gpfs/data01/glasslab/data/scratch/iholtman/human_microglia_genotyping/compare_imputation_WGS/TEST_concordance_call_WGS_P15_truth_WGS_P15.vcf  TRUTH_VCF==/gpfs/data01/glasslab/data/scratch/iholtman/human_microglia_genotyping/compare_imp_WGS_snp_CHIPS/merged_RNA_imputed_and_WGS_data_and_SNP_chip_new_header.vcf.gz  TRUTH_SAMPLE= WGS_P15' returned non-zero exit status 1"
     ]
    }
   ],
   "source": [
    "############Concordance table met Picard \n",
    "import subprocess\n",
    "\n",
    "samples = [\"WGS_P15\", \"WGS_P17\", \"WGS_P4\", \"WGS_P5\", \"WGS_P7\", \"WGS_P8\", \"imp_P10\", \"imp_P11\" ,\"imp_P12\", \"imp_P14\", \"imp_P15\", \"imp_P16\", \"imp_P17\", \"imp_P18\", \"imp_P19\", \"imp_P2\" ,\"imp_P21\" ,  \"imp_P23\", \"imp_P24\", \"imp_P26\", \"imp_P27\", \"imp_P29\",\"imp_P3\" ,\"imp_P31\" ,\"imp_P4\",\"imp_P5\" , \"imp_P6\", \"imp_P7\", \"imp_P8\"]\n",
    "#samples = [\"WGS_P15\", \"WGS_P17\", \"WGS_P4\", \"WGS_P5\", \"WGS_P7\", \"WGS_P8\", \"imp_P10\", \"imp_P11\" ,\"imp_P12\", \"imp_P14\", \"imp_P15\", \"imp_P16\", \"imp_P17\", \"imp_P18\", \"imp_P19\", \"imp_P2\" ,\"imp_P21\" ,  \"imp_P23\", \"imp_P24\", \"imp_P26\", \"imp_P27\", \"imp_P29\",\"imp_P3\" ,\"imp_P31\" ,\"imp_P4\",\"imp_P5\" , \"imp_P6\", \"imp_P7\", \"imp_P8\", \"Chip_P5\", \"Chip_P7\", \"Chip_P8\", \"Chip_P12\", \"Chip_P15\", \"Chip_P17\", \"Chip_P19\"]\n",
    "\n",
    "\n",
    "\n",
    "for file_x in samples:\n",
    "    for file_y in samples:\n",
    "        print(\"\\n\")\n",
    "\n",
    "        terminal_code = (\"java -jar '/gpfs/data01/glasslab/home/iholtman/Molgenis/picard/picard.jar' GenotypeConcordance \" + \\\n",
    "        \" CALL_VCF=/gpfs/data01/glasslab/data/scratch/iholtman/human_microglia_genotyping/compare_imp_WGS_snp_CHIPS/merged_RNA_imputed_and_WGS_data_and_SNP_chip_new_header.vcf.gz \" + \\\n",
    "        \" CALL_SAMPLE= \" + file_x + \\\n",
    "        \" O=/gpfs/data01/glasslab/data/scratch/iholtman/human_microglia_genotyping/compare_imputation_WGS/TEST_concordance_call_\" + file_x + \"_truth_\" + file_y + \".vcf \" + \\\n",
    "        \" TRUTH_VCF==/gpfs/data01/glasslab/data/scratch/iholtman/human_microglia_genotyping/compare_imp_WGS_snp_CHIPS/merged_RNA_imputed_and_WGS_data_and_SNP_chip_new_header.vcf.gz \" + \\\n",
    "        \" TRUTH_SAMPLE= \" + file_y )\n",
    "    \n",
    "        #print(terminal_code)\n",
    "        print(subprocess.check_output(terminal_code, shell=True, stderr=subprocess.STDOUT).decode()) ##\n",
    "\n"
   ]
  },
  {
   "cell_type": "code",
   "execution_count": null,
   "metadata": {
    "collapsed": true
   },
   "outputs": [],
   "source": []
  }
 ],
 "metadata": {
  "anaconda-cloud": {},
  "kernelspec": {
   "display_name": "Python [conda root]",
   "language": "python",
   "name": "conda-root-py"
  },
  "language_info": {
   "codemirror_mode": {
    "name": "ipython",
    "version": 3
   },
   "file_extension": ".py",
   "mimetype": "text/x-python",
   "name": "python",
   "nbconvert_exporter": "python",
   "pygments_lexer": "ipython3",
   "version": "3.5.2"
  }
 },
 "nbformat": 4,
 "nbformat_minor": 1
}
