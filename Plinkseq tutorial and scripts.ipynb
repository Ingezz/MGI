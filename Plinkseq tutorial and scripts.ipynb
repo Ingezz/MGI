{
 "cells": [
  {
   "cell_type": "code",
   "execution_count": 7,
   "metadata": {
    "collapsed": false
   },
   "outputs": [
    {
     "name": "stdout",
     "output_type": "stream",
     "text": [
      "plink --file /gpfs/data01/glasslab/home/iholtman/software/plink/tutorial_data/hapmap1\n"
     ]
    }
   ],
   "source": [
    "###http://pngu.mgh.harvard.edu/~purcell/plink/tutorial.shtml\n",
    "##Tutorial PLINK itself\n",
    "\n",
    "dir = \"/gpfs/data01/glasslab/home/iholtman/software/plink/tutorial_data/\"\n",
    "\n",
    "terminal_code = \"plink --file \" + dir + \"hapmap1\"\n",
    "\n",
    "print(terminal_code)\n",
    "#print(subprocess.check_output(terminal_code, shell=True, stderr=subprocess.STDOUT).decode()) ##\n",
    "#print(\"\\n\")"
   ]
  },
  {
   "cell_type": "code",
   "execution_count": null,
   "metadata": {
    "collapsed": true
   },
   "outputs": [],
   "source": [
    "###/gpfs/data01/glasslab/home/iholtman/software/plinkseq/plinkseq-0.10\n",
    "##plinkseq tutorial \n",
    "\n",
    "/gpfs/data01/glasslab/home/iholtman/software/plinkseq/plinkseq-0.10/pseq help \n",
    "\n"
   ]
  }
 ],
 "metadata": {
  "anaconda-cloud": {},
  "kernelspec": {
   "display_name": "Python [conda root]",
   "language": "python",
   "name": "conda-root-py"
  },
  "language_info": {
   "codemirror_mode": {
    "name": "ipython",
    "version": 3
   },
   "file_extension": ".py",
   "mimetype": "text/x-python",
   "name": "python",
   "nbconvert_exporter": "python",
   "pygments_lexer": "ipython3",
   "version": "3.5.2"
  }
 },
 "nbformat": 4,
 "nbformat_minor": 1
}
