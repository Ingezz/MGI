{
 "cells": [
  {
   "cell_type": "code",
   "execution_count": 36,
   "metadata": {
    "collapsed": true
   },
   "outputs": [],
   "source": [
    "import subprocess\n",
    "import glob\n",
    "import os"
   ]
  },
  {
   "cell_type": "code",
   "execution_count": null,
   "metadata": {
    "collapsed": false
   },
   "outputs": [
    {
     "name": "stdout",
     "output_type": "stream",
     "text": [
      "['SRR2938964', 'SRR2938981', 'SRR2938960', 'SRR2938971', 'SRR2938980', 'SRR2938967', 'SRR2938961', 'SRR2938976', 'SRR2938974', 'SRR2938958']\n",
      "Read 72617223 spots for SRR2938964\n",
      "Written 72617223 spots for SRR2938964\n",
      "\n"
     ]
    }
   ],
   "source": [
    "FILES = [\"SRR2938964\", \"SRR2938981\" ,\"SRR2938960\", \"SRR2938971\", \"SRR2938980\", \"SRR2938967\", \"SRR2938961\", \"SRR2938976\", \"SRR2938974\", \"SRR2938958\"]\n",
    "\n",
    "fastq_dir = \"/data/archive/04-10-2016-holtman/srinivisan/LPS/\"\n",
    "\n",
    "print(FILES)\n",
    "for File in FILES:\n",
    "    code = \"fastq-dump --outdir \" + fastq_dir + \" --gzip --skip-technical --readids --dumpbase --clip \" + File + \" --origfmt\"\n",
    "    #print(subprocess.check_output(code, shell=True, stderr=subprocess.STDOUT).decode()) ##\n",
    "    #print(code)"
   ]
  },
  {
   "cell_type": "code",
   "execution_count": 7,
   "metadata": {
    "collapsed": false
   },
   "outputs": [
    {
     "name": "stdout",
     "output_type": "stream",
     "text": [
      "fastq-dump --outdir /data/archive/04-10-2016-holtman/srinivisan/APP/ --gzip --skip-technical --readids --dumpbase --clip SRR2961950 --origfmt\n",
      "fastq-dump --outdir /data/archive/04-10-2016-holtman/srinivisan/APP/ --gzip --skip-technical --readids --dumpbase --clip SRR2961945 --origfmt\n",
      "fastq-dump --outdir /data/archive/04-10-2016-holtman/srinivisan/APP/ --gzip --skip-technical --readids --dumpbase --clip SRR2961986 --origfmt\n",
      "fastq-dump --outdir /data/archive/04-10-2016-holtman/srinivisan/APP/ --gzip --skip-technical --readids --dumpbase --clip SRR2961989 --origfmt\n",
      "fastq-dump --outdir /data/archive/04-10-2016-holtman/srinivisan/APP/ --gzip --skip-technical --readids --dumpbase --clip SRR2961953 --origfmt\n",
      "fastq-dump --outdir /data/archive/04-10-2016-holtman/srinivisan/APP/ --gzip --skip-technical --readids --dumpbase --clip SRR2961970 --origfmt\n",
      "fastq-dump --outdir /data/archive/04-10-2016-holtman/srinivisan/APP/ --gzip --skip-technical --readids --dumpbase --clip SRR2961947 --origfmt\n",
      "fastq-dump --outdir /data/archive/04-10-2016-holtman/srinivisan/APP/ --gzip --skip-technical --readids --dumpbase --clip SRR2961981 --origfmt\n",
      "fastq-dump --outdir /data/archive/04-10-2016-holtman/srinivisan/APP/ --gzip --skip-technical --readids --dumpbase --clip SRR2961959 --origfmt\n",
      "fastq-dump --outdir /data/archive/04-10-2016-holtman/srinivisan/APP/ --gzip --skip-technical --readids --dumpbase --clip SRR2961978 --origfmt\n"
     ]
    }
   ],
   "source": [
    "#FILES = [\"SRR2961961\", \"SRR2961982\", \"SRR2961975\" ,\"SRR2961958\", \"SRR2961987\", \"SRR2961967\", \"SRR2961935\", \"SRR2961957\", \"SRR2961963\", \"SRR2961939\", \"SRR2961950\",\n",
    "#\"SRR2961945\", \"SRR2961986\", \"SRR2961989\", \"SRR2961953\", \"SRR2961970\", \"SRR2961947\", \"SRR2961981\", \"SRR2961959\", \"SRR2961978\"]\n",
    "\n",
    "FILES = [ \"SRR2961950\",\"SRR2961945\", \"SRR2961986\", \"SRR2961989\", \"SRR2961953\", \"SRR2961970\", \"SRR2961947\", \"SRR2961981\", \"SRR2961959\", \"SRR2961978\"]\n",
    "\n",
    "\n",
    "fastq_dir = \"/data/archive/04-10-2016-holtman/srinivisan/APP/\"\n",
    "\n",
    "\n",
    "for File in FILES:\n",
    "    code = \"fastq-dump --outdir \" + fastq_dir + \" --gzip --skip-technical --readids --dumpbase --clip \" + File + \" --origfmt\"\n",
    "    #print(subprocess.check_output(code, shell=True, stderr=subprocess.STDOUT).decode()) ##    \n",
    "    print(code)\n",
    "    "
   ]
  },
  {
   "cell_type": "code",
   "execution_count": 16,
   "metadata": {
    "collapsed": false
   },
   "outputs": [
    {
     "name": "stdout",
     "output_type": "stream",
     "text": [
      "summarize_logs.py rna /data/scratch/iholtman/LPS/tag_directories ['/data/scratch/iholtman/LPS/tag_directories/SRR2938964', '/data/scratch/iholtman/LPS/tag_directories/SRR2938974', '/data/scratch/iholtman/LPS/tag_directories/SRR2938971', '/data/scratch/iholtman/LPS/tag_directories/SRR2938967', '/data/scratch/iholtman/LPS/tag_directories/SRR2938980', '/data/scratch/iholtman/LPS/tag_directories/SRR2938976', '/data/scratch/iholtman/LPS/tag_directories/SRR2938958', '/data/scratch/iholtman/LPS/tag_directories/SRR2938981', '/data/scratch/iholtman/LPS/tag_directories/SRR2938960', '/data/scratch/iholtman/LPS/tag_directories/SRR2938961']\n"
     ]
    }
   ],
   "source": [
    "######QC\n",
    "\n",
    "qc_dir = \"/data/scratch/iholtman/LPS/tag_directories/QC\"\n",
    "tag_dir = glob.glob(\"/data/scratch/iholtman/LPS/tag_directories/*\")\n",
    "\n",
    "terminal_process = \"summarize_logs.py rna \" + qc_dir + \" \" + str(tag_dir)\n",
    "print(terminal_process)\n"
   ]
  },
  {
   "cell_type": "code",
   "execution_count": 17,
   "metadata": {
    "collapsed": false
   },
   "outputs": [
    {
     "ename": "SyntaxError",
     "evalue": "invalid syntax (<ipython-input-17-003dc9d18ee4>, line 1)",
     "output_type": "error",
     "traceback": [
      "\u001b[0;36m  File \u001b[0;32m\"<ipython-input-17-003dc9d18ee4>\"\u001b[0;36m, line \u001b[0;32m1\u001b[0m\n\u001b[0;31m    summarize_logs.py rna /data/scratch/iholtman/LPS/tag_directories/QC /data/scratch/iholtman/LPS/tag_directories/SRR2938964 /data/scratch/iholtman/LPS/tag_directories/SRR2938974 /data/scratch/iholtman/LPS/tag_directories/SRR2938971 /data/scratch/iholtman/LPS/tag_directories/SRR2938967 /data/scratch/iholtman/LPS/tag_directories/SRR2938980 /data/scratch/iholtman/LPS/tag_directories/SRR2938976 /data/scratch/iholtman/LPS/tag_directories/SRR2938958 /data/scratch/iholtman/LPS/tag_directories/SRR2938981 /data/scratch/iholtman/LPS/tag_directories/SRR2938960 /data/scratch/iholtman/LPS/tag_directories/SRR2938961\u001b[0m\n\u001b[0m                        ^\u001b[0m\n\u001b[0;31mSyntaxError\u001b[0m\u001b[0;31m:\u001b[0m invalid syntax\n"
     ]
    }
   ],
   "source": [
    "summarize_logs.py rna /data/scratch/iholtman/LPS/tag_directories/QC /data/scratch/iholtman/LPS/tag_directories/SRR2938964 /data/scratch/iholtman/LPS/tag_directories/SRR2938974 /data/scratch/iholtman/LPS/tag_directories/SRR2938971 /data/scratch/iholtman/LPS/tag_directories/SRR2938967 \\\n",
    "/data/scratch/iholtman/LPS/tag_directories/SRR2938980 /data/scratch/iholtman/LPS/tag_directories/SRR2938976 /data/scratch/iholtman/LPS/tag_directories/SRR2938958 /data/scratch/iholtman/LPS/tag_directories/SRR2938981 /data/scratch/iholtman/LPS/tag_directories/SRR2938960 \\\n",
    "/data/scratch/iholtman/LPS/tag_directories/SRR2938961\n",
    "\n",
    "summarize_logs.py rna /data/scratch/iholtman/APP/tag_directories/QC \\\n",
    "/data/scratch/iholtman/APP/tag_directories/SRR2961989 /data/scratch/iholtman/APP/tag_directories/SRR2961975 \\\n",
    "/data/scratch/iholtman/APP/tag_directories/SRR2961967 /data/scratch/iholtman/APP/tag_directories/SRR2961978 \\\n",
    "/data/scratch/iholtman/APP/tag_directories/SRR2961970 /data/scratch/iholtman/APP/tag_directories/SRR2961959 \\\n",
    "/data/scratch/iholtman/APP/tag_directories/SRR2961982 /data/scratch/iholtman/APP/tag_directories/SRR2961986 \\\n",
    "/data/scratch/iholtman/APP/tag_directories/SRR2961987 /data/scratch/iholtman/APP/tag_directories/SRR2961963 \\\n",
    "/data/scratch/iholtman/APP/tag_directories/SRR2961935 /data/scratch/iholtman/APP/tag_directories/SRR2961957 \\\n",
    "/data/scratch/iholtman/APP/tag_directories/SRR2961939 /data/scratch/iholtman/APP/tag_directories/SRR2961953 \\\n",
    "/data/scratch/iholtman/APP/tag_directories/SRR2961945 /data/scratch/iholtman/APP/tag_directories/SRR2961958 \\\n",
    "/data/scratch/iholtman/APP/tag_directories/SRR2961950 /data/scratch/iholtman/APP/tag_directories/SRR2961947 \\\n",
    "/data/scratch/iholtman/APP/tag_directories/SRR2961961 /data/scratch/iholtman/APP/tag_directories/SRR2961981\n"
   ]
  },
  {
   "cell_type": "code",
   "execution_count": 18,
   "metadata": {
    "collapsed": false
   },
   "outputs": [
    {
     "name": "stdout",
     "output_type": "stream",
     "text": [
      "summarize_logs.py rna /data/scratch/iholtman/APP/tag_directories/QC ['/data/scratch/iholtman/APP/tag_directories/SRR2961989', '/data/scratch/iholtman/APP/tag_directories/SRR2961975', '/data/scratch/iholtman/APP/tag_directories/SRR2961967', '/data/scratch/iholtman/APP/tag_directories/SRR2961978', '/data/scratch/iholtman/APP/tag_directories/SRR2961970', '/data/scratch/iholtman/APP/tag_directories/SRR2961959', '/data/scratch/iholtman/APP/tag_directories/SRR2961982', '/data/scratch/iholtman/APP/tag_directories/SRR2961986', '/data/scratch/iholtman/APP/tag_directories/SRR2961987', '/data/scratch/iholtman/APP/tag_directories/SRR2961963', '/data/scratch/iholtman/APP/tag_directories/SRR2961935', '/data/scratch/iholtman/APP/tag_directories/SRR2961957', '/data/scratch/iholtman/APP/tag_directories/SRR2961939', '/data/scratch/iholtman/APP/tag_directories/SRR2961953', '/data/scratch/iholtman/APP/tag_directories/SRR2961945', '/data/scratch/iholtman/APP/tag_directories/SRR2961958', '/data/scratch/iholtman/APP/tag_directories/SRR2961950', '/data/scratch/iholtman/APP/tag_directories/SRR2961947', '/data/scratch/iholtman/APP/tag_directories/SRR2961961', '/data/scratch/iholtman/APP/tag_directories/SRR2961981']\n"
     ]
    }
   ],
   "source": [
    "qc_dir = \"/data/scratch/iholtman/APP/tag_directories/QC\"\n",
    "tag_dir = glob.glob(\"/data/scratch/iholtman/APP/tag_directories/*\")\n",
    "\n",
    "terminal_process = \"summarize_logs.py rna \" + qc_dir + \" \" + str(tag_dir)\n",
    "print(terminal_process)\n",
    "\n"
   ]
  },
  {
   "cell_type": "code",
   "execution_count": 39,
   "metadata": {
    "collapsed": false
   },
   "outputs": [
    {
     "name": "stdout",
     "output_type": "stream",
     "text": [
      "\tTag Directories:\n",
      "\t\t/data/scratch/iholtman/APP/tag_directories/SRR2961989\n",
      "\t\t/data/scratch/iholtman/APP/tag_directories/SRR2961975\n",
      "\t\t/data/scratch/iholtman/APP/tag_directories/SRR2961967\n",
      "\t\t/data/scratch/iholtman/APP/tag_directories/SRR2961978\n",
      "\t\t/data/scratch/iholtman/APP/tag_directories/SRR2961970\n",
      "\t\t/data/scratch/iholtman/APP/tag_directories/SRR2961959\n",
      "\t\t/data/scratch/iholtman/APP/tag_directories/SRR2961982\n",
      "\t\t/data/scratch/iholtman/APP/tag_directories/SRR2961986\n",
      "\t\t/data/scratch/iholtman/APP/tag_directories/SRR2961987\n",
      "\t\t/data/scratch/iholtman/APP/tag_directories/SRR2961963\n",
      "\t\t/data/scratch/iholtman/APP/tag_directories/SRR2961935\n",
      "\t\t/data/scratch/iholtman/APP/tag_directories/SRR2961957\n",
      "\t\t/data/scratch/iholtman/APP/tag_directories/SRR2961939\n",
      "\t\t/data/scratch/iholtman/APP/tag_directories/SRR2961953\n",
      "\t\t/data/scratch/iholtman/APP/tag_directories/SRR2961945\n",
      "\t\t/data/scratch/iholtman/APP/tag_directories/SRR2961958\n",
      "\t\t/data/scratch/iholtman/APP/tag_directories/SRR2961950\n",
      "\t\t/data/scratch/iholtman/APP/tag_directories/SRR2961947\n",
      "\t\t/data/scratch/iholtman/APP/tag_directories/SRR2961961\n",
      "\t\t/data/scratch/iholtman/APP/tag_directories/SRR2961981\n",
      "\t\t/data/scratch/iholtman/LPS/tag_directories/SRR2938964\n",
      "\t\t/data/scratch/iholtman/LPS/tag_directories/SRR2938974\n",
      "\t\t/data/scratch/iholtman/LPS/tag_directories/SRR2938971\n",
      "\t\t/data/scratch/iholtman/LPS/tag_directories/SRR2938967\n",
      "\t\t/data/scratch/iholtman/LPS/tag_directories/SRR2938980\n",
      "\t\t/data/scratch/iholtman/LPS/tag_directories/SRR2938976\n",
      "\t\t/data/scratch/iholtman/LPS/tag_directories/SRR2938958\n",
      "\t\t/data/scratch/iholtman/LPS/tag_directories/SRR2938981\n",
      "\t\t/data/scratch/iholtman/LPS/tag_directories/SRR2938960\n",
      "\t\t/data/scratch/iholtman/LPS/tag_directories/SRR2938961\n",
      "\tInput file format: homerRmsk\n",
      "\tFiltering based on repeat parameters: kept 35756 of 35756\n",
      "\tCalculating read coverage for /data/scratch/iholtman/APP/tag_directories/SRR2961989\n",
      "\tCalculating read coverage for /data/scratch/iholtman/APP/tag_directories/SRR2961975\n",
      "\tCalculating read coverage for /data/scratch/iholtman/APP/tag_directories/SRR2961967\n",
      "\tCalculating read coverage for /data/scratch/iholtman/APP/tag_directories/SRR2961978\n",
      "\tCalculating read coverage for /data/scratch/iholtman/APP/tag_directories/SRR2961970\n",
      "\tCalculating read coverage for /data/scratch/iholtman/APP/tag_directories/SRR2961959\n",
      "\tCalculating read coverage for /data/scratch/iholtman/APP/tag_directories/SRR2961982\n",
      "\tCalculating read coverage for /data/scratch/iholtman/APP/tag_directories/SRR2961986\n",
      "\tCalculating read coverage for /data/scratch/iholtman/APP/tag_directories/SRR2961987\n",
      "\tCalculating read coverage for /data/scratch/iholtman/APP/tag_directories/SRR2961963\n",
      "\tCalculating read coverage for /data/scratch/iholtman/APP/tag_directories/SRR2961935\n",
      "\tCalculating read coverage for /data/scratch/iholtman/APP/tag_directories/SRR2961957\n",
      "\tCalculating read coverage for /data/scratch/iholtman/APP/tag_directories/SRR2961939\n",
      "\tCalculating read coverage for /data/scratch/iholtman/APP/tag_directories/SRR2961953\n",
      "\tCalculating read coverage for /data/scratch/iholtman/APP/tag_directories/SRR2961945\n",
      "\tCalculating read coverage for /data/scratch/iholtman/APP/tag_directories/SRR2961958\n",
      "\tCalculating read coverage for /data/scratch/iholtman/APP/tag_directories/SRR2961950\n",
      "\tCalculating read coverage for /data/scratch/iholtman/APP/tag_directories/SRR2961947\n",
      "\tCalculating read coverage for /data/scratch/iholtman/APP/tag_directories/SRR2961961\n",
      "\tCalculating read coverage for /data/scratch/iholtman/APP/tag_directories/SRR2961981\n",
      "\tCalculating read coverage for /data/scratch/iholtman/LPS/tag_directories/SRR2938964\n",
      "\tCalculating read coverage for /data/scratch/iholtman/LPS/tag_directories/SRR2938974\n",
      "\tCalculating read coverage for /data/scratch/iholtman/LPS/tag_directories/SRR2938971\n",
      "\tCalculating read coverage for /data/scratch/iholtman/LPS/tag_directories/SRR2938967\n",
      "\tCalculating read coverage for /data/scratch/iholtman/LPS/tag_directories/SRR2938980\n",
      "\tCalculating read coverage for /data/scratch/iholtman/LPS/tag_directories/SRR2938976\n",
      "\tCalculating read coverage for /data/scratch/iholtman/LPS/tag_directories/SRR2938958\n",
      "\tCalculating read coverage for /data/scratch/iholtman/LPS/tag_directories/SRR2938981\n",
      "\tCalculating read coverage for /data/scratch/iholtman/LPS/tag_directories/SRR2938960\n",
      "\tCalculating read coverage for /data/scratch/iholtman/LPS/tag_directories/SRR2938961\n",
      "\tPrinting output\n",
      "\t\tPrinted 24445 of 34711 repeats (expression >= -1e+20)\n",
      "\n"
     ]
    }
   ],
   "source": [
    "###########RPKM \n",
    "\n",
    "tagdir_dir1 = glob.glob(\"/data/scratch/iholtman/APP/tag_directories/*\")\n",
    "tagdir_dir2 = glob.glob(\"/data/scratch/iholtman/LPS/tag_directories/*\")\n",
    "\n",
    "OUTPUT_PATH = \"/gpfs/data01/glasslab/home/iholtman/Human-Microglia-Project/Data/\"\n",
    "\n",
    "all_reps  = tagdir_dir1 + tagdir_dir2 \n",
    "#print(all_reps)\n",
    "  \n",
    "###Remove the QC dirs     \n",
    "sel_reps = []\n",
    "for rep in all_reps:\n",
    "    if 'SRR' in rep:\n",
    "        sel_reps.append(rep)\n",
    "#print(sel_reps)\n",
    "\n",
    "output_file = os.path.join(OUTPUT_PATH, 'Srinivisan_18-12-2016-mouse_rna_counts.tsv')\n",
    "homer_cmd_line = 'analyzeRepeats.pl rna mm10 -raw -pc 3 -count exons -strand both -condenseGenes -d {} > {}'.format(' '.join(sel_reps), output_file)\n",
    "#print(homer_cmd_line)\n",
    "print(subprocess.check_output(homer_cmd_line, shell=True, stderr=subprocess.STDOUT).decode())"
   ]
  },
  {
   "cell_type": "code",
   "execution_count": 40,
   "metadata": {
    "collapsed": false
   },
   "outputs": [
    {
     "name": "stdout",
     "output_type": "stream",
     "text": [
      "\tTag Directories:\n",
      "\t\t/data/scratch/iholtman/APP/tag_directories/SRR2961989\n",
      "\t\t/data/scratch/iholtman/APP/tag_directories/SRR2961975\n",
      "\t\t/data/scratch/iholtman/APP/tag_directories/SRR2961967\n",
      "\t\t/data/scratch/iholtman/APP/tag_directories/SRR2961978\n",
      "\t\t/data/scratch/iholtman/APP/tag_directories/SRR2961970\n",
      "\t\t/data/scratch/iholtman/APP/tag_directories/SRR2961959\n",
      "\t\t/data/scratch/iholtman/APP/tag_directories/SRR2961982\n",
      "\t\t/data/scratch/iholtman/APP/tag_directories/SRR2961986\n",
      "\t\t/data/scratch/iholtman/APP/tag_directories/SRR2961987\n",
      "\t\t/data/scratch/iholtman/APP/tag_directories/SRR2961963\n",
      "\t\t/data/scratch/iholtman/APP/tag_directories/SRR2961935\n",
      "\t\t/data/scratch/iholtman/APP/tag_directories/SRR2961957\n",
      "\t\t/data/scratch/iholtman/APP/tag_directories/SRR2961939\n",
      "\t\t/data/scratch/iholtman/APP/tag_directories/SRR2961953\n",
      "\t\t/data/scratch/iholtman/APP/tag_directories/SRR2961945\n",
      "\t\t/data/scratch/iholtman/APP/tag_directories/SRR2961958\n",
      "\t\t/data/scratch/iholtman/APP/tag_directories/SRR2961950\n",
      "\t\t/data/scratch/iholtman/APP/tag_directories/SRR2961947\n",
      "\t\t/data/scratch/iholtman/APP/tag_directories/SRR2961961\n",
      "\t\t/data/scratch/iholtman/APP/tag_directories/SRR2961981\n",
      "\t\t/data/scratch/iholtman/LPS/tag_directories/SRR2938964\n",
      "\t\t/data/scratch/iholtman/LPS/tag_directories/SRR2938974\n",
      "\t\t/data/scratch/iholtman/LPS/tag_directories/SRR2938971\n",
      "\t\t/data/scratch/iholtman/LPS/tag_directories/SRR2938967\n",
      "\t\t/data/scratch/iholtman/LPS/tag_directories/SRR2938980\n",
      "\t\t/data/scratch/iholtman/LPS/tag_directories/SRR2938976\n",
      "\t\t/data/scratch/iholtman/LPS/tag_directories/SRR2938958\n",
      "\t\t/data/scratch/iholtman/LPS/tag_directories/SRR2938981\n",
      "\t\t/data/scratch/iholtman/LPS/tag_directories/SRR2938960\n",
      "\t\t/data/scratch/iholtman/LPS/tag_directories/SRR2938961\n",
      "\tInput file format: homerRmsk\n",
      "\tFiltering based on repeat parameters: kept 35756 of 35756\n",
      "\tCalculating read coverage for /data/scratch/iholtman/APP/tag_directories/SRR2961989\n",
      "\tCalculating read coverage for /data/scratch/iholtman/APP/tag_directories/SRR2961975\n",
      "\tCalculating read coverage for /data/scratch/iholtman/APP/tag_directories/SRR2961967\n",
      "\tCalculating read coverage for /data/scratch/iholtman/APP/tag_directories/SRR2961978\n",
      "\tCalculating read coverage for /data/scratch/iholtman/APP/tag_directories/SRR2961970\n",
      "\tCalculating read coverage for /data/scratch/iholtman/APP/tag_directories/SRR2961959\n",
      "\tCalculating read coverage for /data/scratch/iholtman/APP/tag_directories/SRR2961982\n",
      "\tCalculating read coverage for /data/scratch/iholtman/APP/tag_directories/SRR2961986\n",
      "\tCalculating read coverage for /data/scratch/iholtman/APP/tag_directories/SRR2961987\n",
      "\tCalculating read coverage for /data/scratch/iholtman/APP/tag_directories/SRR2961963\n",
      "\tCalculating read coverage for /data/scratch/iholtman/APP/tag_directories/SRR2961935\n",
      "\tCalculating read coverage for /data/scratch/iholtman/APP/tag_directories/SRR2961957\n",
      "\tCalculating read coverage for /data/scratch/iholtman/APP/tag_directories/SRR2961939\n",
      "\tCalculating read coverage for /data/scratch/iholtman/APP/tag_directories/SRR2961953\n",
      "\tCalculating read coverage for /data/scratch/iholtman/APP/tag_directories/SRR2961945\n",
      "\tCalculating read coverage for /data/scratch/iholtman/APP/tag_directories/SRR2961958\n",
      "\tCalculating read coverage for /data/scratch/iholtman/APP/tag_directories/SRR2961950\n",
      "\tCalculating read coverage for /data/scratch/iholtman/APP/tag_directories/SRR2961947\n",
      "\tCalculating read coverage for /data/scratch/iholtman/APP/tag_directories/SRR2961961\n",
      "\tCalculating read coverage for /data/scratch/iholtman/APP/tag_directories/SRR2961981\n",
      "\tCalculating read coverage for /data/scratch/iholtman/LPS/tag_directories/SRR2938964\n",
      "\tCalculating read coverage for /data/scratch/iholtman/LPS/tag_directories/SRR2938974\n",
      "\tCalculating read coverage for /data/scratch/iholtman/LPS/tag_directories/SRR2938971\n",
      "\tCalculating read coverage for /data/scratch/iholtman/LPS/tag_directories/SRR2938967\n",
      "\tCalculating read coverage for /data/scratch/iholtman/LPS/tag_directories/SRR2938980\n",
      "\tCalculating read coverage for /data/scratch/iholtman/LPS/tag_directories/SRR2938976\n",
      "\tCalculating read coverage for /data/scratch/iholtman/LPS/tag_directories/SRR2938958\n",
      "\tCalculating read coverage for /data/scratch/iholtman/LPS/tag_directories/SRR2938981\n",
      "\tCalculating read coverage for /data/scratch/iholtman/LPS/tag_directories/SRR2938960\n",
      "\tCalculating read coverage for /data/scratch/iholtman/LPS/tag_directories/SRR2938961\n",
      "\t\tNormalizing...\n",
      "\t\tNormalizing...\n",
      "\t\tNormalizing...\n",
      "\t\tNormalizing...\n",
      "\t\tNormalizing...\n",
      "\t\tNormalizing...\n",
      "\t\tNormalizing...\n",
      "\t\tNormalizing...\n",
      "\t\tNormalizing...\n",
      "\t\tNormalizing...\n",
      "\t\tNormalizing...\n",
      "\t\tNormalizing...\n",
      "\t\tNormalizing...\n",
      "\t\tNormalizing...\n",
      "\t\tNormalizing...\n",
      "\t\tNormalizing...\n",
      "\t\tNormalizing...\n",
      "\t\tNormalizing...\n",
      "\t\tNormalizing...\n",
      "\t\tNormalizing...\n",
      "\t\tNormalizing...\n",
      "\t\tNormalizing...\n",
      "\t\tNormalizing...\n",
      "\t\tNormalizing...\n",
      "\t\tNormalizing...\n",
      "\t\tNormalizing...\n",
      "\t\tNormalizing...\n",
      "\t\tNormalizing...\n",
      "\t\tNormalizing...\n",
      "\t\tNormalizing...\n",
      "\tPrinting output\n",
      "\t\tPrinted 24445 of 34711 repeats (expression >= -1e+20)\n",
      "\n"
     ]
    }
   ],
   "source": [
    "output_file = os.path.join(OUTPUT_PATH, 'Srinivisan_18-12-2016-mouse_rna_rpkm.tsv')\n",
    "homer_cmd_line = 'analyzeRepeats.pl rna mm10 -rpkm -pc 3 -count exons -strand both -condenseGenes -d {} > {}'.format(' '.join(sel_reps), output_file)\n",
    "#print(homer_cmd_line)\n",
    "print(subprocess.check_output(homer_cmd_line, shell=True, stderr=subprocess.STDOUT).decode())"
   ]
  },
  {
   "cell_type": "code",
   "execution_count": null,
   "metadata": {
    "collapsed": true
   },
   "outputs": [],
   "source": []
  }
 ],
 "metadata": {
  "anaconda-cloud": {},
  "kernelspec": {
   "display_name": "Python [conda root]",
   "language": "python",
   "name": "conda-root-py"
  },
  "language_info": {
   "codemirror_mode": {
    "name": "ipython",
    "version": 3
   },
   "file_extension": ".py",
   "mimetype": "text/x-python",
   "name": "python",
   "nbconvert_exporter": "python",
   "pygments_lexer": "ipython3",
   "version": "3.5.2"
  }
 },
 "nbformat": 4,
 "nbformat_minor": 1
}
