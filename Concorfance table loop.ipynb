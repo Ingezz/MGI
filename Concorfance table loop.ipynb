{
 "cells": [
  {
   "cell_type": "code",
   "execution_count": 5,
   "metadata": {
    "collapsed": false
   },
   "outputs": [
    {
     "name": "stdout",
     "output_type": "stream",
     "text": [
      "\n",
      "\n"
     ]
    },
    {
     "ename": "CalledProcessError",
     "evalue": "Command 'java -jar Xmx30g '/gpfs/data01/glasslab/home/iholtman/Molgenis/picard/picard.jar' GenotypeConcordance  CALL_VCF=/gpfs/data01/glasslab/data/scratch/iholtman/human_microglia_genotyping/compare_imputation_WGS/whole_genome/merged_RNA_imputed_and_WGS_data_new_header.vcf.gz  CALL_SAMPLE= WGS_P5 O=/gpfs/data01/glasslab/data/scratch/iholtman/human_microglia_genotyping/compare_imputation_WGS/concordance_call_TESTWGS_P5_truth_WGS_P15.vcf  TRUTH_VCF=/gpfs/data01/glasslab/data/scratch/iholtman/human_microglia_genotyping/compare_imputation_WGS/whole_genome/merged_RNA_imputed_and_WGS_data_new_header.vcf.gz  TRUTH_SAMPLE= WGS_P15USE_THREADING=TRUE/ ' returned non-zero exit status 1",
     "output_type": "error",
     "traceback": [
      "\u001b[0;31m---------------------------------------------------------------------------\u001b[0m",
      "\u001b[0;31mCalledProcessError\u001b[0m                        Traceback (most recent call last)",
      "\u001b[0;32m<ipython-input-5-7201f6aa7e78>\u001b[0m in \u001b[0;36m<module>\u001b[0;34m()\u001b[0m\n\u001b[1;32m     12\u001b[0m \u001b[0;34m\u001b[0m\u001b[0m\n\u001b[1;32m     13\u001b[0m     \u001b[0;31m#print(terminal_code)\u001b[0m\u001b[0;34m\u001b[0m\u001b[0;34m\u001b[0m\u001b[0m\n\u001b[0;32m---> 14\u001b[0;31m     \u001b[0mprint\u001b[0m\u001b[0;34m(\u001b[0m\u001b[0msubprocess\u001b[0m\u001b[0;34m.\u001b[0m\u001b[0mcheck_output\u001b[0m\u001b[0;34m(\u001b[0m\u001b[0mterminal_code\u001b[0m\u001b[0;34m,\u001b[0m \u001b[0mshell\u001b[0m\u001b[0;34m=\u001b[0m\u001b[0;32mTrue\u001b[0m\u001b[0;34m,\u001b[0m \u001b[0mstderr\u001b[0m\u001b[0;34m=\u001b[0m\u001b[0msubprocess\u001b[0m\u001b[0;34m.\u001b[0m\u001b[0mSTDOUT\u001b[0m\u001b[0;34m)\u001b[0m\u001b[0;34m.\u001b[0m\u001b[0mdecode\u001b[0m\u001b[0;34m(\u001b[0m\u001b[0;34m)\u001b[0m\u001b[0;34m)\u001b[0m \u001b[0;31m##\u001b[0m\u001b[0;34m\u001b[0m\u001b[0m\n\u001b[0m\u001b[1;32m     15\u001b[0m \u001b[0;34m\u001b[0m\u001b[0m\n\u001b[1;32m     16\u001b[0m \u001b[0;34m\u001b[0m\u001b[0m\n",
      "\u001b[0;32m/gpfs/data01/glasslab/home/iholtman/anaconda3/lib/python3.5/subprocess.py\u001b[0m in \u001b[0;36mcheck_output\u001b[0;34m(timeout, *popenargs, **kwargs)\u001b[0m\n\u001b[1;32m    624\u001b[0m \u001b[0;34m\u001b[0m\u001b[0m\n\u001b[1;32m    625\u001b[0m     return run(*popenargs, stdout=PIPE, timeout=timeout, check=True,\n\u001b[0;32m--> 626\u001b[0;31m                **kwargs).stdout\n\u001b[0m\u001b[1;32m    627\u001b[0m \u001b[0;34m\u001b[0m\u001b[0m\n\u001b[1;32m    628\u001b[0m \u001b[0;34m\u001b[0m\u001b[0m\n",
      "\u001b[0;32m/gpfs/data01/glasslab/home/iholtman/anaconda3/lib/python3.5/subprocess.py\u001b[0m in \u001b[0;36mrun\u001b[0;34m(input, timeout, check, *popenargs, **kwargs)\u001b[0m\n\u001b[1;32m    706\u001b[0m         \u001b[0;32mif\u001b[0m \u001b[0mcheck\u001b[0m \u001b[0;32mand\u001b[0m \u001b[0mretcode\u001b[0m\u001b[0;34m:\u001b[0m\u001b[0;34m\u001b[0m\u001b[0m\n\u001b[1;32m    707\u001b[0m             raise CalledProcessError(retcode, process.args,\n\u001b[0;32m--> 708\u001b[0;31m                                      output=stdout, stderr=stderr)\n\u001b[0m\u001b[1;32m    709\u001b[0m     \u001b[0;32mreturn\u001b[0m \u001b[0mCompletedProcess\u001b[0m\u001b[0;34m(\u001b[0m\u001b[0mprocess\u001b[0m\u001b[0;34m.\u001b[0m\u001b[0margs\u001b[0m\u001b[0;34m,\u001b[0m \u001b[0mretcode\u001b[0m\u001b[0;34m,\u001b[0m \u001b[0mstdout\u001b[0m\u001b[0;34m,\u001b[0m \u001b[0mstderr\u001b[0m\u001b[0;34m)\u001b[0m\u001b[0;34m\u001b[0m\u001b[0m\n\u001b[1;32m    710\u001b[0m \u001b[0;34m\u001b[0m\u001b[0m\n",
      "\u001b[0;31mCalledProcessError\u001b[0m: Command 'java -jar Xmx30g '/gpfs/data01/glasslab/home/iholtman/Molgenis/picard/picard.jar' GenotypeConcordance  CALL_VCF=/gpfs/data01/glasslab/data/scratch/iholtman/human_microglia_genotyping/compare_imputation_WGS/whole_genome/merged_RNA_imputed_and_WGS_data_new_header.vcf.gz  CALL_SAMPLE= WGS_P5 O=/gpfs/data01/glasslab/data/scratch/iholtman/human_microglia_genotyping/compare_imputation_WGS/concordance_call_TESTWGS_P5_truth_WGS_P15.vcf  TRUTH_VCF=/gpfs/data01/glasslab/data/scratch/iholtman/human_microglia_genotyping/compare_imputation_WGS/whole_genome/merged_RNA_imputed_and_WGS_data_new_header.vcf.gz  TRUTH_SAMPLE= WGS_P15USE_THREADING=TRUE/ ' returned non-zero exit status 1"
     ]
    }
   ],
   "source": [
    "############Concordance table met Picard \n",
    "import subprocess\n",
    "\n",
    "samples = [ \"imp_P10\", \"imp_P11\" ,\"imp_P12\", \"imp_P14\", \"imp_P15\", \"imp_P16\", \"imp_P17\", \"imp_P18\", \"imp_P19\", \"imp_P2\" ,\"imp_P21\" ,  \"imp_P23\", \"imp_P24\", \"imp_P26\", \"imp_P27\", \"imp_P29\",\"imp_P3\" ,\"imp_P31\" ,\"imp_P4\",\"imp_P5\" , \"imp_P6\", \"imp_P7\", \"imp_P8\", \"WGS_P15\", \"WGS_P17\", \"WGS_P4\", \"WGS_P5\", \"WGS_P7\", \"WGS_P8\"]\n",
    "\n",
    "file_x = \"WGS_P5\"\n",
    "\n",
    "for file_y in samples:\n",
    "    print(\"\\n\")\n",
    "\n",
    "    terminal_code = (\"java -jar Xmx30g '/gpfs/data01/glasslab/home/iholtman/Molgenis/picard/picard.jar' GenotypeConcordance \" + \\\n",
    "    \" CALL_VCF=/gpfs/data01/glasslab/data/scratch/iholtman/human_microglia_genotyping/compare_imputation_WGS/whole_genome/merged_RNA_imputed_and_WGS_data_new_header.vcf.gz \" + \\\n",
    "    \" CALL_SAMPLE= \" + file_x + \\\n",
    "    \" O=/gpfs/data01/glasslab/data/scratch/iholtman/human_microglia_genotyping/compare_imputation_WGS/concordance_call_TEST\" + file_x + \"_truth_\" + file_y + \".vcf \" + \\\n",
    "    \" TRUTH_VCF=/gpfs/data01/glasslab/data/scratch/iholtman/human_microglia_genotyping/compare_imputation_WGS/whole_genome/merged_RNA_imputed_and_WGS_data_new_header.vcf.gz \" + \\\n",
    "    \" TRUTH_SAMPLE= \" + file_y + \\\n",
    "    \"USE_THREADING=TRUE/ \")\n",
    "    \n",
    "    #print(terminal_code)\n",
    "    print(subprocess.check_output(terminal_code, shell=True, stderr=subprocess.STDOUT).decode()) ##\n",
    "\n",
    "\n"
   ]
  },
  {
   "cell_type": "code",
   "execution_count": 4,
   "metadata": {
    "collapsed": false
   },
   "outputs": [
    {
     "data": {
      "text/plain": [
       "29"
      ]
     },
     "execution_count": 4,
     "metadata": {},
     "output_type": "execute_result"
    }
   ],
   "source": [
    "samples = [\"WGS_P15\", \"WGS_P17\", \"WGS_P4\", \"WGS_P5\", \"WGS_P7\", \"WGS_P8\", \"imp_P10\", \"imp_P11\" ,\"imp_P12\", \"imp_P14\", \"imp_P15\", \"imp_P16\", \"imp_P17\", \"imp_P18\", \"imp_P19\", \"imp_P2\" ,\"imp_P21\" ,  \"imp_P23\", \"imp_P24\", \"imp_P26\", \"imp_P27\", \"imp_P29\",\"imp_P3\" ,\"imp_P31\" ,\"imp_P4\",\"imp_P5\" , \"imp_P6\", \"imp_P7\", \"imp_P8\"]\n",
    "len(samples)"
   ]
  },
  {
   "cell_type": "code",
   "execution_count": 6,
   "metadata": {
    "collapsed": false
   },
   "outputs": [
    {
     "name": "stdout",
     "output_type": "stream",
     "text": [
      "\n",
      "\n"
     ]
    },
    {
     "ename": "KeyboardInterrupt",
     "evalue": "",
     "output_type": "error",
     "traceback": [
      "\u001b[0;31m---------------------------------------------------------------------------\u001b[0m",
      "\u001b[0;31mKeyboardInterrupt\u001b[0m                         Traceback (most recent call last)",
      "\u001b[0;32m<ipython-input-6-a1f72f267f24>\u001b[0m in \u001b[0;36m<module>\u001b[0;34m()\u001b[0m\n\u001b[1;32m     11\u001b[0m \u001b[0;34m\u001b[0m\u001b[0m\n\u001b[1;32m     12\u001b[0m         \u001b[0;31m#print(terminal_code)\u001b[0m\u001b[0;34m\u001b[0m\u001b[0;34m\u001b[0m\u001b[0m\n\u001b[0;32m---> 13\u001b[0;31m         \u001b[0mprint\u001b[0m\u001b[0;34m(\u001b[0m\u001b[0msubprocess\u001b[0m\u001b[0;34m.\u001b[0m\u001b[0mcheck_output\u001b[0m\u001b[0;34m(\u001b[0m\u001b[0mterminal_code\u001b[0m\u001b[0;34m,\u001b[0m \u001b[0mshell\u001b[0m\u001b[0;34m=\u001b[0m\u001b[0;32mTrue\u001b[0m\u001b[0;34m,\u001b[0m \u001b[0mstderr\u001b[0m\u001b[0;34m=\u001b[0m\u001b[0msubprocess\u001b[0m\u001b[0;34m.\u001b[0m\u001b[0mSTDOUT\u001b[0m\u001b[0;34m)\u001b[0m\u001b[0;34m.\u001b[0m\u001b[0mdecode\u001b[0m\u001b[0;34m(\u001b[0m\u001b[0;34m)\u001b[0m\u001b[0;34m)\u001b[0m \u001b[0;31m##\u001b[0m\u001b[0;34m\u001b[0m\u001b[0m\n\u001b[0m\u001b[1;32m     14\u001b[0m \u001b[0;34m\u001b[0m\u001b[0m\n",
      "\u001b[0;32m/gpfs/data01/glasslab/home/iholtman/anaconda3/lib/python3.5/subprocess.py\u001b[0m in \u001b[0;36mcheck_output\u001b[0;34m(timeout, *popenargs, **kwargs)\u001b[0m\n\u001b[1;32m    624\u001b[0m \u001b[0;34m\u001b[0m\u001b[0m\n\u001b[1;32m    625\u001b[0m     return run(*popenargs, stdout=PIPE, timeout=timeout, check=True,\n\u001b[0;32m--> 626\u001b[0;31m                **kwargs).stdout\n\u001b[0m\u001b[1;32m    627\u001b[0m \u001b[0;34m\u001b[0m\u001b[0m\n\u001b[1;32m    628\u001b[0m \u001b[0;34m\u001b[0m\u001b[0m\n",
      "\u001b[0;32m/gpfs/data01/glasslab/home/iholtman/anaconda3/lib/python3.5/subprocess.py\u001b[0m in \u001b[0;36mrun\u001b[0;34m(input, timeout, check, *popenargs, **kwargs)\u001b[0m\n\u001b[1;32m    693\u001b[0m     \u001b[0;32mwith\u001b[0m \u001b[0mPopen\u001b[0m\u001b[0;34m(\u001b[0m\u001b[0;34m*\u001b[0m\u001b[0mpopenargs\u001b[0m\u001b[0;34m,\u001b[0m \u001b[0;34m**\u001b[0m\u001b[0mkwargs\u001b[0m\u001b[0;34m)\u001b[0m \u001b[0;32mas\u001b[0m \u001b[0mprocess\u001b[0m\u001b[0;34m:\u001b[0m\u001b[0;34m\u001b[0m\u001b[0m\n\u001b[1;32m    694\u001b[0m         \u001b[0;32mtry\u001b[0m\u001b[0;34m:\u001b[0m\u001b[0;34m\u001b[0m\u001b[0m\n\u001b[0;32m--> 695\u001b[0;31m             \u001b[0mstdout\u001b[0m\u001b[0;34m,\u001b[0m \u001b[0mstderr\u001b[0m \u001b[0;34m=\u001b[0m \u001b[0mprocess\u001b[0m\u001b[0;34m.\u001b[0m\u001b[0mcommunicate\u001b[0m\u001b[0;34m(\u001b[0m\u001b[0minput\u001b[0m\u001b[0;34m,\u001b[0m \u001b[0mtimeout\u001b[0m\u001b[0;34m=\u001b[0m\u001b[0mtimeout\u001b[0m\u001b[0;34m)\u001b[0m\u001b[0;34m\u001b[0m\u001b[0m\n\u001b[0m\u001b[1;32m    696\u001b[0m         \u001b[0;32mexcept\u001b[0m \u001b[0mTimeoutExpired\u001b[0m\u001b[0;34m:\u001b[0m\u001b[0;34m\u001b[0m\u001b[0m\n\u001b[1;32m    697\u001b[0m             \u001b[0mprocess\u001b[0m\u001b[0;34m.\u001b[0m\u001b[0mkill\u001b[0m\u001b[0;34m(\u001b[0m\u001b[0;34m)\u001b[0m\u001b[0;34m\u001b[0m\u001b[0m\n",
      "\u001b[0;32m/gpfs/data01/glasslab/home/iholtman/anaconda3/lib/python3.5/subprocess.py\u001b[0m in \u001b[0;36mcommunicate\u001b[0;34m(self, input, timeout)\u001b[0m\n\u001b[1;32m   1057\u001b[0m                 \u001b[0mself\u001b[0m\u001b[0;34m.\u001b[0m\u001b[0m_stdin_write\u001b[0m\u001b[0;34m(\u001b[0m\u001b[0minput\u001b[0m\u001b[0;34m)\u001b[0m\u001b[0;34m\u001b[0m\u001b[0m\n\u001b[1;32m   1058\u001b[0m             \u001b[0;32melif\u001b[0m \u001b[0mself\u001b[0m\u001b[0;34m.\u001b[0m\u001b[0mstdout\u001b[0m\u001b[0;34m:\u001b[0m\u001b[0;34m\u001b[0m\u001b[0m\n\u001b[0;32m-> 1059\u001b[0;31m                 \u001b[0mstdout\u001b[0m \u001b[0;34m=\u001b[0m \u001b[0mself\u001b[0m\u001b[0;34m.\u001b[0m\u001b[0mstdout\u001b[0m\u001b[0;34m.\u001b[0m\u001b[0mread\u001b[0m\u001b[0;34m(\u001b[0m\u001b[0;34m)\u001b[0m\u001b[0;34m\u001b[0m\u001b[0m\n\u001b[0m\u001b[1;32m   1060\u001b[0m                 \u001b[0mself\u001b[0m\u001b[0;34m.\u001b[0m\u001b[0mstdout\u001b[0m\u001b[0;34m.\u001b[0m\u001b[0mclose\u001b[0m\u001b[0;34m(\u001b[0m\u001b[0;34m)\u001b[0m\u001b[0;34m\u001b[0m\u001b[0m\n\u001b[1;32m   1061\u001b[0m             \u001b[0;32melif\u001b[0m \u001b[0mself\u001b[0m\u001b[0;34m.\u001b[0m\u001b[0mstderr\u001b[0m\u001b[0;34m:\u001b[0m\u001b[0;34m\u001b[0m\u001b[0m\n",
      "\u001b[0;31mKeyboardInterrupt\u001b[0m: "
     ]
    }
   ],
   "source": [
    "############Concordance table met Picard \n",
    "import subprocess\n",
    "\n",
    "samples = [\"WGS_P15\", \"WGS_P17\", \"WGS_P4\", \"WGS_P5\", \"WGS_P7\", \"WGS_P8\", \"imp_P10\", \"imp_P11\" ,\"imp_P12\", \"imp_P14\", \"imp_P15\", \"imp_P16\", \"imp_P17\", \"imp_P18\", \"imp_P19\", \"imp_P2\" ,\"imp_P21\" ,  \"imp_P23\", \"imp_P24\", \"imp_P26\", \"imp_P27\", \"imp_P29\",\"imp_P3\" ,\"imp_P31\" ,\"imp_P4\",\"imp_P5\" , \"imp_P6\", \"imp_P7\", \"imp_P8\"]\n",
    "\n",
    "for file_x in samples:\n",
    "    for file_y in samples:\n",
    "        print(\"\\n\")\n",
    "\n",
    "        terminal_code = (\"java -jar '/gpfs/data01/glasslab/home/iholtman/Molgenis/picard/picard.jar' GenotypeConcordance \" + \\\n",
    "        \" CALL_VCF=/gpfs/data01/glasslab/data/scratch/iholtman/human_microglia_genotyping/compare_imputation_WGS/whole_genome/merged_RNA_imputed_and_WGS_data_new_header.vcf.gz \" + \\\n",
    "        \" CALL_SAMPLE= \" + file_x + \\\n",
    "        \" O=/gpfs/data01/glasslab/data/scratch/iholtman/human_microglia_genotyping/TEST_concordance_call_\" + file_x + \"_truth_\" + file_y + \".vcf \" + \\\n",
    "        \" TRUTH_VCF=/gpfs/data01/glasslab/data/scratch/iholtman/human_microglia_genotyping/compare_imputation_WGS/whole_genome/merged_RNA_imputed_and_WGS_data_new_header.vcf.gz \" + \\\n",
    "        \" TRUTH_SAMPLE= \" + file_y )\n",
    "    \n",
    "        #print(terminal_code)\n",
    "        print(subprocess.check_output(terminal_code, shell=True, stderr=subprocess.STDOUT).decode()) ##\n",
    "\n"
   ]
  },
  {
   "cell_type": "code",
   "execution_count": null,
   "metadata": {
    "collapsed": true
   },
   "outputs": [],
   "source": []
  }
 ],
 "metadata": {
  "anaconda-cloud": {},
  "kernelspec": {
   "display_name": "Python [default]",
   "language": "python",
   "name": "python3"
  },
  "language_info": {
   "codemirror_mode": {
    "name": "ipython",
    "version": 3
   },
   "file_extension": ".py",
   "mimetype": "text/x-python",
   "name": "python",
   "nbconvert_exporter": "python",
   "pygments_lexer": "ipython3",
   "version": "3.5.2"
  }
 },
 "nbformat": 4,
 "nbformat_minor": 1
}
