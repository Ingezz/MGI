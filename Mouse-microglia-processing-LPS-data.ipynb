{
 "cells": [
  {
   "cell_type": "code",
   "execution_count": 24,
   "metadata": {
    "collapsed": true
   },
   "outputs": [],
   "source": [
    "import os \n",
    "import subprocess\n",
    "import pandas "
   ]
  },
  {
   "cell_type": "code",
   "execution_count": 70,
   "metadata": {
    "collapsed": false
   },
   "outputs": [
    {
     "name": "stdout",
     "output_type": "stream",
     "text": [
      "\tTag Directories:\n",
      "\t\t/data/mm10/Microglia/RNA/C57_Microglia_Large_RNA_PolyA_PND42_151228_DGO_160119\n",
      "\t\t/data/mm10/Microglia/RNA/C57_Microglia_RNA_PolyA_PND65_Vehicle_7d_151118_DGO_15_12_14\n",
      "\t\t/data/mm10/Microglia/RNA/C57_Microglia_RNA_PolyA_WT_PND65_DGO_15_04_06\n",
      "\t\t/data/mm10/Microglia/RNA/NCoRWT_Microglia_RNA_polyA_Tamoxifen_1mg2xPerWx3W_JS19_X73a_JSS_DG_16_09_01\n",
      "\t\t/data/mm10/Microglia/RNA/NCoRWT_microglia_wholepop_RNA_polyA_Tamox1mg_2xperwk3wk_X72aM_JSS_16_07_11\n",
      "\t\t/data/mm10/Microglia/RNA/WT_Microglia_RNA_polyA_LPS_3hrs_AN_16_10_07_rep1\n",
      "\t\t/data/mm10/Microglia/RNA/WT_Microglia_RNA_polyA_LPS_3hrs_AN_16_09_27\n",
      "\t\t/data/mm10/Microglia/RNA/C57_Microglia_RNA_PolyA_PND65_LPS_1mgkg_7d_DGO_150918_15_10_09\n",
      "\t\t/data/mm10/Microglia/RNA/C57_Microglia_RNA_PolyA_PND65_LPS_1mgkg_7d_rep1_151118_DGO_15_12_14\n",
      "\t\t/data/mm10/Microglia/RNA/C57_Microglia_Small_Sorted_RNA_PolyA_PND42_Culture_Il34_7d_DGO_160119\n",
      "\t\t/data/mm10/Microglia/RNA/C57_Microglia_Sorted_Culture_Csf1_Ligand_RNA_PolyA_WT_7D_DGO_15_04_06\n",
      "\t\t/data/mm10/Microglia/RNA/C57_Microglia_Sorted_Culture_Il34_Ligand_RNA_PolyA_WT_7D_DGO_15_04_06\n",
      "\t\t/data/mm10/Microglia/RNA/C57_Microglia_Sorted_RNA_PolyA_Culture_Il34_7d_Ctrl_No_Media_Change_DGO_16_03_08\n",
      "\t\t/data/mm10/Microglia/RNA/C57_Microglia_Sorted_RNA_PolyA_Culture_Il34_7d_rep1_DGO_16_03_08\n",
      "\tInput file format: homerRmsk\n",
      "\tFiltering based on repeat parameters: kept 35756 of 35756\n",
      "\tCalculating read coverage for /data/mm10/Microglia/RNA/C57_Microglia_Large_RNA_PolyA_PND42_151228_DGO_160119\n",
      "\tCalculating read coverage for /data/mm10/Microglia/RNA/C57_Microglia_RNA_PolyA_PND65_Vehicle_7d_151118_DGO_15_12_14\n",
      "\tCalculating read coverage for /data/mm10/Microglia/RNA/C57_Microglia_RNA_PolyA_WT_PND65_DGO_15_04_06\n",
      "\tCalculating read coverage for /data/mm10/Microglia/RNA/NCoRWT_Microglia_RNA_polyA_Tamoxifen_1mg2xPerWx3W_JS19_X73a_JSS_DG_16_09_01\n",
      "\tCalculating read coverage for /data/mm10/Microglia/RNA/NCoRWT_microglia_wholepop_RNA_polyA_Tamox1mg_2xperwk3wk_X72aM_JSS_16_07_11\n",
      "\tCalculating read coverage for /data/mm10/Microglia/RNA/WT_Microglia_RNA_polyA_LPS_3hrs_AN_16_10_07_rep1\n",
      "\tCalculating read coverage for /data/mm10/Microglia/RNA/WT_Microglia_RNA_polyA_LPS_3hrs_AN_16_09_27\n",
      "\tCalculating read coverage for /data/mm10/Microglia/RNA/C57_Microglia_RNA_PolyA_PND65_LPS_1mgkg_7d_DGO_150918_15_10_09\n",
      "\tCalculating read coverage for /data/mm10/Microglia/RNA/C57_Microglia_RNA_PolyA_PND65_LPS_1mgkg_7d_rep1_151118_DGO_15_12_14\n",
      "\tCalculating read coverage for /data/mm10/Microglia/RNA/C57_Microglia_Small_Sorted_RNA_PolyA_PND42_Culture_Il34_7d_DGO_160119\n",
      "\tCalculating read coverage for /data/mm10/Microglia/RNA/C57_Microglia_Sorted_Culture_Csf1_Ligand_RNA_PolyA_WT_7D_DGO_15_04_06\n",
      "\tCalculating read coverage for /data/mm10/Microglia/RNA/C57_Microglia_Sorted_Culture_Il34_Ligand_RNA_PolyA_WT_7D_DGO_15_04_06\n",
      "\tCalculating read coverage for /data/mm10/Microglia/RNA/C57_Microglia_Sorted_RNA_PolyA_Culture_Il34_7d_Ctrl_No_Media_Change_DGO_16_03_08\n",
      "\tCalculating read coverage for /data/mm10/Microglia/RNA/C57_Microglia_Sorted_RNA_PolyA_Culture_Il34_7d_rep1_DGO_16_03_08\n",
      "\t\tNormalizing...\n",
      "\t\tNormalizing...\n",
      "\t\tNormalizing...\n",
      "\t\tNormalizing...\n",
      "\t\tNormalizing...\n",
      "\t\tNormalizing...\n",
      "\t\tNormalizing...\n",
      "\t\tNormalizing...\n",
      "\t\tNormalizing...\n",
      "\t\tNormalizing...\n",
      "\t\tNormalizing...\n",
      "\t\tNormalizing...\n",
      "\t\tNormalizing...\n",
      "\t\tNormalizing...\n",
      "\tPrinting output\n",
      "\t\tPrinted 24445 of 34711 repeats (expression >= -1e+20)\n",
      "\n"
     ]
    }
   ],
   "source": [
    "all_reps = [\"/data/mm10/Microglia/RNA/C57_Microglia_Large_RNA_PolyA_PND42_151228_DGO_160119\", \\\n",
    "        \"/data/mm10/Microglia/RNA/C57_Microglia_RNA_PolyA_PND65_Vehicle_7d_151118_DGO_15_12_14\", \\\n",
    "        \"/data/mm10/Microglia/RNA/C57_Microglia_RNA_PolyA_WT_PND65_DGO_15_04_06\", \\\n",
    "        \"/data/mm10/Microglia/RNA/NCoRWT_Microglia_RNA_polyA_Tamoxifen_1mg2xPerWx3W_JS19_X73a_JSS_DG_16_09_01\", \\\n",
    "        \"/data/mm10/Microglia/RNA/NCoRWT_microglia_wholepop_RNA_polyA_Tamox1mg_2xperwk3wk_X72aM_JSS_16_07_11\", \\\n",
    "        \"/data/mm10/Microglia/RNA/WT_Microglia_RNA_polyA_LPS_3hrs_AN_16_10_07_rep1\", \\\n",
    "        \"/data/mm10/Microglia/RNA/WT_Microglia_RNA_polyA_LPS_3hrs_AN_16_09_27\", \\\n",
    "        \"/data/mm10/Microglia/RNA/C57_Microglia_RNA_PolyA_PND65_LPS_1mgkg_7d_DGO_150918_15_10_09\", \\\n",
    "        \"/data/mm10/Microglia/RNA/C57_Microglia_RNA_PolyA_PND65_LPS_1mgkg_7d_rep1_151118_DGO_15_12_14\",\\\n",
    "        \"/data/mm10/Microglia/RNA/C57_Microglia_Small_Sorted_RNA_PolyA_PND42_Culture_Il34_7d_DGO_160119\", \\\n",
    "        \"/data/mm10/Microglia/RNA/C57_Microglia_Sorted_Culture_Csf1_Ligand_RNA_PolyA_WT_7D_DGO_15_04_06\", \\\n",
    "        \"/data/mm10/Microglia/RNA/C57_Microglia_Sorted_Culture_Il34_Ligand_RNA_PolyA_WT_7D_DGO_15_04_06\", \\\n",
    "        \"/data/mm10/Microglia/RNA/C57_Microglia_Sorted_RNA_PolyA_Culture_Il34_7d_Ctrl_No_Media_Change_DGO_16_03_08\", \\\n",
    "        \"/data/mm10/Microglia/RNA/C57_Microglia_Sorted_RNA_PolyA_Culture_Il34_7d_rep1_DGO_16_03_08\" ]\n",
    "\n",
    "OUTPUT_PATH = \"/gpfs/data01/glasslab/home/iholtman/Human-Microglia-Project/Data/\"\n",
    "\n",
    "    \n",
    "output_file = os.path.join(OUTPUT_PATH, '20-12-2016-mouse_microglia_rna_rpkm.tsv')\n",
    "homer_cmd_line = 'analyzeRepeats.pl rna mm10 -rpkm -normMatrix 1e7 -pc 3 -count exons -strand both -condenseGenes -d {} > {}'.format(' '.join(all_reps), output_file)\n",
    "#print(homer_cmd_line)\n",
    "print(subprocess.check_output(homer_cmd_line, shell=True, stderr=subprocess.STDOUT).decode())"
   ]
  },
  {
   "cell_type": "code",
   "execution_count": 71,
   "metadata": {
    "collapsed": false
   },
   "outputs": [
    {
     "name": "stdout",
     "output_type": "stream",
     "text": [
      "analyzeRepeats.pl rna mm10 -raw -normMatrix 1e7 -pc 3 -count exons -strand both -condenseGenes -d /data/mm10/Microglia/RNA/C57_Microglia_Large_RNA_PolyA_PND42_151228_DGO_160119 /data/mm10/Microglia/RNA/C57_Microglia_RNA_PolyA_PND65_Vehicle_7d_151118_DGO_15_12_14 /data/mm10/Microglia/RNA/C57_Microglia_RNA_PolyA_WT_PND65_DGO_15_04_06 /data/mm10/Microglia/RNA/NCoRWT_Microglia_RNA_polyA_Tamoxifen_1mg2xPerWx3W_JS19_X73a_JSS_DG_16_09_01 /data/mm10/Microglia/RNA/NCoRWT_microglia_wholepop_RNA_polyA_Tamox1mg_2xperwk3wk_X72aM_JSS_16_07_11 /data/mm10/Microglia/RNA/WT_Microglia_RNA_polyA_LPS_3hrs_AN_16_10_07_rep1 /data/mm10/Microglia/RNA/WT_Microglia_RNA_polyA_LPS_3hrs_AN_16_09_27 /data/mm10/Microglia/RNA/C57_Microglia_RNA_PolyA_PND65_LPS_1mgkg_7d_DGO_150918_15_10_09 /data/mm10/Microglia/RNA/C57_Microglia_RNA_PolyA_PND65_LPS_1mgkg_7d_rep1_151118_DGO_15_12_14 /data/mm10/Microglia/RNA/C57_Microglia_Small_Sorted_RNA_PolyA_PND42_Culture_Il34_7d_DGO_160119 /data/mm10/Microglia/RNA/C57_Microglia_Sorted_Culture_Csf1_Ligand_RNA_PolyA_WT_7D_DGO_15_04_06 /data/mm10/Microglia/RNA/C57_Microglia_Sorted_Culture_Il34_Ligand_RNA_PolyA_WT_7D_DGO_15_04_06 /data/mm10/Microglia/RNA/C57_Microglia_Sorted_RNA_PolyA_Culture_Il34_7d_Ctrl_No_Media_Change_DGO_16_03_08 /data/mm10/Microglia/RNA/C57_Microglia_Sorted_RNA_PolyA_Culture_Il34_7d_rep1_DGO_16_03_08 > /gpfs/data01/glasslab/home/iholtman/Human-Microglia-Project/Data/20-12-2016-mouse_microglia_rna_raw.tsv\n",
      "\tTag Directories:\n",
      "\t\t/data/mm10/Microglia/RNA/C57_Microglia_Large_RNA_PolyA_PND42_151228_DGO_160119\n",
      "\t\t/data/mm10/Microglia/RNA/C57_Microglia_RNA_PolyA_PND65_Vehicle_7d_151118_DGO_15_12_14\n",
      "\t\t/data/mm10/Microglia/RNA/C57_Microglia_RNA_PolyA_WT_PND65_DGO_15_04_06\n",
      "\t\t/data/mm10/Microglia/RNA/NCoRWT_Microglia_RNA_polyA_Tamoxifen_1mg2xPerWx3W_JS19_X73a_JSS_DG_16_09_01\n",
      "\t\t/data/mm10/Microglia/RNA/NCoRWT_microglia_wholepop_RNA_polyA_Tamox1mg_2xperwk3wk_X72aM_JSS_16_07_11\n",
      "\t\t/data/mm10/Microglia/RNA/WT_Microglia_RNA_polyA_LPS_3hrs_AN_16_10_07_rep1\n",
      "\t\t/data/mm10/Microglia/RNA/WT_Microglia_RNA_polyA_LPS_3hrs_AN_16_09_27\n",
      "\t\t/data/mm10/Microglia/RNA/C57_Microglia_RNA_PolyA_PND65_LPS_1mgkg_7d_DGO_150918_15_10_09\n",
      "\t\t/data/mm10/Microglia/RNA/C57_Microglia_RNA_PolyA_PND65_LPS_1mgkg_7d_rep1_151118_DGO_15_12_14\n",
      "\t\t/data/mm10/Microglia/RNA/C57_Microglia_Small_Sorted_RNA_PolyA_PND42_Culture_Il34_7d_DGO_160119\n",
      "\t\t/data/mm10/Microglia/RNA/C57_Microglia_Sorted_Culture_Csf1_Ligand_RNA_PolyA_WT_7D_DGO_15_04_06\n",
      "\t\t/data/mm10/Microglia/RNA/C57_Microglia_Sorted_Culture_Il34_Ligand_RNA_PolyA_WT_7D_DGO_15_04_06\n",
      "\t\t/data/mm10/Microglia/RNA/C57_Microglia_Sorted_RNA_PolyA_Culture_Il34_7d_Ctrl_No_Media_Change_DGO_16_03_08\n",
      "\t\t/data/mm10/Microglia/RNA/C57_Microglia_Sorted_RNA_PolyA_Culture_Il34_7d_rep1_DGO_16_03_08\n",
      "\tInput file format: homerRmsk\n",
      "\tFiltering based on repeat parameters: kept 35756 of 35756\n",
      "\tCalculating read coverage for /data/mm10/Microglia/RNA/C57_Microglia_Large_RNA_PolyA_PND42_151228_DGO_160119\n",
      "\tCalculating read coverage for /data/mm10/Microglia/RNA/C57_Microglia_RNA_PolyA_PND65_Vehicle_7d_151118_DGO_15_12_14\n",
      "\tCalculating read coverage for /data/mm10/Microglia/RNA/C57_Microglia_RNA_PolyA_WT_PND65_DGO_15_04_06\n",
      "\tCalculating read coverage for /data/mm10/Microglia/RNA/NCoRWT_Microglia_RNA_polyA_Tamoxifen_1mg2xPerWx3W_JS19_X73a_JSS_DG_16_09_01\n",
      "\tCalculating read coverage for /data/mm10/Microglia/RNA/NCoRWT_microglia_wholepop_RNA_polyA_Tamox1mg_2xperwk3wk_X72aM_JSS_16_07_11\n",
      "\tCalculating read coverage for /data/mm10/Microglia/RNA/WT_Microglia_RNA_polyA_LPS_3hrs_AN_16_10_07_rep1\n",
      "\tCalculating read coverage for /data/mm10/Microglia/RNA/WT_Microglia_RNA_polyA_LPS_3hrs_AN_16_09_27\n",
      "\tCalculating read coverage for /data/mm10/Microglia/RNA/C57_Microglia_RNA_PolyA_PND65_LPS_1mgkg_7d_DGO_150918_15_10_09\n",
      "\tCalculating read coverage for /data/mm10/Microglia/RNA/C57_Microglia_RNA_PolyA_PND65_LPS_1mgkg_7d_rep1_151118_DGO_15_12_14\n",
      "\tCalculating read coverage for /data/mm10/Microglia/RNA/C57_Microglia_Small_Sorted_RNA_PolyA_PND42_Culture_Il34_7d_DGO_160119\n",
      "\tCalculating read coverage for /data/mm10/Microglia/RNA/C57_Microglia_Sorted_Culture_Csf1_Ligand_RNA_PolyA_WT_7D_DGO_15_04_06\n",
      "\tCalculating read coverage for /data/mm10/Microglia/RNA/C57_Microglia_Sorted_Culture_Il34_Ligand_RNA_PolyA_WT_7D_DGO_15_04_06\n",
      "\tCalculating read coverage for /data/mm10/Microglia/RNA/C57_Microglia_Sorted_RNA_PolyA_Culture_Il34_7d_Ctrl_No_Media_Change_DGO_16_03_08\n",
      "\tCalculating read coverage for /data/mm10/Microglia/RNA/C57_Microglia_Sorted_RNA_PolyA_Culture_Il34_7d_rep1_DGO_16_03_08\n",
      "\tPrinting output\n",
      "\t\tPrinted 24445 of 34711 repeats (expression >= -1e+20)\n",
      "\n"
     ]
    }
   ],
   "source": [
    "OUTPUT_PATH = \"/gpfs/data01/glasslab/home/iholtman/Human-Microglia-Project/Data/\"\n",
    "\n",
    "output_file = os.path.join(OUTPUT_PATH, '20-12-2016-mouse_microglia_rna_raw.tsv')\n",
    "homer_cmd_line = 'analyzeRepeats.pl rna mm10 -raw -normMatrix 1e7 -pc 3 -count exons -strand both -condenseGenes -d {} > {}'.format(' '.join(all_reps), output_file)\n",
    "print(homer_cmd_line)\n",
    "print(subprocess.check_output(homer_cmd_line, shell=True, stderr=subprocess.STDOUT).decode())"
   ]
  },
  {
   "cell_type": "code",
   "execution_count": null,
   "metadata": {
    "collapsed": true
   },
   "outputs": [],
   "source": [
    "mouse_mp_rpkm <- read.csv(\"/gpfs/data01/glasslab/home/iholtman/Human-Microglia-Project/Figure_2/analyze_repeats_rpkm_Lavin_macrophages_condensegenes.txt\", sep=\"\\t\", header= TRUE)\n",
    "eSet <- cbind(mouse_mp_rpkm[,9:dim(mouse_mp_rpkm)[2]])\n",
    "Annotation <- mouse_mp_rpkm[,1:8]\n",
    "Annotation <- cSplit(Annotation, splitCols = \"Annotation.Divergence\", sep = \"|\")\n",
    "rownames(eSet) <- Annotation$Annotation.Divergence_01\n",
    "eSet_TPM= t(t(eSet) / apply(eSet,2,sum ) * 10^6)\n",
    "write.table(eSet_TPM, \"/gpfs/data01/glasslab/home/iholtman/Human-Microglia-Project/Amit_Geismann_data/analyze_repeats_tpm_Lavin_macrophages_condensegenes.txt\", sep=\"\\t\")\n",
    "\n"
   ]
  },
  {
   "cell_type": "code",
   "execution_count": 60,
   "metadata": {
    "collapsed": false
   },
   "outputs": [
    {
     "ename": "SyntaxError",
     "evalue": "invalid syntax (<ipython-input-60-1096be2e9311>, line 4)",
     "output_type": "error",
     "traceback": [
      "\u001b[0;36m  File \u001b[0;32m\"<ipython-input-60-1096be2e9311>\"\u001b[0;36m, line \u001b[0;32m4\u001b[0m\n\u001b[0;31m    RPKM[:, [ 9:42]]\u001b[0m\n\u001b[0m               ^\u001b[0m\n\u001b[0;31mSyntaxError\u001b[0m\u001b[0;31m:\u001b[0m invalid syntax\n"
     ]
    }
   ],
   "source": [
    "RPKM = pandas.read_table(\"/gpfs/data01/glasslab/home/iholtman/Human-Microglia-Project/Data/analyze_repeats_rpkm_Lavin_macrophages_condensegenes.txt\")\n",
    "samples = RPKM.shape[1] - 9\n",
    "#list(range(samples))\n",
    "RPKM[:, [9:42]]\n"
   ]
  },
  {
   "cell_type": "code",
   "execution_count": 61,
   "metadata": {
    "collapsed": false
   },
   "outputs": [
    {
     "ename": "SyntaxError",
     "evalue": "invalid syntax (<ipython-input-61-cc1d1e401289>, line 1)",
     "output_type": "error",
     "traceback": [
      "\u001b[0;36m  File \u001b[0;32m\"<ipython-input-61-cc1d1e401289>\"\u001b[0;36m, line \u001b[0;32m1\u001b[0m\n\u001b[0;31m    1:9\u001b[0m\n\u001b[0m     ^\u001b[0m\n\u001b[0;31mSyntaxError\u001b[0m\u001b[0;31m:\u001b[0m invalid syntax\n"
     ]
    }
   ],
   "source": [
    "1:9"
   ]
  },
  {
   "cell_type": "code",
   "execution_count": null,
   "metadata": {
    "collapsed": true
   },
   "outputs": [],
   "source": []
  }
 ],
 "metadata": {
  "anaconda-cloud": {},
  "kernelspec": {
   "display_name": "Python [conda root]",
   "language": "python",
   "name": "conda-root-py"
  },
  "language_info": {
   "codemirror_mode": {
    "name": "ipython",
    "version": 3
   },
   "file_extension": ".py",
   "mimetype": "text/x-python",
   "name": "python",
   "nbconvert_exporter": "python",
   "pygments_lexer": "ipython3",
   "version": "3.5.2"
  }
 },
 "nbformat": 4,
 "nbformat_minor": 1
}
