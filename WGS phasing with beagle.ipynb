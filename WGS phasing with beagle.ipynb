{
 "cells": [
  {
   "cell_type": "code",
   "execution_count": null,
   "metadata": {
    "collapsed": true
   },
   "outputs": [],
   "source": [
    "############################Data \n",
    "#Merged VCF: \n",
    "    #\"/data/scratch/iholtman/human_microglia_genotyping/WGS/vcf/merged_P15_P17_P4_P5_P7_P8.vcf.gz\"\n",
    "\n",
    "#Separate files:\n",
    "    #P15.recalibrated.haplotypeCalls.vcf.gz  \n",
    "    #P4.recalibrated.haplotypeCalls.vcf.gz  \n",
    "    #P7.recalibrated.haplotypeCalls.vcf.gz\n",
    "    #P17.recalibrated.haplotypeCalls.vcf.gz  \n",
    "    #P5.recalibrated.haplotypeCalls.vcf.gz  \n",
    "    #P8.recalibrated.haplotypeCalls.vcf.gz\n",
    "\n"
   ]
  },
  {
   "cell_type": "code",
   "execution_count": 3,
   "metadata": {
    "collapsed": true
   },
   "outputs": [],
   "source": [
    "import subprocess"
   ]
  },
  {
   "cell_type": "code",
   "execution_count": null,
   "metadata": {
    "collapsed": true
   },
   "outputs": [],
   "source": [
    "##### some error with conform-GT with the normal file \n",
    "##ERROR: Missing one or both alleles for a genotype:\n",
    "bcftools view -e 'GT=\"1\"' merged_P15_P17_P4_P5_P7_P8.vcf.gz > bcf_tools_merged_P15_P17_P4_P5_P7_P8.vcf.gz\n",
    "\n",
    "\n",
    "###= Maybe related to: \n",
    "#The reference and target VCF files are each required to have data for at least 20 individuals so that the \n",
    "#statistical tests performed by the conform-gt program give reasonable results.\n",
    "\n"
   ]
  },
  {
   "cell_type": "code",
   "execution_count": 6,
   "metadata": {
    "collapsed": false
   },
   "outputs": [
    {
     "name": "stdout",
     "output_type": "stream",
     "text": [
      "java -jar /gpfs/data01/glasslab/home/iholtman/software/beagle/tools/conform-gt.24May16.cee.jar  ref=/gpfs/data01/glasslab/home/iholtman/software/beagle/bochet.gcc.biostat.washington.edu/beagle/1000_Genomes_phase3_v5a/individual_chromosomes/chr1.1kg.phase3.v5a.vcf.gz gt=/data/scratch/iholtman/human_microglia_genotyping/WGS/vcf/bcf_tools_merged_P15_P17_P4_P5_P7_P8.vcf.gz chrom=1 out=/data/scratch/iholtman/human_microglia_genotyping/WGS/phasing/conform_GT/chr_1_conformed_v5a_ match=POS\n",
      "\n",
      "\n",
      "java -jar /gpfs/data01/glasslab/home/iholtman/software/beagle/tools/conform-gt.24May16.cee.jar  ref=/gpfs/data01/glasslab/home/iholtman/software/beagle/bochet.gcc.biostat.washington.edu/beagle/1000_Genomes_phase3_v5a/individual_chromosomes/chr2.1kg.phase3.v5a.vcf.gz gt=/data/scratch/iholtman/human_microglia_genotyping/WGS/vcf/bcf_tools_merged_P15_P17_P4_P5_P7_P8.vcf.gz chrom=2 out=/data/scratch/iholtman/human_microglia_genotyping/WGS/phasing/conform_GT/chr_2_conformed_v5a_ match=POS\n",
      "\n",
      "\n",
      "java -jar /gpfs/data01/glasslab/home/iholtman/software/beagle/tools/conform-gt.24May16.cee.jar  ref=/gpfs/data01/glasslab/home/iholtman/software/beagle/bochet.gcc.biostat.washington.edu/beagle/1000_Genomes_phase3_v5a/individual_chromosomes/chr3.1kg.phase3.v5a.vcf.gz gt=/data/scratch/iholtman/human_microglia_genotyping/WGS/vcf/bcf_tools_merged_P15_P17_P4_P5_P7_P8.vcf.gz chrom=3 out=/data/scratch/iholtman/human_microglia_genotyping/WGS/phasing/conform_GT/chr_3_conformed_v5a_ match=POS\n",
      "\n",
      "\n",
      "java -jar /gpfs/data01/glasslab/home/iholtman/software/beagle/tools/conform-gt.24May16.cee.jar  ref=/gpfs/data01/glasslab/home/iholtman/software/beagle/bochet.gcc.biostat.washington.edu/beagle/1000_Genomes_phase3_v5a/individual_chromosomes/chr4.1kg.phase3.v5a.vcf.gz gt=/data/scratch/iholtman/human_microglia_genotyping/WGS/vcf/bcf_tools_merged_P15_P17_P4_P5_P7_P8.vcf.gz chrom=4 out=/data/scratch/iholtman/human_microglia_genotyping/WGS/phasing/conform_GT/chr_4_conformed_v5a_ match=POS\n",
      "\n",
      "\n",
      "java -jar /gpfs/data01/glasslab/home/iholtman/software/beagle/tools/conform-gt.24May16.cee.jar  ref=/gpfs/data01/glasslab/home/iholtman/software/beagle/bochet.gcc.biostat.washington.edu/beagle/1000_Genomes_phase3_v5a/individual_chromosomes/chr5.1kg.phase3.v5a.vcf.gz gt=/data/scratch/iholtman/human_microglia_genotyping/WGS/vcf/bcf_tools_merged_P15_P17_P4_P5_P7_P8.vcf.gz chrom=5 out=/data/scratch/iholtman/human_microglia_genotyping/WGS/phasing/conform_GT/chr_5_conformed_v5a_ match=POS\n",
      "\n",
      "\n",
      "java -jar /gpfs/data01/glasslab/home/iholtman/software/beagle/tools/conform-gt.24May16.cee.jar  ref=/gpfs/data01/glasslab/home/iholtman/software/beagle/bochet.gcc.biostat.washington.edu/beagle/1000_Genomes_phase3_v5a/individual_chromosomes/chr6.1kg.phase3.v5a.vcf.gz gt=/data/scratch/iholtman/human_microglia_genotyping/WGS/vcf/bcf_tools_merged_P15_P17_P4_P5_P7_P8.vcf.gz chrom=6 out=/data/scratch/iholtman/human_microglia_genotyping/WGS/phasing/conform_GT/chr_6_conformed_v5a_ match=POS\n",
      "\n",
      "\n",
      "java -jar /gpfs/data01/glasslab/home/iholtman/software/beagle/tools/conform-gt.24May16.cee.jar  ref=/gpfs/data01/glasslab/home/iholtman/software/beagle/bochet.gcc.biostat.washington.edu/beagle/1000_Genomes_phase3_v5a/individual_chromosomes/chr7.1kg.phase3.v5a.vcf.gz gt=/data/scratch/iholtman/human_microglia_genotyping/WGS/vcf/bcf_tools_merged_P15_P17_P4_P5_P7_P8.vcf.gz chrom=7 out=/data/scratch/iholtman/human_microglia_genotyping/WGS/phasing/conform_GT/chr_7_conformed_v5a_ match=POS\n",
      "\n",
      "\n",
      "java -jar /gpfs/data01/glasslab/home/iholtman/software/beagle/tools/conform-gt.24May16.cee.jar  ref=/gpfs/data01/glasslab/home/iholtman/software/beagle/bochet.gcc.biostat.washington.edu/beagle/1000_Genomes_phase3_v5a/individual_chromosomes/chr8.1kg.phase3.v5a.vcf.gz gt=/data/scratch/iholtman/human_microglia_genotyping/WGS/vcf/bcf_tools_merged_P15_P17_P4_P5_P7_P8.vcf.gz chrom=8 out=/data/scratch/iholtman/human_microglia_genotyping/WGS/phasing/conform_GT/chr_8_conformed_v5a_ match=POS\n",
      "\n",
      "\n",
      "java -jar /gpfs/data01/glasslab/home/iholtman/software/beagle/tools/conform-gt.24May16.cee.jar  ref=/gpfs/data01/glasslab/home/iholtman/software/beagle/bochet.gcc.biostat.washington.edu/beagle/1000_Genomes_phase3_v5a/individual_chromosomes/chr9.1kg.phase3.v5a.vcf.gz gt=/data/scratch/iholtman/human_microglia_genotyping/WGS/vcf/bcf_tools_merged_P15_P17_P4_P5_P7_P8.vcf.gz chrom=9 out=/data/scratch/iholtman/human_microglia_genotyping/WGS/phasing/conform_GT/chr_9_conformed_v5a_ match=POS\n",
      "\n",
      "\n",
      "java -jar /gpfs/data01/glasslab/home/iholtman/software/beagle/tools/conform-gt.24May16.cee.jar  ref=/gpfs/data01/glasslab/home/iholtman/software/beagle/bochet.gcc.biostat.washington.edu/beagle/1000_Genomes_phase3_v5a/individual_chromosomes/chr10.1kg.phase3.v5a.vcf.gz gt=/data/scratch/iholtman/human_microglia_genotyping/WGS/vcf/bcf_tools_merged_P15_P17_P4_P5_P7_P8.vcf.gz chrom=10 out=/data/scratch/iholtman/human_microglia_genotyping/WGS/phasing/conform_GT/chr_10_conformed_v5a_ match=POS\n",
      "\n",
      "\n",
      "java -jar /gpfs/data01/glasslab/home/iholtman/software/beagle/tools/conform-gt.24May16.cee.jar  ref=/gpfs/data01/glasslab/home/iholtman/software/beagle/bochet.gcc.biostat.washington.edu/beagle/1000_Genomes_phase3_v5a/individual_chromosomes/chr11.1kg.phase3.v5a.vcf.gz gt=/data/scratch/iholtman/human_microglia_genotyping/WGS/vcf/bcf_tools_merged_P15_P17_P4_P5_P7_P8.vcf.gz chrom=11 out=/data/scratch/iholtman/human_microglia_genotyping/WGS/phasing/conform_GT/chr_11_conformed_v5a_ match=POS\n",
      "\n",
      "\n",
      "java -jar /gpfs/data01/glasslab/home/iholtman/software/beagle/tools/conform-gt.24May16.cee.jar  ref=/gpfs/data01/glasslab/home/iholtman/software/beagle/bochet.gcc.biostat.washington.edu/beagle/1000_Genomes_phase3_v5a/individual_chromosomes/chr12.1kg.phase3.v5a.vcf.gz gt=/data/scratch/iholtman/human_microglia_genotyping/WGS/vcf/bcf_tools_merged_P15_P17_P4_P5_P7_P8.vcf.gz chrom=12 out=/data/scratch/iholtman/human_microglia_genotyping/WGS/phasing/conform_GT/chr_12_conformed_v5a_ match=POS\n",
      "\n",
      "\n",
      "java -jar /gpfs/data01/glasslab/home/iholtman/software/beagle/tools/conform-gt.24May16.cee.jar  ref=/gpfs/data01/glasslab/home/iholtman/software/beagle/bochet.gcc.biostat.washington.edu/beagle/1000_Genomes_phase3_v5a/individual_chromosomes/chr13.1kg.phase3.v5a.vcf.gz gt=/data/scratch/iholtman/human_microglia_genotyping/WGS/vcf/bcf_tools_merged_P15_P17_P4_P5_P7_P8.vcf.gz chrom=13 out=/data/scratch/iholtman/human_microglia_genotyping/WGS/phasing/conform_GT/chr_13_conformed_v5a_ match=POS\n",
      "\n",
      "\n",
      "java -jar /gpfs/data01/glasslab/home/iholtman/software/beagle/tools/conform-gt.24May16.cee.jar  ref=/gpfs/data01/glasslab/home/iholtman/software/beagle/bochet.gcc.biostat.washington.edu/beagle/1000_Genomes_phase3_v5a/individual_chromosomes/chr14.1kg.phase3.v5a.vcf.gz gt=/data/scratch/iholtman/human_microglia_genotyping/WGS/vcf/bcf_tools_merged_P15_P17_P4_P5_P7_P8.vcf.gz chrom=14 out=/data/scratch/iholtman/human_microglia_genotyping/WGS/phasing/conform_GT/chr_14_conformed_v5a_ match=POS\n",
      "\n",
      "\n",
      "java -jar /gpfs/data01/glasslab/home/iholtman/software/beagle/tools/conform-gt.24May16.cee.jar  ref=/gpfs/data01/glasslab/home/iholtman/software/beagle/bochet.gcc.biostat.washington.edu/beagle/1000_Genomes_phase3_v5a/individual_chromosomes/chr15.1kg.phase3.v5a.vcf.gz gt=/data/scratch/iholtman/human_microglia_genotyping/WGS/vcf/bcf_tools_merged_P15_P17_P4_P5_P7_P8.vcf.gz chrom=15 out=/data/scratch/iholtman/human_microglia_genotyping/WGS/phasing/conform_GT/chr_15_conformed_v5a_ match=POS\n",
      "\n",
      "\n",
      "java -jar /gpfs/data01/glasslab/home/iholtman/software/beagle/tools/conform-gt.24May16.cee.jar  ref=/gpfs/data01/glasslab/home/iholtman/software/beagle/bochet.gcc.biostat.washington.edu/beagle/1000_Genomes_phase3_v5a/individual_chromosomes/chr16.1kg.phase3.v5a.vcf.gz gt=/data/scratch/iholtman/human_microglia_genotyping/WGS/vcf/bcf_tools_merged_P15_P17_P4_P5_P7_P8.vcf.gz chrom=16 out=/data/scratch/iholtman/human_microglia_genotyping/WGS/phasing/conform_GT/chr_16_conformed_v5a_ match=POS\n",
      "\n",
      "\n",
      "java -jar /gpfs/data01/glasslab/home/iholtman/software/beagle/tools/conform-gt.24May16.cee.jar  ref=/gpfs/data01/glasslab/home/iholtman/software/beagle/bochet.gcc.biostat.washington.edu/beagle/1000_Genomes_phase3_v5a/individual_chromosomes/chr17.1kg.phase3.v5a.vcf.gz gt=/data/scratch/iholtman/human_microglia_genotyping/WGS/vcf/bcf_tools_merged_P15_P17_P4_P5_P7_P8.vcf.gz chrom=17 out=/data/scratch/iholtman/human_microglia_genotyping/WGS/phasing/conform_GT/chr_17_conformed_v5a_ match=POS\n",
      "\n",
      "\n",
      "java -jar /gpfs/data01/glasslab/home/iholtman/software/beagle/tools/conform-gt.24May16.cee.jar  ref=/gpfs/data01/glasslab/home/iholtman/software/beagle/bochet.gcc.biostat.washington.edu/beagle/1000_Genomes_phase3_v5a/individual_chromosomes/chr18.1kg.phase3.v5a.vcf.gz gt=/data/scratch/iholtman/human_microglia_genotyping/WGS/vcf/bcf_tools_merged_P15_P17_P4_P5_P7_P8.vcf.gz chrom=18 out=/data/scratch/iholtman/human_microglia_genotyping/WGS/phasing/conform_GT/chr_18_conformed_v5a_ match=POS\n",
      "\n",
      "\n",
      "java -jar /gpfs/data01/glasslab/home/iholtman/software/beagle/tools/conform-gt.24May16.cee.jar  ref=/gpfs/data01/glasslab/home/iholtman/software/beagle/bochet.gcc.biostat.washington.edu/beagle/1000_Genomes_phase3_v5a/individual_chromosomes/chr19.1kg.phase3.v5a.vcf.gz gt=/data/scratch/iholtman/human_microglia_genotyping/WGS/vcf/bcf_tools_merged_P15_P17_P4_P5_P7_P8.vcf.gz chrom=19 out=/data/scratch/iholtman/human_microglia_genotyping/WGS/phasing/conform_GT/chr_19_conformed_v5a_ match=POS\n",
      "\n",
      "\n",
      "java -jar /gpfs/data01/glasslab/home/iholtman/software/beagle/tools/conform-gt.24May16.cee.jar  ref=/gpfs/data01/glasslab/home/iholtman/software/beagle/bochet.gcc.biostat.washington.edu/beagle/1000_Genomes_phase3_v5a/individual_chromosomes/chr20.1kg.phase3.v5a.vcf.gz gt=/data/scratch/iholtman/human_microglia_genotyping/WGS/vcf/bcf_tools_merged_P15_P17_P4_P5_P7_P8.vcf.gz chrom=20 out=/data/scratch/iholtman/human_microglia_genotyping/WGS/phasing/conform_GT/chr_20_conformed_v5a_ match=POS\n",
      "\n",
      "\n",
      "java -jar /gpfs/data01/glasslab/home/iholtman/software/beagle/tools/conform-gt.24May16.cee.jar  ref=/gpfs/data01/glasslab/home/iholtman/software/beagle/bochet.gcc.biostat.washington.edu/beagle/1000_Genomes_phase3_v5a/individual_chromosomes/chr21.1kg.phase3.v5a.vcf.gz gt=/data/scratch/iholtman/human_microglia_genotyping/WGS/vcf/bcf_tools_merged_P15_P17_P4_P5_P7_P8.vcf.gz chrom=21 out=/data/scratch/iholtman/human_microglia_genotyping/WGS/phasing/conform_GT/chr_21_conformed_v5a_ match=POS\n",
      "\n",
      "\n",
      "java -jar /gpfs/data01/glasslab/home/iholtman/software/beagle/tools/conform-gt.24May16.cee.jar  ref=/gpfs/data01/glasslab/home/iholtman/software/beagle/bochet.gcc.biostat.washington.edu/beagle/1000_Genomes_phase3_v5a/individual_chromosomes/chr22.1kg.phase3.v5a.vcf.gz gt=/data/scratch/iholtman/human_microglia_genotyping/WGS/vcf/bcf_tools_merged_P15_P17_P4_P5_P7_P8.vcf.gz chrom=22 out=/data/scratch/iholtman/human_microglia_genotyping/WGS/phasing/conform_GT/chr_22_conformed_v5a_ match=POS\n",
      "\n",
      "\n"
     ]
    }
   ],
   "source": [
    "#####CONFORM GT for making genotype file comparable to reference genome and perform some QC\n",
    "### loop over chromosomes\n",
    "####Reference genoom is V5 \n",
    "\n",
    "nrs =list(range(22))\n",
    "nnrs=list()\n",
    "\n",
    "for nr in nrs:\n",
    "    nnrs.append(nr+1)\n",
    "\n",
    "###\n",
    "out_dir = \"/data/scratch/iholtman/human_microglia_genotyping/WGS/phasing/conform_GT/\"\n",
    "#out_dir = \"/data/scratch/iholtman/human_microglia_genotyping/WGS/phasing/Beagle\"\n",
    "\n",
    "##Conform-gt bcf_tools_merged_P15_P17_P4_P5_P7_P8.vcf.gz instead of merged_P15_P17_P4_P5_P7_P8.vcf.gz\n",
    "VCF_file = \"/data/scratch/iholtman/human_microglia_genotyping/WGS/vcf/bcf_tools_merged_P15_P17_P4_P5_P7_P8.vcf.gz\"\n",
    "conform_GT =\"java -jar /gpfs/data01/glasslab/home/iholtman/software/beagle/tools/conform-gt.24May16.cee.jar \" \n",
    "\n",
    "for chr in nnrs:\n",
    "    #print(\"working on chr \" + str(chr))\n",
    "    reference = \"/gpfs/data01/glasslab/home/iholtman/software/beagle/bochet.gcc.biostat.washington.edu/beagle/1000_Genomes_phase3_v5a/individual_chromosomes/chr\" + str(chr) + \".1kg.phase3.v5a.vcf.gz\"\n",
    "    terminal_code = conform_GT + \" ref=\" + reference + \" gt=\" + VCF_file + \" chrom=\" + str(chr) + \" out=\" + out_dir + \"chr_\"+ str(chr) + \"_conformed_v5a_\" + \" match=POS\" \n",
    "    print(terminal_code)\n",
    "    #print(subprocess.check_output(terminal_code, shell=True, stderr=subprocess.STDOUT).decode()) ##\n",
    "    print(\"\\n\")\n",
    "    "
   ]
  },
  {
   "cell_type": "code",
   "execution_count": null,
   "metadata": {
    "collapsed": true
   },
   "outputs": [],
   "source": [
    "##########\n",
    "##Step3 \n",
    "##imputation for 1000g reference_v5a_\n",
    "nrs =list(range(22))\n",
    "nnrs=list()\n",
    "\n",
    "for nr in nrs:\n",
    "    nnrs.append(nr+1)\n",
    "\n",
    "#    \n",
    "\n",
    "beagle = \"java -Xmx30g -jar /gpfs/data01/glasslab/home/iholtman/software/beagle/beagle.27Jul16.86a.jar \" \n",
    "step3_dir = \"/data/scratch/iholtman/human_microglia_genotyping/imputation/step3/\"\n",
    "step2_dir = \"/data/scratch/iholtman/human_microglia_genotyping/imputation/step2/\"\n",
    "\n",
    "\n",
    "###\n",
    "#######\n",
    "for chr in nnrs:\n",
    "    #print(\"working on chr \" + str(chr))\n",
    "    reference = \"/gpfs/data01/glasslab/home/iholtman/software/beagle/bochet.gcc.biostat.washington.edu/beagle/1000_Genomes_phase3_v5a/individual_chromosomes/chr\" + str(chr) + \".1kg.phase3.v5a.vcf.gz\"\n",
    "    terminal_code = beagle + \" ref=\" + reference + \\\n",
    "    \" gt=\" + step2_dir + \"chr_\"+ str(chr) + \"_conformed_v5a_.vcf.gz\" + \\\n",
    "    \" out=\" + step3_dir + \"chr_\"+ str(chr) + \"_imputed_phased_v5a\" \\\n",
    "    \" nthreads=30 lowmem=true\"\n",
    "    \n",
    "    print(terminal_code)\n",
    "    #print(subprocess.check_output(terminal_code, shell=True, stderr=subprocess.STDOUT).decode()) ##\n",
    "    print(\"\\n\")"
   ]
  }
 ],
 "metadata": {
  "anaconda-cloud": {},
  "kernelspec": {
   "display_name": "Python [conda root]",
   "language": "python",
   "name": "conda-root-py"
  },
  "language_info": {
   "codemirror_mode": {
    "name": "ipython",
    "version": 3
   },
   "file_extension": ".py",
   "mimetype": "text/x-python",
   "name": "python",
   "nbconvert_exporter": "python",
   "pygments_lexer": "ipython3",
   "version": "3.5.2"
  }
 },
 "nbformat": 4,
 "nbformat_minor": 1
}
