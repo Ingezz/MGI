{
 "cells": [
  {
   "cell_type": "code",
   "execution_count": null,
   "metadata": {
    "collapsed": true
   },
   "outputs": [],
   "source": [
    "#####Bowtie build index \n",
    "bowtie2-build [options]* <reference_in> <bt2_base>\n",
    "\n",
    "\n",
    "bowtie2-build /data/scratch/iholtman/human_microglia_genotyping/marge/new_references/WGS_P15/chr10_allele_1.fa,/data/scratch/iholtman/human_microglia_genotyping/marge/new_references/WGS_P15/chr12_allele_2.fa \\\n",
    "/data/scratch/iholtman/human_microglia_genotyping/marge/bowtie_index/test/bowtie_bt2"
   ]
  },
  {
   "cell_type": "code",
   "execution_count": 64,
   "metadata": {
    "collapsed": false,
    "scrolled": true
   },
   "outputs": [
    {
     "name": "stdout",
     "output_type": "stream",
     "text": [
      "mkdir /data/scratch/iholtman/human_microglia_genotyping/marge/bowtie_index/IMP_P10\n",
      "\n",
      "mkdir /data/scratch/iholtman/human_microglia_genotyping/marge/bowtie_index/IMP_P11\n",
      "\n",
      "mkdir /data/scratch/iholtman/human_microglia_genotyping/marge/bowtie_index/IMP_P12\n",
      "\n",
      "mkdir /data/scratch/iholtman/human_microglia_genotyping/marge/bowtie_index/IMP_P14\n",
      "\n",
      "mkdir /data/scratch/iholtman/human_microglia_genotyping/marge/bowtie_index/IMP_P15\n",
      "\n",
      "mkdir /data/scratch/iholtman/human_microglia_genotyping/marge/bowtie_index/IMP_P16\n",
      "\n",
      "mkdir /data/scratch/iholtman/human_microglia_genotyping/marge/bowtie_index/IMP_P17\n",
      "\n",
      "mkdir /data/scratch/iholtman/human_microglia_genotyping/marge/bowtie_index/IMP_P18\n",
      "\n",
      "mkdir /data/scratch/iholtman/human_microglia_genotyping/marge/bowtie_index/IMP_P19\n",
      "\n",
      "mkdir /data/scratch/iholtman/human_microglia_genotyping/marge/bowtie_index/IMP_P2\n",
      "\n",
      "mkdir /data/scratch/iholtman/human_microglia_genotyping/marge/bowtie_index/IMP_P21\n",
      "\n",
      "mkdir /data/scratch/iholtman/human_microglia_genotyping/marge/bowtie_index/IMP_P23\n",
      "\n",
      "mkdir /data/scratch/iholtman/human_microglia_genotyping/marge/bowtie_index/IMP_P24\n",
      "\n",
      "mkdir /data/scratch/iholtman/human_microglia_genotyping/marge/bowtie_index/IMP_P26\n",
      "\n",
      "mkdir /data/scratch/iholtman/human_microglia_genotyping/marge/bowtie_index/IMP_P27\n",
      "\n",
      "mkdir /data/scratch/iholtman/human_microglia_genotyping/marge/bowtie_index/IMP_P29\n",
      "\n",
      "mkdir /data/scratch/iholtman/human_microglia_genotyping/marge/bowtie_index/IMP_P3\n",
      "\n",
      "mkdir /data/scratch/iholtman/human_microglia_genotyping/marge/bowtie_index/IMP_P31\n",
      "\n",
      "mkdir /data/scratch/iholtman/human_microglia_genotyping/marge/bowtie_index/IMP_P4\n",
      "\n",
      "mkdir /data/scratch/iholtman/human_microglia_genotyping/marge/bowtie_index/IMP_P5\n",
      "\n",
      "mkdir /data/scratch/iholtman/human_microglia_genotyping/marge/bowtie_index/IMP_P6\n",
      "\n",
      "mkdir /data/scratch/iholtman/human_microglia_genotyping/marge/bowtie_index/IMP_P7\n",
      "\n",
      "mkdir /data/scratch/iholtman/human_microglia_genotyping/marge/bowtie_index/IMP_P8\n",
      "\n"
     ]
    }
   ],
   "source": [
    "import subprocess \n",
    "\n",
    "samples = [\"WGS_P15\", \"WGS_P17\", \"WGS_P4\", \"WGS_P5\", \"WGS_P7\", \"WGS_P8\", \"imp_P10\", \"imp_P11\" ,\"imp_P12\", \"imp_P14\", \"imp_P15\", \"imp_P16\", \"imp_P17\", \"imp_P18\", \"imp_P19\", \"imp_P2\" ,\"imp_P21\" ,  \"imp_P23\", \"imp_P24\", \"imp_P26\", \"imp_P27\", \"imp_P29\",\"imp_P3\" ,\"imp_P31\" ,\"imp_P4\",\"imp_P5\" , \"imp_P6\", \"imp_P7\", \"imp_P8\"]\n",
    "\n",
    "samples_new = []\n",
    "samples = [\"imp_P10\", \"imp_P11\" ,\"imp_P12\", \"imp_P14\", \"imp_P15\", \"imp_P16\", \"imp_P17\", \"imp_P18\", \"imp_P19\", \"imp_P2\" ,\"imp_P21\" ,  \"imp_P23\", \"imp_P24\", \"imp_P26\", \"imp_P27\", \"imp_P29\",\"imp_P3\" ,\"imp_P31\" ,\"imp_P4\",\"imp_P5\" , \"imp_P6\", \"imp_P7\", \"imp_P8\"]\n",
    "for sample in samples:\n",
    "    samples_new.append(sample.upper())\n",
    "\n",
    "index_dir = \"/data/scratch/iholtman/human_microglia_genotyping/marge/bowtie_index/\"\n",
    "\n",
    "for sample in samples_new:\n",
    "    genome_dir = index_dir + sample\n",
    "    terminal_code = \"mkdir \" + genome_dir\n",
    "    print(terminal_code)\n",
    "    print(subprocess.check_output(terminal_code, shell=True, stderr=subprocess.STDOUT).decode()) ##\n",
    "    "
   ]
  },
  {
   "cell_type": "code",
   "execution_count": null,
   "metadata": {
    "collapsed": false
   },
   "outputs": [
    {
     "name": "stdout",
     "output_type": "stream",
     "text": [
      "bowtie2-build /data/scratch/iholtman/human_microglia_genotyping/marge/new_references/IMP_P10/chr21_allele_1.fa,/data/scratch/iholtman/human_microglia_genotyping/marge/new_references/IMP_P10/chr16_allele_1.fa,/data/scratch/iholtman/human_microglia_genotyping/marge/new_references/IMP_P10/chr13_allele_2.fa,/data/scratch/iholtman/human_microglia_genotyping/marge/new_references/IMP_P10/chr14_allele_2.fa,/data/scratch/iholtman/human_microglia_genotyping/marge/new_references/IMP_P10/chr3_allele_1.fa,/data/scratch/iholtman/human_microglia_genotyping/marge/new_references/IMP_P10/chr10_allele_2.fa,/data/scratch/iholtman/human_microglia_genotyping/marge/new_references/IMP_P10/chr20_allele_1.fa,/data/scratch/iholtman/human_microglia_genotyping/marge/new_references/IMP_P10/chr4_allele_2.fa,/data/scratch/iholtman/human_microglia_genotyping/marge/new_references/IMP_P10/chr2_allele_1.fa,/data/scratch/iholtman/human_microglia_genotyping/marge/new_references/IMP_P10/chr21_allele_2.fa,/data/scratch/iholtman/human_microglia_genotyping/marge/new_references/IMP_P10/chr1_allele_1.fa,/data/scratch/iholtman/human_microglia_genotyping/marge/new_references/IMP_P10/chr10_allele_1.fa,/data/scratch/iholtman/human_microglia_genotyping/marge/new_references/IMP_P10/chrY_allele_1.fa,/data/scratch/iholtman/human_microglia_genotyping/marge/new_references/IMP_P10/chr7_allele_2.fa,/data/scratch/iholtman/human_microglia_genotyping/marge/new_references/IMP_P10/chr4_allele_1.fa,/data/scratch/iholtman/human_microglia_genotyping/marge/new_references/IMP_P10/chr8_allele_2.fa,/data/scratch/iholtman/human_microglia_genotyping/marge/new_references/IMP_P10/chrX_allele_1.fa,/data/scratch/iholtman/human_microglia_genotyping/marge/new_references/IMP_P10/chr15_allele_2.fa,/data/scratch/iholtman/human_microglia_genotyping/marge/new_references/IMP_P10/chr20_allele_2.fa,/data/scratch/iholtman/human_microglia_genotyping/marge/new_references/IMP_P10/chr5_allele_2.fa,/data/scratch/iholtman/human_microglia_genotyping/marge/new_references/IMP_P10/chr6_allele_2.fa,/data/scratch/iholtman/human_microglia_genotyping/marge/new_references/IMP_P10/chrX_allele_2.fa,/data/scratch/iholtman/human_microglia_genotyping/marge/new_references/IMP_P10/chr14_allele_1.fa,/data/scratch/iholtman/human_microglia_genotyping/marge/new_references/IMP_P10/chrY_allele_2.fa,/data/scratch/iholtman/human_microglia_genotyping/marge/new_references/IMP_P10/chr12_allele_1.fa,/data/scratch/iholtman/human_microglia_genotyping/marge/new_references/IMP_P10/chr2_allele_2.fa,/data/scratch/iholtman/human_microglia_genotyping/marge/new_references/IMP_P10/chr18_allele_2.fa,/data/scratch/iholtman/human_microglia_genotyping/marge/new_references/IMP_P10/chr5_allele_1.fa,/data/scratch/iholtman/human_microglia_genotyping/marge/new_references/IMP_P10/chr18_allele_1.fa,/data/scratch/iholtman/human_microglia_genotyping/marge/new_references/IMP_P10/chr7_allele_1.fa,/data/scratch/iholtman/human_microglia_genotyping/marge/new_references/IMP_P10/chr15_allele_1.fa,/data/scratch/iholtman/human_microglia_genotyping/marge/new_references/IMP_P10/chr11_allele_2.fa,/data/scratch/iholtman/human_microglia_genotyping/marge/new_references/IMP_P10/chr17_allele_2.fa,/data/scratch/iholtman/human_microglia_genotyping/marge/new_references/IMP_P10/chr8_allele_1.fa,/data/scratch/iholtman/human_microglia_genotyping/marge/new_references/IMP_P10/chr16_allele_2.fa,/data/scratch/iholtman/human_microglia_genotyping/marge/new_references/IMP_P10/chr3_allele_2.fa,/data/scratch/iholtman/human_microglia_genotyping/marge/new_references/IMP_P10/chr11_allele_1.fa,/data/scratch/iholtman/human_microglia_genotyping/marge/new_references/IMP_P10/chr12_allele_2.fa,/data/scratch/iholtman/human_microglia_genotyping/marge/new_references/IMP_P10/chr22_allele_2.fa,/data/scratch/iholtman/human_microglia_genotyping/marge/new_references/IMP_P10/chr17_allele_1.fa,/data/scratch/iholtman/human_microglia_genotyping/marge/new_references/IMP_P10/chr13_allele_1.fa,/data/scratch/iholtman/human_microglia_genotyping/marge/new_references/IMP_P10/chr19_allele_2.fa,/data/scratch/iholtman/human_microglia_genotyping/marge/new_references/IMP_P10/chr9_allele_1.fa,/data/scratch/iholtman/human_microglia_genotyping/marge/new_references/IMP_P10/chr6_allele_1.fa,/data/scratch/iholtman/human_microglia_genotyping/marge/new_references/IMP_P10/chr19_allele_1.fa,/data/scratch/iholtman/human_microglia_genotyping/marge/new_references/IMP_P10/chr1_allele_2.fa,/data/scratch/iholtman/human_microglia_genotyping/marge/new_references/IMP_P10/chr22_allele_1.fa,/data/scratch/iholtman/human_microglia_genotyping/marge/new_references/IMP_P10/chr9_allele_2.fa /data/scratch/iholtman/human_microglia_genotyping/marge/bowtie_index/IMP_P10/index\n"
     ]
    }
   ],
   "source": [
    "import glob\n",
    "\n",
    "#samples = [\"WGS_P15\", \"WGS_P17\", \"WGS_P4\", \"WGS_P5\", \"WGS_P7\", \"WGS_P8\", \"imp_P10\", \"imp_P11\" ,\"imp_P12\", \"imp_P14\", \"imp_P15\", \"imp_P16\", \"imp_P17\", \"imp_P18\", \"imp_P19\", \"imp_P2\" ,\"imp_P21\" ,  \"imp_P23\", \"imp_P24\", \"imp_P26\", \"imp_P27\", \"imp_P29\",\"imp_P3\" ,\"imp_P31\" ,\"imp_P4\",\"imp_P5\" , \"imp_P6\", \"imp_P7\", \"imp_P8\"]\n",
    "##Subset \n",
    "samples_new = []\n",
    "samples = [\"imp_P10\", \"imp_P11\" ,\"imp_P12\", \"imp_P14\", \"imp_P15\", \"imp_P16\", \"imp_P17\", \"imp_P18\", \"imp_P19\", \"imp_P2\" ,\"imp_P21\" ,  \"imp_P23\", \"imp_P24\", \"imp_P26\", \"imp_P27\", \"imp_P29\",\"imp_P3\" ,\"imp_P31\" ,\"imp_P4\",\"imp_P5\" , \"imp_P6\", \"imp_P7\", \"imp_P8\"]\n",
    "for sample in samples:\n",
    "    samples_new.append(sample.upper())\n",
    "    \n",
    "reference_dir = (\"/data/scratch/iholtman/human_microglia_genotyping/marge/new_references/\")\n",
    "\n",
    "for sample in samples_new:\n",
    "    sample_dir = reference_dir + sample\n",
    "    #print(sample_dir)\n",
    "    fasta_files = glob.glob(sample_dir + \"/*.fa\")\n",
    "    code = \"bowtie2-build \" + format(','.join(fasta_files), '') + \" /data/scratch/iholtman/human_microglia_genotyping/marge/bowtie_index/\" + sample + \"/index\" \n",
    "    print(code)\n",
    "    print(subprocess.check_output(code, shell=True, stderr=subprocess.STDOUT).decode()) ##\n"
   ]
  },
  {
   "cell_type": "code",
   "execution_count": 60,
   "metadata": {
    "collapsed": false
   },
   "outputs": [
    {
     "name": "stdout",
     "output_type": "stream",
     "text": [
      "['IMP_P10', 'IMP_P11', 'IMP_P12', 'IMP_P14', 'IMP_P15', 'IMP_P16', 'IMP_P17', 'IMP_P18', 'IMP_P19', 'IMP_P2', 'IMP_P21', 'IMP_P23', 'IMP_P24', 'IMP_P26', 'IMP_P27', 'IMP_P29', 'IMP_P3', 'IMP_P31', 'IMP_P4', 'IMP_P5', 'IMP_P6', 'IMP_P7', 'IMP_P8']\n"
     ]
    }
   ],
   "source": [
    "import glob\n",
    "\n",
    "#samples = [\"WGS_P15\", \"WGS_P17\", \"WGS_P4\", \"WGS_P5\", \"WGS_P7\", \"WGS_P8\", \"imp_P10\", \"imp_P11\" ,\"imp_P12\", \"imp_P14\", \"imp_P15\", \"imp_P16\", \"imp_P17\", \"imp_P18\", \"imp_P19\", \"imp_P2\" ,\"imp_P21\" ,  \"imp_P23\", \"imp_P24\", \"imp_P26\", \"imp_P27\", \"imp_P29\",\"imp_P3\" ,\"imp_P31\" ,\"imp_P4\",\"imp_P5\" , \"imp_P6\", \"imp_P7\", \"imp_P8\"]\n",
    "##Subset \n",
    "\n",
    "    \n"
   ]
  },
  {
   "cell_type": "code",
   "execution_count": null,
   "metadata": {
    "collapsed": true
   },
   "outputs": [],
   "source": []
  }
 ],
 "metadata": {
  "anaconda-cloud": {},
  "kernelspec": {
   "display_name": "Python [conda root]",
   "language": "python",
   "name": "conda-root-py"
  },
  "language_info": {
   "codemirror_mode": {
    "name": "ipython",
    "version": 3
   },
   "file_extension": ".py",
   "mimetype": "text/x-python",
   "name": "python",
   "nbconvert_exporter": "python",
   "pygments_lexer": "ipython3",
   "version": "3.5.2"
  }
 },
 "nbformat": 4,
 "nbformat_minor": 1
}
