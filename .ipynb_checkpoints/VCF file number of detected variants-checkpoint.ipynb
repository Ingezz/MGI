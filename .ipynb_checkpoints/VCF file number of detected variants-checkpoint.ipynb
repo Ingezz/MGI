{
 "cells": [
  {
   "cell_type": "code",
   "execution_count": 113,
   "metadata": {
    "collapsed": false
   },
   "outputs": [
    {
     "name": "stdout",
     "output_type": "stream",
     "text": [
      "       P11    P10    P11   P12    P15    P16    P17   P19    P21    P23  \\\n",
      "./.   7737  13978   7737  9097  10192  13658   8016  9662   7919   7947   \n",
      "0/0  10161   5329  10161  9310   8581   5682  10028  8897  10105  10068   \n",
      "0/1   1362    360   1362   999    708    316   1172   953   1112   1047   \n",
      "1/1    740    333    740   594    519    344    784   488    864    938   \n",
      "\n",
      "     ...    spm28  spm29  spm30  spm31  spm32  spm33  spm34  spm35  spm36  \\\n",
      "./.  ...     5071  18419   5020  18654  14529   5608  14738   6336   4368   \n",
      "0/0  ...    11581   1452  12297   1260   4862  11705   4761  11329  12757   \n",
      "0/1  ...     2020     35   1700      4    253   1838    219   1484   1990   \n",
      "1/1  ...     1328     94    983     82    356    849    282    851    885   \n",
      "\n",
      "     spm37  \n",
      "./.  15394  \n",
      "0/0   4188  \n",
      "0/1    141  \n",
      "1/1    277  \n",
      "\n",
      "[4 rows x 79 columns]\n"
     ]
    }
   ],
   "source": [
    "import pandas\n",
    "import numpy\n",
    "VCF_file = pandas.read_csv('/data/scratch/iholtman/human_microglia_genotyping/genotyping_molgenis/step10/plink/vcftools/1000G_vcf/plink-updated-chr1vcf-updated-chr1.vcf',  sep = \"\\t\", skiprows = 6, nrows = 20000)\n",
    "\n",
    "\n",
    "#VCF_file.P10\n",
    "#print(VCF_file['P11'].value_counts().sort_index())\n",
    "\n",
    "df = VCF_file[VCF_file.columns[9:]]\n",
    "counts = VCF_file['P11'].value_counts().sort_index()\n",
    "\n",
    "for column in df:\n",
    "    counts = pandas.concat([counts, df[column].value_counts().sort_index()], axis=1)\n",
    "    \n",
    "print(counts)\n",
    "\n",
    "\n"
   ]
  },
  {
   "cell_type": "code",
   "execution_count": 114,
   "metadata": {
    "collapsed": false
   },
   "outputs": [
    {
     "name": "stdout",
     "output_type": "stream",
     "text": [
      "spm05           4015\n",
      "spm08           4259\n",
      "spm36           4368\n",
      "spm26           4378\n",
      "spm11           4416\n",
      "spm06           4477\n",
      "spm14           4918\n",
      "spm30           5020\n",
      "spm28           5071\n",
      "spm25           5226\n",
      "spm13           5509\n",
      "spm33           5608\n",
      "spm15           5704\n",
      "spm35           6336\n",
      "P3              6576\n",
      "P31             6663\n",
      "P24             7592\n",
      "P11             7737\n",
      "P11             7737\n",
      "P21             7919\n",
      "P23             7947\n",
      "P17             8016\n",
      "S12048          8300\n",
      "P12             9097\n",
      "P8              9398\n",
      "P19             9662\n",
      "P26             9891\n",
      "S12110100       9917\n",
      "P15            10192\n",
      "S14005         10921\n",
      "               ...  \n",
      "spm20          15158\n",
      "spm37          15394\n",
      "spm10          15419\n",
      "P7             15488\n",
      "Sample_1412    15612\n",
      "P29            15690\n",
      "Sample_1416    15741\n",
      "SRR2557119     15752\n",
      "Sample_1418    15854\n",
      "P27            15856\n",
      "Sample_1408    16047\n",
      "P5             16309\n",
      "Sample_1413    16328\n",
      "spm24          16573\n",
      "Sample_1420    16777\n",
      "spm22          16855\n",
      "Sample_1419    16888\n",
      "Sample_1411    16946\n",
      "Sample_1402    16962\n",
      "Sample_1405    17206\n",
      "Sample_1407    17582\n",
      "spm23          17651\n",
      "spm27          17807\n",
      "Sample_1415    18300\n",
      "P9             18325\n",
      "spm29          18419\n",
      "Sample_1414    18546\n",
      "Sample_1410    18587\n",
      "spm31          18654\n",
      "spm19          19341\n",
      "Name: ./., dtype: int64\n"
     ]
    },
    {
     "name": "stderr",
     "output_type": "stream",
     "text": [
      "/gpfs/data01/glasslab/home/iholtman/anaconda3/lib/python3.5/site-packages/ipykernel/__main__.py:2: FutureWarning: sort is deprecated, use sort_values(inplace=True) for INPLACE sorting\n",
      "  from ipykernel import kernelapp as app\n"
     ]
    },
    {
     "ename": "NameError",
     "evalue": "name 'plot' is not defined",
     "output_type": "error",
     "traceback": [
      "\u001b[0;31m---------------------------------------------------------------------------\u001b[0m",
      "\u001b[0;31mNameError\u001b[0m                                 Traceback (most recent call last)",
      "\u001b[0;32m<ipython-input-114-4ece81af29ef>\u001b[0m in \u001b[0;36m<module>\u001b[0;34m()\u001b[0m\n\u001b[1;32m      3\u001b[0m \u001b[0;34m\u001b[0m\u001b[0m\n\u001b[1;32m      4\u001b[0m \u001b[0mprint\u001b[0m\u001b[0;34m(\u001b[0m\u001b[0mnr_unknowns\u001b[0m\u001b[0;34m)\u001b[0m\u001b[0;34m\u001b[0m\u001b[0m\n\u001b[0;32m----> 5\u001b[0;31m \u001b[0mplot\u001b[0m\u001b[0;34m(\u001b[0m\u001b[0mnr_unknowns\u001b[0m\u001b[0;34m)\u001b[0m\u001b[0;34m\u001b[0m\u001b[0m\n\u001b[0m",
      "\u001b[0;31mNameError\u001b[0m: name 'plot' is not defined"
     ]
    }
   ],
   "source": [
    "nr_unknowns = counts.iloc[0]\n",
    "nr_unknowns.sort()\n",
    "\n",
    "print(nr_unknowns)\n",
    "plot(nr_unknowns)\n"
   ]
  },
  {
   "cell_type": "code",
   "execution_count": 83,
   "metadata": {
    "collapsed": false
   },
   "outputs": [
    {
     "data": {
      "text/plain": [
       "<matplotlib.axes._subplots.AxesSubplot at 0x7f92ec867da0>"
      ]
     },
     "execution_count": 83,
     "metadata": {},
     "output_type": "execute_result"
    }
   ],
   "source": [
    "nr_unknowns.plot()\n",
    "\n",
    "#df3.plot(x='A', y='B')"
   ]
  },
  {
   "cell_type": "code",
   "execution_count": 115,
   "metadata": {
    "collapsed": false
   },
   "outputs": [
    {
     "name": "stdout",
     "output_type": "stream",
     "text": [
      "28\n"
     ]
    },
    {
     "data": {
      "text/plain": [
       "79"
      ]
     },
     "execution_count": 115,
     "metadata": {},
     "output_type": "execute_result"
    }
   ],
   "source": [
    "print(sum(nr_unknowns < 10000))\n",
    "\n",
    "len(nr_unknowns)"
   ]
  },
  {
   "cell_type": "code",
   "execution_count": 118,
   "metadata": {
    "collapsed": false
   },
   "outputs": [
    {
     "name": "stdout",
     "output_type": "stream",
     "text": [
      "['spm05', 'spm08', 'spm36', 'spm26', 'spm11', 'spm06', 'spm14', 'spm30', 'spm28', 'spm25', 'spm13', 'spm33', 'spm15', 'spm35', 'P3', 'P31', 'P24', 'P11', 'P11', 'P21', 'P23', 'P17', 'S12048', 'P12', 'P8', 'P19', 'P26', 'S12110100']\n"
     ]
    }
   ],
   "source": [
    "print(nr_unknowns[nr_unknowns < 10000].index.tolist())\n",
    "\n",
    "selected_samples = nr_unknowns[nr_unknowns < 10000].index.tolist()\n",
    "\n",
    "vcf_file = \n",
    "output_file =  \n",
    "\n",
    "code = 'vcftools --vcf ' + VCF_file + '--out ' + output_file + ' --indv ' + selected_samples\n",
    "\n"
   ]
  },
  {
   "cell_type": "code",
   "execution_count": 89,
   "metadata": {
    "collapsed": false
   },
   "outputs": [
    {
     "ename": "NameError",
     "evalue": "name 'randn' is not defined",
     "output_type": "error",
     "traceback": [
      "\u001b[0;31m---------------------------------------------------------------------------\u001b[0m",
      "\u001b[0;31mNameError\u001b[0m                                 Traceback (most recent call last)",
      "\u001b[0;32m<ipython-input-89-e176672f3548>\u001b[0m in \u001b[0;36m<module>\u001b[0;34m()\u001b[0m\n\u001b[1;32m      1\u001b[0m \u001b[0;34m\u001b[0m\u001b[0m\n\u001b[0;32m----> 2\u001b[0;31m \u001b[0mdf\u001b[0m \u001b[0;34m=\u001b[0m \u001b[0mpandas\u001b[0m\u001b[0;34m.\u001b[0m\u001b[0mDataFrame\u001b[0m\u001b[0;34m(\u001b[0m\u001b[0mrandn\u001b[0m\u001b[0;34m(\u001b[0m\u001b[0;36m1000\u001b[0m\u001b[0;34m,\u001b[0m \u001b[0;36m4\u001b[0m\u001b[0;34m)\u001b[0m\u001b[0;34m,\u001b[0m \u001b[0mindex\u001b[0m\u001b[0;34m=\u001b[0m\u001b[0mts\u001b[0m\u001b[0;34m.\u001b[0m\u001b[0mindex\u001b[0m\u001b[0;34m,\u001b[0m \u001b[0mcolumns\u001b[0m\u001b[0;34m=\u001b[0m\u001b[0mlist\u001b[0m\u001b[0;34m(\u001b[0m\u001b[0;34m'ABCD'\u001b[0m\u001b[0;34m)\u001b[0m\u001b[0;34m)\u001b[0m\u001b[0;34m\u001b[0m\u001b[0m\n\u001b[0m\u001b[1;32m      3\u001b[0m \u001b[0;34m\u001b[0m\u001b[0m\n\u001b[1;32m      4\u001b[0m \u001b[0mdf\u001b[0m \u001b[0;34m=\u001b[0m \u001b[0mdf\u001b[0m\u001b[0;34m.\u001b[0m\u001b[0mcumsum\u001b[0m\u001b[0;34m(\u001b[0m\u001b[0;34m)\u001b[0m\u001b[0;34m\u001b[0m\u001b[0m\n\u001b[1;32m      5\u001b[0m \u001b[0;34m\u001b[0m\u001b[0m\n",
      "\u001b[0;31mNameError\u001b[0m: name 'randn' is not defined"
     ]
    }
   ],
   "source": [
    "\n",
    "df = pandas.DataFrame(randn(1000, 4), index=ts.index, columns=list('ABCD'))\n",
    "\n",
    "df = df.cumsum()\n",
    "\n",
    "plt.figure(); df.plot();"
   ]
  },
  {
   "cell_type": "code",
   "execution_count": null,
   "metadata": {
    "collapsed": true
   },
   "outputs": [],
   "source": []
  }
 ],
 "metadata": {
  "anaconda-cloud": {},
  "kernelspec": {
   "display_name": "Python [default]",
   "language": "python",
   "name": "python3"
  },
  "language_info": {
   "codemirror_mode": {
    "name": "ipython",
    "version": 3
   },
   "file_extension": ".py",
   "mimetype": "text/x-python",
   "name": "python",
   "nbconvert_exporter": "python",
   "pygments_lexer": "ipython3",
   "version": "3.5.2"
  }
 },
 "nbformat": 4,
 "nbformat_minor": 1
}
