{
 "cells": [
  {
   "cell_type": "code",
   "execution_count": null,
   "metadata": {
    "collapsed": false
   },
   "outputs": [],
   "source": [
    "### Chapter 2\n",
    "#Basics\n",
    "print(\"hello python interpreter\")\n",
    "message = \"hello\" #this is a string '' is also\n",
    "print(message)\n",
    "\n",
    "print(message.title())\n",
    "print(message.upper())\n",
    "print(message.lower())\n",
    "\n",
    "##Combining and concetating string \n",
    "First = \"ada\"\n",
    "Family = \"pipo\"\n",
    "\n",
    "full_name = First + \" \" + Family\n",
    "print(full_name)\n",
    "#Add new line to string \\n and tab with \\t \n",
    "print(\"languages:\\n\\tPython\\n\\tC\\n\\tJavascript\")\n",
    "\n",
    "#stripping whitespace \n",
    "language = \" Python \"\n",
    "language.lstrip()\n",
    "language.rstrip()\n",
    "language.strip()"
   ]
  },
  {
   "cell_type": "code",
   "execution_count": null,
   "metadata": {
    "collapsed": false
   },
   "outputs": [],
   "source": [
    "##Numbers \n",
    "2+3-1\n",
    "2*3/4\n",
    "2**3 #exponent \n",
    "0.1 +0.2\n"
   ]
  },
  {
   "cell_type": "code",
   "execution_count": 31,
   "metadata": {
    "collapsed": false
   },
   "outputs": [
    {
     "name": "stdout",
     "output_type": "stream",
     "text": [
      "Happy 23rd birthday\n"
     ]
    },
    {
     "data": {
      "text/plain": [
       "1.5"
      ]
     },
     "execution_count": 31,
     "metadata": {},
     "output_type": "execute_result"
    }
   ],
   "source": [
    "age =23 \n",
    "message = \"Happy \" + str(age) + \"rd birthday\"\n",
    "print(message)\n",
    "3/2"
   ]
  },
  {
   "cell_type": "code",
   "execution_count": 32,
   "metadata": {
    "collapsed": false
   },
   "outputs": [
    {
     "name": "stdout",
     "output_type": "stream",
     "text": [
      "The Zen of Python, by Tim Peters\n",
      "\n",
      "Beautiful is better than ugly.\n",
      "Explicit is better than implicit.\n",
      "Simple is better than complex.\n",
      "Complex is better than complicated.\n",
      "Flat is better than nested.\n",
      "Sparse is better than dense.\n",
      "Readability counts.\n",
      "Special cases aren't special enough to break the rules.\n",
      "Although practicality beats purity.\n",
      "Errors should never pass silently.\n",
      "Unless explicitly silenced.\n",
      "In the face of ambiguity, refuse the temptation to guess.\n",
      "There should be one-- and preferably only one --obvious way to do it.\n",
      "Although that way may not be obvious at first unless you're Dutch.\n",
      "Now is better than never.\n",
      "Although never is often better than *right* now.\n",
      "If the implementation is hard to explain, it's a bad idea.\n",
      "If the implementation is easy to explain, it may be a good idea.\n",
      "Namespaces are one honking great idea -- let's do more of those!\n"
     ]
    }
   ],
   "source": [
    "import this"
   ]
  },
  {
   "cell_type": "code",
   "execution_count": 1,
   "metadata": {
    "collapsed": false
   },
   "outputs": [
    {
     "name": "stdout",
     "output_type": "stream",
     "text": [
      "['trek', ' cannondale', 'redline', 'specialized']\n",
      "trek\n",
      "Specialized\n",
      "Specialized\n",
      "my first bike was a Cannondale.\n",
      "['trek', 'Honda', 'redline', 'specialized']\n",
      "['trek', 'Honda', 'redline', 'specialized', 'ducati']\n",
      "['trek', 'Honda', 'pipo', 'redline', 'specialized', 'ducati']\n",
      "['trek', 'pipo', 'redline', 'specialized', 'ducati']\n",
      "ducati\n",
      "['trek', 'pipo', 'redline', 'specialized']\n",
      "\n",
      "A ducati too expensive for me\n",
      "['BMW', 'audi', 'Toyota', 'Subaru']\n",
      "['audi', 'Toyota', 'Subaru', 'BMW']\n"
     ]
    },
    {
     "data": {
      "text/plain": [
       "4"
      ]
     },
     "execution_count": 1,
     "metadata": {},
     "output_type": "execute_result"
    }
   ],
   "source": [
    "## Chapter 3 LISTS (index starts at 0)\n",
    "Bicycles = [\"trek\", \" cannondale\", \"redline\", \"specialized\"]\n",
    "print(Bicycles)\n",
    "print(Bicycles[0])\n",
    "print(Bicycles[3].title())\n",
    "print(Bicycles[-1].title()) #the last \n",
    "message = \"my first bike was a\" + Bicycles[1].title() + \".\"\n",
    "print(message)\n",
    "\n",
    "##Adding changing and removign elements\n",
    "Bicycles[1] = \"Honda\"\n",
    "print(Bicycles)\n",
    "Bicycles.append(\"ducati\")\n",
    "print(Bicycles)\n",
    "Bicycles.insert(2,\"pipo\")\n",
    "print(Bicycles)\n",
    "del Bicycles[1]\n",
    "print(Bicycles)\n",
    "#\n",
    "Bicycles_pop = Bicycles.pop() #last one remove from list towards new object\n",
    "print(Bicycles_pop)\n",
    "print(Bicycles)\n",
    "too_expensive = \"ducati\"\n",
    "print(\"\\nA \" + too_expensive +\" too expensive for me\")\n",
    "\n",
    "\n",
    "#######\n",
    "#Organizing a list \n",
    "cars =[\"BMW\", \"audi\", \"Toyota\", \"Subaru\"]\n",
    "cars.sort\n",
    "print(cars)\n",
    "cars.sort(reverse=True)\n",
    "print(cars)\n",
    "\n",
    "len(cars) #length of LIST"
   ]
  },
  {
   "cell_type": "code",
   "execution_count": 100,
   "metadata": {
    "collapsed": false
   },
   "outputs": [
    {
     "name": "stdout",
     "output_type": "stream",
     "text": [
      "Alice\n",
      "Peter\n",
      "Henkie\n",
      "\n",
      "1\n",
      "\n",
      "2\n",
      "\n",
      "3\n",
      "\n",
      "4\n",
      "[1, 2, 3, 4, 5]\n",
      "[2, 4, 6, 8, 10]\n",
      "[1, 4, 9, 16, 25, 36, 49, 64, 81, 100]\n"
     ]
    }
   ],
   "source": [
    "#### Loop a list\n",
    "\n",
    "magicians = [\"Alice\", \"Peter\", \"Henkie\"]\n",
    "for magician in magicians:\n",
    "    print(magician)\n",
    "\n",
    "for value in range(1,5):\n",
    "    print(\"\\n\" + str(value))\n",
    "    \n",
    "numbers = list(range(1,6)) \n",
    "print(numbers)\n",
    "\n",
    "even_numbers = list(range(2,11,2))\n",
    "print(even_numbers)\n",
    "\n",
    "squares = []\n",
    "for value in range(1,11):\n",
    "    square = value**2\n",
    "    squares.append(square)\n",
    "print(squares)    \n",
    "min(squares)\n",
    "max(squares)\n",
    "sum(squares)\n",
    "\n",
    "###List comprehensions \n",
    "squares= [value**2 for value in range(1,11)]\n",
    "\n",
    "\n",
    "\n"
   ]
  },
  {
   "cell_type": "code",
   "execution_count": null,
   "metadata": {
    "collapsed": false
   },
   "outputs": [],
   "source": [
    "#######################\n",
    "players = [\"Charles\", \"martina\", \"henk\", \"Pieter\"]\n",
    "print(players[1:3])\n",
    "\n",
    "##IMportantatn \n",
    "\n",
    "players_Z = players #is a direct link\n",
    "players_ZZ = players[:] #is a independent copy of the file! \n",
    "players.append(\"Jantje\")\n",
    "print(players)\n",
    "print(players_Z)\n",
    "print(players_ZZ)\n",
    "\n",
    "#####TUPLES \n",
    "#immutable list = tuple no parenthesis\n",
    "dimensions = (5,300)\n",
    "print(dimensions[1])\n",
    "print(dimensions[0])\n",
    "\n"
   ]
  },
  {
   "cell_type": "code",
   "execution_count": 2,
   "metadata": {
    "collapsed": false
   },
   "outputs": [
    {
     "name": "stdout",
     "output_type": "stream",
     "text": [
      "Charles\n",
      "Martina\n",
      "HENK\n",
      "Pieter\n",
      "Anna\n",
      "Where is Charles?\n"
     ]
    },
    {
     "data": {
      "text/plain": [
       "True"
      ]
     },
     "execution_count": 2,
     "metadata": {},
     "output_type": "execute_result"
    }
   ],
   "source": [
    "########IF Statements (CHapter 5)\n",
    "players = [\"Charles\", \"martina\", \"henk\", \"Pieter\", \"Anna\"]\n",
    "\n",
    "for player in players:\n",
    "    if player == \"henk\":\n",
    "        print(player.upper())\n",
    "    else:\n",
    "        print(player.title())\n",
    "        \n",
    "if player != \"Charles\":\n",
    "    print(\"Where is Charles?\")\n",
    "    \n",
    "age_0 = 22\n",
    "age_1 = 97\n",
    "(age_0 <= 23) and (age_1 >= 96)\n",
    "(age_0 <= 23) or (age_1 >= 96)\n",
    "\n",
    "requested_topings = [\"peperoni\", \"mushroom\", \"pineapple\"]\n",
    "\"mushroom\" in requested_topings\n",
    "\n",
    "###\n",
    "#banned_users =[\"andres\", \"caroline\", \"david\"]\n",
    "#user = \"marie\"\n",
    "\n",
    "#if user not in banned_users:\n",
    "#    print(user.title() +\", you can post!\")\n",
    "    \n",
    "###############\n",
    "#if conditional_test:\n",
    "#    do something \n",
    "\n",
    "#age = 17\n",
    "#if age >= 22:\n",
    "#    print(\"you can drive\")\n",
    "#elif age >= 18:\n",
    "#    print(\"you can drive under supervision\")\n",
    "    \n",
    "#elif age >= 16:\n",
    "#    print(\"you can drive a mopet\")\n",
    "#else: \n",
    "#   print(\"you cannot drive!\")\n",
    "    \n",
    "\n"
   ]
  },
  {
   "cell_type": "code",
   "execution_count": null,
   "metadata": {
    "collapsed": false
   },
   "outputs": [],
   "source": [
    "##############\n",
    "points = [0]\n",
    "alien_color = \"red\"\n",
    "if alien_color == \"green\":\n",
    "    print(\" you earned 5 points\")\n",
    "elif alien_color == \"yellow\":\n",
    "    print(\"you earned 10 points\")\n",
    "elif alien_color == \"red\":\n",
    "    print(\"you earned 15 points\")\n",
    "else:\n",
    "    print(\" you earned no points\")\n",
    "    \n",
    "\n"
   ]
  },
  {
   "cell_type": "code",
   "execution_count": 221,
   "metadata": {
    "collapsed": false
   },
   "outputs": [
    {
     "name": "stdout",
     "output_type": "stream",
     "text": [
      "banana's are healthy\n",
      "eat more blueberry's\n"
     ]
    }
   ],
   "source": [
    "\n",
    "Fav_fruit = [\"banana\", \"apple\", \"peer\"]\n",
    "\n",
    "if \"banana\" in Fav_fruit:\n",
    "    print(\"banana's are healthy\")    \n",
    "    \n",
    "else: \n",
    "    print(\"eat more banana's\")\n",
    "    \n",
    "if \"blueberry\" in Fav_fruit:\n",
    "    print(\"blueberry's are healthy\")    \n",
    "    \n",
    "else: \n",
    "    print(\"eat more blueberry's\")"
   ]
  },
  {
   "cell_type": "code",
   "execution_count": 5,
   "metadata": {
    "collapsed": false
   },
   "outputs": [
    {
     "name": "stdout",
     "output_type": "stream",
     "text": [
      "peperoni will be added\n",
      "mozarella will be added\n",
      "we're out of peppers\n",
      "\n",
      "thanks for ordering at New york Pizza\n"
     ]
    }
   ],
   "source": [
    "requested_topping = [\"peperoni\", \"mozarella\", \"peppers\"]\n",
    "#requested_topping = []\n",
    "\n",
    "if requested_topping:\n",
    "    for topping in requested_topping:\n",
    "        if topping == \"peppers\": \n",
    "            print(\"we're out of peppers\")\n",
    "        else:\n",
    "            print(topping + \" will be added\")\n",
    "        \n",
    "    print(\"\\nthanks for ordering at New york Pizza\")\n",
    "    \n",
    "else:\n",
    "    print(\"are you sure you want an plane pizza?\")\n",
    "    \n"
   ]
  },
  {
   "cell_type": "code",
   "execution_count": 6,
   "metadata": {
    "collapsed": false
   },
   "outputs": [
    {
     "name": "stdout",
     "output_type": "stream",
     "text": [
      "peperoni will be added\n",
      "mozarella will be added\n",
      "peppers are not available\n",
      "\n",
      "thanks for ordering at New york Pizza\n"
     ]
    }
   ],
   "source": [
    "requested_toppings = [\"peperoni\", \"mozarella\", \"peppers\"]\n",
    "available_toppings = [\"peperoni\", \"mozarella\", \"spices\", \"cheese\", \"paprika\", \"tomato\"]\n",
    "\n",
    "for topping in requested_toppings:\n",
    "    if topping in available_toppings:\n",
    "        print(topping + \" will be added\")\n",
    "    else:\n",
    "        print(topping + \" are not available\")\n",
    "        \n",
    "print(\"\\nthanks for ordering at New york Pizza\")\n",
    "    \n"
   ]
  },
  {
   "cell_type": "code",
   "execution_count": 7,
   "metadata": {
    "collapsed": false
   },
   "outputs": [
    {
     "name": "stdout",
     "output_type": "stream",
     "text": [
      "green\n",
      "yellow\n"
     ]
    }
   ],
   "source": [
    "###Chapter 6: Dictionaries \n",
    "alien_0 = {\"color\": \"green\", \"points\":5} #braces \n",
    "alien_0[\"x_position\"] = 0\n",
    "alien_0[\"y_position\"] = 25\n",
    "#print(alien_0)\n",
    "alien_0['points']\n",
    "print(alien_0[\"color\"])\n",
    "\n",
    "##Modifying values in dictionary\n",
    "alien_0[\"color\"] = \"yellow\"\n",
    "print(alien_0[\"color\"])\n"
   ]
  },
  {
   "cell_type": "code",
   "execution_count": 8,
   "metadata": {
    "collapsed": false
   },
   "outputs": [
    {
     "name": "stdout",
     "output_type": "stream",
     "text": [
      "1\n"
     ]
    }
   ],
   "source": [
    "alien_0 = {\"x_position\": 0, \"y_position\": 25, \"speed\": \"medium\"}\n",
    "if alien_0[\"speed\"] == \"medium\":\n",
    "    x_increment=1\n",
    "elif alien_0[\"speed\"] == \"slow\":\n",
    "    x_increment=0.5\n",
    "else:\n",
    "    x_increment=3\n",
    "    \n",
    "alien_0[\"x_position\"] = alien_0[\"x_position\"] + x_increment\n",
    "\n",
    "print(alien_0[\"x_position\"])\n",
    "\n",
    "########### \n",
    "del alien_0[\"speed\"]\n",
    "\n"
   ]
  },
  {
   "cell_type": "code",
   "execution_count": 9,
   "metadata": {
    "collapsed": false
   },
   "outputs": [
    {
     "name": "stdout",
     "output_type": "stream",
     "text": [
      "Saeed\n"
     ]
    }
   ],
   "source": [
    "friends = {\"First_name\": \"Saeed\", \"Last_name\": \"Bakhshi\", \"Age\": 34, \"City\": \"Groningen\"}\n",
    "print(friends[\"First_name\"])\n"
   ]
  },
  {
   "cell_type": "code",
   "execution_count": 10,
   "metadata": {
    "collapsed": false
   },
   "outputs": [
    {
     "name": "stdout",
     "output_type": "stream",
     "text": [
      "\n",
      "Key: last\n",
      "Value: fermi\n",
      "\n",
      "Key: username\n",
      "Value: efermi\n",
      "\n",
      "Key: first\n",
      "Value: enrico\n"
     ]
    }
   ],
   "source": [
    "user_0 ={\"username\": \"efermi\",\"first\":\"enrico\",\"last\":\"fermi\",}\n",
    "\n",
    "for k, v in user_0.items(): \n",
    "    print(\"\\nKey: \" + k)\n",
    "    print(\"Value: \" + v)\n",
    "    "
   ]
  },
  {
   "cell_type": "code",
   "execution_count": 11,
   "metadata": {
    "collapsed": false
   },
   "outputs": [
    {
     "name": "stdout",
     "output_type": "stream",
     "text": [
      "Edward\n",
      "Jen\n",
      "Phil\n",
      "Hi Phil , I see your favorite language is Python!\n",
      "Sarah\n",
      "Hi Sarah , I see your favorite language is C!\n",
      "Ruby\n",
      "C\n",
      "Python\n",
      "erin, please take the poll!\n"
     ]
    }
   ],
   "source": [
    "favorite_languages = {\"jen\": \"python\", \"sarah\": \"c\", \"edward\":\"ruby\", \"phil\": \"python\"}\n",
    "friends =[\"phil\", \"sarah\"]\n",
    "\n",
    "for name in sorted(favorite_languages.keys()): #sorted is alphabetical sorting of keys \n",
    "    print(name.title()) \n",
    "    if name in friends:\n",
    "        print(\"Hi \" + name.title() +\n",
    "        \" , I see your favorite language is \" +\n",
    "        favorite_languages[name].title() + \"!\")\n",
    "        \n",
    "for name in set(sorted(favorite_languages.values())): ##the set shows only unique values of values \n",
    "    print(name.title()) \n",
    "    if name in friends:\n",
    "        print(\"Hi \" + name.title() +\n",
    "        \" , I see your favorite language is \" +\n",
    "        favorite_languages[name].title() + \"!\")\n",
    "        \n",
    "        \n",
    "if \"erin\" not in favorite_languages.keys(): ## \n",
    "    print(\"erin, please take the poll!\")\n"
   ]
  },
  {
   "cell_type": "code",
   "execution_count": 12,
   "metadata": {
    "collapsed": false
   },
   "outputs": [
    {
     "name": "stdout",
     "output_type": "stream",
     "text": [
      "{'points': 5, 'color': 'green'}\n",
      "{'points': 10, 'color': 'yellow'}\n",
      "{'points': 15, 'color': 'red'}\n"
     ]
    }
   ],
   "source": [
    "##Nesting \n",
    "#Dictionary in list, or list in dictionary , or dic in dic, or list in list \n",
    "\n",
    "alien_0 = {\"color\":\"green\", \"points\" : 5}\n",
    "alien_1 = {\"color\":\"yellow\", \"points\" : 10}\n",
    "alien_2 = {\"color\":\"red\", \"points\" : 15}\n",
    "\n",
    "aliens = [alien_0, alien_1, alien_2]\n",
    "for alien in aliens :\n",
    "    print(alien)\n",
    "\n"
   ]
  },
  {
   "cell_type": "code",
   "execution_count": 14,
   "metadata": {
    "collapsed": false
   },
   "outputs": [
    {
     "name": "stdout",
     "output_type": "stream",
     "text": [
      "{'points': 5, 'speed': 'slow', 'color': 'green'}\n",
      "{'points': 5, 'speed': 'slow', 'color': 'green'}\n",
      "{'points': 5, 'speed': 'slow', 'color': 'green'}\n",
      "{'points': 5, 'speed': 'slow', 'color': 'green'}\n",
      "{'points': 5, 'speed': 'slow', 'color': 'green'}\n",
      "30\n",
      "{'points': '10', 'speed': 'medium', 'color': 'yellow'}\n",
      "{'points': '10', 'speed': 'medium', 'color': 'yellow'}\n",
      "{'points': '10', 'speed': 'medium', 'color': 'yellow'}\n",
      "{'points': 5, 'speed': 'slow', 'color': 'green'}\n",
      "{'points': 5, 'speed': 'slow', 'color': 'green'}\n"
     ]
    }
   ],
   "source": [
    "#### fleet of aliens \n",
    "aliens = []\n",
    "for alien_number in range(30):\n",
    "    new_alien = {\"color\": \"green\", \"points\":5, \"speed\": \"slow\"}\n",
    "    aliens.append(new_alien)\n",
    "    \n",
    "for alien in aliens[:5] :\n",
    "    print(alien)\n",
    "    \n",
    "#total number \n",
    "print(str(len(aliens)))\n",
    "\n",
    "for alien in aliens[0:3]:\n",
    "    if alien[\"color\"] == \"green\":\n",
    "        alien[\"color\"] = \"yellow\"\n",
    "        alien[\"speed\"] = \"medium\"\n",
    "        alien[\"points\"] = \"10\"\n",
    "        \n",
    "    elif alien[\"color\"] == \"yellow\":\n",
    "        alien[\"color\"] = \"red\"\n",
    "        alien[\"speed\"] = \"fast\"\n",
    "        alien[\"points\"] = \"15\"\n",
    "        \n",
    "    \n",
    "for alien in aliens[:5] :\n",
    "    print(alien)"
   ]
  },
  {
   "cell_type": "code",
   "execution_count": 16,
   "metadata": {
    "collapsed": false
   },
   "outputs": [
    {
     "name": "stdout",
     "output_type": "stream",
     "text": [
      "{'points': '15', 'speed': 'fast', 'color': 'red'}\n",
      "{'points': '15', 'speed': 'fast', 'color': 'red'}\n",
      "{'points': '15', 'speed': 'fast', 'color': 'red'}\n",
      "{'points': 5, 'speed': 'slow', 'color': 'green'}\n",
      "{'points': 5, 'speed': 'slow', 'color': 'green'}\n"
     ]
    }
   ],
   "source": [
    "\n",
    "for alien in aliens[0:3]:\n",
    "    if alien[\"color\"] == \"green\":\n",
    "        alien[\"color\"] = \"yellow\"\n",
    "        alien[\"speed\"] = \"medium\"\n",
    "        alien[\"points\"] = \"10\"\n",
    "        \n",
    "    elif alien[\"color\"] == \"yellow\":\n",
    "        alien[\"color\"] = \"red\"\n",
    "        alien[\"speed\"] = \"fast\"\n",
    "        alien[\"points\"] = \"15\"\n",
    "        \n",
    "    \n",
    "for alien in aliens[:5] :\n",
    "    print(alien)"
   ]
  },
  {
   "cell_type": "code",
   "execution_count": 17,
   "metadata": {
    "collapsed": false
   },
   "outputs": [
    {
     "name": "stdout",
     "output_type": "stream",
     "text": [
      "{'Last_name': 'Bakhshi', 'First_name': 'Saeed', 'City': 'Groningen', 'Age': 34}\n",
      "{'Last_name': 'Van der Zee', 'First_name': 'Sygrid', 'City': 'Groningen', 'Age': 29}\n",
      "{'Last_name': 'Schutte', 'First_name': 'Iris', 'City': 'Rotterdam', 'Age': 28}\n"
     ]
    }
   ],
   "source": [
    "friends_1 = {\"First_name\": \"Saeed\", \"Last_name\": \"Bakhshi\", \"Age\": 34, \"City\": \"Groningen\"}\n",
    "friends_2 = {\"First_name\": \"Sygrid\", \"Last_name\": \"Van der Zee\", \"Age\": 29, \"City\": \"Groningen\"}\n",
    "friends_3 = {\"First_name\": \"Iris\", \"Last_name\": \"Schutte\", \"Age\": 28, \"City\": \"Rotterdam\"}\n",
    "\n",
    "friends = [friends_1, friends_2, friends_3]\n",
    "for friend in friends:\n",
    "    print(friend)\n",
    "        \n",
    "#        for k, v in user_0.items(): \n",
    "#    print(\"\\nKey: \" + k)\n",
    "#    print(\"Value: \" + v)\n",
    "  ### Oefeningen 114 for dics and lists in elkaar !  "
   ]
  },
  {
   "cell_type": "code",
   "execution_count": 18,
   "metadata": {
    "collapsed": false
   },
   "outputs": [
    {
     "name": "stdout",
     "output_type": "stream",
     "text": [
      "Tell me somethingkjbjkb\n",
      "kjbjkb\n"
     ]
    }
   ],
   "source": [
    "message = input(\"Tell me something\")\n",
    "print(message)"
   ]
  },
  {
   "cell_type": "code",
   "execution_count": 19,
   "metadata": {
    "collapsed": false
   },
   "outputs": [
    {
     "name": "stdout",
     "output_type": "stream",
     "text": [
      "how old are you?hb\n",
      "hb\n",
      "You are and adult!\n"
     ]
    }
   ],
   "source": [
    "Age = input(\"how old are you?\")\n",
    "print(Age)\n",
    "\n",
    "if str(21) <= str(Age):\n",
    "    print(\"You are and adult!\")\n"
   ]
  },
  {
   "cell_type": "code",
   "execution_count": 21,
   "metadata": {
    "collapsed": false
   },
   "outputs": [
    {
     "name": "stdout",
     "output_type": "stream",
     "text": [
      "Enter a number9\n",
      "uneven number\n"
     ]
    }
   ],
   "source": [
    "###Module operator \n",
    "number = input(\"Enter a number\")\n",
    "number = int(number)\n",
    "if number % 2 ==0 :\n",
    "    print(\"even number\")\n",
    "    \n",
    "else:\n",
    "    print(\"uneven number\")"
   ]
  },
  {
   "cell_type": "code",
   "execution_count": 22,
   "metadata": {
    "collapsed": false
   },
   "outputs": [
    {
     "name": "stdout",
     "output_type": "stream",
     "text": [
      "1\n",
      "2\n",
      "3\n",
      "4\n"
     ]
    }
   ],
   "source": [
    "current_number = 1\n",
    "while current_number < 5:\n",
    "    print(current_number)\n",
    "    current_number+=1\n"
   ]
  },
  {
   "cell_type": "markdown",
   "metadata": {},
   "source": [
    "prompt = \"\\nTell me something\"\n",
    "prompt += \"\\nEnter 'quit' to exit\"\n",
    "message = \"\"\n",
    "while message != \"quit\":\n",
    "    message = input(prompt)\n",
    "    print(message)"
   ]
  },
  {
   "cell_type": "code",
   "execution_count": 23,
   "metadata": {
    "collapsed": false
   },
   "outputs": [
    {
     "name": "stdout",
     "output_type": "stream",
     "text": [
      "\n",
      "Tell me something\n",
      "Enter 'quit' to exitjhvjhv\n",
      "jhvjhv\n",
      "\n",
      "Tell me something\n",
      "Enter 'quit' to exitjhvhjb\n",
      "jhvhjb\n",
      "\n",
      "Tell me something\n",
      "Enter 'quit' to exitquit\n"
     ]
    }
   ],
   "source": [
    "\n",
    "prompt = \"\\nTell me something\"\n",
    "prompt += \"\\nEnter 'quit' to exit\"\n",
    "message = \"\"\n",
    "while message != \"quit\":\n",
    "    message = input(prompt)\n",
    "    if message != \"quit\":\n",
    "        print(message) "
   ]
  },
  {
   "cell_type": "code",
   "execution_count": 24,
   "metadata": {
    "collapsed": false
   },
   "outputs": [
    {
     "name": "stdout",
     "output_type": "stream",
     "text": [
      "\n",
      "Tell me something\n",
      "Enter 'quit' to exitjhv\n",
      "jhv\n",
      "\n",
      "Tell me something\n",
      "Enter 'quit' to exitquit\n"
     ]
    }
   ],
   "source": [
    "###Flag \n",
    "active = True \n",
    "while active: \n",
    "    message = input(prompt)\n",
    "    \n",
    "    if message == \"quit\":\n",
    "        active = False \n",
    "    else:\n",
    "        print(message)\n",
    "        "
   ]
  },
  {
   "cell_type": "code",
   "execution_count": 362,
   "metadata": {
    "collapsed": false
   },
   "outputs": [
    {
     "name": "stdout",
     "output_type": "stream",
     "text": [
      "\n",
      "Tell me something\n",
      "Enter 'quit' to exithjbhj\n",
      "hjbhj\n",
      "\n",
      "Tell me something\n",
      "Enter 'quit' to exitkjbkj\n",
      "kjbkj\n",
      "\n",
      "Tell me something\n",
      "Enter 'quit' to exitquit\n"
     ]
    }
   ],
   "source": [
    "###Flag \n",
    "active = True \n",
    "while active: \n",
    "    message = input(prompt)\n",
    "    \n",
    "    if message == \"quit\":\n",
    "        break\n",
    "    else:\n",
    "        print(message)"
   ]
  },
  {
   "cell_type": "code",
   "execution_count": 25,
   "metadata": {
    "collapsed": false
   },
   "outputs": [
    {
     "name": "stdout",
     "output_type": "stream",
     "text": [
      "1\n",
      "3\n",
      "5\n",
      "7\n",
      "9\n"
     ]
    }
   ],
   "source": [
    "current_number = 0\n",
    "while current_number < 10: \n",
    "    current_number += 1\n",
    "    if current_number % 2 ==0: \n",
    "        continue\n",
    "    print(current_number)\n",
    "\n"
   ]
  },
  {
   "cell_type": "code",
   "execution_count": 26,
   "metadata": {
    "collapsed": false
   },
   "outputs": [
    {
     "name": "stdout",
     "output_type": "stream",
     "text": [
      "verifying users: Candace\n",
      "verifying users: Brian\n",
      "verifying users: Alice\n",
      "\n",
      "The following users have been confirmed:\n",
      "Candace\n",
      "Brian\n",
      "Alice\n"
     ]
    }
   ],
   "source": [
    "#while loop in dictionary and lists\n",
    "unconfirmed_users = [\"alice\", \"brian\", \"candace\"]\n",
    "confirmed_users = []\n",
    "\n",
    "while unconfirmed_users:\n",
    "    current_user=unconfirmed_users.pop()\n",
    "    \n",
    "    print(\"verifying users: \" + current_user.title())\n",
    "    confirmed_users.append(current_user)\n",
    "    \n",
    "print(\"\\nThe following users have been confirmed:\")\n",
    "for confirmed_user in confirmed_users:\n",
    "    print(confirmed_user.title())\n"
   ]
  },
  {
   "cell_type": "code",
   "execution_count": 27,
   "metadata": {
    "collapsed": false
   },
   "outputs": [
    {
     "name": "stdout",
     "output_type": "stream",
     "text": [
      "['dog', 'cat', 'goldfish', 'cat', 'rabbit', 'cat']\n",
      "['dog', 'goldfish', 'cat', 'rabbit', 'cat']\n",
      "['dog', 'goldfish', 'rabbit', 'cat']\n",
      "['dog', 'goldfish', 'rabbit']\n"
     ]
    }
   ],
   "source": [
    "#removing all instances of specific values from a list \n",
    "\n",
    "pets=[\"dog\", \"cat\", \"goldfish\", \"cat\", \"rabbit\", \"cat\"]\n",
    "print(pets)\n",
    "while \"cat\" in pets:\n",
    "    pets.remove(\"cat\")\n",
    "    print(pets)\n"
   ]
  },
  {
   "cell_type": "code",
   "execution_count": 381,
   "metadata": {
    "collapsed": false
   },
   "outputs": [
    {
     "name": "stdout",
     "output_type": "stream",
     "text": [
      "what's your name?inge\n",
      "which mountain do you like to climb?kfnas\n",
      "would anybody else want to take the poll?yes\n",
      "what's your name?sygrid\n",
      "which mountain do you like to climb?kilomonjaro\n",
      "would anybody else want to take the poll?no\n",
      "\n",
      "---Poll Results ---\n",
      "sygridwould like to climb kilomonjaro.\n",
      "ingewould like to climb kfnas.\n"
     ]
    }
   ],
   "source": [
    "#Filling dictionary with user input \n",
    "responses = {}\n",
    "polling_active = True \n",
    "\n",
    "while polling_active == True:\n",
    "    name= input(\"what's your name?\")\n",
    "    response = input(\"which mountain do you like to climb?\")\n",
    "    \n",
    "    responses[name] = response\n",
    "    \n",
    "    repeat = input(\"would anybody else want to take the poll?\")\n",
    "    if repeat == \"no\":\n",
    "        polling_active= False\n",
    "        \n",
    "#polling complete show results\n",
    "print(\"\\n---Poll Results ---\")\n",
    "for name, response in responses.items():\n",
    "    print(name + \"would like to climb \" + response + \".\")\n",
    "    "
   ]
  },
  {
   "cell_type": "code",
   "execution_count": 402,
   "metadata": {
    "collapsed": false
   },
   "outputs": [
    {
     "name": "stdout",
     "output_type": "stream",
     "text": [
      "The delis has run out of pastrami\n",
      "gezond will be made\n",
      "gezond will be made\n",
      "ham will be made\n",
      "kaas will be made\n",
      "ham will be made\n",
      "kaas will be made\n",
      "\n",
      "The following sandwhiched were made:\n",
      "Gezond\n",
      "Gezond\n",
      "Ham\n",
      "Kaas\n",
      "Ham\n",
      "Kaas\n",
      "['gezond', 'gezond', 'ham', 'kaas', 'ham', 'kaas']\n"
     ]
    }
   ],
   "source": [
    "# \n",
    "sandwhich_orders = [\"kaas\", \"ham\", \"pastrami\", \"kaas\", \"ham\",\"pastrami\", \"gezond\", \"gezond\", \"pastrami\"]\n",
    "finished_orders = []\n",
    "\n",
    "print(\"The delis has run out of pastrami\")\n",
    "\n",
    "while \"pastrami\" in sandwhich_orders:\n",
    "    sandwhich_orders.remove(\"pastrami\")\n",
    "\n",
    "while sandwhich_orders:\n",
    "    sandwhich=sandwhich_orders.pop()\n",
    "    print(sandwhich + \" will be made\")\n",
    "    finished_orders.append(sandwhich)\n",
    "\n",
    "print(\"\\nThe following sandwhiched were made:\")\n",
    "for orders in finished_orders:\n",
    "    print(orders.title())\n",
    "\n",
    "print(finished_orders)\n"
   ]
  },
  {
   "cell_type": "code",
   "execution_count": 405,
   "metadata": {
    "collapsed": false
   },
   "outputs": [
    {
     "name": "stdout",
     "output_type": "stream",
     "text": [
      "what is you're favorite holiday or exitholland\n",
      "what is you're favorite holiday or exitUK\n",
      "what is you're favorite holiday or exitfrance\n",
      "what is you're favorite holiday or exitIran\n",
      "what is you're favorite holiday or exitexit\n",
      "['holland', 'UK', 'france', 'Iran']\n"
     ]
    }
   ],
   "source": [
    "Holidays = []\n",
    "active = True \n",
    "while active == True:\n",
    "    holiday = input(\"what is you're favorite holiday or exit \")\n",
    "    if holiday == \"exit\":\n",
    "        active = False\n",
    "    else:\n",
    "        Holidays.append(holiday)\n",
    "\n",
    "print(Holidays)\n"
   ]
  },
  {
   "cell_type": "code",
   "execution_count": 409,
   "metadata": {
    "collapsed": false
   },
   "outputs": [
    {
     "name": "stdout",
     "output_type": "stream",
     "text": [
      "hello, Jesse!\n"
     ]
    }
   ],
   "source": [
    "###Chapter 8: Functions \n",
    "def greet_user(username):\n",
    "        \"\"\"Display a simple greeting\"\"\"\n",
    "        print(\"hello, \" +username.title() + \"!\")\n",
    "        \n",
    "greet_user(\"jesse\")\n"
   ]
  },
  {
   "cell_type": "code",
   "execution_count": 28,
   "metadata": {
    "collapsed": false
   },
   "outputs": [
    {
     "name": "stdout",
     "output_type": "stream",
     "text": [
      "While and for loops, input, and basic syntax! Alice\n"
     ]
    }
   ],
   "source": [
    "def display_message(book):\n",
    "        \"\"\"What have I learned\"\"\"\n",
    "        print(\"While and for loops, input, and basic syntax! \" + book)\n",
    "         \n",
    "display_message(\"Alice\")\n",
    "\n",
    "##Arguments: positional in the same order, and keyword arguments that contains variable name and value; lists and dictrionarie sof values \n"
   ]
  },
  {
   "cell_type": "code",
   "execution_count": 29,
   "metadata": {
    "collapsed": false
   },
   "outputs": [
    {
     "name": "stdout",
     "output_type": "stream",
     "text": [
      "\n",
      "I have a hamster.\n",
      "My hamster's name is Harry.\n",
      "\n",
      "I have a fish.\n",
      "My fish's name is Butbut.\n",
      "\n",
      "I have a fish.\n",
      "My fish's name is Schweinsteiger.\n"
     ]
    }
   ],
   "source": [
    "##Positional input function\n",
    "\n",
    "def describe_pet(animal_type, pet_name):\n",
    "    \"\"\"display information about the pet\"\"\"\n",
    "    print(\"\\nI have a \" + animal_type + \".\")\n",
    "    print(\"My \" + animal_type + \"'s name is \" + pet_name.title() + \".\")\n",
    "    \n",
    "describe_pet(\"hamster\", \"harry\")\n",
    "describe_pet(\"fish\", \"Butbut\")\n",
    "describe_pet(\"fish\", \"Schweinsteiger\")\n"
   ]
  },
  {
   "cell_type": "code",
   "execution_count": 30,
   "metadata": {
    "collapsed": false
   },
   "outputs": [
    {
     "name": "stdout",
     "output_type": "stream",
     "text": [
      "\n",
      "I have a hamster.\n",
      "My hamster's name is Harry.\n"
     ]
    }
   ],
   "source": [
    "describe_pet(animal_type= \"hamster\", pet_name= \"harry\")\n"
   ]
  },
  {
   "cell_type": "code",
   "execution_count": 31,
   "metadata": {
    "collapsed": false
   },
   "outputs": [
    {
     "name": "stdout",
     "output_type": "stream",
     "text": [
      "\n",
      "I have a dog.\n",
      "My dog's name is Harry.\n"
     ]
    }
   ],
   "source": [
    "#Default values\n",
    "\n",
    "def describe_pet(pet_name, animal_type = \"dog\",):\n",
    "    \"\"\"display information about the pet\"\"\"\n",
    "    print(\"\\nI have a \" + animal_type + \".\")\n",
    "    print(\"My \" + animal_type + \"'s name is \" + pet_name.title() + \".\")\n",
    "    \n",
    "describe_pet(pet_name = \"harry\")"
   ]
  },
  {
   "cell_type": "code",
   "execution_count": 454,
   "metadata": {
    "collapsed": false
   },
   "outputs": [
    {
     "name": "stdout",
     "output_type": "stream",
     "text": [
      "Jimi The Hendrix\n"
     ]
    }
   ],
   "source": [
    "##Return a value \n",
    "\n",
    "def get_formatted_name(first_name, last_name, middle_name = \"\"):\n",
    "    \"\"\"return full name\"\"\"\n",
    "    if middle_name:\n",
    "        full_name= first_name + \" \" + middle_name + \" \" + last_name\n",
    "    else: \n",
    "        full_name= first_name + \" \" + last_name\n",
    "    return full_name.title()\n",
    "\n",
    "musician = get_formatted_name(first_name =\"jimi\", middle_name = \"the\", last_name=\"hendrix\")\n",
    "print(musician)"
   ]
  },
  {
   "cell_type": "code",
   "execution_count": 2,
   "metadata": {
    "collapsed": false
   },
   "outputs": [
    {
     "name": "stdout",
     "output_type": "stream",
     "text": [
      "{'age': 27, 'first': 'jimi', 'last': 'hendrix'}\n"
     ]
    }
   ],
   "source": [
    "def get_formatted_name(first_name,  last_name, age=\"\"):\n",
    "    \"\"\"return full name + age \"\"\"\n",
    "    person= {\"first\":first_name, \"last\":last_name}\n",
    "    if age:\n",
    "        person[\"age\"] = age\n",
    "    return person\n",
    "\n",
    "musician = get_formatted_name(first_name =\"jimi\", last_name=\"hendrix\", age = 27)\n",
    "print(musician)"
   ]
  },
  {
   "cell_type": "code",
   "execution_count": null,
   "metadata": {
    "collapsed": false
   },
   "outputs": [],
   "source": [
    "print(musician)\n"
   ]
  },
  {
   "cell_type": "code",
   "execution_count": 32,
   "metadata": {
    "collapsed": false
   },
   "outputs": [
    {
     "name": "stdout",
     "output_type": "stream",
     "text": [
      "\n",
      "Please tell me your name\n",
      "(enter q at any time to quit)\n",
      "first_name: vkjb\n",
      "last_name: jhbjhb\n",
      "\n",
      "Hello Vkjb Jhbjhb\n",
      "\n",
      "Please tell me your name\n",
      "(enter q at any time to quit)\n",
      "first_name: q\n"
     ]
    }
   ],
   "source": [
    "def get_formatted_name(first_name, last_name):\n",
    "    \"\"\"Return a full name formatted, q to quit\"\"\"\n",
    "    full_name =first_name + \" \" + last_name\n",
    "    return full_name.title()\n",
    "\n",
    "while True:\n",
    "    print(\"\\nPlease tell me your name\")\n",
    "    print(\"(enter q at any time to quit)\")\n",
    "    \n",
    "    f_name= input(\"first_name: \")\n",
    "    if f_name == \"q\":\n",
    "        break\n",
    "        \n",
    "    l_name= input(\"last_name: \")\n",
    "    if l_name ==\"q\":\n",
    "        break\n",
    "        \n",
    "    formatted_name = get_formatted_name(f_name, l_name)\n",
    "    print(\"\\nHello \" + formatted_name)\n"
   ]
  },
  {
   "cell_type": "code",
   "execution_count": 9,
   "metadata": {
    "collapsed": false
   },
   "outputs": [
    {
     "name": "stdout",
     "output_type": "stream",
     "text": [
      "\n",
      "Please tell me a city and country\n",
      "(enter q at any time to quit)\n",
      "city: dvsjkn\n",
      "country: vskj\n",
      "Dvsjkn Vskj\n",
      "\n",
      "Please tell me a city and country\n",
      "(enter q at any time to quit)\n",
      "city: zwolle\n",
      "country: NL\n",
      "Zwolle Nl\n",
      "\n",
      "Please tell me a city and country\n",
      "(enter q at any time to quit)\n",
      "city: q\n"
     ]
    }
   ],
   "source": [
    "def city_country(city, country):\n",
    "    \"\"\"Return a city and country, q to quit\"\"\"\n",
    "    full_name =city + \", \" + country\n",
    "    return full_name.title()\n",
    "\n",
    "while True:\n",
    "    print(\"\\nPlease tell me a city and country\")\n",
    "    print(\"(enter q at any time to quit)\")\n",
    "    \n",
    "    city= input(\"city: \")\n",
    "    if city == \"q\":\n",
    "        break\n",
    "        \n",
    "    country= input(\"country: \")\n",
    "    if country ==\"q\":\n",
    "        break\n",
    "        \n",
    "    formatted_name = get_formatted_name(city, country)\n",
    "    print(formatted_name)"
   ]
  },
  {
   "cell_type": "code",
   "execution_count": 34,
   "metadata": {
    "collapsed": false
   },
   "outputs": [
    {
     "name": "stdout",
     "output_type": "stream",
     "text": [
      "Which artistjimmy\n",
      "which albumexperience\n",
      "how many songs27\n",
      "{'nr_tracks': '27', 'album': 'experience', 'artist': 'jimmy'}\n",
      "Which artistq\n"
     ]
    }
   ],
   "source": [
    "def make_album(artist, album, nr = \"\"):\n",
    "    \"\"\"Return a artist and album, q to quit\"\"\"\n",
    "    if nr:\n",
    "        info ={\"artist\":artist, \"album\": album, \"nr_tracks\": nr}\n",
    "    else:\n",
    "        info ={\"artist\":artist, \"album\": album}\n",
    "    return info\n",
    "\n",
    "while True: \n",
    "    artist = input(\"Which artist\")\n",
    "    if artist == \"q\":\n",
    "        break\n",
    "    album= input(\"which album\")\n",
    "    if album == \"q\":\n",
    "        break\n",
    "    nr = input(\"how many songs\")\n",
    "    if nr == \"q\":\n",
    "        break\n",
    "    musician = make_album(artist = artist, album= album, nr = nr)\n",
    "    print(musician)\n"
   ]
  },
  {
   "cell_type": "code",
   "execution_count": 35,
   "metadata": {
    "collapsed": false
   },
   "outputs": [
    {
     "name": "stdout",
     "output_type": "stream",
     "text": [
      "{'last': 'hendrix', 'first': 'jimi'}\n",
      "{'last': 'Winehouse', 'first': 'Amy'}\n",
      "{'last': 'Laboef', 'first': 'Mashim'}\n"
     ]
    }
   ],
   "source": [
    "def get_formatted_name(first_name,  last_name, age=\"\"):\n",
    "    \"\"\"return full name + age \"\"\"\n",
    "    person= {\"first\":first_name, \"last\":last_name}\n",
    "    return person\n",
    "\n",
    "musician1 = get_formatted_name(first_name =\"jimi\", last_name=\"hendrix\", age = 27)\n",
    "print(musician1)\n",
    "\n",
    "musician2 = get_formatted_name(first_name =\"Amy\", last_name=\"Winehouse\", age = 27)\n",
    "print(musician2)\n",
    "\n",
    "musician3 = get_formatted_name(first_name =\"Mashim\", last_name=\"Laboef\", age = 55)\n",
    "print(musician3)\n"
   ]
  },
  {
   "cell_type": "code",
   "execution_count": 1,
   "metadata": {
    "collapsed": false
   },
   "outputs": [
    {
     "name": "stdout",
     "output_type": "stream",
     "text": [
      "{'first': 'jimi', 'age': 27, 'last': 'hendrix'}\n"
     ]
    }
   ],
   "source": [
    "def get_formatted_name(first_name,  last_name, age=\"\"):\n",
    "    \"\"\"return full name + age \"\"\"\n",
    "    person= {\"first\":first_name, \"last\":last_name}\n",
    "    if age:\n",
    "        person[\"age\"] = age\n",
    "    return person\n",
    "\n",
    "musician = get_formatted_name(first_name =\"jimi\", last_name=\"hendrix\", age = 27)\n",
    "print(musician)"
   ]
  },
  {
   "cell_type": "code",
   "execution_count": 3,
   "metadata": {
    "collapsed": false
   },
   "outputs": [
    {
     "name": "stdout",
     "output_type": "stream",
     "text": [
      "Hello, Hannah!\n",
      "Hello, Ty!\n",
      "Hello, Margot!\n"
     ]
    }
   ],
   "source": [
    "### List in function\n",
    "def greet_users(names):\n",
    "    \"\"\"print a simple greetin to all users\"\"\"\n",
    "    for name in names:\n",
    "        msg = \"Hello, \"+ name.title() + \"!\"\n",
    "        print(msg)\n",
    "        \n",
    "usernames = [\"hannah\", \"ty\", \"margot\"]\n",
    "greet_users(usernames)\n"
   ]
  },
  {
   "cell_type": "code",
   "execution_count": 8,
   "metadata": {
    "collapsed": false
   },
   "outputs": [
    {
     "name": "stdout",
     "output_type": "stream",
     "text": [
      "printing model: dodecehedron\n",
      "printing model: robot pendant\n",
      "printing model: iphone_case\n",
      "\n",
      "All models that were printed:\n",
      "dodecehedron\n",
      "robot pendant\n",
      "iphone_case\n"
     ]
    }
   ],
   "source": [
    "## Modifying list by a function\n",
    "unprinted_designs = [\"iphone_case\", \"robot pendant\", \"dodecehedron\"]\n",
    "completed_models=[]\n",
    "\n",
    "#simulate printing the designs\n",
    "while unprinted_designs:\n",
    "    current_design = unprinted_designs.pop()\n",
    "    print(\"printing model:\", current_design)\n",
    "    completed_models.append(current_design)\n",
    "\n",
    "#display all completed designs\n",
    "print(\"\\nAll models that were printed:\")\n",
    "for completed_model in completed_models:\n",
    "    print(completed_model)\n"
   ]
  },
  {
   "cell_type": "code",
   "execution_count": 36,
   "metadata": {
    "collapsed": false
   },
   "outputs": [
    {
     "name": "stdout",
     "output_type": "stream",
     "text": [
      "printing model: apple\n",
      "printing model: mac\n",
      "printing model: iphone\n",
      "\n",
      "These were made:\n",
      "apple\n",
      "mac\n",
      "iphone\n"
     ]
    }
   ],
   "source": [
    "## make shorted by using functions \n",
    "\n",
    "def print_models(unprinted_designs, completed_models):\n",
    "    \"\"\"\n",
    "    \"\"\"\n",
    "    while unprinted_designs:\n",
    "        current_design = unprinted_designs.pop()\n",
    "        print(\"printing model: \" + current_design)\n",
    "        completed_models.append(current_design)\n",
    "        \n",
    "def show_completed_models(completed_models):\n",
    "    \"\"\"\"\"\"\n",
    "    print(\"\\nThese were made:\")\n",
    "    for complete_model in completed_models:\n",
    "        print(complete_model)\n",
    "    \n",
    "unprinted_designs = [\"iphone\", \"mac\", \"apple\"]\n",
    "completed_models = []\n",
    "\n",
    "\n",
    "print_models(unprinted_designs[:], completed_models) ## [:] make a copy of the file, so that the original stays unaffected. \n",
    "#print_models(unprinted_designs, completed_models). Adjusting the original variable \n",
    "\n",
    "show_completed_models(completed_models)"
   ]
  },
  {
   "cell_type": "code",
   "execution_count": 57,
   "metadata": {
    "collapsed": false
   },
   "outputs": [
    {
     "name": "stdout",
     "output_type": "stream",
     "text": [
      "{'first_name': 'albert', 'last_name': 'einstein', 'field': 'physics', 'location': 'princeton'}\n"
     ]
    }
   ],
   "source": [
    "def build_profile(first, last, **user_info):\n",
    "    \"\"\"build dictionary about everything we know about an individual\"\"\"\n",
    "    profile ={}\n",
    "    profile[\"first_name\"] = first\n",
    "    profile[\"last_name\"] = last\n",
    "    for key, value in user_info.items():\n",
    "        profile[key] = value \n",
    "    return profile \n",
    "    \n",
    "user_profile = build_profile(\"albert\", \"einstein\", location = \"princeton\", field=\"physics\")\n",
    "print(user_profile)\n",
    "\n",
    "###Werkt nog niet helemaal! "
   ]
  },
  {
   "cell_type": "code",
   "execution_count": 39,
   "metadata": {
    "collapsed": false
   },
   "outputs": [
    {
     "name": "stdout",
     "output_type": "stream",
     "text": [
      "\n",
      "Making a 16-inch pizza with the following toppings: \n",
      "- peperoni\n",
      "- mushrooms\n"
     ]
    }
   ],
   "source": [
    "def make_pizza(size, *toppings):\n",
    "    \"\"\"summarize the pizza were about to make\"\"\"\n",
    "    print(\"\\nMaking a \" + str(size) +\n",
    "        \"-inch pizza with the following toppings: \")\n",
    "    for topping in toppings:\n",
    "        print(\"- \" + topping)\n",
    "\n",
    "make_pizza(16, \"peperoni\", \"mushrooms\")"
   ]
  },
  {
   "cell_type": "code",
   "execution_count": 50,
   "metadata": {
    "collapsed": false
   },
   "outputs": [
    {
     "name": "stdout",
     "output_type": "stream",
     "text": [
      "\n",
      "Making a  sandwhich with the following toppings\n",
      "- peperoni\n",
      "- mushrooms\n",
      "\n",
      "Making a  sandwhich with the following toppings\n",
      "- peperoni\n",
      "- mushrooms\n",
      "- jelly\n",
      "\n",
      "Making a  sandwhich with the following toppings\n",
      "- peperoni\n",
      "- mushrooms\n",
      "- cucomber\n",
      "- tomato\n"
     ]
    }
   ],
   "source": [
    "def make_sandwhich(*toppings):\n",
    "    \"\"\"summarize the pizza were about to make\"\"\"\n",
    "    print(\"\\nMaking a  sandwhich with the following toppings\")\n",
    "    for topping in toppings:\n",
    "        print(\"- \" + topping)\n",
    "\n",
    "make_sandwhich(\"peperoni\", \"mushrooms\")\n",
    "make_sandwhich(\"peperoni\", \"mushrooms\", \"jelly\")\n",
    "make_sandwhich(\"peperoni\", \"mushrooms\", \"cucomber\", \"tomato\")"
   ]
  },
  {
   "cell_type": "code",
   "execution_count": 56,
   "metadata": {
    "collapsed": false
   },
   "outputs": [
    {
     "name": "stdout",
     "output_type": "stream",
     "text": [
      "{'gas': 'benzine', 'build': 'japan', 'brand': 'Suzuki', 'type': 'TMM858'}\n"
     ]
    }
   ],
   "source": [
    "def build_car(manufactorer, model, **additional_info):\n",
    "    \"\"\"build dictionary about everything we know about a car\"\"\"\n",
    "    car ={}\n",
    "    car[\"brand\"] = manufactorer\n",
    "    car[\"type\"] = model\n",
    "    for key, value in additional_info.items():\n",
    "        car[key] = value \n",
    "    return car\n",
    "    \n",
    "car_info = build_car(\"Suzuki\", \"TMM858\", build = \"japan\", gas=\"benzine\")\n",
    "print(car_info)\n",
    "\n"
   ]
  },
  {
   "cell_type": "code",
   "execution_count": 74,
   "metadata": {
    "collapsed": false
   },
   "outputs": [],
   "source": [
    "#Chapter CLASSES  (classes are capitalized)\n",
    "\n",
    "class Dog(): \n",
    "    \"\"\"A simple attempt to model a dog\"\"\"\n",
    "    \n",
    "    def __init__(self, name,age):\n",
    "        \"\"\"initialize name and age attributes.\"\"\"\n",
    "        self.name = name\n",
    "        self.age=age\n",
    "        \n",
    "    def sit(self):\n",
    "        \"\"\"Simulate adgo sitting in response to a command\"\"\"\n",
    "        print(self.name.title() + \" is now sitting\")\n",
    "        \n",
    "    def roll_over(self):\n",
    "        \"\"\"simulate rolling over in response to a command\"\"\"\n",
    "        print(self.name.title() + \" rolled over\")\n",
    "        \n",
    "        "
   ]
  },
  {
   "cell_type": "code",
   "execution_count": 76,
   "metadata": {
    "collapsed": false
   },
   "outputs": [
    {
     "name": "stdout",
     "output_type": "stream",
     "text": [
      "My dog is Willie\n",
      "6\n",
      "Willie is now sitting\n",
      "Willie rolled over\n"
     ]
    }
   ],
   "source": [
    "my_dog = Dog(\"Willie\", 6)\n",
    "your_dog= Dog(\"Lucy\", 3)\n",
    "print(\"My dog is \" + my_dog.name.title())\n",
    "print(str(my_dog.age))\n",
    "\n",
    "my_dog.sit()\n",
    "my_dog.roll_over()\n"
   ]
  },
  {
   "cell_type": "code",
   "execution_count": 95,
   "metadata": {
    "collapsed": false
   },
   "outputs": [],
   "source": [
    "#Chapter CLASSES  (classes are capitalized)\n",
    "## methods are functions within the classes \n",
    "\n",
    "class User(): \n",
    "    \"\"\"A simple attempt to model a dog\"\"\"\n",
    "    \n",
    "    def __init__(self, fname, lname, age, gender):\n",
    "        \"\"\"initialize name and age attributes.\"\"\"\n",
    "        self.fname = fname\n",
    "        self.lname = lname\n",
    "        self.age=age\n",
    "        self.gender=gender\n",
    "        \n",
    "    def describe(self):\n",
    "        \"\"\"describure user\"\"\"\n",
    "        print(\"this is \" + self.fname.title() + self.lname.title() + str(self.age) + self.gender)\n",
    "        \n",
    "    def greet(self):\n",
    "        \"\"\"simulate rolling over in response to a command\"\"\"\n",
    "        print(\"Hi \" + self.fname.title())\n",
    "        \n",
    "        "
   ]
  },
  {
   "cell_type": "code",
   "execution_count": 97,
   "metadata": {
    "collapsed": false
   },
   "outputs": [
    {
     "name": "stdout",
     "output_type": "stream",
     "text": [
      "this is Inge Holtman 33 female \n",
      "Hi Inge \n"
     ]
    }
   ],
   "source": [
    "#make a class\n",
    "me = User(\"Inge \", \"Holtman \", 33, \" female \")\n",
    "\n",
    "## call a method to a class \n",
    "me.describe()\n",
    "me.greet()\n"
   ]
  },
  {
   "cell_type": "code",
   "execution_count": 159,
   "metadata": {
    "collapsed": false
   },
   "outputs": [
    {
     "name": "stdout",
     "output_type": "stream",
     "text": [
      "2016 Audi A4\n",
      "this car has 2300 miles on it\n",
      "this car has 2700 miles on it\n"
     ]
    }
   ],
   "source": [
    "class Car():\n",
    "    \"\"\"A simple attempt to represent a car\"\"\"\n",
    "    def __init__(self, make, model, year):\n",
    "        \"\"\"initialize attributes to describe the car\"\"\"\n",
    "        self.make=make\n",
    "        self.model=model\n",
    "        self.year=year\n",
    "        self.odometer_reading=0\n",
    "        \n",
    "    def get_descriptive_name(self):\n",
    "        \"\"\"Return a neatly formatted descriptive name\"\"\"\n",
    "        long_name= str(self.year) + \" \" + self.make + \" \" +self.model\n",
    "        return long_name.title()\n",
    "    \n",
    "    def read_odometer(self):\n",
    "        \"\"\"print mileage\"\"\"\n",
    "        print(\"this car has \" + str(self.odometer_reading) + \" miles on it\")\n",
    "    \n",
    "    def update_odometer(self, mileage):\n",
    "        \n",
    "        \"\"\"update the odometer and check that no one rewinds it\"\"\"\n",
    "        if mileage >= self.odometer_reading:\n",
    "            self.odometer_reading = mileage \n",
    "        else:\n",
    "            print(\"you cant set it back!\")\n",
    "    \n",
    "    def increment_odometer(self, miles):\n",
    "        \"\"\"Add given amount to odemeter\"\"\"\n",
    "        self.odometer_reading +=miles \n",
    "    \n",
    "    \n",
    "my_new_car = Car(\"audi\", \"a4\", \"2016\")\n",
    "print(my_new_car.get_descriptive_name())\n",
    "\n",
    "my_new_car.update_odometer(2300)\n",
    "my_new_car.read_odometer()\n",
    "\n",
    "my_new_car.increment_odometer(400)\n",
    "my_new_car.read_odometer()\n",
    "\n"
   ]
  },
  {
   "cell_type": "code",
   "execution_count": 117,
   "metadata": {
    "collapsed": false
   },
   "outputs": [
    {
     "name": "stdout",
     "output_type": "stream",
     "text": [
      "this car has 69 miles on it\n",
      "you cant set it back!\n",
      "this car has 69 miles on it\n"
     ]
    }
   ],
   "source": [
    "###modify the attribute value:\n",
    "#Either by: directly change value, set through a method, increment the value through a method \n",
    "\n",
    "#directly set\n",
    "my_new_car.odometer_reading = 69\n",
    "my_new_car.read_odometer()\n",
    "\n",
    "#through a method \n",
    "my_new_car.update_odometer(23)\n",
    "my_new_car.read_odometer()\n",
    "\n"
   ]
  },
  {
   "cell_type": "code",
   "execution_count": 143,
   "metadata": {
    "collapsed": false
   },
   "outputs": [
    {
     "name": "stdout",
     "output_type": "stream",
     "text": [
      "this is Yasmine and they serve Thai_Cuisine\n",
      "10\n",
      "30\n"
     ]
    }
   ],
   "source": [
    "###### Restaurant \n",
    "class Restaurant(): \n",
    "    \"\"\"restaurant and cuisine \"\"\"\n",
    "    \n",
    "    def __init__(self, restaurant, cuisine):\n",
    "        \"\"\"initialize name and age attributes.\"\"\"\n",
    "        self.restaurant = restaurant\n",
    "        self.cuisine = cuisine\n",
    "        self.nr_served = 0 \n",
    "        \n",
    "    def describe_restaurant(self):\n",
    "        \"\"\"describure user\"\"\"\n",
    "        print(\"this is \" + self.restaurant.title() + \" and they serve \"+ self.cuisine.title())\n",
    "\n",
    "    def set_nr_customers(self, nr):\n",
    "        \"\"\"Number of customers\"\"\"\n",
    "        self.nr_served = nr\n",
    "        \n",
    "    def increment_nr_customers(self, nr):\n",
    "        \"\"\"Increment number of customers\"\"\"\n",
    "        self.nr_served += nr        \n",
    "        \n",
    "    def nr_customers(self):\n",
    "        \"\"\"Number of customers\"\"\"\n",
    "        print(self.nr_served)\n",
    "        \n",
    "My_restaurant = Restaurant(\"Yasmine\",\"thai_cuisine\")   \n",
    "My_restaurant.describe_restaurant()\n",
    "\n",
    "My_restaurant.set_nr_customers(10)\n",
    "My_restaurant.nr_customers()\n",
    "\n",
    "\n",
    "My_restaurant.increment_nr_customers(20)\n",
    "My_restaurant.nr_customers()"
   ]
  },
  {
   "cell_type": "code",
   "execution_count": 156,
   "metadata": {
    "collapsed": false
   },
   "outputs": [
    {
     "name": "stdout",
     "output_type": "stream",
     "text": [
      "this is Inge Holtman 33 female \n",
      "Hi Inge \n",
      "1\n"
     ]
    }
   ],
   "source": [
    "#Chapter CLASSES  (classes are capitalized)\n",
    "## methods are functions within the classes \n",
    "\n",
    "class User(): \n",
    "    \"\"\"A simple attempt to a user login\"\"\"\n",
    "    \n",
    "    def __init__(self, fname, lname, age, gender):\n",
    "        \"\"\"initialize name and age attributes.\"\"\"\n",
    "        self.fname = fname\n",
    "        self.lname = lname\n",
    "        self.age=age\n",
    "        self.gender=gender\n",
    "        self.login_count = 0 \n",
    "        \n",
    "    def describe(self):\n",
    "        \"\"\"describure user\"\"\"\n",
    "        print(\"this is \" + self.fname.title() + self.lname.title() + str(self.age) + self.gender)\n",
    "        \n",
    "    def greet(self):\n",
    "        \"\"\"simulate rolling over in response to a command\"\"\"\n",
    "        print(\"Hi \" + self.fname.title())\n",
    "    \n",
    "    def increment_login_attempts(self):\n",
    "        \"\"\"Count the number of logins\"\"\"\n",
    "        self.login_count += 1\n",
    "        print(self.login_count)\n",
    "    \n",
    "    def reset_login_attempts(self):\n",
    "        self.login_count = 0\n",
    "        print(\"your login count is reset to 0\")\n",
    "\n",
    "#make a class\n",
    "me = User(\"Inge \", \"Holtman \", 33, \" female \")\n",
    "\n",
    "## call a method to a class \n",
    "me.describe()\n",
    "me.greet()\n",
    "\n",
    "me.increment_login_attempts()"
   ]
  },
  {
   "cell_type": "code",
   "execution_count": 157,
   "metadata": {
    "collapsed": false
   },
   "outputs": [
    {
     "name": "stdout",
     "output_type": "stream",
     "text": [
      "2\n",
      "3\n",
      "4\n",
      "5\n",
      "your login count is reset to 0\n"
     ]
    }
   ],
   "source": [
    "me.increment_login_attempts()\n",
    "me.increment_login_attempts()\n",
    "me.increment_login_attempts()\n",
    "me.increment_login_attempts()\n",
    "me.reset_login_attempts()"
   ]
  },
  {
   "cell_type": "code",
   "execution_count": 169,
   "metadata": {
    "collapsed": false
   },
   "outputs": [
    {
     "name": "stdout",
     "output_type": "stream",
     "text": [
      "2016 Testla Model S\n",
      "70KWh\n"
     ]
    }
   ],
   "source": [
    "####INheritance of car =(parent) to electric car (child)\n",
    "\n",
    "class ElectricCar(Car):\n",
    "    \"\"\"aspects of Car specific to an electric car \"\"\"\n",
    "    def __init__(self, make,model,year):\n",
    "        ###initialize to the parent class\n",
    "        super().__init__(make, model, year)\n",
    "        self.battery_size = 70\n",
    "        \n",
    "    def describe_battery(self):\n",
    "        \"\"\"Print the battery size\"\"\"\n",
    "        print(str(self.battery_size) + \"KWh\")\n",
    "        \n",
    "My_tesla = ElectricCar(\"testla\", \"model S\", \"2016\")\n",
    "print(My_tesla.get_descriptive_name())\n",
    "\n",
    "My_tesla.describe_battery()\n",
    "\n"
   ]
  },
  {
   "cell_type": "code",
   "execution_count": 176,
   "metadata": {
    "collapsed": false
   },
   "outputs": [
    {
     "name": "stdout",
     "output_type": "stream",
     "text": [
      "2016 Testla Model S\n",
      "70\n"
     ]
    }
   ],
   "source": [
    "##Class (Battery) in a class ElectricCar \n",
    "\n",
    "class Battery():\n",
    "    \"\"\"A simple attempt to describe the battery\"\"\"\n",
    "    def __init__(self, battery_size=70):\n",
    "        self.battery_size= battery_size \n",
    "        \n",
    "    def describe_battery(self):\n",
    "        \"\"\"print battery size\"\"\"\n",
    "        print(str(self.battery_size))\n",
    "\n",
    "        \n",
    "class ElectricCar(Car):\n",
    "    \"\"\"aspects of Car specific to an electric car \"\"\"\n",
    "    def __init__(self, make,model,year):\n",
    "        ###initialize to the parent class\n",
    "        super().__init__(make, model, year)\n",
    "        self.battery = Battery()\n",
    "        \n",
    "    def describe_battery(self):\n",
    "        \"\"\"Print the battery size\"\"\"\n",
    "        print(str(self.battery) + \"KWh\")\n",
    "        \n",
    "My_tesla = ElectricCar(\"testla\", \"model S\", \"2016\")\n",
    "print(My_tesla.get_descriptive_name())\n",
    "\n",
    "My_tesla.battery.describe_battery()\n",
    "\n",
    "    "
   ]
  },
  {
   "cell_type": "code",
   "execution_count": null,
   "metadata": {
    "collapsed": true
   },
   "outputs": [],
   "source": []
  }
 ],
 "metadata": {
  "anaconda-cloud": {},
  "kernelspec": {
   "display_name": "Python [conda root]",
   "language": "python",
   "name": "conda-root-py"
  },
  "language_info": {
   "codemirror_mode": {
    "name": "ipython",
    "version": 3
   },
   "file_extension": ".py",
   "mimetype": "text/x-python",
   "name": "python",
   "nbconvert_exporter": "python",
   "pygments_lexer": "ipython3",
   "version": "3.5.2"
  }
 },
 "nbformat": 4,
 "nbformat_minor": 1
}
