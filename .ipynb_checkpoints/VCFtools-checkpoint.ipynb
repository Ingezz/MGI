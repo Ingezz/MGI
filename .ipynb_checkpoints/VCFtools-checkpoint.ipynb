{
 "cells": [
  {
   "cell_type": "code",
   "execution_count": null,
   "metadata": {
    "collapsed": true
   },
   "outputs": [],
   "source": [
    "###Activate the perl-scripts: \n",
    "export PERL5LIB=/gpfs/data01/glasslab/home/iholtman/software/vcftools/src/perl\n",
    "\n",
    "###Index the VCF file \n",
    "tabix -p vcf merged_P15_P17_P4_P5_P7_P8.vcf.gz\n",
    "\n",
    "##Merge multiple VCF files in multisample-VCF\n",
    "vcf-merge P15.recalibrated.haplotypeCalls.vcf.gz P17.recalibrated.haplotypeCalls.vcf.gz P4.recalibrated.haplotypeCalls.vcf.gz P5.recalibrated.haplotypeCalls.vcf.gz P7.recalibrated.haplotypeCalls.vcf.gz P8.recalibrated.haplotypeCalls.vcf.gz | bgzip -c > merged_P15_P17_P4_P5_P7_P8.vcf.gz\n",
    "\n",
    "##General info \n",
    "vcftools --gzvcf merged_P15_P17_P4_P5_P7_P8.vcf.gz\n",
    "\n",
    "\n",
    "####Output vcf file of chromosome one only \n",
    "vcftools --gzvcf merged_P15_P17_P4_P5_P7_P8.vcf.gz --chr 1 --recode --recode-INFO-all --out chr1\n",
    "\n",
    "\n",
    "####Convert VCF to BCF file (=binary- doesn't work \n",
    "vcftools --gzvcf merged_P15_P17_P4_P5_P7_P8.vcf.gz --recode-bcf --recode-INFO-all --out bcf\n",
    "\n",
    "####Compare two files \n",
    "vcftools --gzvcf merged_P15_P17_P4_P5_P7_P8.vcf.gz --gzdiff merged_P15_P17_P4_P5_P7_P8.vcf.gz --out compare\n",
    "\n",
    "####allele frrequency\n",
    "vcftools --gzvcf merged_P15_P17_P4_P5_P7_P8.vcf.gz --freq --out allel_freq\n",
    "\n",
    "##Output for plink format \n",
    "vcftools --gzvcf merged_P15_P17_P4_P5_P7_P8.vcf.gz --plink --chr 1 --out output_in_plink_chr1\n",
    "\n",
    "##Perl tools \n",
    "vcf-compare merged_P15_P17_P4_P5_P7_P8.vcf.gz"
   ]
  }
 ],
 "metadata": {
  "anaconda-cloud": {},
  "kernelspec": {
   "display_name": "Python [conda root]",
   "language": "python",
   "name": "conda-root-py"
  },
  "language_info": {
   "codemirror_mode": {
    "name": "ipython",
    "version": 3
   },
   "file_extension": ".py",
   "mimetype": "text/x-python",
   "name": "python",
   "nbconvert_exporter": "python",
   "pygments_lexer": "ipython3",
   "version": "3.5.2"
  }
 },
 "nbformat": 4,
 "nbformat_minor": 1
}
