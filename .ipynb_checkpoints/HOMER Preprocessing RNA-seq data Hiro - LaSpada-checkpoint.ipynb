{
 "cells": [
  {
   "cell_type": "code",
   "execution_count": 10,
   "metadata": {
    "collapsed": true
   },
   "outputs": [],
   "source": [
    "import pandas\n",
    "import subprocess\n",
    "import glob\n",
    "import os"
   ]
  },
  {
   "cell_type": "code",
   "execution_count": null,
   "metadata": {
    "collapsed": false
   },
   "outputs": [],
   "source": [
    "\n"
   ]
  },
  {
   "cell_type": "code",
   "execution_count": null,
   "metadata": {
    "collapsed": false
   },
   "outputs": [],
   "source": []
  },
  {
   "cell_type": "code",
   "execution_count": null,
   "metadata": {
    "collapsed": false
   },
   "outputs": [],
   "source": []
  },
  {
   "cell_type": "code",
   "execution_count": null,
   "metadata": {
    "collapsed": false
   },
   "outputs": [],
   "source": [
    "tagdir_dir1 = glob.glob(\"/data/mm10/LaSpada/16-09-25-RNAseq/*\")\n",
    "tagdir_dir2 = glob.glob(\"/data/mm10/LaSpada/16-12-09-RNAseq/tag_directories/*\")\n",
    "\n",
    "OUTPUT_PATH = \"/gpfs/data01/glasslab/home/iholtman/Project_Laspada_PPAR-delta-neuron/counts/\"\n",
    "\n",
    "all_reps  = tagdir_dir1 + tagdir_dir2 \n",
    "#print(tags)\n",
    "    \n",
    "output_file = os.path.join(OUTPUT_PATH, '9-12-2016-mouse_rna_rpkm.tsv')\n",
    "homer_cmd_line = 'analyzeRepeats.pl rna mm10 -rpkm -normMatrix 1e7 -pc 3 -count exons -strand both -condenseGenes -d {} > {}'.format(' '.join(all_reps), output_file)\n",
    "#print(homer_cmd_line)\n",
    "print(subprocess.check_output(homer_cmd_line, shell=True, stderr=subprocess.STDOUT).decode())"
   ]
  },
  {
   "cell_type": "code",
   "execution_count": null,
   "metadata": {
    "collapsed": false
   },
   "outputs": [],
   "source": [
    "\n",
    "output_file = os.path.join(OUTPUT_PATH, '9-12-2016-mouse_rna_raw.tsv')\n",
    "homer_cmd_line = 'analyzeRepeats.pl rna mm10 -raw -normMatrix 1e7 -pc 3 -count exons -strand both -condenseGenes -d {} > {}'.format(' '.join(all_reps), output_file)\n",
    "#print(homer_cmd_line)\n",
    "print(subprocess.check_output(homer_cmd_line, shell=True, stderr=subprocess.STDOUT).decode())"
   ]
  },
  {
   "cell_type": "code",
   "execution_count": null,
   "metadata": {
    "collapsed": false
   },
   "outputs": [],
   "source": [
    "    "
   ]
  }
 ],
 "metadata": {
  "anaconda-cloud": {},
  "kernelspec": {
   "display_name": "Python [conda root]",
   "language": "python",
   "name": "conda-root-py"
  },
  "language_info": {
   "codemirror_mode": {
    "name": "ipython",
    "version": 3
   },
   "file_extension": ".py",
   "mimetype": "text/x-python",
   "name": "python",
   "nbconvert_exporter": "python",
   "pygments_lexer": "ipython3",
   "version": "3.5.2"
  }
 },
 "nbformat": 4,
 "nbformat_minor": 1
}
