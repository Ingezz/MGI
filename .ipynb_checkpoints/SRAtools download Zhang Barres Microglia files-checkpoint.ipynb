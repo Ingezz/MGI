{
 "cells": [
  {
   "cell_type": "code",
   "execution_count": 4,
   "metadata": {
    "collapsed": true
   },
   "outputs": [],
   "source": [
    "import subprocess\n",
    "import glob\n",
    "import os"
   ]
  },
  {
   "cell_type": "code",
   "execution_count": 6,
   "metadata": {
    "collapsed": false
   },
   "outputs": [
    {
     "name": "stdout",
     "output_type": "stream",
     "text": [
      "['SRR2557119', 'SRR2557121', 'SRR2557120']\n",
      "Read 6195003 spots for SRR2557119\n",
      "Written 6195003 spots for SRR2557119\n",
      "\n",
      "Read 20995851 spots for SRR2557121\n",
      "Written 20995851 spots for SRR2557121\n",
      "\n",
      "Read 23259402 spots for SRR2557120\n",
      "Written 23259402 spots for SRR2557120\n",
      "\n"
     ]
    }
   ],
   "source": [
    "FILES = [\"SRR2557119\", \"SRR2557121\", \"SRR2557120\"]\n",
    "\n",
    "fastq_dir = \"/data/scratch/iholtman/human_microglia_genotyping/fastq-files/Zhang_Barres\"\n",
    "\n",
    "print(FILES)\n",
    "for File in FILES:\n",
    "    code = \"fastq-dump --outdir \" + fastq_dir + \" --gzip --skip-technical --readids --dumpbase --split-files --clip \" + File + \" --origfmt\"\n",
    "    print(subprocess.check_output(code, shell=True, stderr=subprocess.STDOUT).decode()) ##\n",
    "    #print(code)"
   ]
  },
  {
   "cell_type": "markdown",
   "metadata": {},
   "source": [
    "#Step1 "
   ]
  },
  {
   "cell_type": "code",
   "execution_count": 8,
   "metadata": {
    "collapsed": false
   },
   "outputs": [
    {
     "name": "stdout",
     "output_type": "stream",
     "text": [
      "\n",
      "\n",
      "\n"
     ]
    }
   ],
   "source": [
    "files = [\"SRR2557119\", \"SRR2557121\", \"SRR2557120\"]\n",
    "\n",
    "##Make dirs \n",
    "#shell_code = 'mkdir /data/scratch/iholtman/human_microglia_genotyping/genotyping_molgenis/step1/' + \"Barres\"\n",
    "#print(subprocess.check_output(shell_code, shell=True, stderr=subprocess.STDOUT).decode())  \n",
    "\n",
    "for file in files:\n",
    "    shell_code = 'mkdir /data/scratch/iholtman/human_microglia_genotyping/genotyping_molgenis/step1/Barres/' + file \n",
    "    print(subprocess.check_output(shell_code, shell=True, stderr=subprocess.STDOUT).decode())  \n",
    "    "
   ]
  },
  {
   "cell_type": "code",
   "execution_count": null,
   "metadata": {
    "collapsed": false
   },
   "outputs": [
    {
     "name": "stdout",
     "output_type": "stream",
     "text": [
      "SRR2557119\n",
      "fastqc /data/scratch/iholtman/human_microglia_genotyping/fastq-files/Zhang_Barres//*.fastq.gz -o /data/scratch/iholtman/human_microglia_genotyping/genotyping_molgenis/step1/Barres/SRR2557119/\n"
     ]
    }
   ],
   "source": [
    "input_dir = '/data/scratch/iholtman/human_microglia_genotyping/fastq-files/Zhang_Barres/'\n",
    "output_dir = \"/data/scratch/iholtman/human_microglia_genotyping/genotyping_molgenis/step1/Barres/\"\n",
    "\n",
    "for file in files:\n",
    "    print(file)\n",
    "    input_file_R1 = input_dir + file + '_1.fastq.gz'\n",
    "    input_file_R2 = input_dir + file + '_2.fastq.gz'\n",
    "    code = \"fastqc \" + input_dir + \"*.fastq.gz -o \" + output_dir + file + \"/\"\n",
    "    print(code)    \n",
    "    print(subprocess.check_output(code, shell=True, stderr=subprocess.STDOUT).decode())\n"
   ]
  },
  {
   "cell_type": "markdown",
   "metadata": {
    "collapsed": true
   },
   "source": [
    "##Step2 "
   ]
  },
  {
   "cell_type": "code",
   "execution_count": null,
   "metadata": {
    "collapsed": true
   },
   "outputs": [],
   "source": [
    "##Make dirs \n",
    "shell_code = 'mkdir /data/scratch/iholtman/human_microglia_genotyping/genotyping_molgenis/step2/' + \"Barres\"\n",
    "print(subprocess.check_output(shell_code, shell=True, stderr=subprocess.STDOUT).decode())  \n",
    "\n",
    "for file in files:\n",
    "    shell_code = 'mkdir /data/scratch/iholtman/human_microglia_genotyping/genotyping_molgenis/step2/Barres/' + file \n",
    "    print(subprocess.check_output(shell_code, shell=True, stderr=subprocess.STDOUT).decode())  "
   ]
  },
  {
   "cell_type": "code",
   "execution_count": null,
   "metadata": {
    "collapsed": true
   },
   "outputs": [],
   "source": [
    "#Step 2: Read alignment against reference sequence\n",
    "output_dir = \"/data/scratch/iholtman/human_microglia_genotyping/genotyping_molgenis/step2/Barres/\"\n",
    "hisatIndex = \"/gpfs/data01/glasslab/home/iholtman/software/hisat/reference/hg19/genome\" \n",
    " \n",
    "for file in files:\n",
    "    \n",
    "    input_file_R1 = input_dir + patient + '_1.fastq.gz'\n",
    "    input_file_R2 = input_dir + patient + '_2.fastq.gz'\n",
    "    \n",
    "    output_sub_dir = output_dir + file +\"/\"\n",
    "    \n",
    "    code = \"hisat2 -x \" + hisatIndex + \\\n",
    "    \" -1 \" + input_file_R1 + \\\n",
    "    \" -2 \" + input_file_R2 + \\\n",
    "    \" -p 32 \" + \\\n",
    "    \" --rg-id \" + file + \\\n",
    "    \" -S \" + output_sub_dir + \"aligned_reads.sam -q \"\n",
    "    \n",
    "    print(code)\n",
    "    print(subprocess.check_output(code, shell=True, stderr=subprocess.STDOUT).decode())  \n"
   ]
  },
  {
   "cell_type": "markdown",
   "metadata": {},
   "source": [
    "##Step3 "
   ]
  },
  {
   "cell_type": "code",
   "execution_count": null,
   "metadata": {
    "collapsed": true
   },
   "outputs": [],
   "source": [
    "##Make dirs \n",
    "shell_code = 'mkdir /data/scratch/iholtman/human_microglia_genotyping/genotyping_molgenis/step3/' + \"Barres\"\n",
    "print(subprocess.check_output(shell_code, shell=True, stderr=subprocess.STDOUT).decode())  \n",
    "\n",
    "for file in files:\n",
    "    shell_code = 'mkdir /data/scratch/iholtman/human_microglia_genotyping/genotyping_molgenis/step3/Barres/' + file \n",
    "    print(subprocess.check_output(shell_code, shell=True, stderr=subprocess.STDOUT).decode())  "
   ]
  },
  {
   "cell_type": "code",
   "execution_count": null,
   "metadata": {
    "collapsed": true
   },
   "outputs": [],
   "source": [
    "##Step 3 add readgroups -- updated from Molgenis  \n",
    "#Add readgroups and markduplicates \n",
    "##77bp read length Next-seq and 50bp is hiseq. For time being everything is set to HISEQ! \n",
    "input_dir = '/data/scratch/iholtman/human_microglia_genotyping/genotyping_molgenis/step2/Barres/'\n",
    "output_dir = '/data/scratch/iholtman/human_microglia_genotyping/genotyping_molgenis/step3/Barres/'\n",
    "PICARD=\"java -Xmx32g -XX:ParallelGCThreads=32 -jar /gpfs/data01/glasslab/home/iholtman/Molgenis/picard/picard.jar\" \n",
    "\n",
    "###\n",
    "for file in files:   \n",
    "    input_file = input_dir + patient + \"/\" + \"aligned_reads.sam\"\n",
    "    output_file = output_dir + patient + \"/\" + \"aligned_reads.sam\"\n",
    "        \n",
    "    terminal_code = PICARD + \" AddOrReplaceReadGroups \" + \\\n",
    "    \" I=\" + input_file + \\\n",
    "    \" O=\" + output_file + \\\n",
    "    \" SO=coordinate \" + \\\n",
    "    \" CREATE_INDEX=true \" +\\\n",
    "    \" VALIDATION_STRINGENCY=LENIENT \" + \\\n",
    "    \" RGSM= \" + file + \\\n",
    "    \" RGLB= Illumina \" + \\\n",
    "    \" RGPL= Illumina \" + \\\n",
    "    \" RGPU= Illumina \" + \\\n",
    "    \" RGID=\" + file\n",
    "\n",
    "    print(terminal_code)\n",
    "    print(\"\\n\")\n",
    "    print(subprocess.check_output(terminal_code, shell=True, stderr=subprocess.STDOUT).decode()) ##\n",
    "\n"
   ]
  },
  {
   "cell_type": "markdown",
   "metadata": {},
   "source": [
    "##Step4 "
   ]
  },
  {
   "cell_type": "code",
   "execution_count": null,
   "metadata": {
    "collapsed": true
   },
   "outputs": [],
   "source": [
    "##Make dirs \n",
    "shell_code = 'mkdir /data/scratch/iholtman/human_microglia_genotyping/genotyping_molgenis/step4/' + \"Barres\"\n",
    "print(subprocess.check_output(shell_code, shell=True, stderr=subprocess.STDOUT).decode())  \n",
    "\n",
    "for file in files:\n",
    "    shell_code = 'mkdir /data/scratch/iholtman/human_microglia_genotyping/genotyping_molgenis/step4/Barres/' + file \n",
    "    print(subprocess.check_output(shell_code, shell=True, stderr=subprocess.STDOUT).decode())  "
   ]
  },
  {
   "cell_type": "code",
   "execution_count": null,
   "metadata": {
    "collapsed": true
   },
   "outputs": [],
   "source": [
    "###### Step 4: Merge BAM and build index\n",
    "#Input: BAM files from step 2 ${filePrefix}_${barcode}.sorted.bam)\n",
    "#Output: merged BAM file (${sample}. sorted .merged.bam)\n",
    "PICARD=\"java -Xmx32g -XX:ParallelGCThreads=32 -jar /gpfs/data01/glasslab/home/iholtman/Molgenis/picard/picard.jar\" \n",
    "input_dir = '/data/scratch/iholtman/human_microglia_genotyping/genotyping_molgenis/step3/Barres/'\n",
    "output_dir = '/data/scratch/iholtman/human_microglia_genotyping/genotyping_molgenis/step4/Barres/'\n",
    "\n",
    "patient_list = list(patient_set)\n",
    "patient_list.sort()\n",
    "\n",
    "for file in files:\n",
    "\n",
    "    output_subdir = output_dir + file + \"/\"\n",
    "\n",
    "    input_files = []\n",
    "    print(sum(file == files))\n",
    "    \n",
    "    for i in range(sum(file == files)):\n",
    "        input_files.append(input_dir + overview_fastq[file == files]['unique_ID'].iloc[i] + \"/rg_added_aligned_reads.bam\")\n",
    "    \n",
    "    print(' '.join(input_files))\n",
    "    \n",
    "    terminal_code = PICARD + \" MergeSamFiles \" + \\\n",
    "    \" I=\" + ' I='.join(input_files) + \\\n",
    "    \" O=\" + output_subdir + \"merged.bam \" + \\\n",
    "    \"SO=coordinate \" + \\\n",
    "    \"CREATE_INDEX=true \" + \\\n",
    "    \"VALIDATION_STRINGENCY=LENIENT \" + \\\n",
    "    \"USE_THREADING=true \" \n",
    "    \n",
    "    print(terminal_code)\n",
    "    print(subprocess.check_output(terminal_code, shell=True, stderr=subprocess.STDOUT).decode()) ##\n",
    "\n"
   ]
  },
  {
   "cell_type": "markdown",
   "metadata": {},
   "source": [
    "##Step5 merge duplicates "
   ]
  },
  {
   "cell_type": "code",
   "execution_count": null,
   "metadata": {
    "collapsed": true
   },
   "outputs": [],
   "source": [
    "##Make dirs \n",
    "shell_code = 'mkdir /data/scratch/iholtman/human_microglia_genotyping/genotyping_molgenis/step5/' + \"Barres\"\n",
    "print(subprocess.check_output(shell_code, shell=True, stderr=subprocess.STDOUT).decode())  \n",
    "\n",
    "for file in files:\n",
    "    shell_code = 'mkdir /data/scratch/iholtman/human_microglia_genotyping/genotyping_molgenis/step5/Barres/' + file \n",
    "    print(subprocess.check_output(shell_code, shell=True, stderr=subprocess.STDOUT).decode())  \n",
    "    "
   ]
  },
  {
   "cell_type": "code",
   "execution_count": null,
   "metadata": {
    "collapsed": true
   },
   "outputs": [],
   "source": [
    "##Step 5: Markduplicates -updated from Molgenis \n",
    "input_dir = \"/data/scratch/iholtman/human_microglia_genotyping/genotyping_molgenis/step4/Barres/\"\n",
    "output_dir = \"/data/scratch/iholtman/human_microglia_genotyping/genotyping_molgenis/step5/Barres/\"\n",
    "PICARD=\"java -Xmx32g -XX:ParallelGCThreads=32 -jar /gpfs/data01/glasslab/home/iholtman/Molgenis/picard/picard.jar\" \n",
    "\n",
    "############\n",
    "for file in files:\n",
    "    print(\"working on \" + file)\n",
    "    \n",
    "    input_file = input_dir + file + \"/\" +  \"merged.bam \"\n",
    "    output_file = output_dir + file + \"/\" +  \"dedupped.bam \"\n",
    "    output_subdir = output_dir + file + \"/\" \n",
    "\n",
    "    terminal_code = PICARD + \" MarkDuplicates I=\" + input_file  + \\\n",
    "    \"O= \" + output_file + \\\n",
    "    \"CREATE_INDEX=true VALIDATION_STRINGENCY=LENIENT AS=true\" + \\\n",
    "    \"M= \" + output_subdir + \"output.metrics\"\n",
    "    \n",
    "    print(terminal_code)\n",
    "    #print(subprocess.check_output(terminal_code, shell=True, stderr=subprocess.STDOUT).decode())\n",
    "    "
   ]
  }
 ],
 "metadata": {
  "anaconda-cloud": {},
  "kernelspec": {
   "display_name": "Python [conda root]",
   "language": "python",
   "name": "conda-root-py"
  },
  "language_info": {
   "codemirror_mode": {
    "name": "ipython",
    "version": 3
   },
   "file_extension": ".py",
   "mimetype": "text/x-python",
   "name": "python",
   "nbconvert_exporter": "python",
   "pygments_lexer": "ipython3",
   "version": "3.5.2"
  }
 },
 "nbformat": 4,
 "nbformat_minor": 1
}
