{
 "cells": [
  {
   "cell_type": "code",
   "execution_count": null,
   "metadata": {
    "collapsed": true
   },
   "outputs": [],
   "source": [
    "###########\n",
    "###http://gatkforums.broadinstitute.org/gatk/discussion/2908/howto-revert-a-bam-file-to-fastq-format == replaced by \n",
    "###http://gatkforums.broadinstitute.org/firecloud/discussion/6484/"
   ]
  },
  {
   "cell_type": "code",
   "execution_count": 37,
   "metadata": {
    "collapsed": true
   },
   "outputs": [],
   "source": [
    "import glob \n",
    "import os \n",
    "import subprocess\n",
    "import re\n",
    "import pandas "
   ]
  },
  {
   "cell_type": "code",
   "execution_count": null,
   "metadata": {
    "collapsed": true
   },
   "outputs": [],
   "source": [
    "\n",
    "    "
   ]
  },
  {
   "cell_type": "code",
   "execution_count": 28,
   "metadata": {
    "collapsed": false
   },
   "outputs": [
    {
     "name": "stdout",
     "output_type": "stream",
     "text": [
      "java -Xmx40G -jar '/gpfs/data01/glasslab/home/iholtman/Molgenis/picard/picard.jar' RevertSam I=/data/scratch/iholtman/human_microglia_genotyping/fastq-files/Brazil_data/FTP_holanda/SPM-13_S4.sort.dedup.Aligned.out.bam O=/data/scratch/iholtman/human_microglia_genotyping/fastq-files/Brazil_data/FTP_holanda/revertedSPM-13_S4.sort.dedup.Aligned.out.bam SANITIZE=true MAX_DISCARD_FRACTION=0.005 ATTRIBUTE_TO_CLEAR=XT ATTRIBUTE_TO_CLEAR=XN ATTRIBUTE_TO_CLEAR=AS ATTRIBUTE_TO_CLEAR=OC ATTRIBUTE_TO_CLEAR=OP SORT_ORDER=queryname RESTORE_ORIGINAL_QUALITIES=true REMOVE_DUPLICATE_INFORMATION=true REMOVE_ALIGNMENT_INFORMATION=true \n",
      "java -Xmx40G -jar '/gpfs/data01/glasslab/home/iholtman/Molgenis/picard/picard.jar' RevertSam I=/data/scratch/iholtman/human_microglia_genotyping/fastq-files/Brazil_data/FTP_holanda/SPM11_CTTGTA.sort.dedup.Aligned.out.bam O=/data/scratch/iholtman/human_microglia_genotyping/fastq-files/Brazil_data/FTP_holanda/revertedSPM11_CTTGTA.sort.dedup.Aligned.out.bam SANITIZE=true MAX_DISCARD_FRACTION=0.005 ATTRIBUTE_TO_CLEAR=XT ATTRIBUTE_TO_CLEAR=XN ATTRIBUTE_TO_CLEAR=AS ATTRIBUTE_TO_CLEAR=OC ATTRIBUTE_TO_CLEAR=OP SORT_ORDER=queryname RESTORE_ORIGINAL_QUALITIES=true REMOVE_DUPLICATE_INFORMATION=true REMOVE_ALIGNMENT_INFORMATION=true \n",
      "java -Xmx40G -jar '/gpfs/data01/glasslab/home/iholtman/Molgenis/picard/picard.jar' RevertSam I=/data/scratch/iholtman/human_microglia_genotyping/fastq-files/Brazil_data/FTP_holanda/SPM-2_S5.sort.dedup.Aligned.out.bam O=/data/scratch/iholtman/human_microglia_genotyping/fastq-files/Brazil_data/FTP_holanda/revertedSPM-2_S5.sort.dedup.Aligned.out.bam SANITIZE=true MAX_DISCARD_FRACTION=0.005 ATTRIBUTE_TO_CLEAR=XT ATTRIBUTE_TO_CLEAR=XN ATTRIBUTE_TO_CLEAR=AS ATTRIBUTE_TO_CLEAR=OC ATTRIBUTE_TO_CLEAR=OP SORT_ORDER=queryname RESTORE_ORIGINAL_QUALITIES=true REMOVE_DUPLICATE_INFORMATION=true REMOVE_ALIGNMENT_INFORMATION=true \n",
      "java -Xmx40G -jar '/gpfs/data01/glasslab/home/iholtman/Molgenis/picard/picard.jar' RevertSam I=/data/scratch/iholtman/human_microglia_genotyping/fastq-files/Brazil_data/FTP_holanda/spm22_CGCTCATT-GGCTCTGA.sort.dedup.Aligned.out.bam O=/data/scratch/iholtman/human_microglia_genotyping/fastq-files/Brazil_data/FTP_holanda/revertedspm22_CGCTCATT-GGCTCTGA.sort.dedup.Aligned.out.bam SANITIZE=true MAX_DISCARD_FRACTION=0.005 ATTRIBUTE_TO_CLEAR=XT ATTRIBUTE_TO_CLEAR=XN ATTRIBUTE_TO_CLEAR=AS ATTRIBUTE_TO_CLEAR=OC ATTRIBUTE_TO_CLEAR=OP SORT_ORDER=queryname RESTORE_ORIGINAL_QUALITIES=true REMOVE_DUPLICATE_INFORMATION=true REMOVE_ALIGNMENT_INFORMATION=true \n",
      "java -Xmx40G -jar '/gpfs/data01/glasslab/home/iholtman/Molgenis/picard/picard.jar' RevertSam I=/data/scratch/iholtman/human_microglia_genotyping/fastq-files/Brazil_data/FTP_holanda/S12082_ACTTGA.sort.dedup.Aligned.out.bam O=/data/scratch/iholtman/human_microglia_genotyping/fastq-files/Brazil_data/FTP_holanda/revertedS12082_ACTTGA.sort.dedup.Aligned.out.bam SANITIZE=true MAX_DISCARD_FRACTION=0.005 ATTRIBUTE_TO_CLEAR=XT ATTRIBUTE_TO_CLEAR=XN ATTRIBUTE_TO_CLEAR=AS ATTRIBUTE_TO_CLEAR=OC ATTRIBUTE_TO_CLEAR=OP SORT_ORDER=queryname RESTORE_ORIGINAL_QUALITIES=true REMOVE_DUPLICATE_INFORMATION=true REMOVE_ALIGNMENT_INFORMATION=true \n",
      "java -Xmx40G -jar '/gpfs/data01/glasslab/home/iholtman/Molgenis/picard/picard.jar' RevertSam I=/data/scratch/iholtman/human_microglia_genotyping/fastq-files/Brazil_data/FTP_holanda/SPM9_CAGATC.sort.dedup.Aligned.out.bam O=/data/scratch/iholtman/human_microglia_genotyping/fastq-files/Brazil_data/FTP_holanda/revertedSPM9_CAGATC.sort.dedup.Aligned.out.bam SANITIZE=true MAX_DISCARD_FRACTION=0.005 ATTRIBUTE_TO_CLEAR=XT ATTRIBUTE_TO_CLEAR=XN ATTRIBUTE_TO_CLEAR=AS ATTRIBUTE_TO_CLEAR=OC ATTRIBUTE_TO_CLEAR=OP SORT_ORDER=queryname RESTORE_ORIGINAL_QUALITIES=true REMOVE_DUPLICATE_INFORMATION=true REMOVE_ALIGNMENT_INFORMATION=true \n",
      "java -Xmx40G -jar '/gpfs/data01/glasslab/home/iholtman/Molgenis/picard/picard.jar' RevertSam I=/data/scratch/iholtman/human_microglia_genotyping/fastq-files/Brazil_data/FTP_holanda/S12067_TTAGGC.sort.dedup.Aligned.out.bam O=/data/scratch/iholtman/human_microglia_genotyping/fastq-files/Brazil_data/FTP_holanda/revertedS12067_TTAGGC.sort.dedup.Aligned.out.bam SANITIZE=true MAX_DISCARD_FRACTION=0.005 ATTRIBUTE_TO_CLEAR=XT ATTRIBUTE_TO_CLEAR=XN ATTRIBUTE_TO_CLEAR=AS ATTRIBUTE_TO_CLEAR=OC ATTRIBUTE_TO_CLEAR=OP SORT_ORDER=queryname RESTORE_ORIGINAL_QUALITIES=true REMOVE_DUPLICATE_INFORMATION=true REMOVE_ALIGNMENT_INFORMATION=true \n",
      "java -Xmx40G -jar '/gpfs/data01/glasslab/home/iholtman/Molgenis/picard/picard.jar' RevertSam I=/data/scratch/iholtman/human_microglia_genotyping/fastq-files/Brazil_data/FTP_holanda/SPM5_TGACCA.sort.dedup.Aligned.out.bam O=/data/scratch/iholtman/human_microglia_genotyping/fastq-files/Brazil_data/FTP_holanda/revertedSPM5_TGACCA.sort.dedup.Aligned.out.bam SANITIZE=true MAX_DISCARD_FRACTION=0.005 ATTRIBUTE_TO_CLEAR=XT ATTRIBUTE_TO_CLEAR=XN ATTRIBUTE_TO_CLEAR=AS ATTRIBUTE_TO_CLEAR=OC ATTRIBUTE_TO_CLEAR=OP SORT_ORDER=queryname RESTORE_ORIGINAL_QUALITIES=true REMOVE_DUPLICATE_INFORMATION=true REMOVE_ALIGNMENT_INFORMATION=true \n",
      "java -Xmx40G -jar '/gpfs/data01/glasslab/home/iholtman/Molgenis/picard/picard.jar' RevertSam I=/data/scratch/iholtman/human_microglia_genotyping/fastq-files/Brazil_data/FTP_holanda/SPM-33_S14.sort.dedup.Aligned.out.bam O=/data/scratch/iholtman/human_microglia_genotyping/fastq-files/Brazil_data/FTP_holanda/revertedSPM-33_S14.sort.dedup.Aligned.out.bam SANITIZE=true MAX_DISCARD_FRACTION=0.005 ATTRIBUTE_TO_CLEAR=XT ATTRIBUTE_TO_CLEAR=XN ATTRIBUTE_TO_CLEAR=AS ATTRIBUTE_TO_CLEAR=OC ATTRIBUTE_TO_CLEAR=OP SORT_ORDER=queryname RESTORE_ORIGINAL_QUALITIES=true REMOVE_DUPLICATE_INFORMATION=true REMOVE_ALIGNMENT_INFORMATION=true \n",
      "java -Xmx40G -jar '/gpfs/data01/glasslab/home/iholtman/Molgenis/picard/picard.jar' RevertSam I=/data/scratch/iholtman/human_microglia_genotyping/fastq-files/Brazil_data/FTP_holanda/SPM-8_S1.sort.dedup.Aligned.out.bam O=/data/scratch/iholtman/human_microglia_genotyping/fastq-files/Brazil_data/FTP_holanda/revertedSPM-8_S1.sort.dedup.Aligned.out.bam SANITIZE=true MAX_DISCARD_FRACTION=0.005 ATTRIBUTE_TO_CLEAR=XT ATTRIBUTE_TO_CLEAR=XN ATTRIBUTE_TO_CLEAR=AS ATTRIBUTE_TO_CLEAR=OC ATTRIBUTE_TO_CLEAR=OP SORT_ORDER=queryname RESTORE_ORIGINAL_QUALITIES=true REMOVE_DUPLICATE_INFORMATION=true REMOVE_ALIGNMENT_INFORMATION=true \n",
      "java -Xmx40G -jar '/gpfs/data01/glasslab/home/iholtman/Molgenis/picard/picard.jar' RevertSam I=/data/scratch/iholtman/human_microglia_genotyping/fastq-files/Brazil_data/FTP_holanda/shuffled_SPM-13_S4.sort.dedup.Aligned.out.bam O=/data/scratch/iholtman/human_microglia_genotyping/fastq-files/Brazil_data/FTP_holanda/revertedshuffled_SPM-13_S4.sort.dedup.Aligned.out.bam SANITIZE=true MAX_DISCARD_FRACTION=0.005 ATTRIBUTE_TO_CLEAR=XT ATTRIBUTE_TO_CLEAR=XN ATTRIBUTE_TO_CLEAR=AS ATTRIBUTE_TO_CLEAR=OC ATTRIBUTE_TO_CLEAR=OP SORT_ORDER=queryname RESTORE_ORIGINAL_QUALITIES=true REMOVE_DUPLICATE_INFORMATION=true REMOVE_ALIGNMENT_INFORMATION=true \n",
      "java -Xmx40G -jar '/gpfs/data01/glasslab/home/iholtman/Molgenis/picard/picard.jar' RevertSam I=/data/scratch/iholtman/human_microglia_genotyping/fastq-files/Brazil_data/FTP_holanda/SPM-11_S3.sort.dedup.Aligned.out.bam O=/data/scratch/iholtman/human_microglia_genotyping/fastq-files/Brazil_data/FTP_holanda/revertedSPM-11_S3.sort.dedup.Aligned.out.bam SANITIZE=true MAX_DISCARD_FRACTION=0.005 ATTRIBUTE_TO_CLEAR=XT ATTRIBUTE_TO_CLEAR=XN ATTRIBUTE_TO_CLEAR=AS ATTRIBUTE_TO_CLEAR=OC ATTRIBUTE_TO_CLEAR=OP SORT_ORDER=queryname RESTORE_ORIGINAL_QUALITIES=true REMOVE_DUPLICATE_INFORMATION=true REMOVE_ALIGNMENT_INFORMATION=true \n",
      "java -Xmx40G -jar '/gpfs/data01/glasslab/home/iholtman/Molgenis/picard/picard.jar' RevertSam I=/data/scratch/iholtman/human_microglia_genotyping/fastq-files/Brazil_data/FTP_holanda/SPM30_CGATGT.sort.dedup.Aligned.out.bam O=/data/scratch/iholtman/human_microglia_genotyping/fastq-files/Brazil_data/FTP_holanda/revertedSPM30_CGATGT.sort.dedup.Aligned.out.bam SANITIZE=true MAX_DISCARD_FRACTION=0.005 ATTRIBUTE_TO_CLEAR=XT ATTRIBUTE_TO_CLEAR=XN ATTRIBUTE_TO_CLEAR=AS ATTRIBUTE_TO_CLEAR=OC ATTRIBUTE_TO_CLEAR=OP SORT_ORDER=queryname RESTORE_ORIGINAL_QUALITIES=true REMOVE_DUPLICATE_INFORMATION=true REMOVE_ALIGNMENT_INFORMATION=true \n",
      "java -Xmx40G -jar '/gpfs/data01/glasslab/home/iholtman/Molgenis/picard/picard.jar' RevertSam I=/data/scratch/iholtman/human_microglia_genotyping/fastq-files/Brazil_data/FTP_holanda/SPM4_CGATGT.sort.dedup.Aligned.out.bam O=/data/scratch/iholtman/human_microglia_genotyping/fastq-files/Brazil_data/FTP_holanda/revertedSPM4_CGATGT.sort.dedup.Aligned.out.bam SANITIZE=true MAX_DISCARD_FRACTION=0.005 ATTRIBUTE_TO_CLEAR=XT ATTRIBUTE_TO_CLEAR=XN ATTRIBUTE_TO_CLEAR=AS ATTRIBUTE_TO_CLEAR=OC ATTRIBUTE_TO_CLEAR=OP SORT_ORDER=queryname RESTORE_ORIGINAL_QUALITIES=true REMOVE_DUPLICATE_INFORMATION=true REMOVE_ALIGNMENT_INFORMATION=true \n",
      "java -Xmx40G -jar '/gpfs/data01/glasslab/home/iholtman/Molgenis/picard/picard.jar' RevertSam I=/data/scratch/iholtman/human_microglia_genotyping/fastq-files/Brazil_data/FTP_holanda/S12048_ATCACG.sort.dedup.Aligned.out.bam O=/data/scratch/iholtman/human_microglia_genotyping/fastq-files/Brazil_data/FTP_holanda/revertedS12048_ATCACG.sort.dedup.Aligned.out.bam SANITIZE=true MAX_DISCARD_FRACTION=0.005 ATTRIBUTE_TO_CLEAR=XT ATTRIBUTE_TO_CLEAR=XN ATTRIBUTE_TO_CLEAR=AS ATTRIBUTE_TO_CLEAR=OC ATTRIBUTE_TO_CLEAR=OP SORT_ORDER=queryname RESTORE_ORIGINAL_QUALITIES=true REMOVE_DUPLICATE_INFORMATION=true REMOVE_ALIGNMENT_INFORMATION=true \n",
      "java -Xmx40G -jar '/gpfs/data01/glasslab/home/iholtman/Molgenis/picard/picard.jar' RevertSam I=/data/scratch/iholtman/human_microglia_genotyping/fastq-files/Brazil_data/FTP_holanda/SPM-26_S11.sort.dedup.Aligned.out.bam O=/data/scratch/iholtman/human_microglia_genotyping/fastq-files/Brazil_data/FTP_holanda/revertedSPM-26_S11.sort.dedup.Aligned.out.bam SANITIZE=true MAX_DISCARD_FRACTION=0.005 ATTRIBUTE_TO_CLEAR=XT ATTRIBUTE_TO_CLEAR=XN ATTRIBUTE_TO_CLEAR=AS ATTRIBUTE_TO_CLEAR=OC ATTRIBUTE_TO_CLEAR=OP SORT_ORDER=queryname RESTORE_ORIGINAL_QUALITIES=true REMOVE_DUPLICATE_INFORMATION=true REMOVE_ALIGNMENT_INFORMATION=true \n",
      "java -Xmx40G -jar '/gpfs/data01/glasslab/home/iholtman/Molgenis/picard/picard.jar' RevertSam I=/data/scratch/iholtman/human_microglia_genotyping/fastq-files/Brazil_data/FTP_holanda/S15018_GTTTCG.sort.dedup.Aligned.out.bam O=/data/scratch/iholtman/human_microglia_genotyping/fastq-files/Brazil_data/FTP_holanda/revertedS15018_GTTTCG.sort.dedup.Aligned.out.bam SANITIZE=true MAX_DISCARD_FRACTION=0.005 ATTRIBUTE_TO_CLEAR=XT ATTRIBUTE_TO_CLEAR=XN ATTRIBUTE_TO_CLEAR=AS ATTRIBUTE_TO_CLEAR=OC ATTRIBUTE_TO_CLEAR=OP SORT_ORDER=queryname RESTORE_ORIGINAL_QUALITIES=true REMOVE_DUPLICATE_INFORMATION=true REMOVE_ALIGNMENT_INFORMATION=true \n",
      "java -Xmx40G -jar '/gpfs/data01/glasslab/home/iholtman/Molgenis/picard/picard.jar' RevertSam I=/data/scratch/iholtman/human_microglia_genotyping/fastq-files/Brazil_data/FTP_holanda/revertedSPM-13_S4.sort.dedup.Aligned.out.bam O=/data/scratch/iholtman/human_microglia_genotyping/fastq-files/Brazil_data/FTP_holanda/revertedrevertedSPM-13_S4.sort.dedup.Aligned.out.bam SANITIZE=true MAX_DISCARD_FRACTION=0.005 ATTRIBUTE_TO_CLEAR=XT ATTRIBUTE_TO_CLEAR=XN ATTRIBUTE_TO_CLEAR=AS ATTRIBUTE_TO_CLEAR=OC ATTRIBUTE_TO_CLEAR=OP SORT_ORDER=queryname RESTORE_ORIGINAL_QUALITIES=true REMOVE_DUPLICATE_INFORMATION=true REMOVE_ALIGNMENT_INFORMATION=true \n",
      "java -Xmx40G -jar '/gpfs/data01/glasslab/home/iholtman/Molgenis/picard/picard.jar' RevertSam I=/data/scratch/iholtman/human_microglia_genotyping/fastq-files/Brazil_data/FTP_holanda/spm29_TCCGGAGA-GGCTCTGA.sort.dedup.Aligned.out.bam O=/data/scratch/iholtman/human_microglia_genotyping/fastq-files/Brazil_data/FTP_holanda/revertedspm29_TCCGGAGA-GGCTCTGA.sort.dedup.Aligned.out.bam SANITIZE=true MAX_DISCARD_FRACTION=0.005 ATTRIBUTE_TO_CLEAR=XT ATTRIBUTE_TO_CLEAR=XN ATTRIBUTE_TO_CLEAR=AS ATTRIBUTE_TO_CLEAR=OC ATTRIBUTE_TO_CLEAR=OP SORT_ORDER=queryname RESTORE_ORIGINAL_QUALITIES=true REMOVE_DUPLICATE_INFORMATION=true REMOVE_ALIGNMENT_INFORMATION=true \n",
      "java -Xmx40G -jar '/gpfs/data01/glasslab/home/iholtman/Molgenis/picard/picard.jar' RevertSam I=/data/scratch/iholtman/human_microglia_genotyping/fastq-files/Brazil_data/FTP_holanda/SPM-14_S8.sort.dedup.Aligned.out.bam O=/data/scratch/iholtman/human_microglia_genotyping/fastq-files/Brazil_data/FTP_holanda/revertedSPM-14_S8.sort.dedup.Aligned.out.bam SANITIZE=true MAX_DISCARD_FRACTION=0.005 ATTRIBUTE_TO_CLEAR=XT ATTRIBUTE_TO_CLEAR=XN ATTRIBUTE_TO_CLEAR=AS ATTRIBUTE_TO_CLEAR=OC ATTRIBUTE_TO_CLEAR=OP SORT_ORDER=queryname RESTORE_ORIGINAL_QUALITIES=true REMOVE_DUPLICATE_INFORMATION=true REMOVE_ALIGNMENT_INFORMATION=true \n",
      "java -Xmx40G -jar '/gpfs/data01/glasslab/home/iholtman/Molgenis/picard/picard.jar' RevertSam I=/data/scratch/iholtman/human_microglia_genotyping/fastq-files/Brazil_data/FTP_holanda/SPM26_GTCCGC.sort.dedup.Aligned.out.bam O=/data/scratch/iholtman/human_microglia_genotyping/fastq-files/Brazil_data/FTP_holanda/revertedSPM26_GTCCGC.sort.dedup.Aligned.out.bam SANITIZE=true MAX_DISCARD_FRACTION=0.005 ATTRIBUTE_TO_CLEAR=XT ATTRIBUTE_TO_CLEAR=XN ATTRIBUTE_TO_CLEAR=AS ATTRIBUTE_TO_CLEAR=OC ATTRIBUTE_TO_CLEAR=OP SORT_ORDER=queryname RESTORE_ORIGINAL_QUALITIES=true REMOVE_DUPLICATE_INFORMATION=true REMOVE_ALIGNMENT_INFORMATION=true \n",
      "java -Xmx40G -jar '/gpfs/data01/glasslab/home/iholtman/Molgenis/picard/picard.jar' RevertSam I=/data/scratch/iholtman/human_microglia_genotyping/fastq-files/Brazil_data/FTP_holanda/spm23_TCCGGAGA-TATAGCCT.sort.dedup.Aligned.out.bam O=/data/scratch/iholtman/human_microglia_genotyping/fastq-files/Brazil_data/FTP_holanda/revertedspm23_TCCGGAGA-TATAGCCT.sort.dedup.Aligned.out.bam SANITIZE=true MAX_DISCARD_FRACTION=0.005 ATTRIBUTE_TO_CLEAR=XT ATTRIBUTE_TO_CLEAR=XN ATTRIBUTE_TO_CLEAR=AS ATTRIBUTE_TO_CLEAR=OC ATTRIBUTE_TO_CLEAR=OP SORT_ORDER=queryname RESTORE_ORIGINAL_QUALITIES=true REMOVE_DUPLICATE_INFORMATION=true REMOVE_ALIGNMENT_INFORMATION=true \n",
      "java -Xmx40G -jar '/gpfs/data01/glasslab/home/iholtman/Molgenis/picard/picard.jar' RevertSam I=/data/scratch/iholtman/human_microglia_genotyping/fastq-files/Brazil_data/FTP_holanda/spm31_ATTACTCG-AGGCGAAG.sort.dedup.Aligned.out.bam O=/data/scratch/iholtman/human_microglia_genotyping/fastq-files/Brazil_data/FTP_holanda/revertedspm31_ATTACTCG-AGGCGAAG.sort.dedup.Aligned.out.bam SANITIZE=true MAX_DISCARD_FRACTION=0.005 ATTRIBUTE_TO_CLEAR=XT ATTRIBUTE_TO_CLEAR=XN ATTRIBUTE_TO_CLEAR=AS ATTRIBUTE_TO_CLEAR=OC ATTRIBUTE_TO_CLEAR=OP SORT_ORDER=queryname RESTORE_ORIGINAL_QUALITIES=true REMOVE_DUPLICATE_INFORMATION=true REMOVE_ALIGNMENT_INFORMATION=true \n",
      "java -Xmx40G -jar '/gpfs/data01/glasslab/home/iholtman/Molgenis/picard/picard.jar' RevertSam I=/data/scratch/iholtman/human_microglia_genotyping/fastq-files/Brazil_data/FTP_holanda/S13067_GTGGCC.sort.dedup.Aligned.out.bam O=/data/scratch/iholtman/human_microglia_genotyping/fastq-files/Brazil_data/FTP_holanda/revertedS13067_GTGGCC.sort.dedup.Aligned.out.bam SANITIZE=true MAX_DISCARD_FRACTION=0.005 ATTRIBUTE_TO_CLEAR=XT ATTRIBUTE_TO_CLEAR=XN ATTRIBUTE_TO_CLEAR=AS ATTRIBUTE_TO_CLEAR=OC ATTRIBUTE_TO_CLEAR=OP SORT_ORDER=queryname RESTORE_ORIGINAL_QUALITIES=true REMOVE_DUPLICATE_INFORMATION=true REMOVE_ALIGNMENT_INFORMATION=true \n",
      "java -Xmx40G -jar '/gpfs/data01/glasslab/home/iholtman/Molgenis/picard/picard.jar' RevertSam I=/data/scratch/iholtman/human_microglia_genotyping/fastq-files/Brazil_data/FTP_holanda/spm10_ATTACTCG-ATAGAGGC.sort.dedup.Aligned.out.bam O=/data/scratch/iholtman/human_microglia_genotyping/fastq-files/Brazil_data/FTP_holanda/revertedspm10_ATTACTCG-ATAGAGGC.sort.dedup.Aligned.out.bam SANITIZE=true MAX_DISCARD_FRACTION=0.005 ATTRIBUTE_TO_CLEAR=XT ATTRIBUTE_TO_CLEAR=XN ATTRIBUTE_TO_CLEAR=AS ATTRIBUTE_TO_CLEAR=OC ATTRIBUTE_TO_CLEAR=OP SORT_ORDER=queryname RESTORE_ORIGINAL_QUALITIES=true REMOVE_DUPLICATE_INFORMATION=true REMOVE_ALIGNMENT_INFORMATION=true \n",
      "java -Xmx40G -jar '/gpfs/data01/glasslab/home/iholtman/Molgenis/picard/picard.jar' RevertSam I=/data/scratch/iholtman/human_microglia_genotyping/fastq-files/Brazil_data/FTP_holanda/spm32_ATTACTCG-TAATCTTA.sort.dedup.Aligned.out.bam O=/data/scratch/iholtman/human_microglia_genotyping/fastq-files/Brazil_data/FTP_holanda/revertedspm32_ATTACTCG-TAATCTTA.sort.dedup.Aligned.out.bam SANITIZE=true MAX_DISCARD_FRACTION=0.005 ATTRIBUTE_TO_CLEAR=XT ATTRIBUTE_TO_CLEAR=XN ATTRIBUTE_TO_CLEAR=AS ATTRIBUTE_TO_CLEAR=OC ATTRIBUTE_TO_CLEAR=OP SORT_ORDER=queryname RESTORE_ORIGINAL_QUALITIES=true REMOVE_DUPLICATE_INFORMATION=true REMOVE_ALIGNMENT_INFORMATION=true \n",
      "java -Xmx40G -jar '/gpfs/data01/glasslab/home/iholtman/Molgenis/picard/picard.jar' RevertSam I=/data/scratch/iholtman/human_microglia_genotyping/fastq-files/Brazil_data/FTP_holanda/SPM-5_S6.sort.dedup.Aligned.out.bam O=/data/scratch/iholtman/human_microglia_genotyping/fastq-files/Brazil_data/FTP_holanda/revertedSPM-5_S6.sort.dedup.Aligned.out.bam SANITIZE=true MAX_DISCARD_FRACTION=0.005 ATTRIBUTE_TO_CLEAR=XT ATTRIBUTE_TO_CLEAR=XN ATTRIBUTE_TO_CLEAR=AS ATTRIBUTE_TO_CLEAR=OC ATTRIBUTE_TO_CLEAR=OP SORT_ORDER=queryname RESTORE_ORIGINAL_QUALITIES=true REMOVE_DUPLICATE_INFORMATION=true REMOVE_ALIGNMENT_INFORMATION=true \n",
      "java -Xmx40G -jar '/gpfs/data01/glasslab/home/iholtman/Molgenis/picard/picard.jar' RevertSam I=/data/scratch/iholtman/human_microglia_genotyping/fastq-files/Brazil_data/FTP_holanda/SPM6_ACAGTG.sort.dedup.Aligned.out.bam O=/data/scratch/iholtman/human_microglia_genotyping/fastq-files/Brazil_data/FTP_holanda/revertedSPM6_ACAGTG.sort.dedup.Aligned.out.bam SANITIZE=true MAX_DISCARD_FRACTION=0.005 ATTRIBUTE_TO_CLEAR=XT ATTRIBUTE_TO_CLEAR=XN ATTRIBUTE_TO_CLEAR=AS ATTRIBUTE_TO_CLEAR=OC ATTRIBUTE_TO_CLEAR=OP SORT_ORDER=queryname RESTORE_ORIGINAL_QUALITIES=true REMOVE_DUPLICATE_INFORMATION=true REMOVE_ALIGNMENT_INFORMATION=true \n",
      "java -Xmx40G -jar '/gpfs/data01/glasslab/home/iholtman/Molgenis/picard/picard.jar' RevertSam I=/data/scratch/iholtman/human_microglia_genotyping/fastq-files/Brazil_data/FTP_holanda/SPM-35_S15.sort.dedup.Aligned.out.bam O=/data/scratch/iholtman/human_microglia_genotyping/fastq-files/Brazil_data/FTP_holanda/revertedSPM-35_S15.sort.dedup.Aligned.out.bam SANITIZE=true MAX_DISCARD_FRACTION=0.005 ATTRIBUTE_TO_CLEAR=XT ATTRIBUTE_TO_CLEAR=XN ATTRIBUTE_TO_CLEAR=AS ATTRIBUTE_TO_CLEAR=OC ATTRIBUTE_TO_CLEAR=OP SORT_ORDER=queryname RESTORE_ORIGINAL_QUALITIES=true REMOVE_DUPLICATE_INFORMATION=true REMOVE_ALIGNMENT_INFORMATION=true \n",
      "java -Xmx40G -jar '/gpfs/data01/glasslab/home/iholtman/Molgenis/picard/picard.jar' RevertSam I=/data/scratch/iholtman/human_microglia_genotyping/fastq-files/Brazil_data/FTP_holanda/SPM13_AGTCAA.sort.dedup.Aligned.out.bam O=/data/scratch/iholtman/human_microglia_genotyping/fastq-files/Brazil_data/FTP_holanda/revertedSPM13_AGTCAA.sort.dedup.Aligned.out.bam SANITIZE=true MAX_DISCARD_FRACTION=0.005 ATTRIBUTE_TO_CLEAR=XT ATTRIBUTE_TO_CLEAR=XN ATTRIBUTE_TO_CLEAR=AS ATTRIBUTE_TO_CLEAR=OC ATTRIBUTE_TO_CLEAR=OP SORT_ORDER=queryname RESTORE_ORIGINAL_QUALITIES=true REMOVE_DUPLICATE_INFORMATION=true REMOVE_ALIGNMENT_INFORMATION=true \n",
      "java -Xmx40G -jar '/gpfs/data01/glasslab/home/iholtman/Molgenis/picard/picard.jar' RevertSam I=/data/scratch/iholtman/human_microglia_genotyping/fastq-files/Brazil_data/FTP_holanda/S1210100_TAGCTT.sort.dedup.Aligned.out.bam O=/data/scratch/iholtman/human_microglia_genotyping/fastq-files/Brazil_data/FTP_holanda/revertedS1210100_TAGCTT.sort.dedup.Aligned.out.bam SANITIZE=true MAX_DISCARD_FRACTION=0.005 ATTRIBUTE_TO_CLEAR=XT ATTRIBUTE_TO_CLEAR=XN ATTRIBUTE_TO_CLEAR=AS ATTRIBUTE_TO_CLEAR=OC ATTRIBUTE_TO_CLEAR=OP SORT_ORDER=queryname RESTORE_ORIGINAL_QUALITIES=true REMOVE_DUPLICATE_INFORMATION=true REMOVE_ALIGNMENT_INFORMATION=true \n",
      "java -Xmx40G -jar '/gpfs/data01/glasslab/home/iholtman/Molgenis/picard/picard.jar' RevertSam I=/data/scratch/iholtman/human_microglia_genotyping/fastq-files/Brazil_data/FTP_holanda/spm20_CGCTCATT-ATAGAGGC.sort.dedup.Aligned.out.bam O=/data/scratch/iholtman/human_microglia_genotyping/fastq-files/Brazil_data/FTP_holanda/revertedspm20_CGCTCATT-ATAGAGGC.sort.dedup.Aligned.out.bam SANITIZE=true MAX_DISCARD_FRACTION=0.005 ATTRIBUTE_TO_CLEAR=XT ATTRIBUTE_TO_CLEAR=XN ATTRIBUTE_TO_CLEAR=AS ATTRIBUTE_TO_CLEAR=OC ATTRIBUTE_TO_CLEAR=OP SORT_ORDER=queryname RESTORE_ORIGINAL_QUALITIES=true REMOVE_DUPLICATE_INFORMATION=true REMOVE_ALIGNMENT_INFORMATION=true \n",
      "java -Xmx40G -jar '/gpfs/data01/glasslab/home/iholtman/Molgenis/picard/picard.jar' RevertSam I=/data/scratch/iholtman/human_microglia_genotyping/fastq-files/Brazil_data/FTP_holanda/spm34_TCCGGAGA-AGGCGAAG.sort.dedup.Aligned.out.bam O=/data/scratch/iholtman/human_microglia_genotyping/fastq-files/Brazil_data/FTP_holanda/revertedspm34_TCCGGAGA-AGGCGAAG.sort.dedup.Aligned.out.bam SANITIZE=true MAX_DISCARD_FRACTION=0.005 ATTRIBUTE_TO_CLEAR=XT ATTRIBUTE_TO_CLEAR=XN ATTRIBUTE_TO_CLEAR=AS ATTRIBUTE_TO_CLEAR=OC ATTRIBUTE_TO_CLEAR=OP SORT_ORDER=queryname RESTORE_ORIGINAL_QUALITIES=true REMOVE_DUPLICATE_INFORMATION=true REMOVE_ALIGNMENT_INFORMATION=true \n",
      "java -Xmx40G -jar '/gpfs/data01/glasslab/home/iholtman/Molgenis/picard/picard.jar' RevertSam I=/data/scratch/iholtman/human_microglia_genotyping/fastq-files/Brazil_data/FTP_holanda/SPM35_ACAGTG.sort.dedup.Aligned.out.bam O=/data/scratch/iholtman/human_microglia_genotyping/fastq-files/Brazil_data/FTP_holanda/revertedSPM35_ACAGTG.sort.dedup.Aligned.out.bam SANITIZE=true MAX_DISCARD_FRACTION=0.005 ATTRIBUTE_TO_CLEAR=XT ATTRIBUTE_TO_CLEAR=XN ATTRIBUTE_TO_CLEAR=AS ATTRIBUTE_TO_CLEAR=OC ATTRIBUTE_TO_CLEAR=OP SORT_ORDER=queryname RESTORE_ORIGINAL_QUALITIES=true REMOVE_DUPLICATE_INFORMATION=true REMOVE_ALIGNMENT_INFORMATION=true \n",
      "java -Xmx40G -jar '/gpfs/data01/glasslab/home/iholtman/Molgenis/picard/picard.jar' RevertSam I=/data/scratch/iholtman/human_microglia_genotyping/fastq-files/Brazil_data/FTP_holanda/SPM8_GCCAAT.sort.dedup.Aligned.out.bam O=/data/scratch/iholtman/human_microglia_genotyping/fastq-files/Brazil_data/FTP_holanda/revertedSPM8_GCCAAT.sort.dedup.Aligned.out.bam SANITIZE=true MAX_DISCARD_FRACTION=0.005 ATTRIBUTE_TO_CLEAR=XT ATTRIBUTE_TO_CLEAR=XN ATTRIBUTE_TO_CLEAR=AS ATTRIBUTE_TO_CLEAR=OC ATTRIBUTE_TO_CLEAR=OP SORT_ORDER=queryname RESTORE_ORIGINAL_QUALITIES=true REMOVE_DUPLICATE_INFORMATION=true REMOVE_ALIGNMENT_INFORMATION=true \n",
      "java -Xmx40G -jar '/gpfs/data01/glasslab/home/iholtman/Molgenis/picard/picard.jar' RevertSam I=/data/scratch/iholtman/human_microglia_genotyping/fastq-files/Brazil_data/FTP_holanda/spm24_TCCGGAGA-ATAGAGGC.sort.dedup.Aligned.out.bam O=/data/scratch/iholtman/human_microglia_genotyping/fastq-files/Brazil_data/FTP_holanda/revertedspm24_TCCGGAGA-ATAGAGGC.sort.dedup.Aligned.out.bam SANITIZE=true MAX_DISCARD_FRACTION=0.005 ATTRIBUTE_TO_CLEAR=XT ATTRIBUTE_TO_CLEAR=XN ATTRIBUTE_TO_CLEAR=AS ATTRIBUTE_TO_CLEAR=OC ATTRIBUTE_TO_CLEAR=OP SORT_ORDER=queryname RESTORE_ORIGINAL_QUALITIES=true REMOVE_DUPLICATE_INFORMATION=true REMOVE_ALIGNMENT_INFORMATION=true \n",
      "java -Xmx40G -jar '/gpfs/data01/glasslab/home/iholtman/Molgenis/picard/picard.jar' RevertSam I=/data/scratch/iholtman/human_microglia_genotyping/fastq-files/Brazil_data/FTP_holanda/SPM-9_S2.sort.dedup.Aligned.out.bam O=/data/scratch/iholtman/human_microglia_genotyping/fastq-files/Brazil_data/FTP_holanda/revertedSPM-9_S2.sort.dedup.Aligned.out.bam SANITIZE=true MAX_DISCARD_FRACTION=0.005 ATTRIBUTE_TO_CLEAR=XT ATTRIBUTE_TO_CLEAR=XN ATTRIBUTE_TO_CLEAR=AS ATTRIBUTE_TO_CLEAR=OC ATTRIBUTE_TO_CLEAR=OP SORT_ORDER=queryname RESTORE_ORIGINAL_QUALITIES=true REMOVE_DUPLICATE_INFORMATION=true REMOVE_ALIGNMENT_INFORMATION=true \n",
      "java -Xmx40G -jar '/gpfs/data01/glasslab/home/iholtman/Molgenis/picard/picard.jar' RevertSam I=/data/scratch/iholtman/human_microglia_genotyping/fastq-files/Brazil_data/FTP_holanda/spm21_CGCTCATT-CCTATCCT.sort.dedup.Aligned.out.bam O=/data/scratch/iholtman/human_microglia_genotyping/fastq-files/Brazil_data/FTP_holanda/revertedspm21_CGCTCATT-CCTATCCT.sort.dedup.Aligned.out.bam SANITIZE=true MAX_DISCARD_FRACTION=0.005 ATTRIBUTE_TO_CLEAR=XT ATTRIBUTE_TO_CLEAR=XN ATTRIBUTE_TO_CLEAR=AS ATTRIBUTE_TO_CLEAR=OC ATTRIBUTE_TO_CLEAR=OP SORT_ORDER=queryname RESTORE_ORIGINAL_QUALITIES=true REMOVE_DUPLICATE_INFORMATION=true REMOVE_ALIGNMENT_INFORMATION=true \n",
      "java -Xmx40G -jar '/gpfs/data01/glasslab/home/iholtman/Molgenis/picard/picard.jar' RevertSam I=/data/scratch/iholtman/human_microglia_genotyping/fastq-files/Brazil_data/FTP_holanda/spm19_CGCTCATT-TATAGCCT.sort.dedup.Aligned.out.bam O=/data/scratch/iholtman/human_microglia_genotyping/fastq-files/Brazil_data/FTP_holanda/revertedspm19_CGCTCATT-TATAGCCT.sort.dedup.Aligned.out.bam SANITIZE=true MAX_DISCARD_FRACTION=0.005 ATTRIBUTE_TO_CLEAR=XT ATTRIBUTE_TO_CLEAR=XN ATTRIBUTE_TO_CLEAR=AS ATTRIBUTE_TO_CLEAR=OC ATTRIBUTE_TO_CLEAR=OP SORT_ORDER=queryname RESTORE_ORIGINAL_QUALITIES=true REMOVE_DUPLICATE_INFORMATION=true REMOVE_ALIGNMENT_INFORMATION=true \n",
      "java -Xmx40G -jar '/gpfs/data01/glasslab/home/iholtman/Molgenis/picard/picard.jar' RevertSam I=/data/scratch/iholtman/human_microglia_genotyping/fastq-files/Brazil_data/FTP_holanda/SPM28_GTGAAA.sort.dedup.Aligned.out.bam O=/data/scratch/iholtman/human_microglia_genotyping/fastq-files/Brazil_data/FTP_holanda/revertedSPM28_GTGAAA.sort.dedup.Aligned.out.bam SANITIZE=true MAX_DISCARD_FRACTION=0.005 ATTRIBUTE_TO_CLEAR=XT ATTRIBUTE_TO_CLEAR=XN ATTRIBUTE_TO_CLEAR=AS ATTRIBUTE_TO_CLEAR=OC ATTRIBUTE_TO_CLEAR=OP SORT_ORDER=queryname RESTORE_ORIGINAL_QUALITIES=true REMOVE_DUPLICATE_INFORMATION=true REMOVE_ALIGNMENT_INFORMATION=true \n",
      "java -Xmx40G -jar '/gpfs/data01/glasslab/home/iholtman/Molgenis/picard/picard.jar' RevertSam I=/data/scratch/iholtman/human_microglia_genotyping/fastq-files/Brazil_data/FTP_holanda/SPM15_ATGTCA.sort.dedup.Aligned.out.bam O=/data/scratch/iholtman/human_microglia_genotyping/fastq-files/Brazil_data/FTP_holanda/revertedSPM15_ATGTCA.sort.dedup.Aligned.out.bam SANITIZE=true MAX_DISCARD_FRACTION=0.005 ATTRIBUTE_TO_CLEAR=XT ATTRIBUTE_TO_CLEAR=XN ATTRIBUTE_TO_CLEAR=AS ATTRIBUTE_TO_CLEAR=OC ATTRIBUTE_TO_CLEAR=OP SORT_ORDER=queryname RESTORE_ORIGINAL_QUALITIES=true REMOVE_DUPLICATE_INFORMATION=true REMOVE_ALIGNMENT_INFORMATION=true \n",
      "java -Xmx40G -jar '/gpfs/data01/glasslab/home/iholtman/Molgenis/picard/picard.jar' RevertSam I=/data/scratch/iholtman/human_microglia_genotyping/fastq-files/Brazil_data/FTP_holanda/SPM-6_S7.sort.dedup.Aligned.out.bam O=/data/scratch/iholtman/human_microglia_genotyping/fastq-files/Brazil_data/FTP_holanda/revertedSPM-6_S7.sort.dedup.Aligned.out.bam SANITIZE=true MAX_DISCARD_FRACTION=0.005 ATTRIBUTE_TO_CLEAR=XT ATTRIBUTE_TO_CLEAR=XN ATTRIBUTE_TO_CLEAR=AS ATTRIBUTE_TO_CLEAR=OC ATTRIBUTE_TO_CLEAR=OP SORT_ORDER=queryname RESTORE_ORIGINAL_QUALITIES=true REMOVE_DUPLICATE_INFORMATION=true REMOVE_ALIGNMENT_INFORMATION=true \n",
      "java -Xmx40G -jar '/gpfs/data01/glasslab/home/iholtman/Molgenis/picard/picard.jar' RevertSam I=/data/scratch/iholtman/human_microglia_genotyping/fastq-files/Brazil_data/FTP_holanda/S14005_GGCTAC.sort.dedup.Aligned.out.bam O=/data/scratch/iholtman/human_microglia_genotyping/fastq-files/Brazil_data/FTP_holanda/revertedS14005_GGCTAC.sort.dedup.Aligned.out.bam SANITIZE=true MAX_DISCARD_FRACTION=0.005 ATTRIBUTE_TO_CLEAR=XT ATTRIBUTE_TO_CLEAR=XN ATTRIBUTE_TO_CLEAR=AS ATTRIBUTE_TO_CLEAR=OC ATTRIBUTE_TO_CLEAR=OP SORT_ORDER=queryname RESTORE_ORIGINAL_QUALITIES=true REMOVE_DUPLICATE_INFORMATION=true REMOVE_ALIGNMENT_INFORMATION=true \n",
      "java -Xmx40G -jar '/gpfs/data01/glasslab/home/iholtman/Molgenis/picard/picard.jar' RevertSam I=/data/scratch/iholtman/human_microglia_genotyping/fastq-files/Brazil_data/FTP_holanda/spm01_ATTACTCG-TATAGCCT.sort.dedup.Aligned.out.bam O=/data/scratch/iholtman/human_microglia_genotyping/fastq-files/Brazil_data/FTP_holanda/revertedspm01_ATTACTCG-TATAGCCT.sort.dedup.Aligned.out.bam SANITIZE=true MAX_DISCARD_FRACTION=0.005 ATTRIBUTE_TO_CLEAR=XT ATTRIBUTE_TO_CLEAR=XN ATTRIBUTE_TO_CLEAR=AS ATTRIBUTE_TO_CLEAR=OC ATTRIBUTE_TO_CLEAR=OP SORT_ORDER=queryname RESTORE_ORIGINAL_QUALITIES=true REMOVE_DUPLICATE_INFORMATION=true REMOVE_ALIGNMENT_INFORMATION=true \n",
      "java -Xmx40G -jar '/gpfs/data01/glasslab/home/iholtman/Molgenis/picard/picard.jar' RevertSam I=/data/scratch/iholtman/human_microglia_genotyping/fastq-files/Brazil_data/FTP_holanda/SPM-28_S12.sort.dedup.Aligned.out.bam O=/data/scratch/iholtman/human_microglia_genotyping/fastq-files/Brazil_data/FTP_holanda/revertedSPM-28_S12.sort.dedup.Aligned.out.bam SANITIZE=true MAX_DISCARD_FRACTION=0.005 ATTRIBUTE_TO_CLEAR=XT ATTRIBUTE_TO_CLEAR=XN ATTRIBUTE_TO_CLEAR=AS ATTRIBUTE_TO_CLEAR=OC ATTRIBUTE_TO_CLEAR=OP SORT_ORDER=queryname RESTORE_ORIGINAL_QUALITIES=true REMOVE_DUPLICATE_INFORMATION=true REMOVE_ALIGNMENT_INFORMATION=true \n",
      "java -Xmx40G -jar '/gpfs/data01/glasslab/home/iholtman/Molgenis/picard/picard.jar' RevertSam I=/data/scratch/iholtman/human_microglia_genotyping/fastq-files/Brazil_data/FTP_holanda/spm12_ATTACTCG-CCTATCCT.sort.dedup.Aligned.out.bam O=/data/scratch/iholtman/human_microglia_genotyping/fastq-files/Brazil_data/FTP_holanda/revertedspm12_ATTACTCG-CCTATCCT.sort.dedup.Aligned.out.bam SANITIZE=true MAX_DISCARD_FRACTION=0.005 ATTRIBUTE_TO_CLEAR=XT ATTRIBUTE_TO_CLEAR=XN ATTRIBUTE_TO_CLEAR=AS ATTRIBUTE_TO_CLEAR=OC ATTRIBUTE_TO_CLEAR=OP SORT_ORDER=queryname RESTORE_ORIGINAL_QUALITIES=true REMOVE_DUPLICATE_INFORMATION=true REMOVE_ALIGNMENT_INFORMATION=true \n",
      "java -Xmx40G -jar '/gpfs/data01/glasslab/home/iholtman/Molgenis/picard/picard.jar' RevertSam I=/data/scratch/iholtman/human_microglia_genotyping/fastq-files/Brazil_data/FTP_holanda/SPM14_AGTTCC.sort.dedup.Aligned.out.bam O=/data/scratch/iholtman/human_microglia_genotyping/fastq-files/Brazil_data/FTP_holanda/revertedSPM14_AGTTCC.sort.dedup.Aligned.out.bam SANITIZE=true MAX_DISCARD_FRACTION=0.005 ATTRIBUTE_TO_CLEAR=XT ATTRIBUTE_TO_CLEAR=XN ATTRIBUTE_TO_CLEAR=AS ATTRIBUTE_TO_CLEAR=OC ATTRIBUTE_TO_CLEAR=OP SORT_ORDER=queryname RESTORE_ORIGINAL_QUALITIES=true REMOVE_DUPLICATE_INFORMATION=true REMOVE_ALIGNMENT_INFORMATION=true \n",
      "java -Xmx40G -jar '/gpfs/data01/glasslab/home/iholtman/Molgenis/picard/picard.jar' RevertSam I=/data/scratch/iholtman/human_microglia_genotyping/fastq-files/Brazil_data/FTP_holanda/spm18_ATTACTCG-GGCTCTGA.sort.dedup.Aligned.out.bam O=/data/scratch/iholtman/human_microglia_genotyping/fastq-files/Brazil_data/FTP_holanda/revertedspm18_ATTACTCG-GGCTCTGA.sort.dedup.Aligned.out.bam SANITIZE=true MAX_DISCARD_FRACTION=0.005 ATTRIBUTE_TO_CLEAR=XT ATTRIBUTE_TO_CLEAR=XN ATTRIBUTE_TO_CLEAR=AS ATTRIBUTE_TO_CLEAR=OC ATTRIBUTE_TO_CLEAR=OP SORT_ORDER=queryname RESTORE_ORIGINAL_QUALITIES=true REMOVE_DUPLICATE_INFORMATION=true REMOVE_ALIGNMENT_INFORMATION=true \n",
      "java -Xmx40G -jar '/gpfs/data01/glasslab/home/iholtman/Molgenis/picard/picard.jar' RevertSam I=/data/scratch/iholtman/human_microglia_genotyping/fastq-files/Brazil_data/FTP_holanda/SPM33_TGACCA.sort.dedup.Aligned.out.bam O=/data/scratch/iholtman/human_microglia_genotyping/fastq-files/Brazil_data/FTP_holanda/revertedSPM33_TGACCA.sort.dedup.Aligned.out.bam SANITIZE=true MAX_DISCARD_FRACTION=0.005 ATTRIBUTE_TO_CLEAR=XT ATTRIBUTE_TO_CLEAR=XN ATTRIBUTE_TO_CLEAR=AS ATTRIBUTE_TO_CLEAR=OC ATTRIBUTE_TO_CLEAR=OP SORT_ORDER=queryname RESTORE_ORIGINAL_QUALITIES=true REMOVE_DUPLICATE_INFORMATION=true REMOVE_ALIGNMENT_INFORMATION=true \n",
      "java -Xmx40G -jar '/gpfs/data01/glasslab/home/iholtman/Molgenis/picard/picard.jar' RevertSam I=/data/scratch/iholtman/human_microglia_genotyping/fastq-files/Brazil_data/FTP_holanda/spm37_TCCGGAGA-TAATCTTA.sort.dedup.Aligned.out.bam O=/data/scratch/iholtman/human_microglia_genotyping/fastq-files/Brazil_data/FTP_holanda/revertedspm37_TCCGGAGA-TAATCTTA.sort.dedup.Aligned.out.bam SANITIZE=true MAX_DISCARD_FRACTION=0.005 ATTRIBUTE_TO_CLEAR=XT ATTRIBUTE_TO_CLEAR=XN ATTRIBUTE_TO_CLEAR=AS ATTRIBUTE_TO_CLEAR=OC ATTRIBUTE_TO_CLEAR=OP SORT_ORDER=queryname RESTORE_ORIGINAL_QUALITIES=true REMOVE_DUPLICATE_INFORMATION=true REMOVE_ALIGNMENT_INFORMATION=true \n",
      "java -Xmx40G -jar '/gpfs/data01/glasslab/home/iholtman/Molgenis/picard/picard.jar' RevertSam I=/data/scratch/iholtman/human_microglia_genotyping/fastq-files/Brazil_data/FTP_holanda/SPM-30_S13.sort.dedup.Aligned.out.bam O=/data/scratch/iholtman/human_microglia_genotyping/fastq-files/Brazil_data/FTP_holanda/revertedSPM-30_S13.sort.dedup.Aligned.out.bam SANITIZE=true MAX_DISCARD_FRACTION=0.005 ATTRIBUTE_TO_CLEAR=XT ATTRIBUTE_TO_CLEAR=XN ATTRIBUTE_TO_CLEAR=AS ATTRIBUTE_TO_CLEAR=OC ATTRIBUTE_TO_CLEAR=OP SORT_ORDER=queryname RESTORE_ORIGINAL_QUALITIES=true REMOVE_DUPLICATE_INFORMATION=true REMOVE_ALIGNMENT_INFORMATION=true \n",
      "java -Xmx40G -jar '/gpfs/data01/glasslab/home/iholtman/Molgenis/picard/picard.jar' RevertSam I=/data/scratch/iholtman/human_microglia_genotyping/fastq-files/Brazil_data/FTP_holanda/SPM-25_S10.sort.dedup.Aligned.out.bam O=/data/scratch/iholtman/human_microglia_genotyping/fastq-files/Brazil_data/FTP_holanda/revertedSPM-25_S10.sort.dedup.Aligned.out.bam SANITIZE=true MAX_DISCARD_FRACTION=0.005 ATTRIBUTE_TO_CLEAR=XT ATTRIBUTE_TO_CLEAR=XN ATTRIBUTE_TO_CLEAR=AS ATTRIBUTE_TO_CLEAR=OC ATTRIBUTE_TO_CLEAR=OP SORT_ORDER=queryname RESTORE_ORIGINAL_QUALITIES=true REMOVE_DUPLICATE_INFORMATION=true REMOVE_ALIGNMENT_INFORMATION=true \n",
      "java -Xmx40G -jar '/gpfs/data01/glasslab/home/iholtman/Molgenis/picard/picard.jar' RevertSam I=/data/scratch/iholtman/human_microglia_genotyping/fastq-files/Brazil_data/FTP_holanda/SPM36_GCCAAT.sort.dedup.Aligned.out.bam O=/data/scratch/iholtman/human_microglia_genotyping/fastq-files/Brazil_data/FTP_holanda/revertedSPM36_GCCAAT.sort.dedup.Aligned.out.bam SANITIZE=true MAX_DISCARD_FRACTION=0.005 ATTRIBUTE_TO_CLEAR=XT ATTRIBUTE_TO_CLEAR=XN ATTRIBUTE_TO_CLEAR=AS ATTRIBUTE_TO_CLEAR=OC ATTRIBUTE_TO_CLEAR=OP SORT_ORDER=queryname RESTORE_ORIGINAL_QUALITIES=true REMOVE_DUPLICATE_INFORMATION=true REMOVE_ALIGNMENT_INFORMATION=true \n",
      "java -Xmx40G -jar '/gpfs/data01/glasslab/home/iholtman/Molgenis/picard/picard.jar' RevertSam I=/data/scratch/iholtman/human_microglia_genotyping/fastq-files/Brazil_data/FTP_holanda/spm27_TCCGGAGA-CCTATCCT.sort.dedup.Aligned.out.bam O=/data/scratch/iholtman/human_microglia_genotyping/fastq-files/Brazil_data/FTP_holanda/revertedspm27_TCCGGAGA-CCTATCCT.sort.dedup.Aligned.out.bam SANITIZE=true MAX_DISCARD_FRACTION=0.005 ATTRIBUTE_TO_CLEAR=XT ATTRIBUTE_TO_CLEAR=XN ATTRIBUTE_TO_CLEAR=AS ATTRIBUTE_TO_CLEAR=OC ATTRIBUTE_TO_CLEAR=OP SORT_ORDER=queryname RESTORE_ORIGINAL_QUALITIES=true REMOVE_DUPLICATE_INFORMATION=true REMOVE_ALIGNMENT_INFORMATION=true \n",
      "java -Xmx40G -jar '/gpfs/data01/glasslab/home/iholtman/Molgenis/picard/picard.jar' RevertSam I=/data/scratch/iholtman/human_microglia_genotyping/fastq-files/Brazil_data/FTP_holanda/SPM25_CCGTCC.sort.dedup.Aligned.out.bam O=/data/scratch/iholtman/human_microglia_genotyping/fastq-files/Brazil_data/FTP_holanda/revertedSPM25_CCGTCC.sort.dedup.Aligned.out.bam SANITIZE=true MAX_DISCARD_FRACTION=0.005 ATTRIBUTE_TO_CLEAR=XT ATTRIBUTE_TO_CLEAR=XN ATTRIBUTE_TO_CLEAR=AS ATTRIBUTE_TO_CLEAR=OC ATTRIBUTE_TO_CLEAR=OP SORT_ORDER=queryname RESTORE_ORIGINAL_QUALITIES=true REMOVE_DUPLICATE_INFORMATION=true REMOVE_ALIGNMENT_INFORMATION=true \n",
      "java -Xmx40G -jar '/gpfs/data01/glasslab/home/iholtman/Molgenis/picard/picard.jar' RevertSam I=/data/scratch/iholtman/human_microglia_genotyping/fastq-files/Brazil_data/FTP_holanda/SPM-15_S9.sort.dedup.Aligned.out.bam O=/data/scratch/iholtman/human_microglia_genotyping/fastq-files/Brazil_data/FTP_holanda/revertedSPM-15_S9.sort.dedup.Aligned.out.bam SANITIZE=true MAX_DISCARD_FRACTION=0.005 ATTRIBUTE_TO_CLEAR=XT ATTRIBUTE_TO_CLEAR=XN ATTRIBUTE_TO_CLEAR=AS ATTRIBUTE_TO_CLEAR=OC ATTRIBUTE_TO_CLEAR=OP SORT_ORDER=queryname RESTORE_ORIGINAL_QUALITIES=true REMOVE_DUPLICATE_INFORMATION=true REMOVE_ALIGNMENT_INFORMATION=true \n",
      "java -Xmx40G -jar '/gpfs/data01/glasslab/home/iholtman/Molgenis/picard/picard.jar' RevertSam I=/data/scratch/iholtman/human_microglia_genotyping/fastq-files/Brazil_data/FTP_holanda/SPM-36_S16.sort.dedup.Aligned.out.bam O=/data/scratch/iholtman/human_microglia_genotyping/fastq-files/Brazil_data/FTP_holanda/revertedSPM-36_S16.sort.dedup.Aligned.out.bam SANITIZE=true MAX_DISCARD_FRACTION=0.005 ATTRIBUTE_TO_CLEAR=XT ATTRIBUTE_TO_CLEAR=XN ATTRIBUTE_TO_CLEAR=AS ATTRIBUTE_TO_CLEAR=OC ATTRIBUTE_TO_CLEAR=OP SORT_ORDER=queryname RESTORE_ORIGINAL_QUALITIES=true REMOVE_DUPLICATE_INFORMATION=true REMOVE_ALIGNMENT_INFORMATION=true \n",
      "java -Xmx40G -jar '/gpfs/data01/glasslab/home/iholtman/Molgenis/picard/picard.jar' RevertSam I=/data/scratch/iholtman/human_microglia_genotyping/fastq-files/Brazil_data/FTP_holanda/S12112_GATCAG.sort.dedup.Aligned.out.bam O=/data/scratch/iholtman/human_microglia_genotyping/fastq-files/Brazil_data/FTP_holanda/revertedS12112_GATCAG.sort.dedup.Aligned.out.bam SANITIZE=true MAX_DISCARD_FRACTION=0.005 ATTRIBUTE_TO_CLEAR=XT ATTRIBUTE_TO_CLEAR=XN ATTRIBUTE_TO_CLEAR=AS ATTRIBUTE_TO_CLEAR=OC ATTRIBUTE_TO_CLEAR=OP SORT_ORDER=queryname RESTORE_ORIGINAL_QUALITIES=true REMOVE_DUPLICATE_INFORMATION=true REMOVE_ALIGNMENT_INFORMATION=true \n"
     ]
    }
   ],
   "source": [
    "#####file names \n",
    "##Reverse BAM to uBAM \n",
    "files = [os.path.basename(x) for x in glob.glob(\"/data/scratch/iholtman/human_microglia_genotyping/fastq-files/Brazil_data/FTP_holanda/*.bam\")]\n",
    "path = (\"/data/scratch/iholtman/human_microglia_genotyping/fastq-files/Brazil_data/FTP_holanda/\")\n",
    "\n",
    "for file in files: \n",
    "\n",
    "    terminal_process = \"java -Xmx40G -jar '/gpfs/data01/glasslab/home/iholtman/Molgenis/picard/picard.jar' RevertSam \" \\\n",
    "    \"I=\" + path + file + \" \" + \\\n",
    "    \"O=\" + path + 'reverted' + file  +  \" \" + \\\n",
    "    \"SANITIZE=true \" + \\\n",
    "    \"MAX_DISCARD_FRACTION=0.005 \" + \\\n",
    "    \"ATTRIBUTE_TO_CLEAR=XT \" + \\\n",
    "    \"ATTRIBUTE_TO_CLEAR=XN \" + \\\n",
    "    \"ATTRIBUTE_TO_CLEAR=AS \" + \\\n",
    "    \"ATTRIBUTE_TO_CLEAR=OC \" + \\\n",
    "    \"ATTRIBUTE_TO_CLEAR=OP \" + \\\n",
    "    \"SORT_ORDER=queryname \" + \\\n",
    "    \"RESTORE_ORIGINAL_QUALITIES=true \" + \\\n",
    "    \"REMOVE_DUPLICATE_INFORMATION=true \" +\\\n",
    "    \"REMOVE_ALIGNMENT_INFORMATION=true \"\n",
    "\n",
    "    print(terminal_process)\n",
    "    #print(subprocess.check_output(terminal_process, shell=True, stderr=subprocess.STDOUT).decode())\n",
    "\n"
   ]
  },
  {
   "cell_type": "code",
   "execution_count": null,
   "metadata": {
    "collapsed": false
   },
   "outputs": [
    {
     "name": "stdout",
     "output_type": "stream",
     "text": [
      "SPM-13_S4 in processing \n",
      "bedtools bamtofastq -i /data/scratch/iholtman/human_microglia_genotyping/fastq-files/Brazil_data/FTP_holanda/SPM-13_S4.sort.dedup.Aligned.out.bam -fq aln /data/scratch/iholtman/human_microglia_genotyping/fastq-files/Brazil_data/FTP_holanda/SPM-13_S4.R1.fq -fq2 aln /data/scratch/iholtman/human_microglia_genotyping/fastq-files/Brazil_data/FTP_holanda/SPM-13_S4.R2.fq\n"
     ]
    }
   ],
   "source": [
    "##########################################################################################\n",
    "###http://bedtools.readthedocs.io/en/latest/content/tools/bamtofastq.html\n",
    "#bedtools bamtofastq\n",
    "\n",
    "#####file names \n",
    "##Reverse BAM to uBAM \n",
    "files = [os.path.basename(x) for x in glob.glob(\"/data/scratch/iholtman/human_microglia_genotyping/fastq-files/Brazil_data/FTP_holanda/*.bam\")]\n",
    "path = (\"/data/scratch/iholtman/human_microglia_genotyping/fastq-files/Brazil_data/FTP_holanda/\")\n",
    "\n",
    "files_essence  = [re.sub('[.sort.dedup.Aligned.out.bam]', '', x) for x in files]\n",
    "#print(files_essence)\n",
    "\n",
    "dataframe  = pandas.DataFrame(files, files_essence)\n",
    "dataframe.columns = [\"files_essence\"]\n",
    "\n",
    "\n",
    "#print(dataframe)\n",
    "#print(dataframe.files_essence)\n",
    "    \n",
    "for file in files_essence:\n",
    "    print(file + \" in processing \")\n",
    "    \n",
    "    code = \"bedtools bamtofastq -i \"  + path + file + '.sort.dedup.Aligned.out.bam'\\\n",
    "    \" -fq aln \" + path + file + '.R1.fq' \\\n",
    "    \" -fq2 aln \" + path + file + '.R2.fq' \\\n",
    "        \n",
    "    print(code)\n",
    "    print(subprocess.check_output(terminal_process, shell=True, stderr=subprocess.STDOUT).decode())\n",
    "\n",
    "\n"
   ]
  },
  {
   "cell_type": "code",
   "execution_count": null,
   "metadata": {
    "collapsed": true
   },
   "outputs": [],
   "source": []
  }
 ],
 "metadata": {
  "anaconda-cloud": {},
  "kernelspec": {
   "display_name": "Python [default]",
   "language": "python",
   "name": "python3"
  },
  "language_info": {
   "codemirror_mode": {
    "name": "ipython",
    "version": 3
   },
   "file_extension": ".py",
   "mimetype": "text/x-python",
   "name": "python",
   "nbconvert_exporter": "python",
   "pygments_lexer": "ipython3",
   "version": "3.5.2"
  }
 },
 "nbformat": 4,
 "nbformat_minor": 1
}
