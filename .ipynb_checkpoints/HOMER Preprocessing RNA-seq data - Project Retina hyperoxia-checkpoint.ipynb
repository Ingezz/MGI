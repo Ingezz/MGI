{
 "cells": [
  {
   "cell_type": "code",
   "execution_count": 2,
   "metadata": {
    "collapsed": true
   },
   "outputs": [],
   "source": [
    "import pandas\n",
    "import subprocess\n",
    "import glob\n",
    "import os"
   ]
  },
  {
   "cell_type": "code",
   "execution_count": null,
   "metadata": {
    "collapsed": false
   },
   "outputs": [],
   "source": [
    "\n"
   ]
  },
  {
   "cell_type": "code",
   "execution_count": null,
   "metadata": {
    "collapsed": false
   },
   "outputs": [],
   "source": [
    "##Map on oasis \n",
    "export PATH=/projects/glass-group/bioinformatics/bin:$PATH\n",
    "map_on_oasis.sh rna mm10 iholtman@ucsd.edu /data/archive/17-02-14-glass/project_ES\n",
    "\n"
   ]
  },
  {
   "cell_type": "code",
   "execution_count": 15,
   "metadata": {
    "collapsed": false
   },
   "outputs": [
    {
     "name": "stdout",
     "output_type": "stream",
     "text": [
      "summarize_logs.py rna /gpfs/data01/glasslab/home/iholtman/Project_hyperoxia_Eniko/retina/QC/ /data/scratch/iholtman/project_ES/tag_directories/C57Bl6_MGretina_RNA_Tn5_Hprx_ES_16_09_02 /data/scratch/iholtman/project_ES/tag_directories/DBA_MGretina_RNA_Tn5_Nx_PND16_ES_16_09_23 /data/scratch/iholtman/project_ES/tag_directories/C57Bl6_EndoRet_RNA_Tn5_Nx_PND15_ES_16_09_23 /data/scratch/iholtman/project_ES/tag_directories/C57Bl6_IMo_RNA_Tn5_LPS_12h_ES_16_06_23 /data/scratch/iholtman/project_ES/tag_directories/DBA_EndoRet_RNA_Tn5_Nx_PND16_ES_16_09_23 /data/scratch/iholtman/project_ES/tag_directories/DBA_MGretina_RNA_Tn5_Nx_ES_16_09_02 /data/scratch/iholtman/project_ES/tag_directories/DBA_MGretina_RNA_Tn5_Hprx_PND15_ES_16_09_23 /data/scratch/iholtman/project_ES/tag_directories/C57Bl6_MGretina_RNA_Tn5_Nx_ES_16_09_02 /data/scratch/iholtman/project_ES/tag_directories/C57Bl6_EndoRet_RNA_Tn5_Nx_ES_16_09_02 /data/scratch/iholtman/project_ES/tag_directories/DBA_EndoRet_RNA_Tn5_Hprx_ES_16_09_02 /data/scratch/iholtman/project_ES/tag_directories/C57Bl6_MGretina_RNA_Tn5_Hprx_PND15_ES_16_09_23 /data/scratch/iholtman/project_ES/tag_directories/DBA_MGretina_RNA_Tn5_Hprx_ES_16_09_02 /data/scratch/iholtman/project_ES/tag_directories/PPAR_Eniko_17_02_14 /data/scratch/iholtman/project_ES/tag_directories/C57Bl6_MGretina_RNA_Tn5_Nx_PND15_ES_16_09_23 /data/scratch/iholtman/project_ES/tag_directories/C57Bl6_EndoRet_RNA_Tn5_Hprx_PND15_ES_16_09_23 /data/scratch/iholtman/project_ES/tag_directories/C57Bl6_EndoRet_RNA_Tn5_Hprx_ES_16_09_02 /data/scratch/iholtman/project_ES/tag_directories/DBA_EndoRet_RNA_Tn5_Nx_ES_16_09_02 /data/scratch/iholtman/project_ES/tag_directories/DBA_EndoRet_RNA_Tn5_Hprx_PND15_ES_16_09_23\n",
      "/gpfs/data01/glasslab/home/iholtman/anaconda3/lib/python3.5/site-packages/statsmodels/nonparametric/kdetools.py:20: VisibleDeprecationWarning: using a non-integer number instead of an integer will result in an error in the future\n",
      "  y = X[:m/2+1] + np.r_[0,X[m/2+1:],0]*1j\n",
      "Reading log file: /data/scratch/iholtman/project_ES/tag_directories/C57Bl6_MGretina_RNA_Tn5_Hprx_ES_16_09_02/C57Bl6_MGretina_RNA_Tn5_Hprx_ES_16_09_02.mm10.star.log\n",
      "Reading log file: /data/scratch/iholtman/project_ES/tag_directories/DBA_MGretina_RNA_Tn5_Nx_PND16_ES_16_09_23/DBA_MGretina_RNA_Tn5_Nx_PND16_ES_16_09_23.mm10.star.log\n",
      "Reading log file: /data/scratch/iholtman/project_ES/tag_directories/C57Bl6_EndoRet_RNA_Tn5_Nx_PND15_ES_16_09_23/C57Bl6_EndoRet_RNA_Tn5_Nx_PND15_ES_16_09_23.mm10.star.log\n",
      "Reading log file: /data/scratch/iholtman/project_ES/tag_directories/C57Bl6_IMo_RNA_Tn5_LPS_12h_ES_16_06_23/C57Bl6_IMo_RNA_Tn5_LPS_12h_ES_16_06_23.mm10.star.log\n",
      "Reading log file: /data/scratch/iholtman/project_ES/tag_directories/DBA_EndoRet_RNA_Tn5_Nx_PND16_ES_16_09_23/DBA_EndoRet_RNA_Tn5_Nx_PND16_ES_16_09_23.mm10.star.log\n",
      "Reading log file: /data/scratch/iholtman/project_ES/tag_directories/DBA_MGretina_RNA_Tn5_Nx_ES_16_09_02/DBA_MGretina_RNA_Tn5_Nx_ES_16_09_02.mm10.star.log\n",
      "Reading log file: /data/scratch/iholtman/project_ES/tag_directories/DBA_MGretina_RNA_Tn5_Hprx_PND15_ES_16_09_23/DBA_MGretina_RNA_Tn5_Hprx_PND15_ES_16_09_23.mm10.star.log\n",
      "Reading log file: /data/scratch/iholtman/project_ES/tag_directories/C57Bl6_MGretina_RNA_Tn5_Nx_ES_16_09_02/C57Bl6_MGretina_RNA_Tn5_Nx_ES_16_09_02.mm10.star.log\n",
      "Reading log file: /data/scratch/iholtman/project_ES/tag_directories/C57Bl6_EndoRet_RNA_Tn5_Nx_ES_16_09_02/C57Bl6_EndoRet_RNA_Tn5_Nx_ES_16_09_02.mm10.star.log\n",
      "Reading log file: /data/scratch/iholtman/project_ES/tag_directories/DBA_EndoRet_RNA_Tn5_Hprx_ES_16_09_02/DBA_EndoRet_RNA_Tn5_Hprx_ES_16_09_02.mm10.star.log\n",
      "Reading log file: /data/scratch/iholtman/project_ES/tag_directories/C57Bl6_MGretina_RNA_Tn5_Hprx_PND15_ES_16_09_23/C57Bl6_MGretina_RNA_Tn5_Hprx_PND15_ES_16_09_23.mm10.star.log\n",
      "Reading log file: /data/scratch/iholtman/project_ES/tag_directories/DBA_MGretina_RNA_Tn5_Hprx_ES_16_09_02/DBA_MGretina_RNA_Tn5_Hprx_ES_16_09_02.mm10.star.log\n",
      "Reading log file: /data/scratch/iholtman/project_ES/tag_directories/PPAR_Eniko_17_02_14/PPAR_Eniko_17_02_14.mm10.star.log\n",
      "Reading log file: /data/scratch/iholtman/project_ES/tag_directories/C57Bl6_MGretina_RNA_Tn5_Nx_PND15_ES_16_09_23/C57Bl6_MGretina_RNA_Tn5_Nx_PND15_ES_16_09_23.mm10.star.log\n",
      "Reading log file: /data/scratch/iholtman/project_ES/tag_directories/C57Bl6_EndoRet_RNA_Tn5_Hprx_PND15_ES_16_09_23/C57Bl6_EndoRet_RNA_Tn5_Hprx_PND15_ES_16_09_23.mm10.star.log\n",
      "Reading log file: /data/scratch/iholtman/project_ES/tag_directories/C57Bl6_EndoRet_RNA_Tn5_Hprx_ES_16_09_02/C57Bl6_EndoRet_RNA_Tn5_Hprx_ES_16_09_02.mm10.star.log\n",
      "Reading log file: /data/scratch/iholtman/project_ES/tag_directories/DBA_EndoRet_RNA_Tn5_Nx_ES_16_09_02/DBA_EndoRet_RNA_Tn5_Nx_ES_16_09_02.mm10.star.log\n",
      "Reading log file: /data/scratch/iholtman/project_ES/tag_directories/DBA_EndoRet_RNA_Tn5_Hprx_PND15_ES_16_09_23/DBA_EndoRet_RNA_Tn5_Hprx_PND15_ES_16_09_23.mm10.star.log\n",
      "\n"
     ]
    }
   ],
   "source": [
    "##QC paired end data\n",
    "tagdir = glob.glob(\"/data/scratch/iholtman/project_ES/tag_directories/*\")\n",
    "\n",
    "OUTPUT_PATH = \"/gpfs/data01/glasslab/home/iholtman/Project_hyperoxia_Eniko/retina/QC/\"\n",
    "dir = \"/data/scratch/iholtman/Geissmann_high_low_fat_adipose_macrophages_local/\"\n",
    "\n",
    "samples_with_dir = []\n",
    "terminal_process = 'summarize_logs.py rna ' + OUTPUT_PATH + \" \" + ' '.join(tagdir)\n",
    "\n",
    "print(terminal_process)\n",
    "print(subprocess.check_output(terminal_process, shell=True, stderr=subprocess.STDOUT).decode())\n"
   ]
  },
  {
   "cell_type": "code",
   "execution_count": null,
   "metadata": {
    "collapsed": false
   },
   "outputs": [
    {
     "name": "stdout",
     "output_type": "stream",
     "text": [
      "analyzeRepeats.pl rna mm10 -raw -normMatrix 1e7 -pc 3 -count exons -strand both -condenseGenes -d /data/scratch/iholtman/project_ES/tag_directories/C57Bl6_MGretina_RNA_Tn5_Hprx_ES_16_09_02 /data/scratch/iholtman/project_ES/tag_directories/DBA_MGretina_RNA_Tn5_Nx_PND16_ES_16_09_23 /data/scratch/iholtman/project_ES/tag_directories/C57Bl6_EndoRet_RNA_Tn5_Nx_PND15_ES_16_09_23 /data/scratch/iholtman/project_ES/tag_directories/C57Bl6_IMo_RNA_Tn5_LPS_12h_ES_16_06_23 /data/scratch/iholtman/project_ES/tag_directories/DBA_EndoRet_RNA_Tn5_Nx_PND16_ES_16_09_23 /data/scratch/iholtman/project_ES/tag_directories/DBA_MGretina_RNA_Tn5_Nx_ES_16_09_02 /data/scratch/iholtman/project_ES/tag_directories/DBA_MGretina_RNA_Tn5_Hprx_PND15_ES_16_09_23 /data/scratch/iholtman/project_ES/tag_directories/C57Bl6_MGretina_RNA_Tn5_Nx_ES_16_09_02 /data/scratch/iholtman/project_ES/tag_directories/C57Bl6_EndoRet_RNA_Tn5_Nx_ES_16_09_02 /data/scratch/iholtman/project_ES/tag_directories/DBA_EndoRet_RNA_Tn5_Hprx_ES_16_09_02 /data/scratch/iholtman/project_ES/tag_directories/C57Bl6_MGretina_RNA_Tn5_Hprx_PND15_ES_16_09_23 /data/scratch/iholtman/project_ES/tag_directories/DBA_MGretina_RNA_Tn5_Hprx_ES_16_09_02 /data/scratch/iholtman/project_ES/tag_directories/PPAR_Eniko_17_02_14 /data/scratch/iholtman/project_ES/tag_directories/C57Bl6_MGretina_RNA_Tn5_Nx_PND15_ES_16_09_23 /data/scratch/iholtman/project_ES/tag_directories/C57Bl6_EndoRet_RNA_Tn5_Hprx_PND15_ES_16_09_23 /data/scratch/iholtman/project_ES/tag_directories/C57Bl6_EndoRet_RNA_Tn5_Hprx_ES_16_09_02 /data/scratch/iholtman/project_ES/tag_directories/DBA_EndoRet_RNA_Tn5_Nx_ES_16_09_02 /data/scratch/iholtman/project_ES/tag_directories/DBA_EndoRet_RNA_Tn5_Hprx_PND15_ES_16_09_23\n"
     ]
    }
   ],
   "source": [
    "############################################\n",
    "###########\n",
    "tagdir = glob.glob(\"/data/scratch/iholtman/project_ES/tag_directories/*\")\n",
    "OUTPUT_PATH = \"/gpfs/data01/glasslab/home/iholtman/Project_hyperoxia_Eniko/retina/Data/\"\n",
    "output_file = os.path.join(OUTPUT_PATH, '15-3-2017-mouse_rna_raw.tsv')\n",
    "\n",
    "homer_cmd_line = 'analyzeRepeats.pl rna mm10 -raw -normMatrix 1e7 -pc 3 -count exons -strand both -condenseGenes -d ' + ' '.join(tagdir)\n",
    "\n",
    "print(homer_cmd_line)\n",
    "print(subprocess.check_output(homer_cmd_line, shell=True, stderr=subprocess.STDOUT).decode())\n"
   ]
  },
  {
   "cell_type": "code",
   "execution_count": 22,
   "metadata": {
    "collapsed": false
   },
   "outputs": [
    {
     "name": "stdout",
     "output_type": "stream",
     "text": [
      "\tTag Directories:\n",
      "\t\t/data/mm10/LaSpada/16-09-25-RNAseq/Hiro_RNAseq3_Vehic_4_RNA_Core_ukn\n",
      "\t\t/data/mm10/LaSpada/16-09-25-RNAseq/Hiro_RNAseq5_Vehic_4_RNA_Core_ukn\n",
      "\t\t/data/mm10/LaSpada/16-09-25-RNAseq/Hiro_RNAseq4_Bex_4_RNA_Core_ukn\n",
      "\t\t/data/mm10/LaSpada/16-09-25-RNAseq/Hiro_RNAseq5_Bex_4_RNA_Core_ukn\n",
      "\t\t/data/mm10/LaSpada/16-09-25-RNAseq/Hiro_RNAseq3_KD_4_RNA_Core_ukn\n",
      "\t\t/data/mm10/LaSpada/16-09-25-RNAseq/Hiro_RNAseq3_Bex_4_RNA_Core_ukn\n",
      "\t\t/data/mm10/LaSpada/16-09-25-RNAseq/Hiro_RNAseq4_KD_4_RNA_Core_ukn\n",
      "\t\t/data/mm10/LaSpada/16-09-25-RNAseq/Hiro_RNAseq5_KD_4_RNA_Core_ukn\n",
      "\t\t/data/mm10/LaSpada/16-09-25-RNAseq/Hiro_RNAseq4_Vehic_4_RNA_Core_ukn\n",
      "\t\t/data/mm10/LaSpada/16-12-09-RNAseq/tag_directories/LaSpada_Neuron_Contr3_SD384\n",
      "\t\t/data/mm10/LaSpada/16-12-09-RNAseq/tag_directories/LaSpada_Neuron_KD3_SD390\n",
      "\t\t/data/mm10/LaSpada/16-12-09-RNAseq/tag_directories/LaSpada_Neuron_Bex1_SD385\n",
      "\t\t/data/mm10/LaSpada/16-12-09-RNAseq/tag_directories/LaSpada_Neuron_Contr2_SD383\n",
      "\t\t/data/mm10/LaSpada/16-12-09-RNAseq/tag_directories/LaSpada_Neuron_Bex3_SD387\n",
      "\t\t/data/mm10/LaSpada/16-12-09-RNAseq/tag_directories/LaSpada_Neuron_KD2_SD389\n",
      "\t\t/data/mm10/LaSpada/16-12-09-RNAseq/tag_directories/LaSpada_Neuron_Contr1_SD382\n",
      "\t\t/data/mm10/LaSpada/16-12-09-RNAseq/tag_directories/LaSpada_Neuron_Bex2_SD386\n",
      "\t\t/data/mm10/LaSpada/16-12-09-RNAseq/tag_directories/LaSpada_Neuron_KD1_SD388\n",
      "\tInput file format: homerRmsk\n",
      "\tFiltering based on repeat parameters: kept 35756 of 35756\n",
      "\tCalculating read coverage for /data/mm10/LaSpada/16-09-25-RNAseq/Hiro_RNAseq3_Vehic_4_RNA_Core_ukn\n",
      "\tCalculating read coverage for /data/mm10/LaSpada/16-09-25-RNAseq/Hiro_RNAseq5_Vehic_4_RNA_Core_ukn\n",
      "\tCalculating read coverage for /data/mm10/LaSpada/16-09-25-RNAseq/Hiro_RNAseq4_Bex_4_RNA_Core_ukn\n",
      "\tCalculating read coverage for /data/mm10/LaSpada/16-09-25-RNAseq/Hiro_RNAseq5_Bex_4_RNA_Core_ukn\n",
      "\tCalculating read coverage for /data/mm10/LaSpada/16-09-25-RNAseq/Hiro_RNAseq3_KD_4_RNA_Core_ukn\n",
      "\tCalculating read coverage for /data/mm10/LaSpada/16-09-25-RNAseq/Hiro_RNAseq3_Bex_4_RNA_Core_ukn\n",
      "\tCalculating read coverage for /data/mm10/LaSpada/16-09-25-RNAseq/Hiro_RNAseq4_KD_4_RNA_Core_ukn\n",
      "\tCalculating read coverage for /data/mm10/LaSpada/16-09-25-RNAseq/Hiro_RNAseq5_KD_4_RNA_Core_ukn\n",
      "\tCalculating read coverage for /data/mm10/LaSpada/16-09-25-RNAseq/Hiro_RNAseq4_Vehic_4_RNA_Core_ukn\n",
      "\tCalculating read coverage for /data/mm10/LaSpada/16-12-09-RNAseq/tag_directories/LaSpada_Neuron_Contr3_SD384\n",
      "\tCalculating read coverage for /data/mm10/LaSpada/16-12-09-RNAseq/tag_directories/LaSpada_Neuron_KD3_SD390\n",
      "\tCalculating read coverage for /data/mm10/LaSpada/16-12-09-RNAseq/tag_directories/LaSpada_Neuron_Bex1_SD385\n",
      "\tCalculating read coverage for /data/mm10/LaSpada/16-12-09-RNAseq/tag_directories/LaSpada_Neuron_Contr2_SD383\n",
      "\tCalculating read coverage for /data/mm10/LaSpada/16-12-09-RNAseq/tag_directories/LaSpada_Neuron_Bex3_SD387\n",
      "\tCalculating read coverage for /data/mm10/LaSpada/16-12-09-RNAseq/tag_directories/LaSpada_Neuron_KD2_SD389\n",
      "\tCalculating read coverage for /data/mm10/LaSpada/16-12-09-RNAseq/tag_directories/LaSpada_Neuron_Contr1_SD382\n",
      "\tCalculating read coverage for /data/mm10/LaSpada/16-12-09-RNAseq/tag_directories/LaSpada_Neuron_Bex2_SD386\n",
      "\tCalculating read coverage for /data/mm10/LaSpada/16-12-09-RNAseq/tag_directories/LaSpada_Neuron_KD1_SD388\n",
      "\tPrinting output\n",
      "\t\tPrinted 24445 of 34711 repeats (expression >= -1e+20)\n",
      "\n"
     ]
    }
   ],
   "source": [
    "output_file = os.path.join(OUTPUT_PATH, '9-12-2016-mouse_rna_raw.tsv')\n",
    "homer_cmd_line = 'analyzeRepeats.pl rna mm10 -raw -normMatrix 1e7 -pc 3 -count exons -strand both -condenseGenes -d {} > {}'.format(' '.join(all_reps), output_file)\n",
    "#print(homer_cmd_line)\n",
    "print(subprocess.check_output(homer_cmd_line, shell=True, stderr=subprocess.STDOUT).decode())"
   ]
  }
 ],
 "metadata": {
  "anaconda-cloud": {},
  "kernelspec": {
   "display_name": "Python [conda root]",
   "language": "python",
   "name": "conda-root-py"
  },
  "language_info": {
   "codemirror_mode": {
    "name": "ipython",
    "version": 3
   },
   "file_extension": ".py",
   "mimetype": "text/x-python",
   "name": "python",
   "nbconvert_exporter": "python",
   "pygments_lexer": "ipython3",
   "version": "3.5.2"
  }
 },
 "nbformat": 4,
 "nbformat_minor": 1
}
