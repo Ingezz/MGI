{
 "cells": [
  {
   "cell_type": "code",
   "execution_count": null,
   "metadata": {
    "collapsed": true
   },
   "outputs": [],
   "source": [
    "########Marge analysis \n",
    "#################################################\n",
    "### Prepare PU.1 ChIP -seq data for Marge \n",
    "findPeaks /data/hg38/Microglia/ChIP/PU.1/PU1_P4 -style factor -o /gpfs/data01/glasslab/home/iholtman/Marge/data/PU1_P4 -i /data/hg38/Microglia/ChIP/Input/Input_P4 \n",
    "\n",
    "#####\n",
    "mergePeaks /gpfs/data01/glasslab/home/iholtman/Marge/data/PU1_P4 /gpfs/data01/glasslab/home/iholtman/Marge/data/PU1_P5 /gpfs/data01/glasslab/home/iholtman/Marge/data/PU1_P7  > /gpfs/data01/glasslab/home/iholtman/Marge/data/merged_peaks.txt\n",
    "\n",
    "###All in all\n",
    "annotatePeaks.pl /gpfs/data01/glasslab/home/iholtman/Marge/data/merged_peaks.txt hg38 -d /data/hg38/Microglia/ChIP/PU.1/PU1_P4 /data/hg38/Microglia/ChIP/PU.1/PU1_P5 /data/hg38/Microglia/ChIP/PU.1/PU1_P7 > Annotate_peaks_PU1_P4_P5_P7.txt\n",
    "\n",
    "### Individual comparisons  \n",
    "annotatePeaks.pl /gpfs/data01/glasslab/home/iholtman/Marge/data/merged_peaks.txt hg38 -d /data/hg38/Microglia/ChIP/PU.1/PU1_P4 /data/hg38/Microglia/ChIP/PU.1/PU1_P5 > Annotate_peaks_PU1_P4_P5.txt\n",
    "\n",
    "\n",
    "\n",
    "\n"
   ]
  },
  {
   "cell_type": "code",
   "execution_count": null,
   "metadata": {
    "collapsed": true
   },
   "outputs": [],
   "source": [
    "#Lifover vcf file to HG38 \n",
    "##VCF file accesssible from outside epiglass server: \n",
    "#http://homer.ucsd.edu/iholtman/merged_RNA_imputed_and_WGS_data_new_header.vcf.gz\n",
    "\n",
    "##\n",
    "wget --timestamping 'ftp://hgdownload.cse.ucsc.edu/goldenPath/hg38/liftOver/*'\n",
    "wget --timestamping 'ftp://hgdownload.cse.ucsc.edu/goldenPath/hg19/liftOver/*'\n",
    "\n",
    "######Combined imputed and WGS file         \n",
    "###Using picard \n",
    "java -jar /gpfs/data01/glasslab/home/iholtman/Molgenis/picard/picard.jar LiftoverVcf \\\n",
    "     I=merged_RNA_imputed_and_WGS_data_new_header.vcf.gz \\\n",
    "     O=lifted_over_hg19_to_hg38_merged_RNA_imputed_and_WGS_data_new_header.vcf.gz \\\n",
    "     CHAIN=/gpfs/data01/glasslab/home/iholtman/software/liftover/hg19ToHg38.over.chain.gz \\\n",
    "     REJECT=rejected_variants.vcf \\\n",
    "     R=/gpfs/data01/glasslab/home/iholtman/Molgenis/hg38/Homo_sapiens_assembly38.fasta.gz\n",
    "\n",
    "###Using picard \n",
    "java -jar /gpfs/data01/glasslab/home/iholtman/Molgenis/picard/picard.jar LiftoverVcf \\\n",
    "     I=merged_RNA_imputed_and_WGS_data_new_header.vcf.gz \\\n",
    "     O=lifted_over_hg38_to_hg19_merged_RNA_imputed_and_WGS_data_new_header.vcf.gz \\\n",
    "     CHAIN=/gpfs/data01/glasslab/home/iholtman/software/liftover/hg38ToHg19.over.chain.gz \\\n",
    "     REJECT=rejected_variants.vcf \\\n",
    "     R=/gpfs/data01/glasslab/home/iholtman/Molgenis/hg38/Homo_sapiens_assembly38.fasta.gz\n",
    "\n",
    "#############\n",
    "# Separate \n",
    "#/data/scratch/iholtman/human_microglia_genotyping/imputation/step3/concatenated_out_v5a.vcf.gz\n",
    "\n",
    "java -jar /gpfs/data01/glasslab/home/iholtman/Molgenis/picard/picard.jar LiftoverVcf \\\n",
    "     I=/data/scratch/iholtman/human_microglia_genotyping/imputation/step3/concatenated_out_v5a.vcf.gz \\\n",
    "     O=/data/scratch/iholtman/human_microglia_genotyping/imputation/step3/lifted_hg19_to_hg38_concatenated_out_v5a.vcf.gz \\\n",
    "     CHAIN=/gpfs/data01/glasslab/home/iholtman/software/liftover/hg19ToHg38.over.chain.gz \\\n",
    "     REJECT=rejected_variants.vcf \\\n",
    "     R=/gpfs/data01/glasslab/home/iholtman/Molgenis/hg38/Homo_sapiens_assembly38.fasta.gz\n",
    "\n",
    "    \n",
    "java -jar /gpfs/data01/glasslab/home/iholtman/Molgenis/picard/picard.jar LiftoverVcf \\\n",
    "     I=/data/scratch/iholtman/human_microglia_genotyping/WGS/vcf/merged_P15_P17_P4_P5_P7_P8.vcf.gz \\\n",
    "     O=/data/scratch/iholtman/human_microglia_genotyping/WGS/vcf/lifted_hg19_to_hg38_merged_P15_P17_P4_P5_P7_P8.vcf.gz \\\n",
    "     CHAIN=/gpfs/data01/glasslab/home/iholtman/software/liftover/hg19ToHg38.over.chain.gz \\\n",
    "     REJECT=rejected_variants.vcf \\\n",
    "     R=/gpfs/data01/glasslab/home/iholtman/Molgenis/hg38/Homo_sapiens_assembly38.fasta.gz\n",
    "\n",
    "\n",
    "\n"
   ]
  },
  {
   "cell_type": "code",
   "execution_count": null,
   "metadata": {
    "collapsed": true
   },
   "outputs": [],
   "source": [
    "#################################################\n",
    "### Prepare ATAC-seq data for Marge \n",
    "##Files \n",
    "findPeaks \\\n",
    "/data/hg38/Microglia/ATAC/Human_Microglia_ATAC_P15_160119_DGO_16_04_04 \\\n",
    "-style factor \\\n",
    "-o /gpfs/data01/glasslab/home/iholtman/Marge/chip-data/ATAC_P15 \\\n",
    "\n",
    "#####\n",
    "mergePeaks \\\n",
    "/gpfs/data01/glasslab/home/iholtman/Marge/chip-data/ATAC_P8 \\\n",
    "/gpfs/data01/glasslab/home/iholtman/Marge/chip-data/ATAC_P5 \\\n",
    "/gpfs/data01/glasslab/home/iholtman/Marge/chip-data/ATAC_P16 \\\n",
    "/gpfs/data01/glasslab/home/iholtman/Marge/chip-data/ATAC_P15 \\\n",
    "> ATAC_merged_peaks.txt\n",
    "\n",
    "###All vs. all\n",
    "annotatePeaks.pl \\\n",
    "/gpfs/data01/glasslab/home/iholtman/Marge/chip-data/ATAC_merged_peaks.txt hg38 \\\n",
    "-d /data/hg38/Microglia/ATAC/Human_Microglia_ATAC_P5_150526_DGO_15_12_07 \\\n",
    "/data/hg38/Microglia/ATAC/Human_Microglia_ATAC_P8_150622_Parietal_DGO_15_12_07 \\\n",
    "/data/hg38/Microglia/ATAC/Human_Microglia_ATAC_P15_160119_DGO_16_04_04 \\\n",
    "/data/hg38/Microglia/ATAC/Human_Microglia_ATAC_P16_160125_DGO_16_04_04 \\\n",
    "> Annotate_peaks_ATAC_P5_P8_P15_P16.txt\n",
    "\n",
    "###Individual comparisons \n",
    "annotatePeaks.pl \\\n",
    "/gpfs/data01/glasslab/home/iholtman/Marge/chip-data/ATAC/ATAC_merged_peaks.txt hg38 \\\n",
    "-d /data/hg38/Microglia/ATAC/Human_Microglia_ATAC_P5_150526_DGO_15_12_07 \\\n",
    "/data/hg38/Microglia/ATAC/Human_Microglia_ATAC_P8_150622_Parietal_DGO_15_12_07 \\\n",
    "> Annotate_peaks_ATAC_P5_P8.txt\n",
    "\n"
   ]
  },
  {
   "cell_type": "code",
   "execution_count": null,
   "metadata": {
    "collapsed": true
   },
   "outputs": [],
   "source": [
    "#####################################################\n",
    "####Prepare genomes \n",
    "#Prepare genome files #Reference is hg38\n",
    "\n",
    "############Perl-script:\n",
    "perl /home/vlink/mouse_strains/marge/db_part/prepare_textfiles.pl\n",
    "\n",
    "###Motif file of Jenhans merged motifds: \n",
    "/home/vlink/mouse_strains/motifs/jenhan_merged_motifs_5.txt\n",
    "\n",
    "\n",
    "\n",
    "##-ref flag gives an error: can't create /data/scratch/iholtman/human_microglia_genotyping/marge/genomes/-REF/last_shift_strain.txt: No such file or directory at /home/vlink/mouse_strains/marge/db_part/prepare_textfiles.pl line 364.\n",
    "###Prepare genomes: \n",
    "perl /home/vlink/mouse_strains/marge/db_part/prepare_textfiles.pl \\\n",
    "-files \"/data/scratch/iholtman/human_microglia_genotyping/compare_imputation_WGS/whole_genome/sort_sorted_copy_merged_RNA_imputed_and_WGS_data_new_header_lifted_hg38.vcf\" \\\n",
    "-hetero \\\n",
    "-dir /data/scratch/iholtman/human_microglia_genotyping/marge/genomes \\\n",
    "-genome /gpfs/data01/glasslab/home/vlink/genomes/hg38_clean \\\n",
    "-force\n"
   ]
  },
  {
   "cell_type": "code",
   "execution_count": null,
   "metadata": {
    "collapsed": true
   },
   "outputs": [],
   "source": [
    "export PERL5LIB=/gpfs/data01/glasslab/home/iholtman/software/vcftools/src/perl\n",
    "vcf-sort copy_merged_RNA_imputed_and_WGS_data_new_header_lifted_hg38.vcf > sorted_copy_merged_RNA_imputed_and_WGS_data_new_header_lifted_hg38.vcf\n",
    "sort sorted_copy_merged_RNA_imputed_and_WGS_data_new_header_lifted_hg38.vcf sort_sorted_copy_merged_RNA_imputed_and_WGS_data_new_header_lifted_hg38.vcf\n"
   ]
  },
  {
   "cell_type": "code",
   "execution_count": null,
   "metadata": {
    "collapsed": true
   },
   "outputs": [],
   "source": [
    "##################################################################\n",
    "####Count the number of mutations between individuals \n",
    "\n",
    "perl /gpfs/data01/glasslab/home/vlink/mouse_strains/marge/analysis/count_mutations_per_strain.pl -data /data/scratch/iholtman/human_microglia_genotyping/marge/genomes \\\n",
    "-strains IMP_P10 IMP_P11  IMP_P12  IMP_P14  IMP_P15  IMP_P16  IMP_P17  IMP_P18  IMP_P19  IMP_P2  IMP_P21 \\\n",
    "IMP_P23  IMP_P24  IMP_P26  IMP_P27  IMP_P31  IMP_P6  IMP_P7  IMP_P8  WGS_P15  WGS_P17  WGS_P4  WGS_P5  WGS_P7 \\\n",
    "WGS_P8 > Mutation_counts.txt\n",
    "\n",
    "\n",
    "\n",
    "/gpfs/data01/glasslab/home/iholtman/Marge/genomes/hg38_QC_CNV -strains P4 P5 P7 P8 P12 P15 P17 P19 > Mutations_hg38_QC_CNV_insertation_removed\n",
    "count_mutations_per_strain.pl -data /gpfs/data01/glasslab/home/iholtman/Marge/genomes/hg38_QC -strains P4 P5 P7 P8 P12 P15 P17 P19 > Mutations_hg38_QC\n",
    "\n"
   ]
  },
  {
   "cell_type": "code",
   "execution_count": null,
   "metadata": {
    "collapsed": true
   },
   "outputs": [],
   "source": [
    "###Make references for alignment \n",
    "perl /home/vlink/mouse_strains/marge/db_part/create_genome_textfile.pl \\\n",
    "-genome /gpfs/data01/glasslab/home/vlink/genomes/hg38_clean \\\n",
    "-strains IMP_P10 IMP_P11  IMP_P12  IMP_P14  IMP_P15  IMP_P16  IMP_P17  IMP_P18  IMP_P19  IMP_P2  IMP_P21 \\\n",
    "IMP_P23  IMP_P24  IMP_P26  IMP_P27  IMP_P31  IMP_P6  IMP_P7  IMP_P8  WGS_P15  WGS_P17  WGS_P4  WGS_P5  WGS_P7 WGS_P8 \\\n",
    "-out /data/scratch/iholtman/human_microglia_genotyping/marge/new_references \\\n",
    "-hetero\n",
    "\n",
    "\n",
    "\n",
    "\n",
    "\n",
    "Here is a folder with qsub scripts to generate bowtie indeces\n",
    "/oasis/tscc/scratch/vlink/human_data_marge/qsub"
   ]
  },
  {
   "cell_type": "code",
   "execution_count": null,
   "metadata": {
    "collapsed": true
   },
   "outputs": [],
   "source": [
    "####################################################\n",
    "######Apply Marge to Pu1 data \n",
    "/home/vlink/mouse_strains/marge/analysis/analyze_ChIP_mutations_tree.pl \\\n",
    "-strains p4 p5 \\\n",
    "-data_dir /gpfs/data01/glasslab/home/iholtman/Marge/genomes/hg38_QC_CNV \\\n",
    "-file /gpfs/data01/glasslab/home/iholtman/Marge/chip-data/Annotate_peaks_PU1_P4_P5.txt \\\n",
    "-AB spi1_spic_merged \\\n",
    "-hetero \\\n",
    "-motif_diff \\\n",
    "-output Marge_PU1_P4_P5 \n",
    "\n",
    "\n",
    "######\n",
    "cd ~/Marge/output/PU1-P4-P7\n",
    "\n",
    "/home/vlink/mouse_strains/marge/analysis/analyze_ChIP_mutations_tree.pl \\\n",
    "-strains P4 P7 \\\n",
    "-data_dir /gpfs/data01/glasslab/home/iholtman/Marge/genomes/hg38_QC_CNV \\\n",
    "-file /gpfs/data01/glasslab/home/iholtman/Marge/chip-data/Annotate_peaks_PU1_P4_P7.txt \\\n",
    "-AB spi1_spic_merged \\\n",
    "-hetero \\\n",
    "-motif_diff \\\n",
    "-output Marge_PU1_P4_P7\n",
    "\n",
    "\n",
    "######\n",
    "cd ~/Marge/output/PU1-P5-P7\n",
    "\n",
    "/home/vlink/mouse_strains/marge/analysis/analyze_ChIP_mutations_tree.pl \\\n",
    "-strains P4 P7 \\\n",
    "-data_dir /gpfs/data01/glasslab/home/iholtman/Marge/genomes/hg38_QC_CNV \\\n",
    "-file /gpfs/data01/glasslab/home/iholtman/Marge/chip-data/Annotate_peaks_PU1_P5_P7.txt \\\n",
    "-AB spi1_spic_merged \\\n",
    "-hetero \\\n",
    "-motif_diff \\\n",
    "-output Marge_PU1_P5_P7 \n",
    "\n",
    "\n"
   ]
  },
  {
   "cell_type": "code",
   "execution_count": null,
   "metadata": {
    "collapsed": true
   },
   "outputs": [],
   "source": [
    "##################################################################\n",
    "########Apply Marge to ATAC data \n",
    "cd /gpfs/data01/glasslab/home/iholtman/Marge/output/ATAC_P5_P8\n",
    "\n",
    "/home/vlink/mouse_strains/marge/analysis/analyze_ChIP_mutations_tree.pl \\\n",
    "-strains P5 P8 \\\n",
    "-data_dir /gpfs/data01/glasslab/home/iholtman/Marge/genomes/hg38_QC_CNV \\\n",
    "-file /gpfs/data01/glasslab/home/iholtman/Marge/chip-data/ATAC/Annotate_peaks_ATAC_P5_P8.txt \\\n",
    "-hetero \\\n",
    "-motif_diff \\\n",
    "-plot Marge_ATAC_P5_P8\n",
    "\n",
    "#####\n",
    "\n",
    "cd /gpfs/data01/glasslab/home/iholtman/Marge/output/ATAC_P5_P15\n",
    "\n",
    "/home/vlink/mouse_strains/marge/analysis/analyze_ChIP_mutations_tree.pl \\\n",
    "-strains P5 P8 \\\n",
    "-data_dir /gpfs/data01/glasslab/home/iholtman/Marge/genomes/hg38_QC_CNV \\\n",
    "-file /gpfs/data01/glasslab/home/iholtman/Marge/chip-data/ATAC/Annotate_peaks_ATAC_P5_P15.txt \\\n",
    "-hetero \\\n",
    "-motif_diff \\\n",
    "-plot Marge_ATAC_P5_P15\n",
    "\n",
    "\n",
    "#####\n",
    "cd /gpfs/data01/glasslab/home/iholtman/Marge/output/ATAC_P5_P16\n",
    "\n",
    "/home/vlink/mouse_strains/marge/analysis/analyze_ChIP_mutations_tree.pl \\\n",
    "-strains P5 P8 \\\n",
    "-data_dir /gpfs/data01/glasslab/home/iholtman/Marge/genomes/hg38_QC_CNV \\\n",
    "-file /gpfs/data01/glasslab/home/iholtman/Marge/chip-data/ATAC/Annotate_peaks_ATAC_P5_P15.txt \\\n",
    "-hetero \\\n",
    "-motif_diff \\\n",
    "-plot Marge_ATAC_P5_P16\n",
    "\n"
   ]
  },
  {
   "cell_type": "code",
   "execution_count": null,
   "metadata": {
    "collapsed": true
   },
   "outputs": [],
   "source": [
    "\n",
    "\n",
    "\n"
   ]
  },
  {
   "cell_type": "code",
   "execution_count": null,
   "metadata": {
    "collapsed": true
   },
   "outputs": [],
   "source": []
  }
 ],
 "metadata": {
  "anaconda-cloud": {},
  "kernelspec": {
   "display_name": "Python [conda root]",
   "language": "python",
   "name": "conda-root-py"
  },
  "language_info": {
   "codemirror_mode": {
    "name": "ipython",
    "version": 3
   },
   "file_extension": ".py",
   "mimetype": "text/x-python",
   "name": "python",
   "nbconvert_exporter": "python",
   "pygments_lexer": "ipython3",
   "version": "3.5.2"
  }
 },
 "nbformat": 4,
 "nbformat_minor": 1
}
