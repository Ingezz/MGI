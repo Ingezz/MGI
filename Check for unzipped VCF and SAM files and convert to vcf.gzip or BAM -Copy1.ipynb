{
 "cells": [
  {
   "cell_type": "code",
   "execution_count": 1,
   "metadata": {
    "collapsed": true
   },
   "outputs": [],
   "source": [
    "import glob \n",
    "import os\n",
    "import subprocess\n",
    "import glob2\n"
   ]
  },
  {
   "cell_type": "code",
   "execution_count": 12,
   "metadata": {},
   "outputs": [
    {
     "data": {
      "text/plain": [
       "['/gpfs/data01/glasslab/data/scratch/iholtman/human_microglia_genotyping/QC/fastqc/SD/P9/Human-Microglia-RNA-PolyA-P9-150721-DGO-15-08-21_fastqc.zip',\n",
       " '/gpfs/data01/glasslab/data/scratch/iholtman/human_microglia_genotyping/QC/fastqc/SD/P9/Human-Microglia-RNA-PolyA-P9-150721-DGO-15-08-21_fastqc.html',\n",
       " '/gpfs/data01/glasslab/data/scratch/iholtman/human_microglia_genotyping/QC/fastqc/SD/P9/Human-Microglia-RNA-PolyA-P9-150721-DGO-15-08-21_fastqc']"
      ]
     },
     "execution_count": 12,
     "metadata": {},
     "output_type": "execute_result"
    }
   ],
   "source": [
    "glob.glob('/gpfs/data01/glasslab/data/scratch/iholtman/human_microglia_genotyping/QC/fastqc/SD/P9/**')\n"
   ]
  },
  {
   "cell_type": "code",
   "execution_count": 24,
   "metadata": {},
   "outputs": [
    {
     "ename": "SyntaxError",
     "evalue": "unexpected EOF while parsing (<ipython-input-24-d057175690e2>, line 6)",
     "output_type": "error",
     "traceback": [
      "\u001b[0;36m  File \u001b[0;32m\"<ipython-input-24-d057175690e2>\"\u001b[0;36m, line \u001b[0;32m6\u001b[0m\n\u001b[0;31m    #for f in files if f.endswith('.gz')]\u001b[0m\n\u001b[0m                                         ^\u001b[0m\n\u001b[0;31mSyntaxError\u001b[0m\u001b[0;31m:\u001b[0m unexpected EOF while parsing\n"
     ]
    }
   ],
   "source": [
    "path = '/gpfs/data01/glasslab/data/scratch/iholtman/human_microglia_genotyping/QC/fastqc/SD/P9/'\n",
    "\n",
    "configfiles = [os.path.join(dirpath)\n",
    "               \n",
    " glob2.glob(\"files/*/**\")              \n",
    "    #for dirpath, dirnames, files in os.walk(path):\n",
    "    #    print(dirnames)\n",
    "    #for f in files if f.endswith('.gz')]\n",
    "\n"
   ]
  },
  {
   "cell_type": "code",
   "execution_count": 5,
   "metadata": {},
   "outputs": [
    {
     "data": {
      "text/plain": [
       "607"
      ]
     },
     "execution_count": 5,
     "metadata": {},
     "output_type": "execute_result"
    }
   ],
   "source": [
    "sam_files = glob2.glob('/data/scratch/iholtman/**/*.sam')\n",
    "len(sam_files)\n"
   ]
  },
  {
   "cell_type": "code",
   "execution_count": null,
   "metadata": {},
   "outputs": [
    {
     "name": "stdout",
     "output_type": "stream",
     "text": [
      "/data/scratch/iholtman/human_microglia_genotyping/marge/epigenomic_data_aligned/P17/bowtie_align_allel_1_Human-Microglia-ChIP-H3K27ac-P17-160201-DGO-16-03-08_shifted_from_P17.bam being made\n",
      "samtools view -bS -o /data/scratch/iholtman/human_microglia_genotyping/marge/epigenomic_data_aligned/P17/bowtie_align_allel_1_Human-Microglia-ChIP-H3K27ac-P17-160201-DGO-16-03-08_shifted_from_P17.bam /data/scratch/iholtman/human_microglia_genotyping/marge/epigenomic_data_aligned/P17/bowtie_align_allel_1_Human-Microglia-ChIP-H3K27ac-P17-160201-DGO-16-03-08_shifted_from_P17.sam\n"
     ]
    }
   ],
   "source": [
    "for sam_file in sam_files:\n",
    "    bam_file = sam_file.replace('.sam', '.bam')\n",
    "    \n",
    "    if glob.glob(bam_file):\n",
    "        print(bam_file + ' already present')\n",
    "        \n",
    "        code = 'rm ' + sam_file \n",
    "        print(code)\n",
    "        print(subprocess.check_output(code, shell=True, stderr=subprocess.STDOUT).decode())  \n",
    "        \n",
    "    else:\n",
    "        print(bam_file + ' being made')\n",
    "        \n",
    "        code = 'samtools view -bS -o ' + bam_file + ' ' + sam_file\n",
    "        print(code)\n",
    "        print(subprocess.check_output(code, shell=True, stderr=subprocess.STDOUT).decode())  \n",
    "    \n",
    "        code = 'rm ' + sam_file \n",
    "        print(code)\n",
    "        print(subprocess.check_output(code, shell=True, stderr=subprocess.STDOUT).decode())  \n"
   ]
  },
  {
   "cell_type": "code",
   "execution_count": 21,
   "metadata": {},
   "outputs": [
    {
     "data": {
      "text/plain": [
       "163"
      ]
     },
     "execution_count": 21,
     "metadata": {},
     "output_type": "execute_result"
    }
   ],
   "source": [
    "vcf_files = glob2.glob('/data/scratch/iholtman/**/*.vcf')\n",
    "len(vcf_files)"
   ]
  },
  {
   "cell_type": "code",
   "execution_count": null,
   "metadata": {},
   "outputs": [
    {
     "name": "stdout",
     "output_type": "stream",
     "text": [
      "bgzip /data/scratch/iholtman/human_microglia_genotyping/genotyping_molgenis/step10/braz_SD_samples_filtered_for_eQTL.vcf.gz.recode.vcf\n"
     ]
    }
   ],
   "source": [
    "import subprocess \n",
    "\n",
    "for vcf_file in vcf_files:   \n",
    "        code = 'bgzip ' + vcf_file\n",
    "        print(code)\n",
    "        print(subprocess.check_output(code, shell=True, stderr=subprocess.STDOUT).decode())  \n"
   ]
  },
  {
   "cell_type": "code",
   "execution_count": null,
   "metadata": {
    "collapsed": true
   },
   "outputs": [],
   "source": []
  }
 ],
 "metadata": {
  "kernelspec": {
   "display_name": "Python 3",
   "language": "python",
   "name": "python3"
  },
  "language_info": {
   "codemirror_mode": {
    "name": "ipython",
    "version": 3
   },
   "file_extension": ".py",
   "mimetype": "text/x-python",
   "name": "python",
   "nbconvert_exporter": "python",
   "pygments_lexer": "ipython3",
   "version": "3.6.1"
  }
 },
 "nbformat": 4,
 "nbformat_minor": 2
}
