{
 "cells": [
  {
   "cell_type": "code",
   "execution_count": 11,
   "metadata": {
    "collapsed": false
   },
   "outputs": [],
   "source": [
    "import pandas \n",
    "\n",
    "vcf = pandas.read_csv(\"/data/scratch/iholtman/human_microglia_genotyping/WGS/separate_chromosomes/chr6.recode.vcf\", header= 203, sep = \"\\t\", low_memory=False)\n",
    "\n",
    "\n",
    "#chr6:41150341-41150841   "
   ]
  },
  {
   "cell_type": "code",
   "execution_count": 12,
   "metadata": {
    "collapsed": false
   },
   "outputs": [
    {
     "data": {
      "text/plain": [
       "(2, 15)"
      ]
     },
     "execution_count": 12,
     "metadata": {},
     "output_type": "execute_result"
    }
   ],
   "source": [
    "#print(vcf[0:10])\n",
    "\n",
    "##Bin1 AD - locis:  127893060\n",
    "#vcf[\"POS\"] == 127893060\n",
    "\n",
    "lower = 41150591 - 1000\n",
    "upper = 41150591 + 1000\n",
    "\n",
    "svcf = vcf[(lower < vcf[\"POS\"]) & (vcf[\"POS\"] < upper)]\n",
    "\n",
    "svcf.shape\n"
   ]
  },
  {
   "cell_type": "code",
   "execution_count": 13,
   "metadata": {
    "collapsed": false
   },
   "outputs": [
    {
     "name": "stdout",
     "output_type": "stream",
     "text": [
      "        #CHROM       POS ID                 REF ALT     QUAL FILTER  \\\n",
      "191010       6  41150591  .                   A   C  5857.45   PASS   \n",
      "191011       6  41150734  .  TAGAGTAAATAGGAACTA   T  6701.18   PASS   \n",
      "\n",
      "                                                     INFO             FORMAT  \\\n",
      "191010  AC=4;AF=0.500;AN=6;BaseQRankSum=-2.345e+00;DP=...  GT:AB:AD:GQ:DP:PL   \n",
      "191011  AC=1;AF=0.500;AN=2;BaseQRankSum=0.602;DP=38;FS...     GT:PL:GQ:DP:AD   \n",
      "\n",
      "                P15          P17                               P4  \\\n",
      "191010  .:.:.:.:.:.  .:.:.:.:.:.  0/1:0.530:21,19:99:40:495,0,561   \n",
      "191011    .:.:.:.:.    .:.:.:.:.       0/1:382,0,4551:99:38:27,11   \n",
      "\n",
      "                                 P5                               P7  \\\n",
      "191010  1/1:.:0,34:99:34:1070,102,0  0/1:0.510:21,20:99:41:480,0,592   \n",
      "191011                    .:.:.:.:.                        .:.:.:.:.   \n",
      "\n",
      "                 P8  \n",
      "191010  .:.:.:.:.:.  \n",
      "191011    .:.:.:.:.  \n"
     ]
    }
   ],
   "source": [
    "print(svcf)"
   ]
  },
  {
   "cell_type": "code",
   "execution_count": null,
   "metadata": {
    "collapsed": true
   },
   "outputs": [],
   "source": []
  }
 ],
 "metadata": {
  "anaconda-cloud": {},
  "kernelspec": {
   "display_name": "Python [conda root]",
   "language": "python",
   "name": "conda-root-py"
  },
  "language_info": {
   "codemirror_mode": {
    "name": "ipython",
    "version": 3
   },
   "file_extension": ".py",
   "mimetype": "text/x-python",
   "name": "python",
   "nbconvert_exporter": "python",
   "pygments_lexer": "ipython3",
   "version": "3.5.2"
  }
 },
 "nbformat": 4,
 "nbformat_minor": 1
}
